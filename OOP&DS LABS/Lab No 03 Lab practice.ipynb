{
 "cells": [
  {
   "cell_type": "markdown",
   "id": "9730bcbb-d5fe-4354-b33b-a913d530e0e3",
   "metadata": {},
   "source": [
    "# Assad Ullah Khan"
   ]
  },
  {
   "cell_type": "markdown",
   "id": "8c1626b5-c7fc-413b-9a26-41f1035c72a3",
   "metadata": {},
   "source": [
    "# Reg No = 0526"
   ]
  },
  {
   "cell_type": "markdown",
   "id": "e3513081-d4ba-496a-a793-b688049f8f8d",
   "metadata": {},
   "source": [
    "# Lab practice"
   ]
  },
  {
   "cell_type": "code",
   "execution_count": 1,
   "id": "7e85f9bd-9bf1-41e4-bf9b-904d455e3a62",
   "metadata": {},
   "outputs": [
    {
     "name": "stdout",
     "output_type": "stream",
     "text": [
      "List of integers: [10, 25, 5, 15, 30]\n"
     ]
    }
   ],
   "source": [
    "# 1. List of 5 integers\n",
    "int_list = [10, 25, 5, 15, 30]\n",
    "print(\"List of integers:\", int_list)"
   ]
  },
  {
   "cell_type": "code",
   "execution_count": 1,
   "id": "04bb98f8-106a-4484-bc1a-155210ca95e9",
   "metadata": {},
   "outputs": [
    {
     "name": "stdout",
     "output_type": "stream",
     "text": [
      "\n",
      "Student information: ['Assad Ullah', 526, 3.91, [3.8, 3.9]]\n"
     ]
    }
   ],
   "source": [
    "# 2. Nested list with student information\n",
    "student_info = [\"Assad Ullah\", 526, 3.91, [3.8, 3.9, ]]\n",
    "print(\"\\nStudent information:\", student_info)"
   ]
  },
  {
   "cell_type": "code",
   "execution_count": 2,
   "id": "9994d968-f9f9-4e8a-a450-f094a7b6474d",
   "metadata": {},
   "outputs": [
    {
     "name": "stdout",
     "output_type": "stream",
     "text": [
      "\n",
      "Student's CGPA: 3.91\n"
     ]
    }
   ],
   "source": [
    "cgpa = student_info[2]\n",
    "print(\"\\nStudent's CGPA:\", cgpa)\n"
   ]
  },
  {
   "cell_type": "code",
   "execution_count": 3,
   "id": "b44759b7-10e7-452b-92f6-9a7780dc89fb",
   "metadata": {},
   "outputs": [
    {
     "name": "stdout",
     "output_type": "stream",
     "text": [
      "\n",
      "Printing student info using while loop:\n",
      "Assad Ullah\n",
      "526\n",
      "3.91\n",
      "[3.8, 3.9]\n"
     ]
    }
   ],
   "source": [
    "# 4. Print list elements using a while loop and len()\n",
    "print(\"\\nPrinting student info using while loop:\")\n",
    "i = 0\n",
    "while i < len(student_info):\n",
    "    print(student_info[i])\n",
    "    i += 1"
   ]
  },
  {
   "cell_type": "code",
   "execution_count": 4,
   "id": "00780fec-9a5e-4c76-ada9-5a3200ef5672",
   "metadata": {},
   "outputs": [
    {
     "name": "stdout",
     "output_type": "stream",
     "text": [
      "\n",
      "Semester GPAs (using negative indexing): [3.8, 3.9]\n"
     ]
    }
   ],
   "source": [
    "# 5. Access the list of all semester GPAs using negative indexing\n",
    "semester_gpas = student_info[-1]\n",
    "print(\"\\nSemester GPAs (using negative indexing):\", semester_gpas)"
   ]
  },
  {
   "cell_type": "code",
   "execution_count": 5,
   "id": "f5f9d184-cc1e-4406-ae2b-b6d5295f0bd2",
   "metadata": {},
   "outputs": [
    {
     "name": "stdout",
     "output_type": "stream",
     "text": [
      "\n",
      "First 20 integers: [1, 2, 3, 4, 5, 6, 7, 8, 9, 10, 11, 12, 13, 14, 15, 16, 17, 18, 19, 20]\n"
     ]
    }
   ],
   "source": [
    "# 6. List of the first 20 integers using range()\n",
    "first_20_integers = list(range(1, 21))  # range(start, stop)\n",
    "print(\"\\nFirst 20 integers:\", first_20_integers)"
   ]
  },
  {
   "cell_type": "code",
   "execution_count": 6,
   "id": "75cef24d-198d-4a98-8977-fda8cf7ec76f",
   "metadata": {},
   "outputs": [
    {
     "name": "stdout",
     "output_type": "stream",
     "text": [
      "\n",
      "Odd integers from 20 to 40: [21, 23, 25, 27, 29, 31, 33, 35, 37, 39]\n"
     ]
    }
   ],
   "source": [
    "# 7. List of odd integers from 20 to 40 using range()\n",
    "odd_integers = list(range(21, 41, 2))  # range(start, stop, step)\n",
    "print(\"\\nOdd integers from 20 to 40:\", odd_integers)"
   ]
  },
  {
   "cell_type": "code",
   "execution_count": 7,
   "id": "55104366-32cd-44c4-b512-96e1e5116dc5",
   "metadata": {},
   "outputs": [
    {
     "name": "stdout",
     "output_type": "stream",
     "text": [
      "Ahmad is in the list.\n",
      "Ali is not in the list.\n",
      "Usman is in the list.\n",
      "Hamza is not in the list.\n"
     ]
    }
   ],
   "source": [
    "students = [\"Ahmad\", \"Feroz\", \"Irfan\", \"Zaryab\", \"Usman\"]\n",
    "\n",
    "# Check if \"Ibrahim\" is in the list\n",
    "if \"Ahmad\" in students:\n",
    "    print(\"Ahmad is in the list.\")\n",
    "else:\n",
    "    print(\"Ahmad is not in the list.\")\n",
    "\n",
    "# Check if \"Ali\" is not in the list\n",
    "if \"Ali\" not in students:\n",
    "    print(\"Ali is not in the list.\")\n",
    "else:\n",
    "    print(\"Ali is in the list.\")\n",
    "\n",
    "# Another way to use not in\n",
    "student_name = \"Usman\"\n",
    "if student_name not in students:\n",
    "    print(f\"{student_name} is not in the list.\")\n",
    "else:\n",
    "    print(f\"{student_name} is in the list.\")\n",
    "\n",
    "student_name = \"Hamza\"\n",
    "if student_name not in students:\n",
    "    print(f\"{student_name} is not in the list.\")\n",
    "else:\n",
    "    print(f\"{student_name} is in the list.\")"
   ]
  },
  {
   "cell_type": "code",
   "execution_count": 8,
   "id": "1d8d71af-a14f-4e64-81c4-0ad91d9649aa",
   "metadata": {},
   "outputs": [],
   "source": [
    "students = [\"Ahmad\", \"Feroz\", \"Zaryab\", \"Ayub\", \"Usman\"]"
   ]
  },
  {
   "cell_type": "code",
   "execution_count": 9,
   "id": "4e92ce0d-d446-4c33-b527-f93e0780999b",
   "metadata": {},
   "outputs": [
    {
     "name": "stdout",
     "output_type": "stream",
     "text": [
      "Students using for loop:\n",
      "Ahmad\n",
      "Feroz\n",
      "Zaryab\n",
      "Ayub\n",
      "Usman\n"
     ]
    }
   ],
   "source": [
    "# Print all students using a for loop\n",
    "print(\"Students using for loop:\")\n",
    "for student in students:\n",
    "    print(student)"
   ]
  },
  {
   "cell_type": "code",
   "execution_count": 10,
   "id": "06cc48f9-2725-468e-b368-8749e69937ce",
   "metadata": {},
   "outputs": [
    {
     "name": "stdout",
     "output_type": "stream",
     "text": [
      "\n",
      "Students with index using enumerate:\n",
      "Index: 0, Student: Ahmad\n",
      "Index: 1, Student: Feroz\n",
      "Index: 2, Student: Zaryab\n",
      "Index: 3, Student: Ayub\n",
      "Index: 4, Student: Usman\n"
     ]
    }
   ],
   "source": [
    "# Print students with index using enumerate\n",
    "print(\"\\nStudents with index using enumerate:\")\n",
    "for index, student in enumerate(students):\n",
    "    print(f\"Index: {index}, Student: {student}\")"
   ]
  },
  {
   "cell_type": "code",
   "execution_count": 11,
   "id": "ea520538-5eb3-4cfb-a3fd-633a6e5fdcc8",
   "metadata": {},
   "outputs": [
    {
     "name": "stdout",
     "output_type": "stream",
     "text": [
      "\n",
      "Students with index using range and len:\n",
      "Index: 0, Student: Ahmad\n",
      "Index: 1, Student: Feroz\n",
      "Index: 2, Student: Zaryab\n",
      "Index: 3, Student: Ayub\n",
      "Index: 4, Student: Usman\n"
     ]
    }
   ],
   "source": [
    "# Print students with index using range and len\n",
    "print(\"\\nStudents with index using range and len:\")\n",
    "for i in range(len(students)):\n",
    "    print(f\"Index: {i}, Student: {students[i]}\")"
   ]
  },
  {
   "cell_type": "code",
   "execution_count": 12,
   "id": "ea9ddeeb-01de-41fc-b0af-440cf3a91477",
   "metadata": {},
   "outputs": [],
   "source": [
    "students = [\"Ibrahim\", \"Husain\", \"Irfan\", \"Ayub\", \"Usman\"]"
   ]
  },
  {
   "cell_type": "code",
   "execution_count": 13,
   "id": "ceb52352-c2c7-487b-9c85-71d4d10796d9",
   "metadata": {},
   "outputs": [
    {
     "name": "stdout",
     "output_type": "stream",
     "text": [
      "students[1:3]: ['Husain', 'Irfan']\n",
      "students[2:4]: ['Irfan', 'Ayub']\n"
     ]
    }
   ],
   "source": [
    "print(\"students[1:3]:\", students[1:3])\n",
    "print(\"students[2:4]:\", students[2:4])"
   ]
  },
  {
   "cell_type": "code",
   "execution_count": 14,
   "id": "5d3c4976-ce26-44b8-9c3d-15294c788a87",
   "metadata": {},
   "outputs": [
    {
     "name": "stdout",
     "output_type": "stream",
     "text": [
      "\n",
      "Demonstrating start, stop, and step:\n",
      "students[0:5:1] (explicit start, stop, step): ['Ibrahim', 'Husain', 'Irfan', 'Ayub', 'Usman']\n",
      "students[::] (shorthand for the whole list): ['Ibrahim', 'Husain', 'Irfan', 'Ayub', 'Usman']\n",
      "students[:] (another shorthand for the whole list): ['Ibrahim', 'Husain', 'Irfan', 'Ayub', 'Usman']\n",
      "students[1:] (from index 1 to the end): ['Husain', 'Irfan', 'Ayub', 'Usman']\n",
      "students[:4] (from the beginning up to index 4 (exclusive)): ['Ibrahim', 'Husain', 'Irfan', 'Ayub']\n",
      "students[::2] (every other element): ['Ibrahim', 'Irfan', 'Usman']\n",
      "students[::-1] (reversing the list): ['Usman', 'Ayub', 'Irfan', 'Husain', 'Ibrahim']\n"
     ]
    }
   ],
   "source": [
    "# Demonstrating the start, stop, and step\n",
    "print(\"\\nDemonstrating start, stop, and step:\")\n",
    "print(\"students[0:5:1] (explicit start, stop, step):\", students[0:5:1]) # same as students[:] or students\n",
    "print(\"students[::] (shorthand for the whole list):\", students[::])\n",
    "print(\"students[:] (another shorthand for the whole list):\", students[:])\n",
    "print(\"students[1:] (from index 1 to the end):\", students[1:])\n",
    "print(\"students[:4] (from the beginning up to index 4 (exclusive)):\", students[:4])\n",
    "print(\"students[::2] (every other element):\", students[::2])\n",
    "print(\"students[::-1] (reversing the list):\", students[::-1])"
   ]
  },
  {
   "cell_type": "code",
   "execution_count": 15,
   "id": "0d8646d0-cc31-49a5-8e70-bb68fa017cf5",
   "metadata": {},
   "outputs": [
    {
     "name": "stdout",
     "output_type": "stream",
     "text": [
      "Original list: [1, 2, 3]\n",
      "\n",
      "After append(4): [1, 2, 3, 4]\n",
      "\n",
      "After extend([5, 6, 7]): [1, 2, 3, 4, 5, 6, 7]\n",
      "\n",
      "After extend('abc'): [1, 2, 3, 4, 5, 6, 7, 'a', 'b', 'c']\n",
      "\n",
      "After insert(2, 10): [1, 2, 10, 3, 4, 5, 6, 7, 'a', 'b', 'c']\n",
      "\n",
      "After remove(10): [1, 2, 3, 4, 5, 6, 7, 'a', 'b', 'c']\n",
      "\n",
      "Error: list.remove(x): x not in list\n",
      "\n",
      "After pop(): [1, 2, 3, 4, 5, 6, 7, 'a', 'b']\n",
      "Popped item: c\n",
      "\n",
      "After pop(0): [2, 3, 4, 5, 6, 7, 'a', 'b']\n",
      "Popped item: 1\n",
      "\n",
      "Error: pop index out of range\n"
     ]
    }
   ],
   "source": [
    "my_list = [1, 2, 3]\n",
    "\n",
    "print(\"Original list:\", my_list)\n",
    "\n",
    "# a. .append(obj) - Adds an object to the end of the list\n",
    "my_list.append(4)\n",
    "print(\"\\nAfter append(4):\", my_list)\n",
    "\n",
    "# b. .extend(iterable) - Extends the list by appending elements from an iterable\n",
    "my_list.extend([5, 6, 7])  # Extending with another list\n",
    "print(\"\\nAfter extend([5, 6, 7]):\", my_list)\n",
    "\n",
    "my_list.extend(\"abc\") # extending with a string.\n",
    "print(\"\\nAfter extend('abc'):\", my_list)\n",
    "\n",
    "# c. .insert(index, obj) - Inserts an object at a given position\n",
    "my_list.insert(2, 10)  # Insert 10 at index 2\n",
    "print(\"\\nAfter insert(2, 10):\", my_list)\n",
    "\n",
    "# d. .remove(obj) - Removes the first occurrence of an object\n",
    "my_list.remove(10)\n",
    "print(\"\\nAfter remove(10):\", my_list)\n",
    "\n",
    "try:\n",
    "    my_list.remove(10) # trying to remove an element that is not in the list.\n",
    "except ValueError as e:\n",
    "    print(f\"\\nError: {e}\")\n",
    "\n",
    "# e. .pop([index=-1]) - Removes and returns the item at index (default last item)\n",
    "popped_item = my_list.pop()  # Removes and returns the last item\n",
    "print(\"\\nAfter pop():\", my_list)\n",
    "print(\"Popped item:\", popped_item)\n",
    "\n",
    "popped_item = my_list.pop(0)  # Removes and returns the first item (index 0)\n",
    "print(\"\\nAfter pop(0):\", my_list)\n",
    "print(\"Popped item:\", popped_item)\n",
    "\n",
    "try:\n",
    "    my_list.pop(10) # trying to pop from an index that is out of range.\n",
    "except IndexError as e:\n",
    "    print(f\"\\nError: {e}\")"
   ]
  },
  {
   "cell_type": "code",
   "execution_count": 16,
   "id": "303fec52-6f80-41c6-a67e-ca2376189676",
   "metadata": {},
   "outputs": [],
   "source": [
    "x = [\"a\", [\"bb\", [\"ccc\", \"ddd\"], \"ee\", \"ff\"], \"g\", [\"hh\", \"ii\"], \"j\"]"
   ]
  },
  {
   "cell_type": "code",
   "execution_count": 17,
   "id": "9e800566-2b5e-4258-98c3-2d194a0ad84a",
   "metadata": {},
   "outputs": [
    {
     "name": "stdout",
     "output_type": "stream",
     "text": [
      "Method 1: Recursive function\n",
      "a\n",
      "bb\n",
      "ccc\n",
      "ddd\n",
      "ee\n",
      "ff\n",
      "g\n",
      "hh\n",
      "ii\n",
      "j\n"
     ]
    }
   ],
   "source": [
    "# Method 1: Recursive function\n",
    "def print_nested_list(lst):\n",
    "    for item in lst:\n",
    "        if isinstance(item, list):  # Check if the item is a list\n",
    "            print_nested_list(item)  # Recursively call the function\n",
    "        else:\n",
    "            print(item)\n",
    "\n",
    "print(\"Method 1: Recursive function\")\n",
    "print_nested_list(x)\n"
   ]
  },
  {
   "cell_type": "code",
   "execution_count": 18,
   "id": "08bf679c-db38-4d18-9930-46f8f52dc958",
   "metadata": {},
   "outputs": [
    {
     "name": "stdout",
     "output_type": "stream",
     "text": [
      "\n",
      "Method 2: Iterative approach (for a known depth)\n",
      "a\n",
      "bb\n",
      "ccc\n",
      "ddd\n",
      "ee\n",
      "ff\n",
      "g\n",
      "hh\n",
      "ii\n",
      "j\n"
     ]
    }
   ],
   "source": [
    "# Method 2: Iterative approach (for a known depth)\n",
    "print(\"\\nMethod 2: Iterative approach (for a known depth)\")\n",
    "print(x[0])\n",
    "print(x[1][0])\n",
    "print(x[1][1][0])\n",
    "print(x[1][1][1])\n",
    "print(x[1][2])\n",
    "print(x[1][3])\n",
    "print(x[2])\n",
    "print(x[3][0])\n",
    "print(x[3][1])\n",
    "print(x[4])\n"
   ]
  },
  {
   "cell_type": "code",
   "execution_count": 19,
   "id": "d005495e-4eba-4f03-8302-ad5660149241",
   "metadata": {},
   "outputs": [
    {
     "name": "stdout",
     "output_type": "stream",
     "text": [
      "\n",
      "Method 3: Flattened list:\n",
      "['a', 'bb', 'ccc', 'ddd', 'ee', 'ff', 'g', 'hh', 'ii', 'j']\n",
      "a\n",
      "bb\n",
      "ccc\n",
      "ddd\n",
      "ee\n",
      "ff\n",
      "g\n",
      "hh\n",
      "ii\n",
      "j\n"
     ]
    }
   ],
   "source": [
    "# Method 3: Flattening the list (if you need a flat list)\n",
    "def flatten_list(lst):\n",
    "    flat_list = []\n",
    "    for item in lst:\n",
    "        if isinstance(item, list):\n",
    "            flat_list.extend(flatten_list(item))\n",
    "        else:\n",
    "            flat_list.append(item)\n",
    "    return flat_list\n",
    "\n",
    "flat_x = flatten_list(x)\n",
    "print(\"\\nMethod 3: Flattened list:\")\n",
    "print(flat_x)\n",
    "for item in flat_x:\n",
    "    print(item)"
   ]
  },
  {
   "cell_type": "code",
   "execution_count": 20,
   "id": "128eb5a9-903d-487c-9fce-f6be7ced961f",
   "metadata": {},
   "outputs": [
    {
     "name": "stdout",
     "output_type": "stream",
     "text": [
      "\n",
      "Method 4: Using a stack (iterative)\n",
      "a\n",
      "g\n",
      "j\n",
      "hh\n",
      "ii\n",
      "bb\n",
      "ee\n",
      "ff\n",
      "ccc\n",
      "ddd\n"
     ]
    }
   ],
   "source": [
    "# Method 4: Using a stack (iterative, more general)\n",
    "def print_nested_list_stack(lst):\n",
    "    stack = [lst]\n",
    "    while stack:\n",
    "        current = stack.pop()\n",
    "        for item in current:\n",
    "            if isinstance(item, list):\n",
    "                stack.append(item)\n",
    "            else:\n",
    "                print(item)\n",
    "\n",
    "print(\"\\nMethod 4: Using a stack (iterative)\")\n",
    "print_nested_list_stack(x)"
   ]
  },
  {
   "cell_type": "markdown",
   "id": "1dbd91f5-824e-4b74-a49a-9ab6574147fe",
   "metadata": {},
   "source": [
    "# Tuple:"
   ]
  },
  {
   "cell_type": "code",
   "execution_count": 21,
   "id": "682da6e7-8c4e-4978-bde7-a8c34c7f6d66",
   "metadata": {},
   "outputs": [],
   "source": [
    "letters = ('a', 'b', 'c', 'd', 'e')"
   ]
  },
  {
   "cell_type": "code",
   "execution_count": 22,
   "id": "5cf64e2e-7726-4397-b3e2-a7ef63d50682",
   "metadata": {},
   "outputs": [],
   "source": [
    "my_list = [1, 2, 3]\n",
    "my_tuple = (1, 2, 3)\n",
    "\n",
    "my_list[0] = 10 "
   ]
  },
  {
   "cell_type": "code",
   "execution_count": 23,
   "id": "036a8772-d849-48c0-b0f8-9c544f85e6da",
   "metadata": {},
   "outputs": [],
   "source": [
    "num = (1, 2, 3, 4)"
   ]
  },
  {
   "cell_type": "code",
   "execution_count": 24,
   "id": "ae810045-00a0-48e6-b4fc-5c493d6fe7cb",
   "metadata": {},
   "outputs": [
    {
     "name": "stdout",
     "output_type": "stream",
     "text": [
      "(1, 2, 9, 4)\n"
     ]
    }
   ],
   "source": [
    "num = (1, 2, 3, 4)\n",
    "new_num = num[:2] + (9,) + num[3:]\n",
    "print(new_num)"
   ]
  },
  {
   "cell_type": "markdown",
   "id": "6a14db14-c4d0-4678-a559-ef5b265408b9",
   "metadata": {},
   "source": [
    "# Dictionary"
   ]
  },
  {
   "cell_type": "code",
   "execution_count": 25,
   "id": "2f1e93e2-e251-45b7-b550-ed9d53989fb1",
   "metadata": {},
   "outputs": [],
   "source": [
    "Fd = {'one': 'aik', 'three': 'teen', 'ten': 'das', 'fifteen': 'pandra'}"
   ]
  },
  {
   "cell_type": "code",
   "execution_count": 26,
   "id": "b1d3a777-3a76-4551-8a74-3087c34fa5d6",
   "metadata": {},
   "outputs": [
    {
     "name": "stdout",
     "output_type": "stream",
     "text": [
      "aik\n",
      "das\n"
     ]
    }
   ],
   "source": [
    "print(Fd['one']) \n",
    "print(Fd['ten']) "
   ]
  },
  {
   "cell_type": "code",
   "execution_count": 27,
   "id": "25c870ca-66f1-4404-ae80-d0e464091231",
   "metadata": {},
   "outputs": [
    {
     "name": "stdout",
     "output_type": "stream",
     "text": [
      "{'one': 'aik', 'ten': 'das', 'fifteen': 'pandra'}\n"
     ]
    }
   ],
   "source": [
    "del Fd['three']\n",
    "print(Fd)  "
   ]
  },
  {
   "cell_type": "code",
   "execution_count": 28,
   "id": "d14a2f2b-5f4a-458b-8839-b55a840252d9",
   "metadata": {},
   "outputs": [
    {
     "name": "stdout",
     "output_type": "stream",
     "text": [
      "3\n"
     ]
    }
   ],
   "source": [
    "print(len(Fd)) "
   ]
  },
  {
   "cell_type": "code",
   "execution_count": 29,
   "id": "4fa9b124-d1cb-49b0-b153-2e3802efae27",
   "metadata": {},
   "outputs": [
    {
     "name": "stdout",
     "output_type": "stream",
     "text": [
      "True\n",
      "False\n"
     ]
    }
   ],
   "source": [
    "print('one' in Fd) \n",
    "print('two' in Fd)  "
   ]
  },
  {
   "cell_type": "code",
   "execution_count": 30,
   "id": "e856d1b6-e866-4e0e-8ff4-89cc91a0d8d7",
   "metadata": {},
   "outputs": [
    {
     "name": "stdout",
     "output_type": "stream",
     "text": [
      "Alias: {'one': 'aik', 'ten': 'das', 'fifteen': 'pandra', 'three': '3'}\n",
      "Fd: {'one': 'aik', 'ten': 'das', 'fifteen': 'pandra', 'three': '3'}\n",
      "Copy: {'one': 'aik', 'ten': 'das', 'fifteen': 'pandra', 'three': '3'}\n",
      "Fd: {'one': 'aik', 'ten': 'das', 'fifteen': 'pandra', 'three': '3'}\n"
     ]
    }
   ],
   "source": [
    "copy = Fd.copy()\n",
    "alias = Fd\n",
    "\n",
    "alias['three'] = '3'\n",
    "print(\"Alias:\", alias)  \n",
    "print(\"Fd:\", Fd)       \n",
    "copy['three'] = '3' \n",
    "print(\"Copy:\", copy) \n",
    "print(\"Fd:\", Fd) "
   ]
  },
  {
   "cell_type": "code",
   "execution_count": 31,
   "id": "f9cf7ca4-7d38-4fc7-9bc9-99e0c87131a0",
   "metadata": {},
   "outputs": [
    {
     "name": "stdout",
     "output_type": "stream",
     "text": [
      "Original dictionary: {'a': 1, 'b': 2, 'c': 3, 'd': 4}\n",
      "\n",
      "After .clear(): {}\n",
      "\n",
      "Value of 'b' using .get(): 2\n",
      "Value of 'e' using .get(): None\n",
      "Value of 'e' using .get() with default: 0\n",
      "\n",
      "Items using .items(): dict_items([('a', 1), ('b', 2), ('c', 3), ('d', 4)])\n",
      "Key: a, Value: 1\n",
      "Key: b, Value: 2\n",
      "Key: c, Value: 3\n",
      "Key: d, Value: 4\n",
      "\n",
      "Keys using .keys(): dict_keys(['a', 'b', 'c', 'd'])\n",
      "a\n",
      "b\n",
      "c\n",
      "d\n",
      "\n",
      "Values using .values(): dict_values([1, 2, 3, 4])\n",
      "1\n",
      "2\n",
      "3\n",
      "4\n"
     ]
    }
   ],
   "source": [
    "my_dict = {'a': 1, 'b': 2, 'c': 3, 'd': 4}\n",
    "\n",
    "print(\"Original dictionary:\", my_dict)\n",
    "\n",
    "# a. .clear() - Removes all items from the dictionary\n",
    "my_dict.clear()\n",
    "print(\"\\nAfter .clear():\", my_dict)  # Output: {} (an empty dictionary)\n",
    "\n",
    "my_dict = {'a': 1, 'b': 2, 'c': 3, 'd': 4} # re-initializing the dictionary\n",
    "\n",
    "# b. .get(key[, default]) - Returns the value for key if key is in the dictionary, else default.\n",
    "value = my_dict.get('b')\n",
    "print(\"\\nValue of 'b' using .get():\", value)  # Output: 2\n",
    "\n",
    "value = my_dict.get('e') # if the key is not present it will return None.\n",
    "print(\"Value of 'e' using .get():\", value)  # Output: None\n",
    "\n",
    "value = my_dict.get('e', 0)  # Using a default value\n",
    "print(\"Value of 'e' using .get() with default:\", value)  # Output: 0\n",
    "\n",
    "# c. .items() - Returns a view object displaying a list of the dictionary's (key, value) tuple pairs.\n",
    "items = my_dict.items()\n",
    "print(\"\\nItems using .items():\", items) # Output: dict_items([('a', 1), ('b', 2), ('c', 3), ('d', 4)])\n",
    "\n",
    "for key, value in my_dict.items():\n",
    "    print(f\"Key: {key}, Value: {value}\")\n",
    "\n",
    "# d. .keys() - Returns a view object displaying a list of the dictionary's keys.\n",
    "keys = my_dict.keys()\n",
    "print(\"\\nKeys using .keys():\", keys) # Output: dict_keys(['a', 'b', 'c', 'd'])\n",
    "\n",
    "for key in my_dict.keys():\n",
    "    print(key)\n",
    "\n",
    "# e. .values() - Returns a view object displaying a list of the dictionary's values.\n",
    "values = my_dict.values()\n",
    "print(\"\\nValues using .values():\", values) # Output: dict_values([1, 2, 3, 4])\n",
    "\n",
    "for value in my_dict.values():\n",
    "    print(value)"
   ]
  },
  {
   "cell_type": "code",
   "execution_count": 32,
   "id": "3d1f8fb1-fc3d-4c82-91c5-39f3bc89dfd6",
   "metadata": {},
   "outputs": [
    {
     "name": "stdout",
     "output_type": "stream",
     "text": [
      "\n",
      "After .clear(): {}\n"
     ]
    }
   ],
   "source": [
    "# a. .clear() - Removes all items from the dictionary\n",
    "my_dict.clear()\n",
    "print(\"\\nAfter .clear():\", my_dict)"
   ]
  },
  {
   "cell_type": "code",
   "execution_count": 33,
   "id": "30378150-2a10-4032-abd1-b2166827fc9b",
   "metadata": {},
   "outputs": [],
   "source": [
    "my_dict = {'a': 1, 'b': 2, 'c': 3, 'd': 4}"
   ]
  },
  {
   "cell_type": "code",
   "execution_count": 34,
   "id": "42f1ac98-c346-4646-ba4f-41457f14f6eb",
   "metadata": {},
   "outputs": [
    {
     "name": "stdout",
     "output_type": "stream",
     "text": [
      "\n",
      "Value of 'b' using .get(): 2\n"
     ]
    }
   ],
   "source": [
    "# b. .get(key[, default]) - Returns the value for key if key is in the dictionary, else default.\n",
    "value = my_dict.get('b')\n",
    "print(\"\\nValue of 'b' using .get():\", value)"
   ]
  },
  {
   "cell_type": "code",
   "execution_count": 35,
   "id": "119f43fe-2533-4718-8161-3dd87bbece70",
   "metadata": {},
   "outputs": [
    {
     "name": "stdout",
     "output_type": "stream",
     "text": [
      "Value of 'e' using .get(): None\n"
     ]
    }
   ],
   "source": [
    "value = my_dict.get('e') # if the key is not present it will return None.\n",
    "print(\"Value of 'e' using .get():\", value)"
   ]
  },
  {
   "cell_type": "code",
   "execution_count": 36,
   "id": "4466fd31-ecfc-4d8b-a1a9-cf63447d2ad7",
   "metadata": {},
   "outputs": [
    {
     "name": "stdout",
     "output_type": "stream",
     "text": [
      "Value of 'e' using .get() with default: 0\n"
     ]
    }
   ],
   "source": [
    "value = my_dict.get('e', 0)  # Using a default value\n",
    "print(\"Value of 'e' using .get() with default:\", value)"
   ]
  },
  {
   "cell_type": "code",
   "execution_count": 37,
   "id": "115549d5-ab73-47c3-8f3c-638edc97b2b0",
   "metadata": {},
   "outputs": [
    {
     "name": "stdout",
     "output_type": "stream",
     "text": [
      "\n",
      "Items using .items(): dict_items([('a', 1), ('b', 2), ('c', 3), ('d', 4)])\n",
      "Key: a, Value: 1\n",
      "Key: b, Value: 2\n",
      "Key: c, Value: 3\n",
      "Key: d, Value: 4\n"
     ]
    }
   ],
   "source": [
    "# c. .items() - Returns a view object displaying a list of the dictionary's (key, value) tuple pairs.\n",
    "items = my_dict.items()\n",
    "print(\"\\nItems using .items():\", items)\n",
    "for key, value in my_dict.items():\n",
    "    print(f\"Key: {key}, Value: {value}\")"
   ]
  },
  {
   "cell_type": "code",
   "execution_count": 38,
   "id": "9f447507-cfaa-42fd-8c8f-3caae5ff75a4",
   "metadata": {},
   "outputs": [
    {
     "name": "stdout",
     "output_type": "stream",
     "text": [
      "\n",
      "Keys using .keys(): dict_keys(['a', 'b', 'c', 'd'])\n",
      "a\n",
      "b\n",
      "c\n",
      "d\n"
     ]
    }
   ],
   "source": [
    "# d. .keys() - Returns a view object displaying a list of the dictionary's keys.\n",
    "keys = my_dict.keys()\n",
    "print(\"\\nKeys using .keys():\", keys)\n",
    "for key in my_dict.keys():\n",
    "    print(key)"
   ]
  },
  {
   "cell_type": "code",
   "execution_count": 39,
   "id": "0c00d884-c09f-4e87-9a1e-0944beeb5a94",
   "metadata": {},
   "outputs": [
    {
     "name": "stdout",
     "output_type": "stream",
     "text": [
      "\n",
      "Values using .values(): dict_values([1, 2, 3, 4])\n",
      "1\n",
      "2\n",
      "3\n",
      "4\n"
     ]
    }
   ],
   "source": [
    "# e. .values() - Returns a view object displaying a list of the dictionary's values.\n",
    "values = my_dict.values()\n",
    "print(\"\\nValues using .values():\", values) # Output: dict_values([1, 2, 3, 4])\n",
    "\n",
    "for value in my_dict.values():\n",
    "    print(value)"
   ]
  },
  {
   "cell_type": "markdown",
   "id": "a65ff986-1a55-465e-850f-3b9f3a3a1f5f",
   "metadata": {},
   "source": [
    "# List comprehensions:"
   ]
  },
  {
   "cell_type": "code",
   "execution_count": 40,
   "id": "d19a1c08-44d7-401e-9b44-78242313a3ff",
   "metadata": {},
   "outputs": [
    {
     "name": "stdout",
     "output_type": "stream",
     "text": [
      "Squares (using for loop): [0, 1, 4, 9, 16, 25, 36, 49, 64, 81]\n"
     ]
    }
   ],
   "source": [
    "squares = []\n",
    "for x in range(10):\n",
    "    squares.append(x * x)\n",
    "print(\"Squares (using for loop):\", squares)"
   ]
  },
  {
   "cell_type": "code",
   "execution_count": 41,
   "id": "86f7b948-4c16-48aa-bdae-7f8de13447eb",
   "metadata": {},
   "outputs": [
    {
     "name": "stdout",
     "output_type": "stream",
     "text": [
      "Squares (using list comprehension): [0, 1, 4, 9, 16, 25, 36, 49, 64, 81]\n"
     ]
    }
   ],
   "source": [
    "squares = [x * x for x in range(10)]\n",
    "print(\"Squares (using list comprehension):\", squares)"
   ]
  },
  {
   "cell_type": "code",
   "execution_count": 42,
   "id": "3e3ad509-2a2a-410f-a727-74fb2e71e479",
   "metadata": {},
   "outputs": [
    {
     "name": "stdout",
     "output_type": "stream",
     "text": [
      "Cubes (using list comprehension): [0, 1, 8, 27, 64, 125, 216, 343, 512, 729]\n",
      "Plus one (using list comprehension): [1, 2, 3, 4, 5, 6, 7, 8, 9, 10]\n",
      "Double value (using list comprehension): [0, 2, 4, 6, 8, 10, 12, 14, 16, 18]\n"
     ]
    }
   ],
   "source": [
    "cube = [x * x * x for x in range(10)] # calculating cube of x\n",
    "print(\"Cubes (using list comprehension):\", cube)\n",
    "\n",
    "plus_one = [x + 1 for x in range(10)] # adding 1 to x\n",
    "print(\"Plus one (using list comprehension):\", plus_one)\n",
    "\n",
    "double_value = [2*x for x in range(10)] # multiplying x by 2\n",
    "print(\"Double value (using list comprehension):\", double_value)"
   ]
  },
  {
   "cell_type": "code",
   "execution_count": 43,
   "id": "acabab33-f220-49b4-bcbb-34e51d353d06",
   "metadata": {},
   "outputs": [
    {
     "name": "stdout",
     "output_type": "stream",
     "text": [
      "Even squares (using list comprehension with filter): [0, 4, 16, 36, 64]\n"
     ]
    }
   ],
   "source": [
    "even_squares = [x * x for x in range(10) if x % 2 == 0]\n",
    "print(\"Even squares (using list comprehension with filter):\", even_squares)"
   ]
  },
  {
   "cell_type": "code",
   "execution_count": 44,
   "id": "333989e4-4e67-4239-babc-2fad9d17d209",
   "metadata": {},
   "outputs": [
    {
     "name": "stdout",
     "output_type": "stream",
     "text": [
      "Even squares (using for loop with filter): [0, 4, 16, 36, 64]\n"
     ]
    }
   ],
   "source": [
    "even_squares = []\n",
    "for x in range(10):\n",
    "    if x % 2 == 0:\n",
    "        even_squares.append(x * x)\n",
    "print(\"Even squares (using for loop with filter):\", even_squares)"
   ]
  },
  {
   "cell_type": "markdown",
   "id": "b65fd854-1135-4bff-bd66-9496e7e6cb18",
   "metadata": {},
   "source": [
    "# Dictionary comprehension"
   ]
  },
  {
   "cell_type": "code",
   "execution_count": 45,
   "id": "04ffc1e1-05cc-48d1-a338-31ed1cfc3dc3",
   "metadata": {},
   "outputs": [
    {
     "name": "stdout",
     "output_type": "stream",
     "text": [
      "{0: 0, 1: 1, 2: 4, 3: 9, 4: 16}\n"
     ]
    }
   ],
   "source": [
    "squares_dict = {x: x * x for x in range(5)}\n",
    "print(squares_dict)"
   ]
  },
  {
   "cell_type": "markdown",
   "id": "0522873c-9f4b-4996-ae9c-28548d93ad2d",
   "metadata": {},
   "source": [
    "# Encouraging"
   ]
  },
  {
   "cell_type": "code",
   "execution_count": 46,
   "id": "135fabf6-6ba3-4fb9-b697-a8882821307d",
   "metadata": {},
   "outputs": [
    {
     "name": "stdout",
     "output_type": "stream",
     "text": [
      "[0, 2, 4, 6, 8, 10, 12, 14, 16, 18]\n"
     ]
    }
   ],
   "source": [
    "even_numbers = []\n",
    "for i in range(20):\n",
    "    if i % 2 == 0:\n",
    "        even_numbers.append(i)\n",
    "print(even_numbers)"
   ]
  },
  {
   "cell_type": "code",
   "execution_count": 47,
   "id": "61b40089-fd71-4b16-a2da-817e9748ff32",
   "metadata": {},
   "outputs": [
    {
     "name": "stdout",
     "output_type": "stream",
     "text": [
      "[0, 2, 4, 6, 8, 10, 12, 14, 16, 18]\n"
     ]
    }
   ],
   "source": [
    "even_numbers = [i for i in range(20) if i % 2 == 0]\n",
    "print(even_numbers)"
   ]
  },
  {
   "cell_type": "code",
   "execution_count": 48,
   "id": "3b222496-25ed-43cd-8cf5-b657a045d5a5",
   "metadata": {},
   "outputs": [
    {
     "name": "stdout",
     "output_type": "stream",
     "text": [
      "True\n",
      "True\n",
      "False\n",
      "False\n",
      "True\n",
      "True\n",
      "True\n"
     ]
    }
   ],
   "source": [
    "def is_palindrome(text):\n",
    " \n",
    "    if not isinstance(text, str):\n",
    "        return False  # Handle non-string input gracefully\n",
    "    processed_text = \"\".join(filter(str.isalnum, text)).lower() #Remove non-alphanumeric and lowercase\n",
    "    return processed_text == processed_text[::-1] #Efficient palindrome check\n",
    "\n",
    "# Example usage (demonstrates good testing):\n",
    "print(is_palindrome(\"racecar\"))  \n",
    "print(is_palindrome(\"A man, a plan, a canal: Panama\")) \n",
    "print(is_palindrome(\"hello\"))  \n",
    "print(is_palindrome(12321)) \n",
    "print(is_palindrome(\"\")) \n",
    "print(is_palindrome(\" \")) \n",
    "print(is_palindrome(\"Race car\")) "
   ]
  },
  {
   "cell_type": "code",
   "execution_count": null,
   "id": "73b0858c-ca41-4812-8838-325e5e0f53a3",
   "metadata": {},
   "outputs": [],
   "source": []
  },
  {
   "cell_type": "code",
   "execution_count": null,
   "id": "07076852-b5a8-42da-8b09-13b82a0ef6d2",
   "metadata": {},
   "outputs": [],
   "source": []
  },
  {
   "cell_type": "code",
   "execution_count": null,
   "id": "615aa041-93a0-4f60-8ac1-07a9e84c5ff0",
   "metadata": {},
   "outputs": [],
   "source": []
  },
  {
   "cell_type": "code",
   "execution_count": null,
   "id": "f2774be0-5cea-419b-b13f-239a22f39e04",
   "metadata": {},
   "outputs": [],
   "source": []
  },
  {
   "cell_type": "code",
   "execution_count": null,
   "id": "03dbc597-4842-46b3-a778-46bcec3e653d",
   "metadata": {},
   "outputs": [],
   "source": []
  },
  {
   "cell_type": "code",
   "execution_count": null,
   "id": "98424600-be98-4b85-b562-c7554bbeb759",
   "metadata": {},
   "outputs": [],
   "source": []
  },
  {
   "cell_type": "code",
   "execution_count": null,
   "id": "f0a5a1ca-5f42-4d06-bf2a-0fce2f1eca6b",
   "metadata": {},
   "outputs": [],
   "source": []
  },
  {
   "cell_type": "code",
   "execution_count": null,
   "id": "3448078c-7f0a-4185-b567-357cf654cd14",
   "metadata": {},
   "outputs": [],
   "source": []
  },
  {
   "cell_type": "code",
   "execution_count": null,
   "id": "d92bc5d6-8133-40b5-be6e-96ad16f49215",
   "metadata": {},
   "outputs": [],
   "source": []
  },
  {
   "cell_type": "code",
   "execution_count": null,
   "id": "6afb0d9b-7c98-49f3-9099-f9c5b1d044f7",
   "metadata": {},
   "outputs": [],
   "source": []
  },
  {
   "cell_type": "code",
   "execution_count": null,
   "id": "760a2efa-de8a-4844-908c-d9d929d8602c",
   "metadata": {},
   "outputs": [],
   "source": []
  },
  {
   "cell_type": "code",
   "execution_count": null,
   "id": "ffec66c6-bec8-4f9b-ba5d-31722917edc4",
   "metadata": {},
   "outputs": [],
   "source": []
  },
  {
   "cell_type": "code",
   "execution_count": null,
   "id": "e38d2729-7bd1-4946-98da-292200ee9689",
   "metadata": {},
   "outputs": [],
   "source": []
  },
  {
   "cell_type": "code",
   "execution_count": null,
   "id": "f6ed194a-f396-44a3-96e1-3b38622ee804",
   "metadata": {},
   "outputs": [],
   "source": []
  },
  {
   "cell_type": "code",
   "execution_count": null,
   "id": "c43db2a8-5d2b-494e-bee3-5dc73673cf54",
   "metadata": {},
   "outputs": [],
   "source": []
  },
  {
   "cell_type": "code",
   "execution_count": null,
   "id": "150bf953-6119-4bc1-98e9-925c4c60d99d",
   "metadata": {},
   "outputs": [],
   "source": []
  },
  {
   "cell_type": "code",
   "execution_count": null,
   "id": "20c8f8c4-1c20-4f20-ab2d-f75b9099f075",
   "metadata": {},
   "outputs": [],
   "source": []
  },
  {
   "cell_type": "code",
   "execution_count": null,
   "id": "c385d0ed-2491-4a29-983a-267fa323941a",
   "metadata": {},
   "outputs": [],
   "source": []
  },
  {
   "cell_type": "code",
   "execution_count": null,
   "id": "a9e68768-91ee-4e6f-9ec3-8d936de1d38f",
   "metadata": {},
   "outputs": [],
   "source": []
  },
  {
   "cell_type": "code",
   "execution_count": null,
   "id": "5247a77c-24e1-487c-9fad-70aa3f706afd",
   "metadata": {},
   "outputs": [],
   "source": []
  },
  {
   "cell_type": "code",
   "execution_count": null,
   "id": "1a17d045-8677-48a6-80de-d26df900cc26",
   "metadata": {},
   "outputs": [],
   "source": []
  },
  {
   "cell_type": "code",
   "execution_count": null,
   "id": "af23aa68-87e8-478b-b3f9-8b427bec1c29",
   "metadata": {},
   "outputs": [],
   "source": []
  },
  {
   "cell_type": "code",
   "execution_count": null,
   "id": "e55751ba-b49c-4108-9689-6253ce4e0856",
   "metadata": {},
   "outputs": [],
   "source": []
  },
  {
   "cell_type": "code",
   "execution_count": null,
   "id": "0a66e7d8-ca47-4462-ae4f-9c0c731ae80a",
   "metadata": {},
   "outputs": [],
   "source": []
  },
  {
   "cell_type": "code",
   "execution_count": null,
   "id": "0b2dc2a1-75eb-4384-87ff-e81fe7efeea1",
   "metadata": {},
   "outputs": [],
   "source": []
  },
  {
   "cell_type": "code",
   "execution_count": null,
   "id": "e05e2746-d301-496f-b3f8-0ee3958aed42",
   "metadata": {},
   "outputs": [],
   "source": []
  },
  {
   "cell_type": "code",
   "execution_count": null,
   "id": "a2f66f93-b947-4131-b066-ac19fd37cfa3",
   "metadata": {},
   "outputs": [],
   "source": []
  },
  {
   "cell_type": "code",
   "execution_count": null,
   "id": "c36012e5-7285-4b40-917c-1b2895b4273a",
   "metadata": {},
   "outputs": [],
   "source": []
  }
 ],
 "metadata": {
  "kernelspec": {
   "display_name": "Python 3 (ipykernel)",
   "language": "python",
   "name": "python3"
  },
  "language_info": {
   "codemirror_mode": {
    "name": "ipython",
    "version": 3
   },
   "file_extension": ".py",
   "mimetype": "text/x-python",
   "name": "python",
   "nbconvert_exporter": "python",
   "pygments_lexer": "ipython3",
   "version": "3.12.4"
  }
 },
 "nbformat": 4,
 "nbformat_minor": 5
}
