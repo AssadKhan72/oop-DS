{
 "cells": [
  {
   "cell_type": "markdown",
   "id": "760fa989-e919-4c5e-9555-3f1af653d1fc",
   "metadata": {},
   "source": [
    "# Lab work tasks:"
   ]
  },
  {
   "cell_type": "code",
   "execution_count": 2,
   "id": "a802efa3-f50b-4159-9c9e-cecac816c628",
   "metadata": {},
   "outputs": [
    {
     "name": "stdout",
     "output_type": "stream",
     "text": [
      "Adil\n",
      "Chief Medical Officer\n",
      "Name: Adil, Age: 21, Position: Captain, Start Year: 2020\n",
      "Name: Assad, Age: 20, Position: Science Officer, Start Year: 2022\n",
      "Name: Aihab, Position: Chief Medical Officer, Start Year: 2023\n",
      "Name: Assad, Age: 20, Position: Science Officer, Start Year: 2022\n"
     ]
    }
   ],
   "source": [
    "class Employee:\n",
    "    \"\"\"Represents an employee with name, age, position, and start year.\"\"\"\n",
    "\n",
    "    def __init__(self, name, age=None, position=None, start_year=None):\n",
    "        \"\"\"Initializes an Employee object. Age is optional.\"\"\"\n",
    "        self.name = name\n",
    "        self.age = age  # Allow None for missing age\n",
    "        self.position = position\n",
    "        self.start_year = start_year\n",
    "\n",
    "    def __str__(self):\n",
    "        \"\"\"Returns a string representation of the employee.\"\"\"\n",
    "        age_str = f\", Age: {self.age}\" if self.age is not None else \"\"\n",
    "        position_str = f\", Position: {self.position}\" if self.position is not None else \"\"\n",
    "        start_year_str = f\", Start Year: {self.start_year}\" if self.start_year is not None else \"\"\n",
    "        return f\"Name: {self.name}{age_str}{position_str}{start_year_str}\"\n",
    "\n",
    "# Create employee objects\n",
    "Adil = Employee(\"Adil\", 21, \"Captain\", 2020)\n",
    "Assad = Employee(\"Assad\", 20, \"Science Officer\", 2022)\n",
    "Aihab = Employee(\"Aihab\", position=\"Chief Medical Officer\", start_year=2023) #using named arguments\n",
    "\n",
    "# a. Print Kirk's name\n",
    "print(Adil.name)  # Much clearer!\n",
    "\n",
    "# b. Print McCoy's position (no error even with missing age)\n",
    "print(Aihab.position)\n",
    "\n",
    "# Print the employee objects\n",
    "print(Adil)\n",
    "print(Assad)\n",
    "print(Aihab)\n",
    "\n",
    "#Demonstrate updating attributes\n",
    "Assad.age = 20\n",
    "print(Assad)"
   ]
  },
  {
   "cell_type": "code",
   "execution_count": 4,
   "id": "b8eb43aa-1ddf-4e68-ae0e-18994ecdfca7",
   "metadata": {},
   "outputs": [
    {
     "name": "stdout",
     "output_type": "stream",
     "text": [
      "False\n",
      "<__main__.Dog object at 0x000002540CB5C3E0>\n",
      "<__main__.Dog object at 0x000002540CB5C1D0>\n"
     ]
    }
   ],
   "source": [
    "class Dog:\n",
    "    \"\"\"A simple Dog class.\"\"\"\n",
    "    pass \n",
    "# a. Create a Dog object\n",
    "dog1 = Dog()\n",
    "\n",
    "# b. Assign the Dog object to a variable\n",
    "inst1 = dog1  \n",
    "\n",
    "# c. Create two more Dog objects and assign them to variables\n",
    "dog2 = Dog()\n",
    "a = dog1\n",
    "b = dog2\n",
    "\n",
    "# d. Print the result of comparing the objects\n",
    "print(a == b) \n",
    "# e. Print the objects\n",
    "print(a) \n",
    "print(b) "
   ]
  },
  {
   "cell_type": "code",
   "execution_count": 5,
   "id": "339226a2-181b-410e-9a61-71c58b1ff5cc",
   "metadata": {},
   "outputs": [
    {
     "name": "stdout",
     "output_type": "stream",
     "text": [
      "False\n",
      "<__main__.MyFirstClass object at 0x000002540CB5EBD0>\n",
      "<__main__.MyFirstClass object at 0x000002540CB5CE60>\n",
      "True\n",
      "<__main__.MyFirstClass object at 0x000002540CB5EBD0>\n",
      "<__main__.MyFirstClass object at 0x000002540CB5EBD0>\n"
     ]
    }
   ],
   "source": [
    "class MyFirstClass:\n",
    "    \"\"\"A simple class.\"\"\"\n",
    "    pass\n",
    "\n",
    "# a. Make two instances named FC1 and FC2.\n",
    "FC1 = MyFirstClass()\n",
    "FC2 = MyFirstClass()\n",
    "\n",
    "# b. Check whether FC1 and FC2 represent the same object or not.\n",
    "print(FC1 == FC2) \n",
    "# c. Use the print command and print both instances.\n",
    "print(FC1) \n",
    "print(FC2) \n",
    "\n",
    "#Demonstrating assigning the same object\n",
    "FC3 = FC1\n",
    "print(FC1 == FC3) \n",
    "print(FC1) \n",
    "print(FC3)"
   ]
  },
  {
   "cell_type": "code",
   "execution_count": 6,
   "id": "1fe4eb2e-90ff-49a0-a1fa-131fad04a446",
   "metadata": {},
   "outputs": [
    {
     "name": "stdout",
     "output_type": "stream",
     "text": [
      "This is an instance of MyClass with name: Object 1\n",
      "This is an instance of MyClass with name: Object 2\n"
     ]
    }
   ],
   "source": [
    "class MyClass:\n",
    "    def __init__(self, name):\n",
    "        self.name = name\n",
    "\n",
    "    def __str__(self):\n",
    "        return f\"This is an instance of MyClass with name: {self.name}\"\n",
    "\n",
    "obj1 = MyClass(\"Object 1\")\n",
    "obj2 = MyClass(\"Object 2\")\n",
    "\n",
    "print(obj1) \n",
    "print(obj2) "
   ]
  },
  {
   "cell_type": "code",
   "execution_count": 7,
   "id": "ca1beeea-0501-459f-a2d6-f33263834701",
   "metadata": {},
   "outputs": [
    {
     "name": "stdout",
     "output_type": "stream",
     "text": [
      "Point(x=3, y=4)\n",
      "Point(x=1, y=2)\n",
      "Point(x=5, y=-2)\n",
      "Point(x=-1, y=0)\n",
      "Coordinate(horizontal=7, vertical=9)\n",
      "Coordinate(horizontal=2, vertical=5)\n",
      "Point(x=0, y=0)\n"
     ]
    }
   ],
   "source": [
    "class Point:\n",
    "    \"\"\"Represents a point in 2D space.\"\"\"\n",
    "    def __init__(self, x=0, y=0):  # Add an initializer (constructor)\n",
    "        self.x = x\n",
    "        self.y = y\n",
    "\n",
    "    def __str__(self):  # Define a string representation for printing\n",
    "        return f\"Point(x={self.x}, y={self.y})\"\n",
    "\n",
    "\n",
    "# a. Make two instances named p1 and p2.\n",
    "p1 = Point(3, 4)\n",
    "p2 = Point(1, 2)\n",
    "\n",
    "# b. Print both objects p1 and p2.\n",
    "print(p1)\n",
    "print(p2)\n",
    "\n",
    "# c. Try different names for objects and attributes.\n",
    "my_first_point = Point(5, -2)  \n",
    "another_point = Point(-1, 0)  \n",
    "\n",
    "print(my_first_point)\n",
    "print(another_point)\n",
    "\n",
    "# Demonstrating different attribute names (within a new class)\n",
    "class Coordinate:\n",
    "    def __init__(self, horizontal=0, vertical=0):\n",
    "        self.horizontal = horizontal \n",
    "        self.vertical = vertical     \n",
    "\n",
    "    def __str__(self):\n",
    "      return f\"Coordinate(horizontal={self.horizontal}, vertical={self.vertical})\"\n",
    "\n",
    "coord1 = Coordinate(7, 9)\n",
    "coord2 = Coordinate(2, 5)\n",
    "\n",
    "print(coord1)\n",
    "print(coord2)\n",
    "\n",
    "#Demonstrating default values in the constructor\n",
    "origin = Point()\n",
    "print(origin)"
   ]
  },
  {
   "cell_type": "code",
   "execution_count": 9,
   "id": "b4babc0f-d8af-4cf3-9542-4ef676898bfa",
   "metadata": {},
   "outputs": [
    {
     "name": "stdout",
     "output_type": "stream",
     "text": [
      "Point(x=3, y=4)\n",
      "Point(x=1, y=2)\n",
      "Point(x=5, y=-2)\n",
      "Point(x=-1, y=0)\n",
      "Position(easting=100, northing=200)\n",
      "Position(easting=300, northing=400)\n",
      "Point(x=0, y=0)\n"
     ]
    }
   ],
   "source": [
    "class Point:\n",
    " \n",
    "    def __init__(self, x=0, y=0): \n",
    "        self.x_coordinate = x \n",
    "        self.y_coordinate = y \n",
    "\n",
    "    def __str__(self):\n",
    "        return f\"Point(x={self.x_coordinate}, y={self.y_coordinate})\"\n",
    "\n",
    "# a. Make two instances named p1 and p2.\n",
    "p1 = Point(3, 4)\n",
    "p2 = Point(1, 2)\n",
    "\n",
    "# b. Print both objects p1 and p2.\n",
    "print(p1)\n",
    "print(p2)\n",
    "\n",
    "# c. Try different names for objects and attributes.\n",
    "my_location = Point(5, -2)     \n",
    "user_input_point = Point(-1, 0) \n",
    "\n",
    "print(my_location)\n",
    "print(user_input_point)\n",
    "\n",
    "# Demonstrating even more different attribute names\n",
    "class Position:\n",
    "    def __init__(self, easting=0, northing=0):\n",
    "        self.easting = easting\n",
    "        self.northing = northing\n",
    "\n",
    "    def __str__(self):\n",
    "        return f\"Position(easting={self.easting}, northing={self.northing})\"\n",
    "\n",
    "position1 = Position(100, 200)\n",
    "position2 = Position(300, 400)\n",
    "\n",
    "print(position1)\n",
    "print(position2)\n",
    "\n",
    "# Using default values\n",
    "origin = Point()\n",
    "print(origin)"
   ]
  },
  {
   "cell_type": "code",
   "execution_count": 10,
   "id": "f8f740c4-2914-4acd-bdc8-1d8619987b54",
   "metadata": {},
   "outputs": [
    {
     "name": "stdout",
     "output_type": "stream",
     "text": [
      "<__main__.Dog object at 0x000002540CB5F800>\n",
      "<__main__.Dog object at 0x000002540CB5F800>\n"
     ]
    }
   ],
   "source": [
    "class Dog:\n",
    "   \n",
    "\n",
    "    def __init__(self, name, age):\n",
    "       \n",
    "        self.name = name\n",
    "        self.age = age\n",
    "\n",
    "# a. Create a Dog object named miles\n",
    "miles = Dog(\"Miles\", 4)\n",
    "\n",
    "# b. Print the dog object\n",
    "print(miles)  \n",
    "\n",
    "# To print the dog's name and age more informatively, you can define a __str__ method:\n",
    "def __str__(self):\n",
    "    return f\"Dog named {self.name}, age: {self.age}\"\n",
    "\n",
    "print(miles) "
   ]
  },
  {
   "cell_type": "code",
   "execution_count": 12,
   "id": "6975993c-64f4-4f32-bc95-26aab891cf91",
   "metadata": {},
   "outputs": [
    {
     "name": "stdout",
     "output_type": "stream",
     "text": [
      "Canis familiaris\n",
      "Miles\n",
      "4\n",
      "Canis familiaris\n",
      "Buddy\n",
      "9\n"
     ]
    }
   ],
   "source": [
    "class Dog:\n",
    "  \n",
    "\n",
    "    species = \"Canis familiaris\" \n",
    "\n",
    "    def __init__(self, name, age):\n",
    "       \n",
    "        self.name = name\n",
    "        self.age = age\n",
    "\n",
    "# a. Creating Dog objects with arguments (recommended)\n",
    "miles = Dog(\"Miles\", 4) \n",
    "buddy = Dog(\"Buddy\", 9) \n",
    "\n",
    "# b. Accessing attributes\n",
    "print(miles.species)  \n",
    "print(miles.name)   \n",
    "print(miles.age)    \n",
    "\n",
    "print(buddy.species) \n",
    "print(buddy.name)    \n",
    "print(buddy.age)     "
   ]
  },
  {
   "cell_type": "code",
   "execution_count": 13,
   "id": "da123a45-a90c-4c00-9b72-f633f0b622f6",
   "metadata": {},
   "outputs": [
    {
     "name": "stdout",
     "output_type": "stream",
     "text": [
      "(3.0, 4.0)\n",
      "(-1.0, -2.0)\n",
      "Location of point1: Quadrant I\n",
      "Location of p2: Quadrant III\n",
      "Coordinates of point1: x=3.0, y=4.0\n",
      "Coordinates of p2: x=-1.0, y=-2.0\n",
      "Point coordinates: (x = 3.0, y = 4.0)\n",
      "Point coordinates: (x = -1.0, y = -2.0)\n"
     ]
    }
   ],
   "source": [
    "import math\n",
    "\n",
    "class Point:\n",
    "\n",
    "    def __init__(self, x: float = 0, y: float = 0) -> None:\n",
    "        self.x = x\n",
    "        self.y = y\n",
    "\n",
    "    def distance(self, other: 'Point') -> float:\n",
    "        return math.sqrt((self.x - other.x)**2 + (self.y - other.y)**2)\n",
    "\n",
    "    def show(self) -> tuple[float, float]:\n",
    "        return (self.x, self.y)\n",
    "\n",
    "    def locate(self) -> str:\n",
    "        if self.x == 0 and self.y == 0:\n",
    "            return \"Origin\"\n",
    "        elif self.x == 0:\n",
    "            return \"y-axis\"\n",
    "        elif self.y == 0:\n",
    "            return \"x-axis\"\n",
    "        elif self.x > 0 and self.y > 0:\n",
    "            return \"Quadrant I\"\n",
    "        elif self.x < 0 and self.y > 0:\n",
    "            return \"Quadrant II\"\n",
    "        elif self.x < 0 and self.y < 0:\n",
    "            return \"Quadrant III\"\n",
    "        else:  # self.x > 0 and self.y < 0\n",
    "            return \"Quadrant IV\"\n",
    "\n",
    "    def display(self) -> None:\n",
    "        print(f\"Point coordinates: (x = {self.x}, y = {self.y})\")\n",
    "\n",
    "    def __str__(self) -> str:\n",
    "        return f\"({self.x}, {self.y})\"\n",
    "\n",
    "\n",
    "# a. Define point1 and pass two numbers.\n",
    "point1 = Point(3.0, 4.0)\n",
    "\n",
    "# b. Make another instance of the point class, say its name is p2.\n",
    "p2 = Point(-1.0, -2.0)\n",
    "\n",
    "# c. Print p1 and p2.\n",
    "print(point1)\n",
    "print(p2)\n",
    "\n",
    "# d. Print the location of both points.\n",
    "print(f\"Location of point1: {point1.locate()}\")\n",
    "print(f\"Location of p2: {p2.locate()}\")\n",
    "\n",
    "# e. Print the coordinate by using the object and dot operator.\n",
    "print(f\"Coordinates of point1: x={point1.x}, y={point1.y}\")\n",
    "print(f\"Coordinates of p2: x={p2.x}, y={p2.y}\")\n",
    "\n",
    "# f. Add a new method to the point class to effectively print the points.\n",
    "point1.display()\n",
    "p2.display()\n",
    "\n",
    "# g. Calculate the distance between these two points.\n",
    "distance = point1"
   ]
  },
  {
   "cell_type": "code",
   "execution_count": 14,
   "id": "a1b9d23f-e2a7-4f8a-8099-d41e15f3fda6",
   "metadata": {},
   "outputs": [
    {
     "name": "stdout",
     "output_type": "stream",
     "text": [
      "point_1 (dot operator): x = 5.0, y = 10.0\n",
      "point_1 (show method): (5.0, 10.0)\n",
      "(5.0, 10.0)\n",
      "point_2 (show method): (7.0, 0)\n",
      "(7.0, 0)\n",
      "point_3 (show method): (0, 0)\n",
      "(0, 0)\n"
     ]
    }
   ],
   "source": [
    "import math\n",
    "\n",
    "class Point:\n",
    "\n",
    "    def __init__(self, x: float = 0, y: float = 0) -> None:\n",
    "        self.x = x\n",
    "        self.y = y\n",
    "\n",
    "    def distance(self, other: 'Point') -> float:\n",
    "        return math.sqrt((self.x - other.x)**2 + (self.y - other.y)**2)\n",
    "\n",
    "    def show(self) -> tuple[float, float]:\n",
    "        return (self.x, self.y)\n",
    "    \n",
    "    def __str__(self) -> str:\n",
    "        return f\"({self.x}, {self.y})\"\n",
    "\n",
    "# a. Define point_1 by passing two arguments and print their values.\n",
    "point_1 = Point(5.0, 10.0)\n",
    "print(f\"point_1 (dot operator): x = {point_1.x}, y = {point_1.y}\")\n",
    "print(f\"point_1 (show method): {point_1.show()}\")\n",
    "print(point_1)\n",
    "\n",
    "# b. Define point_2 by passing one argument.\n",
    "point_2 = Point(7.0)  # y will default to 0\n",
    "print(f\"point_2 (show method): {point_2.show()}\")\n",
    "print(point_2)\n",
    "\n",
    "# c. Define point_3 by passing no arguments.\n",
    "point_3 = Point()  # x and y will both default to 0 (origin)\n",
    "print(f\"point_3 (show method): {point_3.show()}\")\n",
    "print(point_3)"
   ]
  },
  {
   "cell_type": "code",
   "execution_count": null,
   "id": "1eda8bf7-402e-41b2-8e6a-0dc13f7fe7aa",
   "metadata": {},
   "outputs": [],
   "source": []
  }
 ],
 "metadata": {
  "kernelspec": {
   "display_name": "Python 3 (ipykernel)",
   "language": "python",
   "name": "python3"
  },
  "language_info": {
   "codemirror_mode": {
    "name": "ipython",
    "version": 3
   },
   "file_extension": ".py",
   "mimetype": "text/x-python",
   "name": "python",
   "nbconvert_exporter": "python",
   "pygments_lexer": "ipython3",
   "version": "3.12.4"
  }
 },
 "nbformat": 4,
 "nbformat_minor": 5
}
