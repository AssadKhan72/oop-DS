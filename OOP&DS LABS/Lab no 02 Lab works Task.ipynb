{
 "cells": [
  {
   "cell_type": "markdown",
   "id": "503fc993-1a1d-429f-a729-237707a0cf19",
   "metadata": {},
   "source": [
    "# Lab works Tasks"
   ]
  },
  {
   "cell_type": "code",
   "execution_count": 3,
   "id": "9b8fdbc0-60d4-48d7-b613-51f0f6eb7007",
   "metadata": {},
   "outputs": [],
   "source": [
    "errno = 50159747054\n",
    "name = 'Bob'"
   ]
  },
  {
   "cell_type": "code",
   "execution_count": 4,
   "id": "9a36c038-afd8-4f0f-8f18-691fbc92c089",
   "metadata": {},
   "outputs": [
    {
     "name": "stdout",
     "output_type": "stream",
     "text": [
      "(a) Hello, Bob\n"
     ]
    }
   ],
   "source": [
    "output_a = 'Hello, %s' % name\n",
    "print(f\"(a) {output_a}\") "
   ]
  },
  {
   "cell_type": "code",
   "execution_count": 5,
   "id": "48d301e4-f352-4fb6-a5db-55813e5db85e",
   "metadata": {},
   "outputs": [
    {
     "name": "stdout",
     "output_type": "stream",
     "text": [
      "(b) Hey Bob, there is a 0xbadc0ffee error!\n"
     ]
    }
   ],
   "source": [
    "output_b = 'Hey %s, there is a 0x%x error!' % (name, errno)\n",
    "print(f\"(b) {output_b}\") "
   ]
  },
  {
   "cell_type": "code",
   "execution_count": 6,
   "id": "17a3747d-3ffd-4fb8-aac8-0ec98ef0bec5",
   "metadata": {},
   "outputs": [
    {
     "name": "stdout",
     "output_type": "stream",
     "text": [
      "(c) Hey Bob, there is a 0xbadc0ffee error!\n"
     ]
    }
   ],
   "source": [
    "output_c = 'Hey %(name)s, there is a 0x%(errno)x error!' % { \"name\": name, \"errno\": errno }\n",
    "print(f\"(c) {output_c}\")"
   ]
  },
  {
   "cell_type": "code",
   "execution_count": 7,
   "id": "ed10e119-68f1-47a4-b008-ca7d8dc19ef5",
   "metadata": {},
   "outputs": [
    {
     "name": "stdout",
     "output_type": "stream",
     "text": [
      "(a) Hello, Bob\n"
     ]
    }
   ],
   "source": [
    "name = 'Bob'\n",
    "output_a = 'Hello, {}'.format(name)\n",
    "print(f\"(a) {output_a}\")\n"
   ]
  },
  {
   "cell_type": "code",
   "execution_count": 8,
   "id": "a7f85312-08a5-4859-95de-4378a40cf240",
   "metadata": {},
   "outputs": [
    {
     "data": {
      "text/plain": [
       "'Hello, Alice and Bob'"
      ]
     },
     "execution_count": 8,
     "metadata": {},
     "output_type": "execute_result"
    }
   ],
   "source": [
    "'Hello, {} and {}'.format('Alice', 'Bob')"
   ]
  },
  {
   "cell_type": "code",
   "execution_count": 9,
   "id": "663262ed-150a-4e00-9559-9d52b68b3305",
   "metadata": {},
   "outputs": [
    {
     "data": {
      "text/plain": [
       "'Hello, Bob'"
      ]
     },
     "execution_count": 9,
     "metadata": {},
     "output_type": "execute_result"
    }
   ],
   "source": [
    "'Hello, {name}'.format(name='Bob') \n"
   ]
  },
  {
   "cell_type": "code",
   "execution_count": 10,
   "id": "f245af5a-e9b1-4c80-9615-7dbd26028b90",
   "metadata": {},
   "outputs": [
    {
     "data": {
      "text/plain": [
       "'Alice is 25 years old. Alice loves Python.'"
      ]
     },
     "execution_count": 10,
     "metadata": {},
     "output_type": "execute_result"
    }
   ],
   "source": [
    "'{0} is {1} years old. {0} loves Python.'.format('Alice', 25)"
   ]
  },
  {
   "cell_type": "code",
   "execution_count": 11,
   "id": "2c7c7df0-be3b-42e7-9642-b9703016099d",
   "metadata": {},
   "outputs": [
    {
     "name": "stdout",
     "output_type": "stream",
     "text": [
      "(3.a) Hello, Bob!\n"
     ]
    }
   ],
   "source": [
    "name = 'Bob'\n",
    "output_a = f'Hello, {name}!'\n",
    "print(f\"(3.a) {output_a}\")\n"
   ]
  },
  {
   "cell_type": "code",
   "execution_count": 12,
   "id": "9c5aa103-4c56-4c97-916e-c204fb35b224",
   "metadata": {},
   "outputs": [
    {
     "name": "stdout",
     "output_type": "stream",
     "text": [
      "(4.a) Hey, Bob!\n"
     ]
    }
   ],
   "source": [
    "from string import Template\n",
    "\n",
    "name = 'Bob'\n",
    "t = Template('Hey, $name!')\n",
    "output_a = t.substitute(name=name)\n",
    "print(f\"(4.a) {output_a}\")\n"
   ]
  },
  {
   "cell_type": "code",
   "execution_count": 14,
   "id": "d4e06ca0-a86a-442f-991d-8db2b178987e",
   "metadata": {},
   "outputs": [],
   "source": [
    "from string import Template\n",
    "\n",
    "name = 'Bob'\n",
    "errno = 50159747054\n",
    "\n",
    "templ_string = 'Hey $name, there is a $error error!'\n",
    "\n"
   ]
  },
  {
   "cell_type": "code",
   "execution_count": 15,
   "id": "fb8ed719-498d-40f7-819e-cec5891f7fef",
   "metadata": {},
   "outputs": [
    {
     "name": "stdout",
     "output_type": "stream",
     "text": [
      "(4.b) Hey Bob, there is a 0xbadc0ffee error!\n"
     ]
    }
   ],
   "source": [
    "output_b = Template(templ_string).substitute(name=name, error=hex(errno))\n",
    "print(f\"(4.b) {output_b}\")"
   ]
  },
  {
   "cell_type": "code",
   "execution_count": 16,
   "id": "23976c76-5e71-459d-b978-47fe8517a392",
   "metadata": {},
   "outputs": [],
   "source": [
    "# Lists\n",
    "list1 = [1, 2, 3, 4, 5]\n",
    "list2 = ['a', 'b', 'c']\n",
    "list3 = []\n"
   ]
  },
  {
   "cell_type": "code",
   "execution_count": 17,
   "id": "4ddc83d8-a870-4506-b9b8-6a2d5b0d1970",
   "metadata": {},
   "outputs": [],
   "source": [
    "string1 = \"Hello\"\n",
    "string2 = \"Python\""
   ]
  },
  {
   "cell_type": "code",
   "execution_count": 18,
   "id": "ab0578ff-83da-48b0-8ef7-ebd77740bf38",
   "metadata": {},
   "outputs": [
    {
     "name": "stdout",
     "output_type": "stream",
     "text": [
      "Length of list1: 5\n",
      "Length of list3: 0\n",
      "Length of string1: 5\n",
      "Length of string2: 6\n"
     ]
    }
   ],
   "source": [
    "print(f\"Length of list1: {len(list1)}\") \n",
    "print(f\"Length of list3: {len(list3)}\")  \n",
    "print(f\"Length of string1: {len(string1)}\")\n",
    "print(f\"Length of string2: {len(string2)}\")  "
   ]
  },
  {
   "cell_type": "markdown",
   "id": "0d2fb203-7cf0-41c5-9701-b9d7b536b0de",
   "metadata": {},
   "source": [
    "# Function"
   ]
  },
  {
   "cell_type": "code",
   "execution_count": 38,
   "id": "31ed92ee-b309-4eb7-8a28-3921da42a4de",
   "metadata": {},
   "outputs": [],
   "source": [
    "def display_student_info(name, reg_number):\n",
    "\n",
    "    print(f\"Student Name: {name}\")\n",
    "    print(f\"Registration Number: {reg_number}\")"
   ]
  },
  {
   "cell_type": "code",
   "execution_count": 31,
   "id": "e1a29ac7-b57b-41bd-95c7-419fc0788172",
   "metadata": {},
   "outputs": [
    {
     "name": "stdout",
     "output_type": "stream",
     "text": [
      "a. Positional arguments:\n"
     ]
    },
    {
     "ename": "NameError",
     "evalue": "name 'display_student_info' is not defined",
     "output_type": "error",
     "traceback": [
      "\u001b[1;31m---------------------------------------------------------------------------\u001b[0m",
      "\u001b[1;31mNameError\u001b[0m                                 Traceback (most recent call last)",
      "Cell \u001b[1;32mIn[31], line 2\u001b[0m\n\u001b[0;32m      1\u001b[0m \u001b[38;5;28mprint\u001b[39m(\u001b[38;5;124m\"\u001b[39m\u001b[38;5;124ma. Positional arguments:\u001b[39m\u001b[38;5;124m\"\u001b[39m)\n\u001b[1;32m----> 2\u001b[0m display_student_info(\u001b[38;5;124m\"\u001b[39m\u001b[38;5;124mAlice\u001b[39m\u001b[38;5;124m\"\u001b[39m, \u001b[38;5;124m\"\u001b[39m\u001b[38;5;124m123456\u001b[39m\u001b[38;5;124m\"\u001b[39m)\n",
      "\u001b[1;31mNameError\u001b[0m: name 'display_student_info' is not defined"
     ]
    }
   ],
   "source": [
    "print(\"a. Positional arguments:\")\n",
    "display_student_info(\"Alice\", \"123456\")"
   ]
  },
  {
   "cell_type": "code",
   "execution_count": 32,
   "id": "be6b976a-b38f-4776-8232-5d1b48e4ff64",
   "metadata": {},
   "outputs": [
    {
     "name": "stdout",
     "output_type": "stream",
     "text": [
      "\n",
      "b. Keyword arguments:\n"
     ]
    },
    {
     "ename": "NameError",
     "evalue": "name 'display_student_info' is not defined",
     "output_type": "error",
     "traceback": [
      "\u001b[1;31m---------------------------------------------------------------------------\u001b[0m",
      "\u001b[1;31mNameError\u001b[0m                                 Traceback (most recent call last)",
      "Cell \u001b[1;32mIn[32], line 2\u001b[0m\n\u001b[0;32m      1\u001b[0m \u001b[38;5;28mprint\u001b[39m(\u001b[38;5;124m\"\u001b[39m\u001b[38;5;130;01m\\n\u001b[39;00m\u001b[38;5;124mb. Keyword arguments:\u001b[39m\u001b[38;5;124m\"\u001b[39m)\n\u001b[1;32m----> 2\u001b[0m display_student_info(name\u001b[38;5;241m=\u001b[39m\u001b[38;5;124m\"\u001b[39m\u001b[38;5;124mBob\u001b[39m\u001b[38;5;124m\"\u001b[39m, reg_number\u001b[38;5;241m=\u001b[39m\u001b[38;5;124m\"\u001b[39m\u001b[38;5;124m654321\u001b[39m\u001b[38;5;124m\"\u001b[39m)\n",
      "\u001b[1;31mNameError\u001b[0m: name 'display_student_info' is not defined"
     ]
    }
   ],
   "source": [
    "print(\"\\nb. Keyword arguments:\")\n",
    "display_student_info(name=\"Bob\", reg_number=\"654321\")"
   ]
  },
  {
   "cell_type": "code",
   "execution_count": 33,
   "id": "8368a514-b8b4-44b7-a5ef-ffce06b61406",
   "metadata": {},
   "outputs": [],
   "source": [
    "def display_student_info_with_defaults(name=\"Unknown\", reg_number=\"000000\"):\n",
    "\n",
    "    print(f\"Student Name: {name}\")\n",
    "    print(f\"Registration Number: {reg_number}\")"
   ]
  },
  {
   "cell_type": "code",
   "execution_count": 34,
   "id": "4d89089a-b820-4bb0-b05e-19819701dfe2",
   "metadata": {},
   "outputs": [
    {
     "name": "stdout",
     "output_type": "stream",
     "text": [
      "\n",
      "c. Default arguments:\n",
      "Student Name: Unknown\n",
      "Registration Number: 000000\n",
      "Student Name: Charlie\n",
      "Registration Number: 111111\n"
     ]
    }
   ],
   "source": [
    "print(\"\\nc. Default arguments:\")\n",
    "display_student_info_with_defaults()\n",
    "display_student_info_with_defaults(\"Charlie\", \"111111\")"
   ]
  },
  {
   "cell_type": "code",
   "execution_count": 35,
   "id": "b7caf536-2779-481d-b170-4ec62acda63a",
   "metadata": {},
   "outputs": [
    {
     "name": "stdout",
     "output_type": "stream",
     "text": [
      "\n",
      "d. Mixing arguments:\n"
     ]
    },
    {
     "ename": "NameError",
     "evalue": "name 'display_student_info' is not defined",
     "output_type": "error",
     "traceback": [
      "\u001b[1;31m---------------------------------------------------------------------------\u001b[0m",
      "\u001b[1;31mNameError\u001b[0m                                 Traceback (most recent call last)",
      "Cell \u001b[1;32mIn[35], line 2\u001b[0m\n\u001b[0;32m      1\u001b[0m \u001b[38;5;28mprint\u001b[39m(\u001b[38;5;124m\"\u001b[39m\u001b[38;5;130;01m\\n\u001b[39;00m\u001b[38;5;124md. Mixing arguments:\u001b[39m\u001b[38;5;124m\"\u001b[39m)\n\u001b[1;32m----> 2\u001b[0m display_student_info(\u001b[38;5;124m\"\u001b[39m\u001b[38;5;124mDaisy\u001b[39m\u001b[38;5;124m\"\u001b[39m, reg_number\u001b[38;5;241m=\u001b[39m\u001b[38;5;124m\"\u001b[39m\u001b[38;5;124m789012\u001b[39m\u001b[38;5;124m\"\u001b[39m)\n",
      "\u001b[1;31mNameError\u001b[0m: name 'display_student_info' is not defined"
     ]
    }
   ],
   "source": [
    "print(\"\\nd. Mixing arguments:\")\n",
    "display_student_info(\"Daisy\", reg_number=\"789012\")"
   ]
  },
  {
   "cell_type": "code",
   "execution_count": 36,
   "id": "131943e9-f90b-428c-ad3e-281d72441c6e",
   "metadata": {},
   "outputs": [
    {
     "name": "stdout",
     "output_type": "stream",
     "text": [
      "\n",
      "e. Fewer arguments:\n"
     ]
    },
    {
     "ename": "NameError",
     "evalue": "name 'display_student_info' is not defined",
     "output_type": "error",
     "traceback": [
      "\u001b[1;31m---------------------------------------------------------------------------\u001b[0m",
      "\u001b[1;31mNameError\u001b[0m                                 Traceback (most recent call last)",
      "Cell \u001b[1;32mIn[36], line 3\u001b[0m\n\u001b[0;32m      1\u001b[0m \u001b[38;5;28mprint\u001b[39m(\u001b[38;5;124m\"\u001b[39m\u001b[38;5;130;01m\\n\u001b[39;00m\u001b[38;5;124me. Fewer arguments:\u001b[39m\u001b[38;5;124m\"\u001b[39m)\n\u001b[0;32m      2\u001b[0m \u001b[38;5;28;01mtry\u001b[39;00m:\n\u001b[1;32m----> 3\u001b[0m     display_student_info(\u001b[38;5;124m\"\u001b[39m\u001b[38;5;124mEve\u001b[39m\u001b[38;5;124m\"\u001b[39m) \n\u001b[0;32m      4\u001b[0m \u001b[38;5;28;01mexcept\u001b[39;00m \u001b[38;5;167;01mTypeError\u001b[39;00m \u001b[38;5;28;01mas\u001b[39;00m e:\n\u001b[0;32m      5\u001b[0m     \u001b[38;5;28mprint\u001b[39m(\u001b[38;5;124mf\u001b[39m\u001b[38;5;124m\"\u001b[39m\u001b[38;5;124mError: \u001b[39m\u001b[38;5;132;01m{\u001b[39;00me\u001b[38;5;132;01m}\u001b[39;00m\u001b[38;5;124m\"\u001b[39m)\n",
      "\u001b[1;31mNameError\u001b[0m: name 'display_student_info' is not defined"
     ]
    }
   ],
   "source": [
    "print(\"\\ne. Fewer arguments:\")\n",
    "try:\n",
    "    display_student_info(\"Eve\") \n",
    "except TypeError as e:\n",
    "    print(f\"Error: {e}\")"
   ]
  },
  {
   "cell_type": "code",
   "execution_count": 37,
   "id": "f828312f-0676-4bfe-b22d-b8524a7d7adb",
   "metadata": {},
   "outputs": [
    {
     "ename": "SyntaxError",
     "evalue": "positional argument follows keyword argument (3958385657.py, line 3)",
     "output_type": "error",
     "traceback": [
      "\u001b[1;36m  Cell \u001b[1;32mIn[37], line 3\u001b[1;36m\u001b[0m\n\u001b[1;33m    display_student_info(name=\"Frank\", \"555555\")  # SyntaxError\u001b[0m\n\u001b[1;37m                                               ^\u001b[0m\n\u001b[1;31mSyntaxError\u001b[0m\u001b[1;31m:\u001b[0m positional argument follows keyword argument\n"
     ]
    }
   ],
   "source": [
    "print(\"\\nf. Positional arguments after keyword arguments:\")\n",
    "try:\n",
    "    display_student_info(name=\"Frank\", \"555555\")  # SyntaxError\n",
    "except SyntaxError as e:\n",
    "    print(f\"Error: Positional argument cannot follow keyword arguments.\")"
   ]
  },
  {
   "cell_type": "code",
   "execution_count": 39,
   "id": "36f32282-d5c9-4403-9b4a-a50adea46a08",
   "metadata": {},
   "outputs": [],
   "source": [
    "def calculate_voltage(current, resistance):\n",
    "    return current * resistance\n"
   ]
  },
  {
   "cell_type": "code",
   "execution_count": 40,
   "id": "6eec2c42-98ae-46e2-af7d-c587ff5eb782",
   "metadata": {},
   "outputs": [
    {
     "name": "stdout",
     "output_type": "stream",
     "text": [
      "a. Positional arguments:\n",
      "Voltage with positional arguments: 50.0 volts\n"
     ]
    }
   ],
   "source": [
    "print(\"a. Positional arguments:\")\n",
    "voltage1 = calculate_voltage(5.0, 10.0)  # Current = 5.0 A, Resistance = 10.0 Ω\n",
    "print(f\"Voltage with positional arguments: {voltage1} volts\")"
   ]
  },
  {
   "cell_type": "code",
   "execution_count": 41,
   "id": "0a8334cf-8024-42a9-a031-d89ca697f727",
   "metadata": {},
   "outputs": [
    {
     "name": "stdout",
     "output_type": "stream",
     "text": [
      "\n",
      "b. Keyword arguments:\n",
      "Voltage with keyword arguments: 45.0 volts\n"
     ]
    }
   ],
   "source": [
    "print(\"\\nb. Keyword arguments:\")\n",
    "voltage2 = calculate_voltage(current=3.0, resistance=15.0)\n",
    "print(f\"Voltage with keyword arguments: {voltage2} volts\")"
   ]
  },
  {
   "cell_type": "code",
   "execution_count": 42,
   "id": "3da343f6-2765-4075-a5a0-02af3b041bdb",
   "metadata": {},
   "outputs": [
    {
     "name": "stdout",
     "output_type": "stream",
     "text": [
      "\n",
      "b. Keyword arguments:\n",
      "Voltage with keyword arguments: 45.0 volts\n"
     ]
    }
   ],
   "source": [
    "print(\"\\nb. Keyword arguments:\")\n",
    "voltage2 = calculate_voltage(current=3.0, resistance=15.0)\n",
    "print(f\"Voltage with keyword arguments: {voltage2} volts\")"
   ]
  },
  {
   "cell_type": "code",
   "execution_count": 43,
   "id": "7a75d63d-cdb1-4d6c-b8e5-673cfa654ecd",
   "metadata": {},
   "outputs": [
    {
     "name": "stdout",
     "output_type": "stream",
     "text": [
      "\n",
      "c. Default arguments:\n",
      "Voltage with default arguments: 1.0 volts\n",
      "Voltage with overridden default arguments: 10.0 volts\n"
     ]
    }
   ],
   "source": [
    "def calculate_voltage_with_defaults(current=1.0, resistance=1.0):\n",
    "    return current * resistance\n",
    "\n",
    "print(\"\\nc. Default arguments:\")\n",
    "voltage3 = calculate_voltage_with_defaults() \n",
    "print(f\"Voltage with default arguments: {voltage3} volts\")\n",
    "voltage4 = calculate_voltage_with_defaults(2.0, 5.0)\n",
    "print(f\"Voltage with overridden default arguments: {voltage4} volts\")"
   ]
  },
  {
   "cell_type": "code",
   "execution_count": 44,
   "id": "37adea4a-99b7-4833-9c2b-acf92e29529e",
   "metadata": {},
   "outputs": [
    {
     "name": "stdout",
     "output_type": "stream",
     "text": [
      "\n",
      "d. Mixing arguments:\n",
      "Voltage with mixed arguments: 32.0 volts\n"
     ]
    }
   ],
   "source": [
    "print(\"\\nd. Mixing arguments:\")\n",
    "voltage5 = calculate_voltage(4.0, resistance=8.0) \n",
    "print(f\"Voltage with mixed arguments: {voltage5} volts\")"
   ]
  },
  {
   "cell_type": "code",
   "execution_count": 45,
   "id": "9d61a1b8-d81b-4a29-8971-6ca9b1ba68c4",
   "metadata": {},
   "outputs": [
    {
     "name": "stdout",
     "output_type": "stream",
     "text": [
      "\n",
      "e. Fewer arguments:\n",
      "Error: calculate_voltage() missing 1 required positional argument: 'resistance'\n"
     ]
    }
   ],
   "source": [
    "print(\"\\ne. Fewer arguments:\")\n",
    "try:\n",
    "    voltage6 = calculate_voltage(6.0) \n",
    "except TypeError as e:\n",
    "    print(f\"Error: {e}\")"
   ]
  },
  {
   "cell_type": "code",
   "execution_count": 46,
   "id": "4a53791e-3bae-4a2a-8679-a5d2bda2d223",
   "metadata": {},
   "outputs": [
    {
     "ename": "SyntaxError",
     "evalue": "positional argument follows keyword argument (9549238.py, line 3)",
     "output_type": "error",
     "traceback": [
      "\u001b[1;36m  Cell \u001b[1;32mIn[46], line 3\u001b[1;36m\u001b[0m\n\u001b[1;33m    voltage7 = calculate_voltage(current=7.0, 14.0)  # Invalid\u001b[0m\n\u001b[1;37m                                                  ^\u001b[0m\n\u001b[1;31mSyntaxError\u001b[0m\u001b[1;31m:\u001b[0m positional argument follows keyword argument\n"
     ]
    }
   ],
   "source": [
    "print(\"\\nf. Positional argument after keyword argument:\")\n",
    "try:\n",
    "    voltage7 = calculate_voltage(current=7.0, 14.0)  # Invalid\n",
    "except SyntaxError as e:\n",
    "    print(f\"Error: Positional arguments cannot follow keyword arguments.\")\n",
    "except TypeError as e:\n",
    "    print(f\"Error: {e}\")"
   ]
  },
  {
   "cell_type": "code",
   "execution_count": 47,
   "id": "2e60dcbb-f380-4368-a41d-b73e112fedd7",
   "metadata": {},
   "outputs": [],
   "source": [
    "def charge_from_solar(soc: float) -> None:\n",
    "    if soc < 20:\n",
    "        print(\"The battery is below 20%. Charging...\")\n",
    "    elif soc > 90:\n",
    "        print(\"The battery is sufficiently charged. No action required.\")\n",
    "        return\n",
    "    else:\n",
    "        print(f\"The battery will be charged. Current SOC is {soc:.2f}%.\")"
   ]
  },
  {
   "cell_type": "code",
   "execution_count": 48,
   "id": "fc960d79-0d40-400d-829c-65e7e87e7341",
   "metadata": {},
   "outputs": [
    {
     "name": "stdout",
     "output_type": "stream",
     "text": [
      "None\n"
     ]
    }
   ],
   "source": [
    "print(charge_from_solar.__doc__)"
   ]
  },
  {
   "cell_type": "code",
   "execution_count": 49,
   "id": "d1e0fc51-9e01-4546-85ed-6f23e1401327",
   "metadata": {},
   "outputs": [
    {
     "name": "stdout",
     "output_type": "stream",
     "text": [
      "\n",
      "Example 1: SOC = 15%\n",
      "The battery is below 20%. Charging...\n"
     ]
    }
   ],
   "source": [
    "print(\"\\nExample 1: SOC = 15%\")\n",
    "charge_from_solar(15)"
   ]
  },
  {
   "cell_type": "code",
   "execution_count": 50,
   "id": "76ca7aee-2f2e-478d-b61a-c36d8967169a",
   "metadata": {},
   "outputs": [
    {
     "name": "stdout",
     "output_type": "stream",
     "text": [
      "\n",
      "Example 2: SOC = 95%\n",
      "The battery is sufficiently charged. No action required.\n"
     ]
    }
   ],
   "source": [
    "print(\"\\nExample 2: SOC = 95%\")\n",
    "charge_from_solar(95)\n"
   ]
  },
  {
   "cell_type": "code",
   "execution_count": 51,
   "id": "e8043b88-c8fc-4464-a23a-cfaea6c4b183",
   "metadata": {},
   "outputs": [
    {
     "name": "stdout",
     "output_type": "stream",
     "text": [
      "\n",
      "Example 3: SOC = 50%\n",
      "The battery will be charged. Current SOC is 50.00%.\n"
     ]
    }
   ],
   "source": [
    "print(\"\\nExample 3: SOC = 50%\")\n",
    "charge_from_solar(50)"
   ]
  },
  {
   "cell_type": "code",
   "execution_count": 53,
   "id": "95fd9641-489d-4613-b147-b4ef4ced4638",
   "metadata": {},
   "outputs": [
    {
     "name": "stdout",
     "output_type": "stream",
     "text": [
      "None\n",
      "None\n",
      "\n",
      "Resistances: [10.0, 15.0, 20.0, 25.0, 30.0]\n",
      "Voltages: [20.0, 30.0, 40.0, 50.0, 60.0]\n"
     ]
    }
   ],
   "source": [
    "from typing import List\n",
    "\n",
    "def resistance() -> List[float]:\n",
    "    return [10.0, 15.0, 20.0, 25.0, 30.0]\n",
    "\n",
    "def voltage() -> List[float]:\n",
    "    resistances = resistance()  # Fetch the resistances\n",
    "    current = 2.0  # Fixed current in Amps\n",
    "    return [current * r for r in resistances]\n",
    "\n",
    "print(resistance.__doc__)\n",
    "print(voltage.__doc__)\n",
    "\n",
    "\n",
    "resistances = resistance()\n",
    "voltages = voltage()\n",
    "\n",
    "print(\"\\nResistances:\", resistances)\n",
    "print(\"Voltages:\", voltages)\n"
   ]
  },
  {
   "cell_type": "code",
   "execution_count": 55,
   "id": "4486fb80-dec8-4446-b7d0-9193647a7bfb",
   "metadata": {},
   "outputs": [
    {
     "name": "stdout",
     "output_type": "stream",
     "text": [
      "Resistor     Resistance (Ohms)    Voltage (Volts)      Current (Amps)\n",
      "======================================================================\n",
      "R            10.0                 20.0                 2.00\n",
      "R            15.0                 30.0                 2.00\n",
      "R            20.0                 40.0                 2.00\n",
      "R            25.0                 50.0                 2.00\n",
      "R            30.0                 60.0                 2.00\n"
     ]
    }
   ],
   "source": [
    "from typing import List\n",
    "\n",
    "def resistance() -> List[float]:\n",
    "    return [10.0, 15.0, 20.0, 25.0, 30.0]\n",
    "\n",
    "def voltage() -> List[float]:\n",
    "    resistances = resistance()  # Fetch the resistances\n",
    "    current = 2.0  # Fixed current in Amps\n",
    "    return [current * r for r in resistances]\n",
    "\n",
    "def current(resistances: List[float], voltages: List[float]) -> List[float]:\n",
    "    return [v / r if r != 0 else 0 for v, r in zip(voltages, resistances)]\n",
    "\n",
    "# Main Program\n",
    "resistances = resistance()\n",
    "voltages = voltage()\n",
    "currents = current(resistances, voltages)\n",
    "\n",
    "# Printing the lists in a well-formatted manner\n",
    "print(f\"{'Resistor':<12} {'Resistance (Ohms)':<20} {'Voltage (Volts)':<20} {'Current (Amps)'}\")\n",
    "print(\"=\"*70)\n",
    "for r, v, c in zip(resistances, voltages, currents):\n",
    "    print(f\"{'R':<12} {r:<20} {v:<20} {c:.2f}\")\n"
   ]
  },
  {
   "cell_type": "code",
   "execution_count": 56,
   "id": "ac5bbf3e-7a6d-456f-a7d2-856d93c7cfd0",
   "metadata": {},
   "outputs": [
    {
     "name": "stdout",
     "output_type": "stream",
     "text": [
      "Resistor     Resistance (Ohms)    Voltage (Volts)      Current (Amps)\n",
      "======================================================================\n",
      "R            10.0                 20.0                 2.00\n",
      "R            15.0                 30.0                 2.00\n",
      "R            20.0                 40.0                 2.00\n",
      "R            25.0                 50.0                 2.00\n",
      "R            30.0                 60.0                 2.00\n"
     ]
    }
   ],
   "source": [
    "from typing import List, Tuple\n",
    "\n",
    "def resistance() -> List[float]:\n",
    "    return [10.0, 15.0, 20.0, 25.0, 30.0]\n",
    "\n",
    "def voltage() -> List[float]:\n",
    "    resistances = resistance()  # Fetch the resistances\n",
    "    current = 2.0  # Fixed current in Amps\n",
    "    return [current * r for r in resistances]\n",
    "\n",
    "def current(resistances: List[float], voltages: List[float]) -> Tuple[List[float], List[float], List[float]]:\n",
    "\n",
    "    currents = [v / r if r != 0 else 0 for v, r in zip(voltages, resistances)]\n",
    "    return resistances, voltages, currents\n",
    "\n",
    "# Main Program\n",
    "resistances = resistance()\n",
    "voltages = voltage()\n",
    "resistances, voltages, currents = current(resistances, voltages)\n",
    "\n",
    "# Printing the lists in a well-formatted manner\n",
    "print(f\"{'Resistor':<12} {'Resistance (Ohms)':<20} {'Voltage (Volts)':<20} {'Current (Amps)'}\")\n",
    "print(\"=\"*70)\n",
    "for r, v, c in zip(resistances, voltages, currents):\n",
    "    print(f\"{'R':<12} {r:<20} {v:<20} {c:.2f}\")\n"
   ]
  },
  {
   "cell_type": "code",
   "execution_count": 57,
   "id": "b1c5e12c-7c16-4dfb-a79b-c65f46659ec6",
   "metadata": {},
   "outputs": [],
   "source": [
    "def process_data(data):\n",
    "\n",
    "    if len(data) < 5:\n",
    "        return \"Error: Input data must have at least 5 elements.\"\n",
    "\n",
    "    result = {\n",
    "        \"current_1\": data[0],\n",
    "        \"current_2\": data[1],\n",
    "        \"current_3\": data[2],\n",
    "        \"current_4\": data[3],\n",
    "        \"current_5\": data[4],\n",
    "    }\n",
    "    return result\n",
    "\n"
   ]
  },
  {
   "cell_type": "code",
   "execution_count": 58,
   "id": "ee6335b5-920b-4dc3-a25a-e2881138e241",
   "metadata": {},
   "outputs": [
    {
     "name": "stdout",
     "output_type": "stream",
     "text": [
      "{'current_1': 10, 'current_2': 20, 'current_3': 30, 'current_4': 40, 'current_5': 50}\n",
      "Error: Input data must have at least 5 elements.\n",
      "{'current_1': 'apple', 'current_2': 'banana', 'current_3': 'cherry', 'current_4': 'date', 'current_5': 'elderberry'}\n",
      "{'current_1': 1, 'current_2': 'two', 'current_3': 3.0, 'current_4': True, 'current_5': [5]}\n"
     ]
    }
   ],
   "source": [
    "my_data = [10, 20, 30, 40, 50]\n",
    "output_dict = process_data(my_data)\n",
    "print(output_dict)\n",
    "\n",
    "short_data = [1,2,3]\n",
    "output_short = process_data(short_data)\n",
    "print(output_short)\n",
    "\n",
    "string_data = [\"apple\", \"banana\", \"cherry\", \"date\", \"elderberry\"]\n",
    "output_string = process_data(string_data)\n",
    "print(output_string)\n",
    "\n",
    "mixed_data = [1, \"two\", 3.0, True, [5]]\n",
    "output_mixed = process_data(mixed_data)\n",
    "print(output_mixed)"
   ]
  },
  {
   "cell_type": "code",
   "execution_count": 59,
   "id": "792e7def-e3d4-40c7-94f6-aea11472ea80",
   "metadata": {},
   "outputs": [
    {
     "name": "stdout",
     "output_type": "stream",
     "text": [
      "None\n",
      "{'resistors': list | tuple, 'return': <class 'float'>}\n"
     ]
    }
   ],
   "source": [
    "def series(resistors: list | tuple) -> float:\n",
    "\n",
    "    if not resistors:  # Handle empty input\n",
    "        return 0.0\n",
    "\n",
    "    for r in resistors:\n",
    "      if not isinstance(r, (int, float)):\n",
    "        raise TypeError(\"Resistor values must be numeric (int or float).\")\n",
    "\n",
    "    return sum(resistors)\n",
    "\n",
    "print(series.__doc__)\n",
    "print(series.__annotations__)"
   ]
  },
  {
   "cell_type": "code",
   "execution_count": 60,
   "id": "1bbc05fd-a0ab-493f-9e47-efaf062d6405",
   "metadata": {},
   "outputs": [
    {
     "name": "stdout",
     "output_type": "stream",
     "text": [
      "Net resistance: 60\n",
      "Net resistance (tuple input): 100\n",
      "Net resistance (empty input): 0.0\n",
      "Error: Resistor values must be numeric (int or float).\n",
      "Error: Resistor values must be numeric (int or float).\n"
     ]
    }
   ],
   "source": [
    "resistances = [10, 20, 30]\n",
    "net_resistance = series(resistances)\n",
    "print(f\"Net resistance: {net_resistance}\")\n",
    "\n",
    "resistances_tuple = (10, 20, 30, 40)\n",
    "net_resistance_tuple = series(resistances_tuple)\n",
    "print(f\"Net resistance (tuple input): {net_resistance_tuple}\")\n",
    "\n",
    "empty_resistances = []\n",
    "net_resistance_empty = series(empty_resistances)\n",
    "print(f\"Net resistance (empty input): {net_resistance_empty}\")\n",
    "\n",
    "try:\n",
    "    bad_resistances = [10, \"20\", 30]  # Contains a string\n",
    "    series(bad_resistances)\n",
    "except TypeError as e:\n",
    "    print(f\"Error: {e}\")\n",
    "\n",
    "try:\n",
    "    bad_resistances_tuple = (10, \"20\", 30)  # Contains a string\n",
    "    series(bad_resistances_tuple)\n",
    "except TypeError as e:\n",
    "    print(f\"Error: {e}\")"
   ]
  },
  {
   "cell_type": "code",
   "execution_count": 62,
   "id": "df5bd463-7d4e-4dec-a31a-9412ec2cb102",
   "metadata": {},
   "outputs": [
    {
     "name": "stdout",
     "output_type": "stream",
     "text": [
      "None\n",
      "{'resistors': list | tuple, 'return': <class 'float'>}\n"
     ]
    }
   ],
   "source": [
    "def parallel(resistors: list | tuple) -> float:\n",
    "\n",
    "    if not resistors:\n",
    "        return 0.0\n",
    "\n",
    "    reciprocal_sum = 0.0\n",
    "    all_zeros = True\n",
    "    for r in resistors:\n",
    "        if not isinstance(r, (int, float)):\n",
    "            raise TypeError(\"Resistor values must be numeric (int or float).\")\n",
    "        if r != 0:\n",
    "            all_zeros = False\n",
    "            reciprocal_sum += 1.0 / r \n",
    "\n",
    "    if all_zeros:\n",
    "        return 0.0\n",
    "    elif reciprocal_sum == float('inf'):\n",
    "      raise ZeroDivisionError(\"Cannot have zero resistance in parallel with non-zero resistance\")\n",
    "    elif 0.0 in resistors and not all_zeros:\n",
    "        raise ZeroDivisionError(\"Cannot have zero resistance in parallel with non-zero resistance\")\n",
    "    else:\n",
    "        return 1.0 / reciprocal_sum\n",
    "\n",
    "print(parallel.__doc__)\n",
    "print(parallel.__annotations__)\n",
    "\n"
   ]
  },
  {
   "cell_type": "code",
   "execution_count": 64,
   "id": "ce37e07d-a9c0-4f1a-89e8-6507515bf9b2",
   "metadata": {},
   "outputs": [
    {
     "name": "stdout",
     "output_type": "stream",
     "text": [
      "Net resistance: 5.454545454545454\n"
     ]
    }
   ],
   "source": [
    "resistances = [10, 20, 30]\n",
    "net_resistance = parallel(resistances)\n",
    "print(f\"Net resistance: {net_resistance}\")"
   ]
  },
  {
   "cell_type": "code",
   "execution_count": 65,
   "id": "20d58fe6-3ebd-4f7e-8de4-4c9c673fcfe9",
   "metadata": {},
   "outputs": [
    {
     "name": "stdout",
     "output_type": "stream",
     "text": [
      "Net resistance (tuple input): 4.8\n"
     ]
    }
   ],
   "source": [
    "resistances_tuple = (10, 20, 30, 40)\n",
    "net_resistance_tuple = parallel(resistances_tuple)\n",
    "print(f\"Net resistance (tuple input): {net_resistance_tuple}\")"
   ]
  },
  {
   "cell_type": "code",
   "execution_count": 66,
   "id": "77297adf-875c-474f-8ce3-eb3fccd38268",
   "metadata": {},
   "outputs": [
    {
     "name": "stdout",
     "output_type": "stream",
     "text": [
      "Net resistance (empty input): 0.0\n"
     ]
    }
   ],
   "source": [
    "empty_resistances = []\n",
    "net_resistance_empty = parallel(empty_resistances)\n",
    "print(f\"Net resistance (empty input): {net_resistance_empty}\")"
   ]
  },
  {
   "cell_type": "code",
   "execution_count": 67,
   "id": "1cdc3267-b6da-4811-a43a-5fcf54171edd",
   "metadata": {},
   "outputs": [
    {
     "name": "stdout",
     "output_type": "stream",
     "text": [
      "Error: Resistor values must be numeric (int or float).\n"
     ]
    }
   ],
   "source": [
    "try:\n",
    "    bad_resistances = [10, \"20\", 30]  \n",
    "    parallel(bad_resistances)\n",
    "except TypeError as e:\n",
    "    print(f\"Error: {e}\")"
   ]
  },
  {
   "cell_type": "code",
   "execution_count": 68,
   "id": "74c98271-dccf-4cfa-8c14-c8848681bcc7",
   "metadata": {},
   "outputs": [
    {
     "name": "stdout",
     "output_type": "stream",
     "text": [
      "Error: Cannot have zero resistance in parallel with non-zero resistance\n"
     ]
    }
   ],
   "source": [
    "try:\n",
    "    zero_resistance = [10, 0, 30]\n",
    "    parallel(zero_resistance)\n",
    "except ZeroDivisionError as e:\n",
    "    print(f\"Error: {e}\")"
   ]
  },
  {
   "cell_type": "code",
   "execution_count": 69,
   "id": "a97c0960-3474-48d1-9224-4f3a113651d4",
   "metadata": {},
   "outputs": [],
   "source": [
    "try:\n",
    "  all_zero_resistance = [0,0,0]\n",
    "  parallel(all_zero_resistance)\n",
    "except ZeroDivisionError as e:\n",
    "    print(f\"Error: {e}\")\n",
    "except Exception as e:\n",
    "  print(f\"Some other error occurred: {e}\")"
   ]
  },
  {
   "cell_type": "code",
   "execution_count": null,
   "id": "7249288f-f3f2-43d3-8903-ce3e481adb2d",
   "metadata": {},
   "outputs": [],
   "source": [
    "from typing import Tuple\n",
    "\n",
    "def series(*resistors: float) -> float:\n",
    "    if not resistors:\n",
    "        return 0.0\n",
    "\n",
    "    total_resistance = 0.0\n",
    "    for r in resistors:\n",
    "        if not isinstance(r, (int, float)):\n",
    "            raise TypeError(\"Resistor values must be numeric (int or float).\")\n",
    "        total_resistance += r\n",
    "\n",
    "    return total_resistance\n",
    "\n",
    "print(series.__doc__)\n",
    "print(series.__annotations__)\n",
    "\n",
    "\n"
   ]
  },
  {
   "cell_type": "code",
   "execution_count": 70,
   "id": "9e4fd4e8-3e38-46f9-ac5d-d597c0a87a14",
   "metadata": {},
   "outputs": [
    {
     "ename": "TypeError",
     "evalue": "series() takes 1 positional argument but 3 were given",
     "output_type": "error",
     "traceback": [
      "\u001b[1;31m---------------------------------------------------------------------------\u001b[0m",
      "\u001b[1;31mTypeError\u001b[0m                                 Traceback (most recent call last)",
      "Cell \u001b[1;32mIn[70], line 1\u001b[0m\n\u001b[1;32m----> 1\u001b[0m net1 \u001b[38;5;241m=\u001b[39m series(\u001b[38;5;241m10\u001b[39m, \u001b[38;5;241m20\u001b[39m, \u001b[38;5;241m30\u001b[39m)\n\u001b[0;32m      2\u001b[0m \u001b[38;5;28mprint\u001b[39m(\u001b[38;5;124mf\u001b[39m\u001b[38;5;124m\"\u001b[39m\u001b[38;5;124mNet resistance 1: \u001b[39m\u001b[38;5;132;01m{\u001b[39;00mnet1\u001b[38;5;132;01m}\u001b[39;00m\u001b[38;5;124m\"\u001b[39m)\n",
      "\u001b[1;31mTypeError\u001b[0m: series() takes 1 positional argument but 3 were given"
     ]
    }
   ],
   "source": [
    "net1 = series(10, 20, 30)\n",
    "print(f\"Net resistance 1: {net1}\")"
   ]
  },
  {
   "cell_type": "code",
   "execution_count": 71,
   "id": "9021fb66-0c9a-4dcc-93d9-21478cb51d96",
   "metadata": {},
   "outputs": [
    {
     "ename": "TypeError",
     "evalue": "series() takes 1 positional argument but 4 were given",
     "output_type": "error",
     "traceback": [
      "\u001b[1;31m---------------------------------------------------------------------------\u001b[0m",
      "\u001b[1;31mTypeError\u001b[0m                                 Traceback (most recent call last)",
      "Cell \u001b[1;32mIn[71], line 1\u001b[0m\n\u001b[1;32m----> 1\u001b[0m net2 \u001b[38;5;241m=\u001b[39m series(\u001b[38;5;241m5\u001b[39m, \u001b[38;5;241m15\u001b[39m, \u001b[38;5;241m25\u001b[39m, \u001b[38;5;241m35\u001b[39m)\n\u001b[0;32m      2\u001b[0m \u001b[38;5;28mprint\u001b[39m(\u001b[38;5;124mf\u001b[39m\u001b[38;5;124m\"\u001b[39m\u001b[38;5;124mNet resistance 2: \u001b[39m\u001b[38;5;132;01m{\u001b[39;00mnet2\u001b[38;5;132;01m}\u001b[39;00m\u001b[38;5;124m\"\u001b[39m)\n",
      "\u001b[1;31mTypeError\u001b[0m: series() takes 1 positional argument but 4 were given"
     ]
    }
   ],
   "source": [
    "net2 = series(5, 15, 25, 35)\n",
    "print(f\"Net resistance 2: {net2}\")"
   ]
  },
  {
   "cell_type": "code",
   "execution_count": 72,
   "id": "95e7aaa9-aca7-476b-bc18-0164ab22b461",
   "metadata": {},
   "outputs": [
    {
     "ename": "TypeError",
     "evalue": "series() missing 1 required positional argument: 'resistors'",
     "output_type": "error",
     "traceback": [
      "\u001b[1;31m---------------------------------------------------------------------------\u001b[0m",
      "\u001b[1;31mTypeError\u001b[0m                                 Traceback (most recent call last)",
      "Cell \u001b[1;32mIn[72], line 1\u001b[0m\n\u001b[1;32m----> 1\u001b[0m net_empty \u001b[38;5;241m=\u001b[39m series()\n\u001b[0;32m      2\u001b[0m \u001b[38;5;28mprint\u001b[39m(\u001b[38;5;124mf\u001b[39m\u001b[38;5;124m\"\u001b[39m\u001b[38;5;124mNet resistance (empty): \u001b[39m\u001b[38;5;132;01m{\u001b[39;00mnet_empty\u001b[38;5;132;01m}\u001b[39;00m\u001b[38;5;124m\"\u001b[39m)\n",
      "\u001b[1;31mTypeError\u001b[0m: series() missing 1 required positional argument: 'resistors'"
     ]
    }
   ],
   "source": [
    "net_empty = series()\n",
    "print(f\"Net resistance (empty): {net_empty}\")"
   ]
  },
  {
   "cell_type": "code",
   "execution_count": 73,
   "id": "4ea445f5-9fd4-41b3-ad4d-2904a22e8f07",
   "metadata": {},
   "outputs": [
    {
     "name": "stdout",
     "output_type": "stream",
     "text": [
      "Error: series() takes 1 positional argument but 3 were given\n"
     ]
    }
   ],
   "source": [
    "try:\n",
    "    net_error = series(10, \"20\", 30)  # String input\n",
    "    print(f\"Net resistance (error): {net_error}\")\n",
    "except TypeError as e:\n",
    "    print(f\"Error: {e}\")"
   ]
  },
  {
   "cell_type": "code",
   "execution_count": 74,
   "id": "457326b0-dbb7-4b74-b785-2f2d3e701e0c",
   "metadata": {},
   "outputs": [
    {
     "name": "stdout",
     "output_type": "stream",
     "text": [
      "Error: series() takes 1 positional argument but 3 were given\n"
     ]
    }
   ],
   "source": [
    "try:\n",
    "    net_error2 = series(10, 20, [30])  # List input\n",
    "    print(f\"Net resistance (error): {net_error2}\")\n",
    "except TypeError as e:\n",
    "    print(f\"Error: {e}\")"
   ]
  },
  {
   "cell_type": "code",
   "execution_count": 82,
   "id": "b87ec782-f3ca-4b45-b808-2aac6e44a2e9",
   "metadata": {},
   "outputs": [
    {
     "name": "stdout",
     "output_type": "stream",
     "text": [
      "\n",
      "    Calculates the net resistance of resistors connected in parallel using *args.\n",
      "\n",
      "    Args:\n",
      "        *resistors: Variable number of resistor values (numeric).\n",
      "\n",
      "    Returns:\n",
      "        The net resistance of the parallel connection (float).\n",
      "        Returns 0.0 if all resistors are zero or no resistors are provided.\n",
      "        Raises ZeroDivisionError if any resistor is zero and others are non-zero.\n",
      "        Raises TypeError if any input is not a number.\n",
      "\n",
      "    Raises:\n",
      "        TypeError: If any of the inputs is not a number.\n",
      "        ZeroDivisionError: If any resistor is zero and others are non-zero.\n",
      "    \n",
      "{'resistors': <class 'float'>, 'return': <class 'float'>}\n"
     ]
    }
   ],
   "source": [
    "from typing import Tuple\n",
    "\n",
    "def parallel(*resistors: float) -> float:\n",
    "    if not resistors:\n",
    "        return 0.0\n",
    "\n",
    "    reciprocal_sum = 0.0\n",
    "    all_zeros = True\n",
    "\n",
    "    for r in resistors:\n",
    "        if not isinstance(r, (int, float)):\n",
    "            raise TypeError(\"Resistor values must be numeric (int or float).\")\n",
    "        if r != 0:\n",
    "            all_zeros = False\n",
    "            reciprocal_sum += 1.0 / r\n",
    "\n",
    "    if all_zeros:\n",
    "        return 0.0\n",
    "    elif 0.0 in resistors and not all_zeros:\n",
    "        raise ZeroDivisionError(\"Cannot have zero resistance in parallel with non-zero resistance\")\n",
    "    else:\n",
    "        return 1.0 / reciprocal_sum\n",
    "\n",
    "print(parallel.__doc__)\n",
    "print(parallel.__annotations__)\n",
    "\n"
   ]
  },
  {
   "cell_type": "code",
   "execution_count": 75,
   "id": "5e97de86-104c-4d11-98e0-924dcfd7d4e3",
   "metadata": {},
   "outputs": [
    {
     "ename": "TypeError",
     "evalue": "parallel() takes 1 positional argument but 3 were given",
     "output_type": "error",
     "traceback": [
      "\u001b[1;31m---------------------------------------------------------------------------\u001b[0m",
      "\u001b[1;31mTypeError\u001b[0m                                 Traceback (most recent call last)",
      "Cell \u001b[1;32mIn[75], line 2\u001b[0m\n\u001b[0;32m      1\u001b[0m \u001b[38;5;66;03m# Example Usage\u001b[39;00m\n\u001b[1;32m----> 2\u001b[0m net1 \u001b[38;5;241m=\u001b[39m parallel(\u001b[38;5;241m10\u001b[39m, \u001b[38;5;241m20\u001b[39m, \u001b[38;5;241m30\u001b[39m)\n\u001b[0;32m      3\u001b[0m \u001b[38;5;28mprint\u001b[39m(\u001b[38;5;124mf\u001b[39m\u001b[38;5;124m\"\u001b[39m\u001b[38;5;124mNet resistance 1: \u001b[39m\u001b[38;5;132;01m{\u001b[39;00mnet1\u001b[38;5;132;01m}\u001b[39;00m\u001b[38;5;124m\"\u001b[39m)\n",
      "\u001b[1;31mTypeError\u001b[0m: parallel() takes 1 positional argument but 3 were given"
     ]
    }
   ],
   "source": [
    "# Example Usage\n",
    "net1 = parallel(10, 20, 30)\n",
    "print(f\"Net resistance 1: {net1}\")"
   ]
  },
  {
   "cell_type": "code",
   "execution_count": 76,
   "id": "6f992c36-cff7-4270-964b-7b515ea30949",
   "metadata": {},
   "outputs": [
    {
     "ename": "TypeError",
     "evalue": "parallel() takes 1 positional argument but 4 were given",
     "output_type": "error",
     "traceback": [
      "\u001b[1;31m---------------------------------------------------------------------------\u001b[0m",
      "\u001b[1;31mTypeError\u001b[0m                                 Traceback (most recent call last)",
      "Cell \u001b[1;32mIn[76], line 1\u001b[0m\n\u001b[1;32m----> 1\u001b[0m net2 \u001b[38;5;241m=\u001b[39m parallel(\u001b[38;5;241m5\u001b[39m, \u001b[38;5;241m15\u001b[39m, \u001b[38;5;241m25\u001b[39m, \u001b[38;5;241m35\u001b[39m)\n\u001b[0;32m      2\u001b[0m \u001b[38;5;28mprint\u001b[39m(\u001b[38;5;124mf\u001b[39m\u001b[38;5;124m\"\u001b[39m\u001b[38;5;124mNet resistance 2: \u001b[39m\u001b[38;5;132;01m{\u001b[39;00mnet2\u001b[38;5;132;01m}\u001b[39;00m\u001b[38;5;124m\"\u001b[39m)\n",
      "\u001b[1;31mTypeError\u001b[0m: parallel() takes 1 positional argument but 4 were given"
     ]
    }
   ],
   "source": [
    "net2 = parallel(5, 15, 25, 35)\n",
    "print(f\"Net resistance 2: {net2}\")"
   ]
  },
  {
   "cell_type": "code",
   "execution_count": 77,
   "id": "c4edff97-ba87-40ea-90ce-e1dc9fe36540",
   "metadata": {},
   "outputs": [
    {
     "ename": "TypeError",
     "evalue": "parallel() missing 1 required positional argument: 'resistors'",
     "output_type": "error",
     "traceback": [
      "\u001b[1;31m---------------------------------------------------------------------------\u001b[0m",
      "\u001b[1;31mTypeError\u001b[0m                                 Traceback (most recent call last)",
      "Cell \u001b[1;32mIn[77], line 1\u001b[0m\n\u001b[1;32m----> 1\u001b[0m net_empty \u001b[38;5;241m=\u001b[39m parallel()\n\u001b[0;32m      2\u001b[0m \u001b[38;5;28mprint\u001b[39m(\u001b[38;5;124mf\u001b[39m\u001b[38;5;124m\"\u001b[39m\u001b[38;5;124mNet resistance (empty): \u001b[39m\u001b[38;5;132;01m{\u001b[39;00mnet_empty\u001b[38;5;132;01m}\u001b[39;00m\u001b[38;5;124m\"\u001b[39m)\n",
      "\u001b[1;31mTypeError\u001b[0m: parallel() missing 1 required positional argument: 'resistors'"
     ]
    }
   ],
   "source": [
    "net_empty = parallel()\n",
    "print(f\"Net resistance (empty): {net_empty}\")"
   ]
  },
  {
   "cell_type": "code",
   "execution_count": 78,
   "id": "23b34b93-07e0-40cc-91e7-3a6e99f1be14",
   "metadata": {},
   "outputs": [
    {
     "name": "stdout",
     "output_type": "stream",
     "text": [
      "Error: parallel() takes 1 positional argument but 3 were given\n"
     ]
    }
   ],
   "source": [
    "try:\n",
    "    net_error = parallel(10, \"20\", 30)  # String input\n",
    "    print(f\"Net resistance (error): {net_error}\")\n",
    "except TypeError as e:\n",
    "    print(f\"Error: {e}\")"
   ]
  },
  {
   "cell_type": "code",
   "execution_count": 79,
   "id": "4d87ba05-1fba-4bcb-a6c2-22df4b13aaf4",
   "metadata": {},
   "outputs": [
    {
     "ename": "TypeError",
     "evalue": "parallel() takes 1 positional argument but 3 were given",
     "output_type": "error",
     "traceback": [
      "\u001b[1;31m---------------------------------------------------------------------------\u001b[0m",
      "\u001b[1;31mTypeError\u001b[0m                                 Traceback (most recent call last)",
      "Cell \u001b[1;32mIn[79], line 2\u001b[0m\n\u001b[0;32m      1\u001b[0m \u001b[38;5;28;01mtry\u001b[39;00m:\n\u001b[1;32m----> 2\u001b[0m     zero_resistance \u001b[38;5;241m=\u001b[39m parallel(\u001b[38;5;241m10\u001b[39m, \u001b[38;5;241m0\u001b[39m, \u001b[38;5;241m30\u001b[39m)\n\u001b[0;32m      3\u001b[0m     parallel(zero_resistance)\n\u001b[0;32m      4\u001b[0m \u001b[38;5;28;01mexcept\u001b[39;00m \u001b[38;5;167;01mZeroDivisionError\u001b[39;00m \u001b[38;5;28;01mas\u001b[39;00m e:\n",
      "\u001b[1;31mTypeError\u001b[0m: parallel() takes 1 positional argument but 3 were given"
     ]
    }
   ],
   "source": [
    "\n",
    "try:\n",
    "    zero_resistance = parallel(10, 0, 30)\n",
    "    parallel(zero_resistance)\n",
    "except ZeroDivisionError as e:\n",
    "    print(f\"Error: {e}\")"
   ]
  },
  {
   "cell_type": "code",
   "execution_count": 80,
   "id": "e124e31d-1d5d-46d6-8c4b-84f0e7c030d7",
   "metadata": {},
   "outputs": [
    {
     "name": "stdout",
     "output_type": "stream",
     "text": [
      "Some other error occurred: parallel() takes 1 positional argument but 3 were given\n"
     ]
    }
   ],
   "source": [
    "try:\n",
    "    all_zero_resistance = parallel(0, 0, 0)\n",
    "    parallel(all_zero_resistance)\n",
    "except ZeroDivisionError as e:\n",
    "    print(f\"Error: {e}\")\n",
    "except Exception as e:\n",
    "  print(f\"Some other error occurred: {e}\")"
   ]
  },
  {
   "cell_type": "code",
   "execution_count": 81,
   "id": "e672de66-afa0-4813-923b-0151920d30ec",
   "metadata": {},
   "outputs": [
    {
     "name": "stdout",
     "output_type": "stream",
     "text": [
      "Error: parallel() takes 1 positional argument but 3 were given\n"
     ]
    }
   ],
   "source": [
    "try:\n",
    "    list_input = parallel(10, 20, [30])\n",
    "    parallel(list_input)\n",
    "except TypeError as e:\n",
    "    print(f\"Error: {e}\")"
   ]
  },
  {
   "cell_type": "code",
   "execution_count": 88,
   "id": "dbb735d8-38cd-420f-9bb3-8851a20ef491",
   "metadata": {},
   "outputs": [
    {
     "name": "stdout",
     "output_type": "stream",
     "text": [
      "None\n",
      "{'data': typing.Union[typing.Tuple[float, float, float], typing.List[float]]}\n"
     ]
    }
   ],
   "source": [
    "from typing import Tuple, List\n",
    "\n",
    "def display_inverter_data(data: Tuple[float, float, float] | List[float]):\n",
    "\n",
    "    if not isinstance(data, (tuple, list)):\n",
    "        raise TypeError(\"Input data must be a tuple or list.\")\n",
    "\n",
    "    if len(data) != 3:\n",
    "        raise ValueError(\"Input data must contain exactly three elements (SOC, generation, price).\")\n",
    "\n",
    "    soc, generation, price = data  # Tuple/list unpacking\n",
    "\n",
    "    print(\"Hybrid Solar Inverter Data:\")\n",
    "    print(\"-\" * 30)\n",
    "    print(f\"Battery SOC: {soc:.2f}%\")\n",
    "    print(f\"Solar Generation: {generation:.2f} kW\")\n",
    "    print(f\"Market Price: Rs. {price:.2f} per unit\")\n",
    "    print(\"-\" * 30)\n",
    "\n",
    "print(display_inverter_data.__doc__)\n",
    "print(display_inverter_data.__annotations__)\n",
    "\n"
   ]
  },
  {
   "cell_type": "code",
   "execution_count": 83,
   "id": "92804337-de1f-4d05-a997-8b2db29d70da",
   "metadata": {},
   "outputs": [
    {
     "ename": "NameError",
     "evalue": "name 'display_inverter_data' is not defined",
     "output_type": "error",
     "traceback": [
      "\u001b[1;31m---------------------------------------------------------------------------\u001b[0m",
      "\u001b[1;31mNameError\u001b[0m                                 Traceback (most recent call last)",
      "Cell \u001b[1;32mIn[83], line 2\u001b[0m\n\u001b[0;32m      1\u001b[0m data_list \u001b[38;5;241m=\u001b[39m [\u001b[38;5;241m75.5\u001b[39m, \u001b[38;5;241m3.2\u001b[39m, \u001b[38;5;241m55.75\u001b[39m]\n\u001b[1;32m----> 2\u001b[0m display_inverter_data(data_list)\n",
      "\u001b[1;31mNameError\u001b[0m: name 'display_inverter_data' is not defined"
     ]
    }
   ],
   "source": [
    "data_list = [75.5, 3.2, 55.75]\n",
    "display_inverter_data(data_list)"
   ]
  },
  {
   "cell_type": "code",
   "execution_count": 84,
   "id": "cc6445c2-c557-4926-a3ee-c8b449db3ca5",
   "metadata": {},
   "outputs": [
    {
     "ename": "NameError",
     "evalue": "name 'display_inverter_data' is not defined",
     "output_type": "error",
     "traceback": [
      "\u001b[1;31m---------------------------------------------------------------------------\u001b[0m",
      "\u001b[1;31mNameError\u001b[0m                                 Traceback (most recent call last)",
      "Cell \u001b[1;32mIn[84], line 2\u001b[0m\n\u001b[0;32m      1\u001b[0m data_tuple \u001b[38;5;241m=\u001b[39m (\u001b[38;5;241m60\u001b[39m, \u001b[38;5;241m2\u001b[39m, \u001b[38;5;241m60\u001b[39m)\n\u001b[1;32m----> 2\u001b[0m display_inverter_data(data_tuple)\n",
      "\u001b[1;31mNameError\u001b[0m: name 'display_inverter_data' is not defined"
     ]
    }
   ],
   "source": [
    "data_tuple = (60, 2, 60)\n",
    "display_inverter_data(data_tuple)"
   ]
  },
  {
   "cell_type": "code",
   "execution_count": 85,
   "id": "754c1b38-0a81-46d2-93ab-6dafda7a2848",
   "metadata": {},
   "outputs": [
    {
     "ename": "NameError",
     "evalue": "name 'display_inverter_data' is not defined",
     "output_type": "error",
     "traceback": [
      "\u001b[1;31m---------------------------------------------------------------------------\u001b[0m",
      "\u001b[1;31mNameError\u001b[0m                                 Traceback (most recent call last)",
      "Cell \u001b[1;32mIn[85], line 3\u001b[0m\n\u001b[0;32m      1\u001b[0m \u001b[38;5;28;01mtry\u001b[39;00m:\n\u001b[0;32m      2\u001b[0m     invalid_data \u001b[38;5;241m=\u001b[39m [\u001b[38;5;241m80\u001b[39m, \u001b[38;5;241m4\u001b[39m]  \u001b[38;5;66;03m# Incorrect number of elements\u001b[39;00m\n\u001b[1;32m----> 3\u001b[0m     display_inverter_data(invalid_data)\n\u001b[0;32m      4\u001b[0m \u001b[38;5;28;01mexcept\u001b[39;00m \u001b[38;5;167;01mValueError\u001b[39;00m \u001b[38;5;28;01mas\u001b[39;00m e:\n\u001b[0;32m      5\u001b[0m     \u001b[38;5;28mprint\u001b[39m(\u001b[38;5;124mf\u001b[39m\u001b[38;5;124m\"\u001b[39m\u001b[38;5;124mError: \u001b[39m\u001b[38;5;132;01m{\u001b[39;00me\u001b[38;5;132;01m}\u001b[39;00m\u001b[38;5;124m\"\u001b[39m)\n",
      "\u001b[1;31mNameError\u001b[0m: name 'display_inverter_data' is not defined"
     ]
    }
   ],
   "source": [
    "try:\n",
    "    invalid_data = [80, 4]  # Incorrect number of elements\n",
    "    display_inverter_data(invalid_data)\n",
    "except ValueError as e:\n",
    "    print(f\"Error: {e}\")"
   ]
  },
  {
   "cell_type": "code",
   "execution_count": 86,
   "id": "55f0aaec-adba-4f31-85d1-51c0c038d719",
   "metadata": {},
   "outputs": [
    {
     "ename": "NameError",
     "evalue": "name 'display_inverter_data' is not defined",
     "output_type": "error",
     "traceback": [
      "\u001b[1;31m---------------------------------------------------------------------------\u001b[0m",
      "\u001b[1;31mNameError\u001b[0m                                 Traceback (most recent call last)",
      "Cell \u001b[1;32mIn[86], line 3\u001b[0m\n\u001b[0;32m      1\u001b[0m \u001b[38;5;28;01mtry\u001b[39;00m:\n\u001b[0;32m      2\u001b[0m     invalid_type \u001b[38;5;241m=\u001b[39m \u001b[38;5;124m\"\u001b[39m\u001b[38;5;124mThis is a string\u001b[39m\u001b[38;5;124m\"\u001b[39m\n\u001b[1;32m----> 3\u001b[0m     display_inverter_data(invalid_type)\n\u001b[0;32m      4\u001b[0m \u001b[38;5;28;01mexcept\u001b[39;00m \u001b[38;5;167;01mTypeError\u001b[39;00m \u001b[38;5;28;01mas\u001b[39;00m e:\n\u001b[0;32m      5\u001b[0m     \u001b[38;5;28mprint\u001b[39m(\u001b[38;5;124mf\u001b[39m\u001b[38;5;124m\"\u001b[39m\u001b[38;5;124mError: \u001b[39m\u001b[38;5;132;01m{\u001b[39;00me\u001b[38;5;132;01m}\u001b[39;00m\u001b[38;5;124m\"\u001b[39m)\n",
      "\u001b[1;31mNameError\u001b[0m: name 'display_inverter_data' is not defined"
     ]
    }
   ],
   "source": [
    "try:\n",
    "    invalid_type = \"This is a string\"\n",
    "    display_inverter_data(invalid_type)\n",
    "except TypeError as e:\n",
    "    print(f\"Error: {e}\")"
   ]
  },
  {
   "cell_type": "code",
   "execution_count": 87,
   "id": "5b74118e-a212-4e7b-a5fa-3e778cdacef0",
   "metadata": {},
   "outputs": [
    {
     "name": "stdout",
     "output_type": "stream",
     "text": [
      "Some other error occurred: name 'display_inverter_data' is not defined\n"
     ]
    }
   ],
   "source": [
    "\n",
    "try:\n",
    "    invalid_data_type = [80, 4, \"test\"]\n",
    "    display_inverter_data(invalid_data_type)\n",
    "except TypeError as e:\n",
    "    print(f\"Error: Input data must be a tuple or list.\")\n",
    "except ValueError as e:\n",
    "    print(f\"Error: Input data must contain exactly three elements (SOC, generation, price).\")\n",
    "except Exception as e:\n",
    "    print(f\"Some other error occurred: {e}\")"
   ]
  },
  {
   "cell_type": "code",
   "execution_count": 91,
   "id": "9684755a-1a75-438c-b203-920c5248a96b",
   "metadata": {},
   "outputs": [
    {
     "name": "stdout",
     "output_type": "stream",
     "text": [
      "None\n",
      "{'data': typing.Dict[str, float], 'return': None}\n",
      "Hybrid Solar Inverter Data:\n",
      "------------------------------\n",
      "Battery SOC: 75.50%\n",
      "Solar Generation: 3.20 kW\n",
      "Market Price: Rs. 55.75 per unit\n",
      "------------------------------\n",
      "Hybrid Solar Inverter Data:\n",
      "------------------------------\n",
      "Battery SOC: 75.00%\n",
      "Solar Generation: 3.00 kW\n",
      "Market Price: Rs. 55.00 per unit\n",
      "------------------------------\n",
      "Error: \"Missing key in the dictionary: 'price'\"\n",
      "Error: Values in the dictionary must be numeric.\n",
      "Error: Values in the dictionary must be numeric.\n"
     ]
    }
   ],
   "source": [
    "from typing import Dict\n",
    "\n",
    "def display_inverter_data(data: Dict[str, float]) -> None:\n",
    "    try:\n",
    "        soc = data['SOC']\n",
    "        solar_generation = data['solar_generation']\n",
    "        price = data['price']\n",
    "\n",
    "        if not all(isinstance(val, (int, float)) for val in [soc, solar_generation, price]):\n",
    "            raise TypeError(\"Values in the dictionary must be numeric.\")\n",
    "\n",
    "    except KeyError as e:\n",
    "        raise KeyError(f\"Missing key in the dictionary: {e}\")\n",
    "    except TypeError as e:\n",
    "        raise e\n",
    "\n",
    "    print(\"Hybrid Solar Inverter Data:\")\n",
    "    print(\"-\" * 30)\n",
    "    print(f\"Battery SOC: {soc:.2f}%\")\n",
    "    print(f\"Solar Generation: {solar_generation:.2f} kW\")\n",
    "    print(f\"Market Price: Rs. {price:.2f} per unit\")\n",
    "    print(\"-\" * 30)\n",
    "\n",
    "print(display_inverter_data.__doc__)\n",
    "print(display_inverter_data.__annotations__)\n",
    "\n",
    "# Example Usage\n",
    "inverter_data = {'SOC': 75.5, 'solar_generation': 3.2, 'price': 55.75}\n",
    "display_inverter_data(inverter_data)\n",
    "\n",
    "inverter_data_int = {'SOC': 75, 'solar_generation': 3, 'price': 55}\n",
    "display_inverter_data(inverter_data_int)\n",
    "\n",
    "\n",
    "try:\n",
    "    missing_key_data = {'SOC': 80, 'solar_generation': 4}\n",
    "    display_inverter_data(missing_key_data)\n",
    "except KeyError as e:\n",
    "    print(f\"Error: {e}\")\n",
    "\n",
    "try:\n",
    "    invalid_value_data = {'SOC': 80, 'solar_generation': \"4\", 'price': 60}\n",
    "    display_inverter_data(invalid_value_data)\n",
    "except TypeError as e:\n",
    "    print(f\"Error: {e}\")\n",
    "\n",
    "try:\n",
    "    invalid_value_data_2 = {'SOC': 80, 'solar_generation': 4, 'price': [60]}\n",
    "    display_inverter_data(invalid_value_data_2)\n",
    "except TypeError as e:\n",
    "    print(f\"Error: {e}\")"
   ]
  },
  {
   "cell_type": "code",
   "execution_count": 92,
   "id": "f1616cf8-41b7-45b6-9b8f-633532a4d263",
   "metadata": {},
   "outputs": [
    {
     "name": "stdout",
     "output_type": "stream",
     "text": [
      "None\n",
      "{'kwargs': <class 'float'>, 'return': None}\n",
      "Hybrid Solar Inverter Data:\n",
      "------------------------------\n",
      "Battery SOC: 75.50%\n",
      "Solar Generation: 3.20 kW\n",
      "Market Price: Rs. 55.75 per unit\n",
      "------------------------------\n",
      "Hybrid Solar Inverter Data:\n",
      "------------------------------\n",
      "Battery SOC: 75.00%\n",
      "Solar Generation: 3.00 kW\n",
      "Market Price: Rs. 55.00 per unit\n",
      "------------------------------\n",
      "Error: 'Missing key(s) in the input: price'\n",
      "Error: Value for 'solar_generation' must be numeric.\n",
      "Error: Value for 'price' must be numeric.\n"
     ]
    }
   ],
   "source": [
    "from typing import Dict\n",
    "\n",
    "def solar(**kwargs: float) -> None:\n",
    "\n",
    "    required_keys = (\"SOC\", \"solar_generation\", \"price\")\n",
    "    if not all(key in kwargs for key in required_keys):\n",
    "        missing_keys = set(required_keys) - set(kwargs.keys())\n",
    "        raise KeyError(f\"Missing key(s) in the input: {', '.join(missing_keys)}\")\n",
    "\n",
    "    for key, value in kwargs.items():\n",
    "        if not isinstance(value, (int, float)):\n",
    "            raise TypeError(f\"Value for '{key}' must be numeric.\")\n",
    "\n",
    "    soc = kwargs['SOC']\n",
    "    solar_generation = kwargs['solar_generation']\n",
    "    price = kwargs['price']\n",
    "\n",
    "    print(\"Hybrid Solar Inverter Data:\")\n",
    "    print(\"-\" * 30)\n",
    "    print(f\"Battery SOC: {soc:.2f}%\")\n",
    "    print(f\"Solar Generation: {solar_generation:.2f} kW\")\n",
    "    print(f\"Market Price: Rs. {price:.2f} per unit\")\n",
    "    print(\"-\" * 30)\n",
    "\n",
    "print(solar.__doc__)\n",
    "print(solar.__annotations__)\n",
    "\n",
    "# Example Usage\n",
    "solar(SOC=75.5, solar_generation=3.2, price=55.75)\n",
    "\n",
    "solar(SOC=75, solar_generation=3, price=55)\n",
    "\n",
    "try:\n",
    "    solar(SOC=80, solar_generation=4)  \n",
    "except KeyError as e:\n",
    "    print(f\"Error: {e}\")\n",
    "\n",
    "try:\n",
    "    solar(SOC=80, solar_generation=\"4\", price=60)  \n",
    "except TypeError as e:\n",
    "    print(f\"Error: {e}\")\n",
    "\n",
    "try:\n",
    "    solar(SOC=80, solar_generation=4, price=[60]) \n",
    "except TypeError as e:\n",
    "    print(f\"Error: {e}\")"
   ]
  },
  {
   "cell_type": "code",
   "execution_count": 96,
   "id": "f1c422fa-98b4-460a-968d-0f573c9d1eb2",
   "metadata": {},
   "outputs": [],
   "source": [
    "def f(a, b, *args, **kwargs):\n",
    "    print(F'a = {a}')\n",
    "    print(F'b = {b}')\n",
    "    print(F'args = {args}')\n",
    "    print(F'kwargs = {kwargs}')\n",
    "    f(1, 2, 'foo', 'bar', 'baz', 'qux', x=100, y=200, z=300)"
   ]
  },
  {
   "cell_type": "code",
   "execution_count": 97,
   "id": "6610c45f-6567-4919-bf3e-74f1f7e2e5fa",
   "metadata": {},
   "outputs": [],
   "source": [
    "def f(*args):\n",
    "    for i in args:\n",
    "        print(i)"
   ]
  },
  {
   "cell_type": "code",
   "execution_count": 95,
   "id": "de9b812f-ec38-4a4a-b235-4c8e76eee05d",
   "metadata": {},
   "outputs": [
    {
     "name": "stdout",
     "output_type": "stream",
     "text": [
      "Printing list:\n",
      "1\n",
      "2\n",
      "3\n",
      "\n",
      "Printing tuple:\n",
      "4\n",
      "5\n",
      "6\n",
      "\n",
      "Printing set:\n",
      "8\n",
      "9\n",
      "7\n"
     ]
    }
   ],
   "source": [
    "def f(*args):\n",
    "    for i in args:\n",
    "        print(i)\n",
    "\n",
    "a = [1, 2, 3]\n",
    "t = (4, 5, 6)\n",
    "s = {7, 8, 9}\n",
    "\n",
    "print(\"Printing list:\")\n",
    "f(*a)\n",
    "\n",
    "print(\"\\nPrinting tuple:\")\n",
    "f(*t)\n",
    "\n",
    "print(\"\\nPrinting set:\")\n",
    "f(*s)"
   ]
  },
  {
   "cell_type": "code",
   "execution_count": 98,
   "id": "10d05542-8fa1-4edf-a6a1-14dae8920a5f",
   "metadata": {},
   "outputs": [
    {
     "name": "stdout",
     "output_type": "stream",
     "text": [
      "1\n",
      "2\n",
      "3\n",
      "4\n",
      "5\n",
      "6\n",
      "8\n",
      "9\n",
      "7\n"
     ]
    }
   ],
   "source": [
    "f(*a, *t, *s)"
   ]
  },
  {
   "cell_type": "code",
   "execution_count": 99,
   "id": "2f6d70a0-b1a9-4e7c-bc63-a91e288b7582",
   "metadata": {},
   "outputs": [],
   "source": [
    "def f(**kwargs):\n",
    "  \n",
    "    for k, v in kwargs.items():\n",
    "        print(k, '->', v)"
   ]
  },
  {
   "cell_type": "code",
   "execution_count": 100,
   "id": "68606723-7963-417f-babb-5e1afb99ac5e",
   "metadata": {},
   "outputs": [
    {
     "name": "stdout",
     "output_type": "stream",
     "text": [
      "a -> 1\n",
      "b -> 2\n",
      "x -> 3\n",
      "y -> 4\n"
     ]
    }
   ],
   "source": [
    "def f(**kwargs):\n",
    "    for k, v in kwargs.items():\n",
    "        print(k, '->', v)\n",
    "\n",
    "d1 = {'a': 1, 'b': 2}\n",
    "d2 = {'x': 3, 'y': 4}\n",
    "f(**d1, **d2)"
   ]
  },
  {
   "cell_type": "code",
   "execution_count": 101,
   "id": "1b69185d-686b-41e7-88da-dd34f8fee76c",
   "metadata": {},
   "outputs": [],
   "source": [
    "def f(*args):\n",
    "\n",
    "    for i in args:\n",
    "        print(i)"
   ]
  },
  {
   "cell_type": "code",
   "execution_count": 102,
   "id": "8cd88609-95f6-4e2d-9299-528a113ee9c0",
   "metadata": {},
   "outputs": [
    {
     "name": "stdout",
     "output_type": "stream",
     "text": [
      "1\n",
      "2\n",
      "3\n",
      "4\n",
      "5\n",
      "6\n"
     ]
    }
   ],
   "source": [
    "def f(*args):\n",
    "    for i in args:\n",
    "        print(i)\n",
    "\n",
    "f(*[1, 2, 3], *[4, 5, 6])"
   ]
  },
  {
   "cell_type": "code",
   "execution_count": 103,
   "id": "5382b919-29b7-4622-8d25-dbd4ec3e7ad2",
   "metadata": {},
   "outputs": [],
   "source": [
    "def f(**kwargs):\n",
    "\n",
    "    for k, v in kwargs.items():\n",
    "        print(k, '->', v)"
   ]
  },
  {
   "cell_type": "code",
   "execution_count": 104,
   "id": "3194f654-6e6d-4df1-b320-9ac117269cb4",
   "metadata": {},
   "outputs": [
    {
     "name": "stdout",
     "output_type": "stream",
     "text": [
      "a -> 1\n",
      "b -> 2\n",
      "x -> 3\n",
      "y -> 4\n"
     ]
    }
   ],
   "source": [
    "def f(**kwargs):\n",
    "    for k, v in kwargs.items():\n",
    "        print(k, '->', v)\n",
    "\n",
    "f(**{'a': 1, 'b': 2}, **{'x': 3, 'y': 4})"
   ]
  },
  {
   "cell_type": "code",
   "execution_count": 105,
   "id": "ba163ce4-989b-47f5-9830-28ae88c8721e",
   "metadata": {},
   "outputs": [
    {
     "name": "stdout",
     "output_type": "stream",
     "text": [
      "10 hello\n",
      "3.5\n"
     ]
    }
   ],
   "source": [
    "def f(a: int, b: str) -> float:\n",
    "    print(a, b)\n",
    "    return 3.5\n",
    "\n",
    "result = f(10, \"hello\")\n",
    "print(result)  # Output: 3.5"
   ]
  },
  {
   "cell_type": "code",
   "execution_count": 106,
   "id": "643bdcaf-a409-411e-91ec-93efbd7a4f52",
   "metadata": {},
   "outputs": [
    {
     "name": "stdout",
     "output_type": "stream",
     "text": [
      "1 foo\n",
      "{'a': <class 'int'>, 'b': <class 'str'>, 'return': <class 'float'>}\n"
     ]
    }
   ],
   "source": [
    "def f(a: int, b: str) -> float:\n",
    "    print(a, b)\n",
    "    return 3.5\n",
    "\n",
    "f(1, 'foo')\n",
    "print(f.__annotations__)"
   ]
  },
  {
   "cell_type": "code",
   "execution_count": 107,
   "id": "77c417d6-e066-4f38-a671-8198a0ae7713",
   "metadata": {},
   "outputs": [
    {
     "name": "stdout",
     "output_type": "stream",
     "text": [
      "{'a': <class 'int'>, 'b': <class 'str'>, 'return': <class 'float'>}\n",
      "12 baz\n"
     ]
    },
    {
     "data": {
      "text/plain": [
       "3.5"
      ]
     },
     "execution_count": 107,
     "metadata": {},
     "output_type": "execute_result"
    }
   ],
   "source": [
    "def f(a: int = 12, b: str = 'baz') -> float:\n",
    "    print(a, b)\n",
    "    return 3.5\n",
    "\n",
    "print(f.__annotations__)\n",
    "f()"
   ]
  },
  {
   "cell_type": "code",
   "execution_count": 108,
   "id": "3e6cc97e-e547-4f4a-9154-c6c975ab3b11",
   "metadata": {},
   "outputs": [
    {
     "name": "stdout",
     "output_type": "stream",
     "text": [
      "foo 2.5\n"
     ]
    },
    {
     "data": {
      "text/plain": [
       "(1, 2, 3)"
      ]
     },
     "execution_count": 108,
     "metadata": {},
     "output_type": "execute_result"
    }
   ],
   "source": [
    "def f(a: int, b: str) -> float:\n",
    "    print(a, b)\n",
    "    return 1, 2, 3\n",
    "\n",
    "f('foo', 2.5)"
   ]
  },
  {
   "cell_type": "code",
   "execution_count": null,
   "id": "002ecc38-f47c-4219-a152-3534dd1d86bc",
   "metadata": {},
   "outputs": [],
   "source": []
  }
 ],
 "metadata": {
  "kernelspec": {
   "display_name": "Python 3 (ipykernel)",
   "language": "python",
   "name": "python3"
  },
  "language_info": {
   "codemirror_mode": {
    "name": "ipython",
    "version": 3
   },
   "file_extension": ".py",
   "mimetype": "text/x-python",
   "name": "python",
   "nbconvert_exporter": "python",
   "pygments_lexer": "ipython3",
   "version": "3.12.4"
  }
 },
 "nbformat": 4,
 "nbformat_minor": 5
}
