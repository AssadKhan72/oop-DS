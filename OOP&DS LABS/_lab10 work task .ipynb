{
 "cells": [
  {
   "cell_type": "markdown",
   "id": "c9673d75-bd5a-4e06-9e39-a10d0d33babb",
   "metadata": {},
   "source": [
    "# Assad Ullah Khan"
   ]
  },
  {
   "cell_type": "markdown",
   "id": "94d7f64e-3778-4ae2-b33e-2fbd054c8aa5",
   "metadata": {},
   "source": [
    "# Reg No = 0526"
   ]
  },
  {
   "cell_type": "markdown",
   "id": "b2d52e49-1e10-4f97-9f6f-b41f018c8768",
   "metadata": {},
   "source": [
    "# lab work task"
   ]
  },
  {
   "cell_type": "code",
   "execution_count": 5,
   "id": "1f32e2c3-ed8f-4787-b8b6-f686eae7ecc8",
   "metadata": {},
   "outputs": [],
   "source": [
    "import os\n",
    "os.chdir(r'C:\\Users\\DELL\\Desktop\\UET\\3 semester\\OOPS lab\\inheritence')"
   ]
  },
  {
   "cell_type": "code",
   "execution_count": 6,
   "id": "b223c3b6-0588-4a67-b29a-11668ba592ff",
   "metadata": {},
   "outputs": [],
   "source": [
    "import add"
   ]
  },
  {
   "cell_type": "code",
   "execution_count": 7,
   "id": "eade26ee-2ade-4ebf-9812-321056814bd2",
   "metadata": {},
   "outputs": [],
   "source": [
    "import sub"
   ]
  },
  {
   "cell_type": "code",
   "execution_count": 8,
   "id": "594e1ea3-cccb-46e1-a445-263127182209",
   "metadata": {},
   "outputs": [],
   "source": [
    "import mul"
   ]
  },
  {
   "cell_type": "code",
   "execution_count": 9,
   "id": "ca9824c9-49f7-4c90-a4f2-4421b0d61434",
   "metadata": {},
   "outputs": [],
   "source": [
    "import devide"
   ]
  },
  {
   "cell_type": "markdown",
   "id": "2bf22abd-2f7b-4f9e-9a92-7c1b6bd407ac",
   "metadata": {},
   "source": [
    "# 3. Creating Modules"
   ]
  },
  {
   "cell_type": "code",
   "execution_count": 11,
   "id": "bdf49758-098d-47a1-9432-78dc81894e4a",
   "metadata": {},
   "outputs": [],
   "source": [
    "import os\n",
    "os.chdir(r'C:\\Users\\DELL\\Desktop\\UET\\3 semester\\OOPS lab\\myproject')"
   ]
  },
  {
   "cell_type": "markdown",
   "id": "39ba5cc7-288d-4124-b721-a1ac28e38ec4",
   "metadata": {},
   "source": [
    "a. Use this module as given below"
   ]
  },
  {
   "cell_type": "code",
   "execution_count": 13,
   "id": "d55ce9cd-5d05-4774-bac2-c3a68c8f75d1",
   "metadata": {},
   "outputs": [
    {
     "name": "stdout",
     "output_type": "stream",
     "text": [
      "4\n"
     ]
    }
   ],
   "source": [
    "import adder\n",
    "value = adder.add(2, 2) \n",
    "print(value)"
   ]
  },
  {
   "cell_type": "markdown",
   "id": "518425ea-1ab3-4c23-a3ce-ada0a2a380ad",
   "metadata": {},
   "source": [
    "b. Add another function to double a given value"
   ]
  },
  {
   "cell_type": "code",
   "execution_count": 15,
   "id": "4ef9ae73-fb87-47b9-9a0c-dc2950c110e5",
   "metadata": {},
   "outputs": [],
   "source": [
    "def double(x):\n",
    "    return x + x"
   ]
  },
  {
   "cell_type": "code",
   "execution_count": 16,
   "id": "4c7b6f05-e4d7-4d3f-bebc-cbfdee42842f",
   "metadata": {},
   "outputs": [
    {
     "name": "stdout",
     "output_type": "stream",
     "text": [
      "8\n"
     ]
    }
   ],
   "source": [
    "import adder\n",
    "value = adder.add(2, 2)\n",
    "double_value = adder.double(value) \n",
    "print(double_value)"
   ]
  },
  {
   "cell_type": "markdown",
   "id": "7a2bd165-859b-421d-afe3-b1932b404e25",
   "metadata": {},
   "source": [
    "c. import <module> as <other_name>\n",
    "  You can change the name of an import using the as keyword:\n",
    " When you import a module this way, the module’s namespace is accessed \n",
    "through <other_name> instead of <module>."
   ]
  },
  {
   "cell_type": "markdown",
   "id": "5f7ec4b8-5b0d-4785-b04e-c0ce64fd8f4a",
   "metadata": {},
   "source": [
    "i. Run the following code and note what you observe and why this happened."
   ]
  },
  {
   "cell_type": "code",
   "execution_count": 19,
   "id": "0cd7fc23-a260-4686-879b-a2b8638c0bd2",
   "metadata": {},
   "outputs": [
    {
     "name": "stdout",
     "output_type": "stream",
     "text": [
      "8\n"
     ]
    }
   ],
   "source": [
    "import adder as a # <-- Change this line\n",
    "# Leave the code below unchanged\n",
    "value = adder.add(2, 2)\n",
    "double_value = adder.double(value)\n",
    "print(double_value)"
   ]
  },
  {
   "cell_type": "markdown",
   "id": "2e9bd130-3581-4529-9d6c-f1a63922d7df",
   "metadata": {},
   "source": [
    "ii.Run the following code and note what you observe and why this happened."
   ]
  },
  {
   "cell_type": "code",
   "execution_count": 21,
   "id": "d76b5305-0b3f-4bd7-964a-2fa3323b19f8",
   "metadata": {},
   "outputs": [
    {
     "name": "stdout",
     "output_type": "stream",
     "text": [
      "8\n"
     ]
    }
   ],
   "source": [
    "import adder as a\n",
    "value = a.add(2, 2) # <-- Change this line\n",
    "double_value = a.double(value) # <-- Change this line, too\n",
    "print(double_value)"
   ]
  },
  {
   "cell_type": "markdown",
   "id": "8713f758-bfeb-479b-b9fe-ab391c6ded93",
   "metadata": {},
   "source": [
    "d. from <module> import <name>\n",
    "Instead of importing the entire namespace, you can import only a specific name \n",
    "from a module."
   ]
  },
  {
   "cell_type": "markdown",
   "id": "59b1d9fe-f0e2-4349-88d8-848296749274",
   "metadata": {},
   "source": [
    " Run the following code."
   ]
  },
  {
   "cell_type": "code",
   "execution_count": 24,
   "id": "e93a4ae7-6975-4d6d-8164-b1e2f9e1b037",
   "metadata": {},
   "outputs": [
    {
     "name": "stdout",
     "output_type": "stream",
     "text": [
      "4\n"
     ]
    }
   ],
   "source": [
    "from adder import add # <-- Change this line\n",
    "value = adder.add(2, 2)\n",
    "print(value)"
   ]
  },
  {
   "cell_type": "markdown",
   "id": "e8547711-9901-46cf-aeb8-5d12a807a2dd",
   "metadata": {},
   "source": [
    " Run the following code and note what you observe and why this happened."
   ]
  },
  {
   "cell_type": "code",
   "execution_count": 26,
   "id": "f57baa21-b2b5-49eb-a10f-30fa7914e112",
   "metadata": {},
   "outputs": [
    {
     "ename": "TypeError",
     "evalue": "double() takes 1 positional argument but 2 were given",
     "output_type": "error",
     "traceback": [
      "\u001b[1;31m---------------------------------------------------------------------------\u001b[0m",
      "\u001b[1;31mTypeError\u001b[0m                                 Traceback (most recent call last)",
      "Cell \u001b[1;32mIn[26], line 3\u001b[0m\n\u001b[0;32m      1\u001b[0m \u001b[38;5;28;01mfrom\u001b[39;00m \u001b[38;5;21;01madder\u001b[39;00m \u001b[38;5;28;01mimport\u001b[39;00m add \u001b[38;5;66;03m# <-- Change this line\u001b[39;00m\n\u001b[0;32m      2\u001b[0m value \u001b[38;5;241m=\u001b[39m adder\u001b[38;5;241m.\u001b[39madd(\u001b[38;5;241m2\u001b[39m, \u001b[38;5;241m2\u001b[39m)\n\u001b[1;32m----> 3\u001b[0m double_value \u001b[38;5;241m=\u001b[39m adder\u001b[38;5;241m.\u001b[39mdouble(\u001b[38;5;241m2\u001b[39m, \u001b[38;5;241m2\u001b[39m)\n\u001b[0;32m      4\u001b[0m \u001b[38;5;28mprint\u001b[39m(double_value)\n",
      "\u001b[1;31mTypeError\u001b[0m: double() takes 1 positional argument but 2 were given"
     ]
    }
   ],
   "source": [
    "from adder import add # <-- Change this line\n",
    "value = adder.add(2, 2)\n",
    "double_value = adder.double(2, 2)\n",
    "print(double_value)"
   ]
  },
  {
   "cell_type": "markdown",
   "id": "b4214a69-b238-4bed-9ede-9d80083a66d3",
   "metadata": {},
   "source": [
    " Run the following code and note what you observe and why this happened."
   ]
  },
  {
   "cell_type": "code",
   "execution_count": null,
   "id": "90725eba-6b15-44b5-9c85-145b144600f5",
   "metadata": {},
   "outputs": [],
   "source": [
    "from adder import add, double # <-- Change this line\n",
    "# Leave the code below unchanged\n",
    "value = add(2, 2)\n",
    "double_value = double(value)\n",
    "print(double_value)"
   ]
  },
  {
   "cell_type": "markdown",
   "id": "f8c7e899-ebad-47c7-afa6-d45349936b99",
   "metadata": {},
   "source": [
    "question 4"
   ]
  },
  {
   "cell_type": "markdown",
   "id": "238c9d44-88da-4288-b247-a8a47a6b0839",
   "metadata": {},
   "source": [
    "Convert labs 7, 8, and 9 into modules, package them with name inheritance, and \n",
    "revise the corresponding tasks. "
   ]
  },
  {
   "cell_type": "code",
   "execution_count": null,
   "id": "eef0fff1-0dfc-4868-8e98-2fafe3c71b23",
   "metadata": {},
   "outputs": [],
   "source": [
    "import os\n",
    "os.chdir(r'C:\\Users\\DELL\\Desktop\\UET\\3 semester\\OOPS lab\\inheritence')"
   ]
  },
  {
   "cell_type": "code",
   "execution_count": null,
   "id": "cce1122c-9f78-46ae-ae85-8149167a0f93",
   "metadata": {},
   "outputs": [],
   "source": [
    "import hr"
   ]
  },
  {
   "cell_type": "code",
   "execution_count": null,
   "id": "ee73c79f-efb7-4970-975d-d7ce7e331dbb",
   "metadata": {},
   "outputs": [],
   "source": [
    "from hr import PayrollSystem"
   ]
  },
  {
   "cell_type": "code",
   "execution_count": null,
   "id": "2343ef6b-526b-42f8-9f8b-410d926760f9",
   "metadata": {},
   "outputs": [],
   "source": [
    "import productivity"
   ]
  },
  {
   "cell_type": "code",
   "execution_count": null,
   "id": "56138bf0-df10-4119-88f6-a2245c32e13a",
   "metadata": {},
   "outputs": [],
   "source": [
    "from productivity import ProductivitySystem"
   ]
  },
  {
   "cell_type": "code",
   "execution_count": null,
   "id": "edf0dd4b-4731-4eac-b8b3-ac8c2dd12209",
   "metadata": {},
   "outputs": [],
   "source": [
    "import employees"
   ]
  },
  {
   "cell_type": "code",
   "execution_count": null,
   "id": "c84a889c-76f0-45ee-a2e9-dfcc2667f751",
   "metadata": {},
   "outputs": [],
   "source": [
    "from employees import SalaryEmployee"
   ]
  },
  {
   "cell_type": "code",
   "execution_count": null,
   "id": "5f871b0a-6712-423e-958e-4c0deb5dc82a",
   "metadata": {},
   "outputs": [],
   "source": [
    "s=SalaryEmployee(3,\"ali\",40)"
   ]
  },
  {
   "cell_type": "code",
   "execution_count": null,
   "id": "ffd898e4-bbeb-480a-aef7-8e8a28c5f641",
   "metadata": {},
   "outputs": [],
   "source": [
    "s.calculate_payroll()"
   ]
  },
  {
   "cell_type": "code",
   "execution_count": null,
   "id": "30ba045d-7fc5-41ff-a823-83cfb72858a0",
   "metadata": {},
   "outputs": [],
   "source": [
    "s.weekly_salary"
   ]
  },
  {
   "cell_type": "code",
   "execution_count": null,
   "id": "d48147ab-9ced-4865-b2b8-d4fb5f4e162f",
   "metadata": {},
   "outputs": [],
   "source": [
    "from employees import HourlyEmployee"
   ]
  },
  {
   "cell_type": "code",
   "execution_count": null,
   "id": "7e8aa886-40e3-4a0a-bd06-ce8022583b05",
   "metadata": {},
   "outputs": [],
   "source": [
    "h=HourlyEmployee(3,\"ali\",4,60)"
   ]
  },
  {
   "cell_type": "code",
   "execution_count": null,
   "id": "4cb85834-5ed2-4a8c-8eee-e1d2f2450bf9",
   "metadata": {},
   "outputs": [],
   "source": [
    "h.hours_worked"
   ]
  },
  {
   "cell_type": "code",
   "execution_count": null,
   "id": "1f2f78d1-3727-46e8-b895-19e245b66399",
   "metadata": {},
   "outputs": [],
   "source": [
    "h.hourly_rate"
   ]
  },
  {
   "cell_type": "code",
   "execution_count": null,
   "id": "d005a674-215b-4abc-a5ac-34079a86766b",
   "metadata": {},
   "outputs": [],
   "source": [
    "h.calculate_payroll()"
   ]
  },
  {
   "cell_type": "code",
   "execution_count": null,
   "id": "3e5c48a2-072f-4d31-921d-d0ee6f5df129",
   "metadata": {},
   "outputs": [],
   "source": [
    "from employees import CommissionEmployee"
   ]
  },
  {
   "cell_type": "code",
   "execution_count": null,
   "id": "a8bd9afd-1f16-4012-bcec-bc5ff186c2e2",
   "metadata": {},
   "outputs": [],
   "source": [
    "\n",
    "c=CommissionEmployee(4,\"ali\",60,5)"
   ]
  },
  {
   "cell_type": "code",
   "execution_count": null,
   "id": "53bfad6f-fe3f-40ef-9b2a-43957be8757c",
   "metadata": {},
   "outputs": [],
   "source": [
    "c.commission"
   ]
  },
  {
   "cell_type": "code",
   "execution_count": null,
   "id": "d0ad397e-14a6-415c-8221-0460f71b3164",
   "metadata": {},
   "outputs": [],
   "source": [
    "\n",
    "c.calculate_payroll()"
   ]
  },
  {
   "cell_type": "code",
   "execution_count": null,
   "id": "3be97dac-c2cf-4607-9b42-5d01ede1571b",
   "metadata": {},
   "outputs": [],
   "source": [
    "from employees import Manager"
   ]
  },
  {
   "cell_type": "code",
   "execution_count": null,
   "id": "a88c1c29-0289-41a1-89df-5659242399aa",
   "metadata": {},
   "outputs": [],
   "source": [
    "m=Manager(3,\"ali\",40)"
   ]
  },
  {
   "cell_type": "code",
   "execution_count": null,
   "id": "e135323d-bde5-4f73-b641-20f622e745b0",
   "metadata": {},
   "outputs": [],
   "source": [
    "m.work(8)"
   ]
  },
  {
   "cell_type": "code",
   "execution_count": null,
   "id": "93d51095-db63-4555-a154-3ca79740e87d",
   "metadata": {},
   "outputs": [],
   "source": [
    "from employees import Secretary"
   ]
  },
  {
   "cell_type": "code",
   "execution_count": null,
   "id": "d5070743-1082-4a6e-b279-77a14ac257f7",
   "metadata": {},
   "outputs": [],
   "source": [
    "s=Secretary(3,\"ali\",40)"
   ]
  },
  {
   "cell_type": "code",
   "execution_count": null,
   "id": "2b9d236e-90bc-4a9e-a55a-3271cd1f937b",
   "metadata": {},
   "outputs": [],
   "source": [
    "s.work(2)"
   ]
  },
  {
   "cell_type": "code",
   "execution_count": null,
   "id": "41ddab11-33a5-47da-8a57-28e927a23557",
   "metadata": {},
   "outputs": [],
   "source": [
    "from employees import SalesPerson"
   ]
  },
  {
   "cell_type": "code",
   "execution_count": null,
   "id": "cdc7fdd1-3889-4dcd-9f00-bd0163618202",
   "metadata": {},
   "outputs": [],
   "source": [
    "ss=SalesPerson(3,\"ali\",40,10)"
   ]
  },
  {
   "cell_type": "code",
   "execution_count": null,
   "id": "9dd75fe2-0c60-4758-9481-3d8d7a5263f4",
   "metadata": {},
   "outputs": [],
   "source": [
    "ss.work(3)"
   ]
  },
  {
   "cell_type": "code",
   "execution_count": 27,
   "id": "10086025-70a4-45f2-a91c-95dcc65e82bc",
   "metadata": {},
   "outputs": [
    {
     "ename": "ModuleNotFoundError",
     "evalue": "No module named 'employees'",
     "output_type": "error",
     "traceback": [
      "\u001b[1;31m---------------------------------------------------------------------------\u001b[0m",
      "\u001b[1;31mModuleNotFoundError\u001b[0m                       Traceback (most recent call last)",
      "Cell \u001b[1;32mIn[27], line 1\u001b[0m\n\u001b[1;32m----> 1\u001b[0m \u001b[38;5;28;01mfrom\u001b[39;00m \u001b[38;5;21;01memployees\u001b[39;00m \u001b[38;5;28;01mimport\u001b[39;00m FactoryWorker\n",
      "\u001b[1;31mModuleNotFoundError\u001b[0m: No module named 'employees'"
     ]
    }
   ],
   "source": [
    "from employees import FactoryWorker"
   ]
  },
  {
   "cell_type": "code",
   "execution_count": 28,
   "id": "a4dd8f81-6db5-4d8e-8f50-b46b67210e0c",
   "metadata": {},
   "outputs": [
    {
     "ename": "NameError",
     "evalue": "name 'FactoryWorker' is not defined",
     "output_type": "error",
     "traceback": [
      "\u001b[1;31m---------------------------------------------------------------------------\u001b[0m",
      "\u001b[1;31mNameError\u001b[0m                                 Traceback (most recent call last)",
      "Cell \u001b[1;32mIn[28], line 1\u001b[0m\n\u001b[1;32m----> 1\u001b[0m f\u001b[38;5;241m=\u001b[39mFactoryWorker(\u001b[38;5;241m3\u001b[39m,\u001b[38;5;124m\"\u001b[39m\u001b[38;5;124mali\u001b[39m\u001b[38;5;124m\"\u001b[39m,\u001b[38;5;241m40\u001b[39m,\u001b[38;5;241m3\u001b[39m)\n",
      "\u001b[1;31mNameError\u001b[0m: name 'FactoryWorker' is not defined"
     ]
    }
   ],
   "source": [
    "f=FactoryWorker(3,\"ali\",40,3)"
   ]
  },
  {
   "cell_type": "code",
   "execution_count": null,
   "id": "f55c8251-4076-4c90-bbf9-449bdcf710ea",
   "metadata": {},
   "outputs": [],
   "source": [
    "f.work(4)"
   ]
  },
  {
   "cell_type": "code",
   "execution_count": null,
   "id": "d8fd3709-6e60-46a4-817d-5bad73a06fcc",
   "metadata": {},
   "outputs": [],
   "source": [
    "from employees import TemporarySecretary"
   ]
  },
  {
   "cell_type": "code",
   "execution_count": 29,
   "id": "249ec363-7589-41a9-9cff-f069c22569df",
   "metadata": {},
   "outputs": [
    {
     "ename": "NameError",
     "evalue": "name 'Manager' is not defined",
     "output_type": "error",
     "traceback": [
      "\u001b[1;31m---------------------------------------------------------------------------\u001b[0m",
      "\u001b[1;31mNameError\u001b[0m                                 Traceback (most recent call last)",
      "Cell \u001b[1;32mIn[29], line 1\u001b[0m\n\u001b[1;32m----> 1\u001b[0m manager \u001b[38;5;241m=\u001b[39m Manager(\u001b[38;5;241m1\u001b[39m, \u001b[38;5;124m\"\u001b[39m\u001b[38;5;124mMary Poppins\u001b[39m\u001b[38;5;124m\"\u001b[39m, \u001b[38;5;241m3000\u001b[39m)\n\u001b[0;32m      2\u001b[0m secretary \u001b[38;5;241m=\u001b[39m Secretary(\u001b[38;5;241m2\u001b[39m, \u001b[38;5;124m\"\u001b[39m\u001b[38;5;124mJohn Smith\u001b[39m\u001b[38;5;124m\"\u001b[39m, \u001b[38;5;241m1500\u001b[39m)\n\u001b[0;32m      3\u001b[0m sales_guy \u001b[38;5;241m=\u001b[39m SalesPerson(\u001b[38;5;241m3\u001b[39m, \u001b[38;5;124m\"\u001b[39m\u001b[38;5;124mKevin Bacon\u001b[39m\u001b[38;5;124m\"\u001b[39m, \u001b[38;5;241m1000\u001b[39m, \u001b[38;5;241m250\u001b[39m)\n",
      "\u001b[1;31mNameError\u001b[0m: name 'Manager' is not defined"
     ]
    }
   ],
   "source": [
    "manager = Manager(1, \"Mary Poppins\", 3000)\n",
    "secretary = Secretary(2, \"John Smith\", 1500)\n",
    "sales_guy = SalesPerson(3, \"Kevin Bacon\", 1000, 250)\n",
    "factory_worker = FactoryWorker(4, \"Jane Doe\", 40, 15)\n",
    "temporary_secretary = TemporarySecretary(5, \"Robin Williams\", 40, 9)\n",
    "company_employees = [\n",
    "    manager,\n",
    "    secretary,\n",
    "    sales_guy,\n",
    "    factory_worker,\n",
    "    temporary_secretary,\n",
    "]\n",
    "\n",
    "productivity_system = ProductivitySystem()\n",
    "productivity_system.track(company_employees, 40)\n",
    "\n",
    "payroll_system = PayrollSystem()\n",
    "payroll_system.calculate_payroll(company_employees)"
   ]
  },
  {
   "cell_type": "markdown",
   "id": "08c8b402-3eed-4711-9de1-23d87685c870",
   "metadata": {},
   "source": [
    "question 5"
   ]
  },
  {
   "cell_type": "markdown",
   "id": "0398372f-dbfd-48c5-a5f3-1464b47319de",
   "metadata": {},
   "source": [
    "Convert the Geometry classes covered in lab 6 to modules, create a package with the \n",
    "classes names, and repeat the corresponding tasks. "
   ]
  },
  {
   "cell_type": "code",
   "execution_count": 32,
   "id": "865c11e7-3fa3-416f-8a4f-011856425e3b",
   "metadata": {},
   "outputs": [],
   "source": [
    "import os\n",
    "os.chdir(r'C:\\Users\\DELL\\Desktop\\UET\\3 semester\\OOPS lab\\classes')"
   ]
  },
  {
   "cell_type": "code",
   "execution_count": 33,
   "id": "b13a679f-a147-479b-810e-c9456249fce4",
   "metadata": {},
   "outputs": [],
   "source": [
    "import classes"
   ]
  },
  {
   "cell_type": "code",
   "execution_count": 34,
   "id": "aa89863f-44e4-4ba5-a9b6-c24f1d455133",
   "metadata": {},
   "outputs": [],
   "source": [
    "from classes import Square"
   ]
  },
  {
   "cell_type": "code",
   "execution_count": 35,
   "id": "4e14b1be-13b8-4e33-9089-fa36010829f7",
   "metadata": {},
   "outputs": [],
   "source": [
    "inst_1=Square(3)"
   ]
  },
  {
   "cell_type": "code",
   "execution_count": 36,
   "id": "47390465-da77-41c4-acb4-2e64ed2f4422",
   "metadata": {},
   "outputs": [
    {
     "name": "stdout",
     "output_type": "stream",
     "text": [
      "Square with side length: 3,Area: 9, Perimeter: 12\n"
     ]
    }
   ],
   "source": [
    "print(inst_1)"
   ]
  },
  {
   "cell_type": "code",
   "execution_count": 37,
   "id": "6d981db8-c98a-44bb-84f4-bb0a4b8a9db9",
   "metadata": {},
   "outputs": [
    {
     "data": {
      "text/plain": [
       "mappingproxy({'__module__': 'classes',\n",
       "              '__doc__': 'A class to represent a square in 2D space.',\n",
       "              '__init__': <function classes.Square.__init__(self, side_length: float)>,\n",
       "              'side_length': <property at 0x1b8da4b73d0>,\n",
       "              'area': <function classes.Square.area(self) -> float>,\n",
       "              'perimeter': <function classes.Square.perimeter(self) -> float>,\n",
       "              'locate': <function classes.Square.locate(self) -> str>,\n",
       "              '__repr__': <function classes.Square.__repr__(self) -> str>,\n",
       "              '__str__': <function classes.Square.__str__(self) -> str>,\n",
       "              '__dict__': <attribute '__dict__' of 'Square' objects>,\n",
       "              '__weakref__': <attribute '__weakref__' of 'Square' objects>})"
      ]
     },
     "execution_count": 37,
     "metadata": {},
     "output_type": "execute_result"
    }
   ],
   "source": [
    "Square.__dict__"
   ]
  },
  {
   "cell_type": "code",
   "execution_count": 38,
   "id": "e88a340b-6b16-4073-a44c-fcb970f891f0",
   "metadata": {},
   "outputs": [
    {
     "data": {
      "text/plain": [
       "{'_side_length': 3}"
      ]
     },
     "execution_count": 38,
     "metadata": {},
     "output_type": "execute_result"
    }
   ],
   "source": [
    "inst_1.__dict__"
   ]
  },
  {
   "cell_type": "code",
   "execution_count": 39,
   "id": "814bfd6c-7f45-4603-8ad5-ef3864c0cd64",
   "metadata": {},
   "outputs": [
    {
     "data": {
      "text/plain": [
       "mappingproxy({'__module__': 'classes',\n",
       "              '__doc__': 'A class to represent a square in 2D space.',\n",
       "              '__init__': <function classes.Square.__init__(self, side_length: float)>,\n",
       "              'side_length': <property at 0x1b8da4b73d0>,\n",
       "              'area': <function classes.Square.area(self) -> float>,\n",
       "              'perimeter': <function classes.Square.perimeter(self) -> float>,\n",
       "              'locate': <function classes.Square.locate(self) -> str>,\n",
       "              '__repr__': <function classes.Square.__repr__(self) -> str>,\n",
       "              '__str__': <function classes.Square.__str__(self) -> str>,\n",
       "              '__dict__': <attribute '__dict__' of 'Square' objects>,\n",
       "              '__weakref__': <attribute '__weakref__' of 'Square' objects>})"
      ]
     },
     "execution_count": 39,
     "metadata": {},
     "output_type": "execute_result"
    }
   ],
   "source": [
    "vars(Square)"
   ]
  },
  {
   "cell_type": "code",
   "execution_count": 40,
   "id": "c56ccd2f-7bed-401a-be07-285b8092b621",
   "metadata": {},
   "outputs": [
    {
     "name": "stdout",
     "output_type": "stream",
     "text": [
      "Help on class Square in module classes:\n",
      "\n",
      "class Square(builtins.object)\n",
      " |  Square(side_length: float)\n",
      " |\n",
      " |  A class to represent a square in 2D space.\n",
      " |\n",
      " |  Methods defined here:\n",
      " |\n",
      " |  __init__(self, side_length: float)\n",
      " |      Initialize the square with a side length.\n",
      " |\n",
      " |  __repr__(self) -> str\n",
      " |      repr is for programmer.\n",
      " |\n",
      " |  __str__(self) -> str\n",
      " |      str is for common person or human readable\n",
      " |\n",
      " |  area(self) -> float\n",
      " |      Calculate the area of the square.\n",
      " |\n",
      " |  locate(self) -> str\n",
      " |      Provide a description of the square's properties.\n",
      " |\n",
      " |  perimeter(self) -> float\n",
      " |      Calculate the perimeter of the square.\n",
      " |\n",
      " |  ----------------------------------------------------------------------\n",
      " |  Data descriptors defined here:\n",
      " |\n",
      " |  __dict__\n",
      " |      dictionary for instance variables\n",
      " |\n",
      " |  __weakref__\n",
      " |      list of weak references to the object\n",
      " |\n",
      " |  side_length\n",
      " |      Get the length of a side of the square.\n",
      "\n"
     ]
    }
   ],
   "source": [
    "help(Square)"
   ]
  },
  {
   "cell_type": "code",
   "execution_count": 41,
   "id": "467c5efa-dccf-4ddf-a3c5-59b62d5efa2f",
   "metadata": {},
   "outputs": [
    {
     "name": "stdout",
     "output_type": "stream",
     "text": [
      "A class to represent a square in 2D space.\n"
     ]
    }
   ],
   "source": [
    "print(Square.__doc__)"
   ]
  },
  {
   "cell_type": "code",
   "execution_count": 42,
   "id": "9a48314c-6c16-4032-a288-70efc33963b3",
   "metadata": {},
   "outputs": [
    {
     "name": "stdout",
     "output_type": "stream",
     "text": [
      "Initialize the square with a side length.\n",
      "        \n"
     ]
    }
   ],
   "source": [
    "print(Square.__init__.__doc__)"
   ]
  },
  {
   "cell_type": "code",
   "execution_count": 43,
   "id": "1cde4b83-f430-4b5e-aace-3c3522878765",
   "metadata": {},
   "outputs": [
    {
     "name": "stdout",
     "output_type": "stream",
     "text": [
      "repr is for programmer.\n"
     ]
    }
   ],
   "source": [
    "print(Square.__repr__.__doc__)"
   ]
  },
  {
   "cell_type": "code",
   "execution_count": 44,
   "id": "e8967ba8-c52b-4feb-872e-8c21213f1ada",
   "metadata": {},
   "outputs": [
    {
     "name": "stdout",
     "output_type": "stream",
     "text": [
      "str is for common person or human readable\n"
     ]
    }
   ],
   "source": [
    "print(Square.__str__.__doc__)"
   ]
  },
  {
   "cell_type": "code",
   "execution_count": 45,
   "id": "37275e5c-fef5-4392-84f0-88e4acc753f2",
   "metadata": {},
   "outputs": [],
   "source": [
    "class Square:\n",
    "    \"\"\"A class to represent a square in 2D space.\"\"\"\n",
    "\n",
    "    def __init__(self, side_length: float=4):\n",
    "        \"\"\"Initialize the square with a side length.\n",
    "        \"\"\"\n",
    "        self._side_length = side_length              "
   ]
  },
  {
   "cell_type": "code",
   "execution_count": 46,
   "id": "164bf221-80b4-4a9a-9f45-9171b70f7392",
   "metadata": {},
   "outputs": [],
   "source": [
    "sq=Square()"
   ]
  },
  {
   "cell_type": "code",
   "execution_count": 47,
   "id": "4711003e-e64b-445a-80e8-f472d55753fe",
   "metadata": {},
   "outputs": [],
   "source": [
    "from classes import Rectangle"
   ]
  },
  {
   "cell_type": "code",
   "execution_count": 48,
   "id": "699d4eda-b3ba-4b85-bbe9-89eecc3410bf",
   "metadata": {},
   "outputs": [],
   "source": [
    "inst_1=Rectangle(5,9)"
   ]
  },
  {
   "cell_type": "code",
   "execution_count": 49,
   "id": "54ed7bd1-b45d-4eee-88d0-3e2939cb3066",
   "metadata": {},
   "outputs": [
    {
     "name": "stdout",
     "output_type": "stream",
     "text": [
      "Rectangle with width 5 & height 9 \n"
     ]
    }
   ],
   "source": [
    "print(inst_1)"
   ]
  },
  {
   "cell_type": "code",
   "execution_count": 50,
   "id": "b9f1e7cb-2515-4d45-ada5-c5868d5581e2",
   "metadata": {},
   "outputs": [
    {
     "data": {
      "text/plain": [
       "mappingproxy({'__module__': 'classes',\n",
       "              '__doc__': 'A class to represent a rectangle in 2D space.',\n",
       "              '__init__': <function classes.Rectangle.__init__(self, width: float, height: float)>,\n",
       "              'width': <property at 0x1b8da4b7bf0>,\n",
       "              'height': <property at 0x1b8da4b7dd0>,\n",
       "              'area': <function classes.Rectangle.area(self) -> float>,\n",
       "              'perimeter': <function classes.Rectangle.perimeter(self) -> float>,\n",
       "              'locate': <function classes.Rectangle.locate(self) -> str>,\n",
       "              '__repr__': <function classes.Rectangle.__repr__(self) -> str>,\n",
       "              '__str__': <function classes.Rectangle.__str__(self) -> str>,\n",
       "              '__dict__': <attribute '__dict__' of 'Rectangle' objects>,\n",
       "              '__weakref__': <attribute '__weakref__' of 'Rectangle' objects>})"
      ]
     },
     "execution_count": 50,
     "metadata": {},
     "output_type": "execute_result"
    }
   ],
   "source": [
    "Rectangle.__dict__"
   ]
  },
  {
   "cell_type": "code",
   "execution_count": 104,
   "id": "cf40ed41-064e-4a22-a6e6-657b1346f7b4",
   "metadata": {},
   "outputs": [
    {
     "data": {
      "text/plain": [
       "mappingproxy({'__module__': 'classes',\n",
       "              '__doc__': 'A class to represent a rectangle in 2D space.',\n",
       "              '__init__': <function classes.Rectangle.__init__(self, width: float, height: float)>,\n",
       "              'width': <property at 0x1b8da4b7bf0>,\n",
       "              'height': <property at 0x1b8da4b7dd0>,\n",
       "              'area': <function classes.Rectangle.area(self) -> float>,\n",
       "              'perimeter': <function classes.Rectangle.perimeter(self) -> float>,\n",
       "              'locate': <function classes.Rectangle.locate(self) -> str>,\n",
       "              '__repr__': <function classes.Rectangle.__repr__(self) -> str>,\n",
       "              '__str__': <function classes.Rectangle.__str__(self) -> str>,\n",
       "              '__dict__': <attribute '__dict__' of 'Rectangle' objects>,\n",
       "              '__weakref__': <attribute '__weakref__' of 'Rectangle' objects>})"
      ]
     },
     "execution_count": 104,
     "metadata": {},
     "output_type": "execute_result"
    }
   ],
   "source": [
    "vars(Rectangle)"
   ]
  },
  {
   "cell_type": "code",
   "execution_count": 105,
   "id": "7e11cff6-f61f-4c8b-bd50-b9a18ea1783d",
   "metadata": {},
   "outputs": [
    {
     "data": {
      "text/plain": [
       "{'_width': 5, '_height': 9}"
      ]
     },
     "execution_count": 105,
     "metadata": {},
     "output_type": "execute_result"
    }
   ],
   "source": [
    "inst_1.__dict__"
   ]
  },
  {
   "cell_type": "code",
   "execution_count": 106,
   "id": "9cc2d3c1-fbd7-4a2a-b192-5b1e137477b2",
   "metadata": {},
   "outputs": [
    {
     "data": {
      "text/plain": [
       "mappingproxy({'__module__': 'classes',\n",
       "              '__doc__': 'A class to represent a rectangle in 2D space.',\n",
       "              '__init__': <function classes.Rectangle.__init__(self, width: float, height: float)>,\n",
       "              'width': <property at 0x1b8da4b7bf0>,\n",
       "              'height': <property at 0x1b8da4b7dd0>,\n",
       "              'area': <function classes.Rectangle.area(self) -> float>,\n",
       "              'perimeter': <function classes.Rectangle.perimeter(self) -> float>,\n",
       "              'locate': <function classes.Rectangle.locate(self) -> str>,\n",
       "              '__repr__': <function classes.Rectangle.__repr__(self) -> str>,\n",
       "              '__str__': <function classes.Rectangle.__str__(self) -> str>,\n",
       "              '__dict__': <attribute '__dict__' of 'Rectangle' objects>,\n",
       "              '__weakref__': <attribute '__weakref__' of 'Rectangle' objects>})"
      ]
     },
     "execution_count": 106,
     "metadata": {},
     "output_type": "execute_result"
    }
   ],
   "source": [
    "vars(Rectangle)"
   ]
  },
  {
   "cell_type": "code",
   "execution_count": 107,
   "id": "fe5eb20a-9186-4471-96e1-63c4f63f45f2",
   "metadata": {},
   "outputs": [
    {
     "name": "stdout",
     "output_type": "stream",
     "text": [
      "Help on class Rectangle in module classes:\n",
      "\n",
      "class Rectangle(builtins.object)\n",
      " |  Rectangle(width: float, height: float)\n",
      " |\n",
      " |  A class to represent a rectangle in 2D space.\n",
      " |\n",
      " |  Methods defined here:\n",
      " |\n",
      " |  __init__(self, width: float, height: float)\n",
      " |      Initialize the rectangle with width and height.\n",
      " |\n",
      " |  __repr__(self) -> str\n",
      " |      repr is for programmer\n",
      " |\n",
      " |  __str__(self) -> str\n",
      " |      str is for common person\n",
      " |\n",
      " |  area(self) -> float\n",
      " |      Calculate the area of the rectangle.\n",
      " |\n",
      " |  locate(self) -> str\n",
      " |      Provide a description of the rectangle's properties.\n",
      " |\n",
      " |  perimeter(self) -> float\n",
      " |      Calculate the perimeter of the rectangle.\n",
      " |\n",
      " |  ----------------------------------------------------------------------\n",
      " |  Data descriptors defined here:\n",
      " |\n",
      " |  __dict__\n",
      " |      dictionary for instance variables\n",
      " |\n",
      " |  __weakref__\n",
      " |      list of weak references to the object\n",
      " |\n",
      " |  height\n",
      " |      Get the height of the rectangle.\n",
      " |\n",
      " |  width\n",
      " |      Get the width of the rectangle.\n",
      "\n"
     ]
    }
   ],
   "source": [
    "help(Rectangle)"
   ]
  },
  {
   "cell_type": "code",
   "execution_count": 108,
   "id": "464222f2-b972-4509-968e-e2b3368cd272",
   "metadata": {},
   "outputs": [
    {
     "name": "stdout",
     "output_type": "stream",
     "text": [
      "A class to represent a rectangle in 2D space.\n"
     ]
    }
   ],
   "source": [
    "print(Rectangle.__doc__)"
   ]
  },
  {
   "cell_type": "code",
   "execution_count": 109,
   "id": "a6fd4630-274b-4b2d-a66d-e990fc5c730a",
   "metadata": {},
   "outputs": [
    {
     "name": "stdout",
     "output_type": "stream",
     "text": [
      "Initialize the rectangle with width and height.\n",
      "        \n"
     ]
    }
   ],
   "source": [
    "print(Rectangle.__init__.__doc__)"
   ]
  },
  {
   "cell_type": "code",
   "execution_count": 110,
   "id": "f444a563-3276-41d0-8df5-5f85fb8d21b0",
   "metadata": {},
   "outputs": [
    {
     "name": "stdout",
     "output_type": "stream",
     "text": [
      "Get the width of the rectangle.\n"
     ]
    }
   ],
   "source": [
    "print(Rectangle. width.__doc__)"
   ]
  },
  {
   "cell_type": "code",
   "execution_count": 111,
   "id": "31968980-32cf-4ed1-912e-d3fad44b337b",
   "metadata": {},
   "outputs": [],
   "source": [
    "from classes import Triangle"
   ]
  },
  {
   "cell_type": "code",
   "execution_count": 112,
   "id": "19d03899-1fb6-481d-83ad-e035f6894c56",
   "metadata": {},
   "outputs": [],
   "source": [
    "inst_1=Triangle(2,3,4)"
   ]
  },
  {
   "cell_type": "code",
   "execution_count": 113,
   "id": "188d4a70-0cd1-4569-955d-8bea6d79591f",
   "metadata": {},
   "outputs": [
    {
     "name": "stdout",
     "output_type": "stream",
     "text": [
      "Triangle with sides 2, 3, 4\n"
     ]
    }
   ],
   "source": [
    "print(inst_1)"
   ]
  },
  {
   "cell_type": "code",
   "execution_count": 114,
   "id": "da4e38b3-efe5-4150-bc47-5079c10ed913",
   "metadata": {},
   "outputs": [
    {
     "data": {
      "text/plain": [
       "mappingproxy({'__module__': 'classes',\n",
       "              '__doc__': 'A class to represent a triangle in 2D space.',\n",
       "              '__init__': <function classes.Triangle.__init__(self, side_a: float, side_b: float, side_c: float)>,\n",
       "              'side_a': <property at 0x1b8da4b7290>,\n",
       "              'side_b': <property at 0x1b8da4b72e0>,\n",
       "              'side_c': <property at 0x1b8da4b7330>,\n",
       "              'area': <function classes.Triangle.area(self) -> float>,\n",
       "              'perimeter': <function classes.Triangle.perimeter(self) -> float>,\n",
       "              'locate': <function classes.Triangle.locate(self) -> str>,\n",
       "              '__repr__': <function classes.Triangle.__repr__(self) -> str>,\n",
       "              '__str__': <function classes.Triangle.__str__(self) -> str>,\n",
       "              '__dict__': <attribute '__dict__' of 'Triangle' objects>,\n",
       "              '__weakref__': <attribute '__weakref__' of 'Triangle' objects>})"
      ]
     },
     "execution_count": 114,
     "metadata": {},
     "output_type": "execute_result"
    }
   ],
   "source": [
    "Triangle.__dict__"
   ]
  },
  {
   "cell_type": "code",
   "execution_count": 115,
   "id": "55d430e9-23b7-4447-9131-64f522a0aa98",
   "metadata": {},
   "outputs": [
    {
     "data": {
      "text/plain": [
       "{'_side_a': 2, '_side_b': 3, '_side_c': 4}"
      ]
     },
     "execution_count": 115,
     "metadata": {},
     "output_type": "execute_result"
    }
   ],
   "source": [
    "inst_1.__dict__"
   ]
  },
  {
   "cell_type": "code",
   "execution_count": 116,
   "id": "20804915-0e89-4dfb-89f7-c07676b4053d",
   "metadata": {},
   "outputs": [
    {
     "data": {
      "text/plain": [
       "mappingproxy({'__module__': 'classes',\n",
       "              '__doc__': 'A class to represent a triangle in 2D space.',\n",
       "              '__init__': <function classes.Triangle.__init__(self, side_a: float, side_b: float, side_c: float)>,\n",
       "              'side_a': <property at 0x1b8da4b7290>,\n",
       "              'side_b': <property at 0x1b8da4b72e0>,\n",
       "              'side_c': <property at 0x1b8da4b7330>,\n",
       "              'area': <function classes.Triangle.area(self) -> float>,\n",
       "              'perimeter': <function classes.Triangle.perimeter(self) -> float>,\n",
       "              'locate': <function classes.Triangle.locate(self) -> str>,\n",
       "              '__repr__': <function classes.Triangle.__repr__(self) -> str>,\n",
       "              '__str__': <function classes.Triangle.__str__(self) -> str>,\n",
       "              '__dict__': <attribute '__dict__' of 'Triangle' objects>,\n",
       "              '__weakref__': <attribute '__weakref__' of 'Triangle' objects>})"
      ]
     },
     "execution_count": 116,
     "metadata": {},
     "output_type": "execute_result"
    }
   ],
   "source": [
    "vars(Triangle)"
   ]
  },
  {
   "cell_type": "code",
   "execution_count": 117,
   "id": "97dcaf49-8b70-4100-ae22-bf4e91e300ae",
   "metadata": {},
   "outputs": [
    {
     "name": "stdout",
     "output_type": "stream",
     "text": [
      "Help on class Triangle in module classes:\n",
      "\n",
      "class Triangle(builtins.object)\n",
      " |  Triangle(side_a: float, side_b: float, side_c: float)\n",
      " |\n",
      " |  A class to represent a triangle in 2D space.\n",
      " |\n",
      " |  Methods defined here:\n",
      " |\n",
      " |  __init__(self, side_a: float, side_b: float, side_c: float)\n",
      " |      Initialize the triangle with three sides.\n",
      " |\n",
      " |  __repr__(self) -> str\n",
      " |      Repr is for programmer\n",
      " |\n",
      " |  __str__(self) -> str\n",
      " |      Return a user-friendly string representation of the triangle.\n",
      " |\n",
      " |  area(self) -> float\n",
      " |      Calculate the area of the triangle using Heron's formula.\n",
      " |\n",
      " |  locate(self) -> str\n",
      " |      Provide a description of the triangle's properties.\n",
      " |\n",
      " |  perimeter(self) -> float\n",
      " |      Calculate the perimeter of the triangle.\n",
      " |\n",
      " |  ----------------------------------------------------------------------\n",
      " |  Data descriptors defined here:\n",
      " |\n",
      " |  __dict__\n",
      " |      dictionary for instance variables\n",
      " |\n",
      " |  __weakref__\n",
      " |      list of weak references to the object\n",
      " |\n",
      " |  side_a\n",
      " |      Get the length of the first side.\n",
      " |\n",
      " |  side_b\n",
      " |      Get the length of the second side.\n",
      " |\n",
      " |  side_c\n",
      " |      Get the length of the third side.\n",
      "\n"
     ]
    }
   ],
   "source": [
    "help(Triangle)"
   ]
  },
  {
   "cell_type": "code",
   "execution_count": 118,
   "id": "81ef9660-2152-48e5-a3e4-b3ab231f1179",
   "metadata": {},
   "outputs": [
    {
     "name": "stdout",
     "output_type": "stream",
     "text": [
      "A class to represent a triangle in 2D space.\n"
     ]
    }
   ],
   "source": [
    " print(Triangle.__doc__)"
   ]
  },
  {
   "cell_type": "code",
   "execution_count": 119,
   "id": "6a80ec14-82cb-4869-8e45-2025118cbcb9",
   "metadata": {},
   "outputs": [
    {
     "name": "stdout",
     "output_type": "stream",
     "text": [
      "Initialize the triangle with three sides.\n",
      "        \n"
     ]
    }
   ],
   "source": [
    " print(Triangle.__init__.__doc__)"
   ]
  },
  {
   "cell_type": "code",
   "execution_count": 120,
   "id": "f990a45e-75c5-4f0e-a6e7-66f7e3ac8a2d",
   "metadata": {},
   "outputs": [
    {
     "name": "stdout",
     "output_type": "stream",
     "text": [
      "Get the length of the first side.\n"
     ]
    }
   ],
   "source": [
    " print(Triangle.side_a.__doc__)"
   ]
  },
  {
   "cell_type": "code",
   "execution_count": 133,
   "id": "5e0c541a-604c-44c4-b7b1-34fccba419d9",
   "metadata": {},
   "outputs": [
    {
     "name": "stdout",
     "output_type": "stream",
     "text": [
      "Get the length of the second side.\n"
     ]
    }
   ],
   "source": [
    " print(Triangle.side_b.__doc__)"
   ]
  },
  {
   "cell_type": "code",
   "execution_count": 134,
   "id": "c28b0725-7a9d-4af3-8ecb-cc74fbfa262f",
   "metadata": {},
   "outputs": [
    {
     "name": "stdout",
     "output_type": "stream",
     "text": [
      "Get the length of the third side.\n"
     ]
    }
   ],
   "source": [
    " print(Triangle.side_c.__doc__)"
   ]
  },
  {
   "cell_type": "code",
   "execution_count": 135,
   "id": "3f27fa0d-160b-4458-91b9-61ced043925f",
   "metadata": {},
   "outputs": [
    {
     "name": "stdout",
     "output_type": "stream",
     "text": [
      "Calculate the area of the triangle using Heron's formula.\n",
      "        \n"
     ]
    }
   ],
   "source": [
    " print(Triangle.area.__doc__)"
   ]
  },
  {
   "cell_type": "code",
   "execution_count": 136,
   "id": "24a7f628-b539-416a-83b7-cda26ceccd46",
   "metadata": {},
   "outputs": [
    {
     "name": "stdout",
     "output_type": "stream",
     "text": [
      "Calculate the perimeter of the triangle.\n",
      "        \n"
     ]
    }
   ],
   "source": [
    " print(Triangle.perimeter.__doc__)"
   ]
  },
  {
   "cell_type": "code",
   "execution_count": 137,
   "id": "b38ff9fa-4d6e-405a-ad7b-da71ede603de",
   "metadata": {},
   "outputs": [
    {
     "name": "stdout",
     "output_type": "stream",
     "text": [
      "Provide a description of the triangle's properties.\n",
      "        \n"
     ]
    }
   ],
   "source": [
    " print(Triangle.locate.__doc__)"
   ]
  },
  {
   "cell_type": "code",
   "execution_count": 138,
   "id": "303fe8ae-1e9b-4f92-b5f4-4b4ac5220136",
   "metadata": {},
   "outputs": [
    {
     "name": "stdout",
     "output_type": "stream",
     "text": [
      "Repr is for programmer\n"
     ]
    }
   ],
   "source": [
    " print(Triangle.__repr__.__doc__)"
   ]
  },
  {
   "cell_type": "code",
   "execution_count": 139,
   "id": "71caeb37-f56c-4417-89e7-d2bd12d3a9d1",
   "metadata": {},
   "outputs": [
    {
     "name": "stdout",
     "output_type": "stream",
     "text": [
      "Return a user-friendly string representation of the triangle.\n"
     ]
    }
   ],
   "source": [
    " print(Triangle.__str__.__doc__)"
   ]
  },
  {
   "cell_type": "code",
   "execution_count": 140,
   "id": "04b3be17-c690-4ca4-b8c9-652f53e66019",
   "metadata": {},
   "outputs": [],
   "source": [
    "class Triangle:\n",
    "    \"\"\"A class to represent a triangle in 2D space.\"\"\"\n",
    "    def __init__(self, side_a: float=6, side_b: float=7, side_c: float=2):\n",
    "        \"\"\"Initialize the triangle with three sides.\n",
    "        \"\"\"\n",
    "        self._side_a = side_a\n",
    "        self._side_b = side_b\n",
    "        self._side_c = side_c"
   ]
  },
  {
   "cell_type": "code",
   "execution_count": 141,
   "id": "3e903a25-55a4-4f9c-a912-dac81653592b",
   "metadata": {},
   "outputs": [],
   "source": [
    "tr=Triangle()"
   ]
  },
  {
   "cell_type": "code",
   "execution_count": 142,
   "id": "46b7b326-8e0d-4d22-bf24-91924c09b293",
   "metadata": {},
   "outputs": [],
   "source": [
    "from classes import Trapezoid"
   ]
  },
  {
   "cell_type": "code",
   "execution_count": 143,
   "id": "0ab75bee-65bd-473d-835c-52a3d8b8d75b",
   "metadata": {},
   "outputs": [],
   "source": [
    "inst_1=Trapezoid(2,3,9)"
   ]
  },
  {
   "cell_type": "code",
   "execution_count": 144,
   "id": "66506ab3-d125-4eb0-8a8c-42666b287966",
   "metadata": {},
   "outputs": [
    {
     "name": "stdout",
     "output_type": "stream",
     "text": [
      "Trapezoid with bases 2 and 3\n"
     ]
    }
   ],
   "source": [
    "print(inst_1)"
   ]
  },
  {
   "cell_type": "code",
   "execution_count": 145,
   "id": "a6764981-8a60-4711-a5fe-dedff81c39e0",
   "metadata": {},
   "outputs": [
    {
     "data": {
      "text/plain": [
       "mappingproxy({'__module__': 'classes',\n",
       "              '__doc__': 'A class to represent a trapezoid (or trapezium) in 2D space.',\n",
       "              '__init__': <function classes.Trapezoid.__init__(self, base1: float, base2: float, height: float)>,\n",
       "              'base1': <property at 0x1b8da4b7740>,\n",
       "              'base2': <property at 0x1b8da4b7790>,\n",
       "              'height': <property at 0x1b8da4b77e0>,\n",
       "              'area': <function classes.Trapezoid.area(self) -> float>,\n",
       "              'perimeter': <function classes.Trapezoid.perimeter(self, side_a: float, side_b: float) -> float>,\n",
       "              'locate': <function classes.Trapezoid.locate(self) -> str>,\n",
       "              '__repr__': <function classes.Trapezoid.__repr__(self) -> str>,\n",
       "              '__str__': <function classes.Trapezoid.__str__(self) -> str>,\n",
       "              '__dict__': <attribute '__dict__' of 'Trapezoid' objects>,\n",
       "              '__weakref__': <attribute '__weakref__' of 'Trapezoid' objects>})"
      ]
     },
     "execution_count": 145,
     "metadata": {},
     "output_type": "execute_result"
    }
   ],
   "source": [
    "Trapezoid.__dict__"
   ]
  },
  {
   "cell_type": "code",
   "execution_count": 146,
   "id": "e5bfc246-18b9-43d2-82d1-dd8f805979a1",
   "metadata": {},
   "outputs": [
    {
     "data": {
      "text/plain": [
       "{'_base1': 2, '_base2': 3, '_height': 9}"
      ]
     },
     "execution_count": 146,
     "metadata": {},
     "output_type": "execute_result"
    }
   ],
   "source": [
    "inst_1.__dict__"
   ]
  },
  {
   "cell_type": "code",
   "execution_count": 167,
   "id": "1458c122-2ffc-4a17-851f-0a3d9110f823",
   "metadata": {},
   "outputs": [
    {
     "data": {
      "text/plain": [
       "mappingproxy({'__module__': 'classes',\n",
       "              '__doc__': 'A class to represent a trapezoid (or trapezium) in 2D space.',\n",
       "              '__init__': <function classes.Trapezoid.__init__(self, base1: float, base2: float, height: float)>,\n",
       "              'base1': <property at 0x1b8da4b7740>,\n",
       "              'base2': <property at 0x1b8da4b7790>,\n",
       "              'height': <property at 0x1b8da4b77e0>,\n",
       "              'area': <function classes.Trapezoid.area(self) -> float>,\n",
       "              'perimeter': <function classes.Trapezoid.perimeter(self, side_a: float, side_b: float) -> float>,\n",
       "              'locate': <function classes.Trapezoid.locate(self) -> str>,\n",
       "              '__repr__': <function classes.Trapezoid.__repr__(self) -> str>,\n",
       "              '__str__': <function classes.Trapezoid.__str__(self) -> str>,\n",
       "              '__dict__': <attribute '__dict__' of 'Trapezoid' objects>,\n",
       "              '__weakref__': <attribute '__weakref__' of 'Trapezoid' objects>})"
      ]
     },
     "execution_count": 167,
     "metadata": {},
     "output_type": "execute_result"
    }
   ],
   "source": [
    "vars(Trapezoid)"
   ]
  },
  {
   "cell_type": "code",
   "execution_count": 168,
   "id": "b24f9580-08a6-4c6b-8ecd-78eec6850d58",
   "metadata": {},
   "outputs": [
    {
     "name": "stdout",
     "output_type": "stream",
     "text": [
      "Help on class Trapezoid in module classes:\n",
      "\n",
      "class Trapezoid(builtins.object)\n",
      " |  Trapezoid(base1: float, base2: float, height: float)\n",
      " |\n",
      " |  A class to represent a trapezoid (or trapezium) in 2D space.\n",
      " |\n",
      " |  Methods defined here:\n",
      " |\n",
      " |  __init__(self, base1: float, base2: float, height: float)\n",
      " |      Initialize the trapezoid with two bases and a height.\n",
      " |\n",
      " |  __repr__(self) -> str\n",
      " |      Repr is for programmer\n",
      " |\n",
      " |  __str__(self) -> str\n",
      " |      Return a user-friendly string representation of the trapezoid.\n",
      " |\n",
      " |  area(self) -> float\n",
      " |      Calculate the area of the trapezoid.\n",
      " |\n",
      " |  locate(self) -> str\n",
      " |      Provide a description of the trapezoid's properties.\n",
      " |\n",
      " |  perimeter(self, side_a: float, side_b: float) -> float\n",
      " |      Calculate the perimeter of the trapezoid.\n",
      " |\n",
      " |  ----------------------------------------------------------------------\n",
      " |  Data descriptors defined here:\n",
      " |\n",
      " |  __dict__\n",
      " |      dictionary for instance variables\n",
      " |\n",
      " |  __weakref__\n",
      " |      list of weak references to the object\n",
      " |\n",
      " |  base1\n",
      " |      Get the length of the first base.\n",
      " |\n",
      " |  base2\n",
      " |      Get the length of the second base.\n",
      " |\n",
      " |  height\n",
      " |      Get the height of the trapezoid.\n",
      "\n"
     ]
    }
   ],
   "source": [
    "help(Trapezoid)"
   ]
  },
  {
   "cell_type": "code",
   "execution_count": 169,
   "id": "2bd025ee-7384-467b-a811-85fe8fe09f82",
   "metadata": {},
   "outputs": [
    {
     "name": "stdout",
     "output_type": "stream",
     "text": [
      "A class to represent a trapezoid (or trapezium) in 2D space.\n"
     ]
    }
   ],
   "source": [
    "print(Trapezoid.__doc__)"
   ]
  },
  {
   "cell_type": "code",
   "execution_count": 170,
   "id": "bf742868-b99d-4555-a9d2-5f2972bf6e88",
   "metadata": {},
   "outputs": [
    {
     "name": "stdout",
     "output_type": "stream",
     "text": [
      "Initialize the trapezoid with two bases and a height.\n",
      "        \n"
     ]
    }
   ],
   "source": [
    "print(Trapezoid.__init__.__doc__)"
   ]
  },
  {
   "cell_type": "code",
   "execution_count": 171,
   "id": "153d7801-8c40-4f48-8410-b1a0716b01ef",
   "metadata": {},
   "outputs": [
    {
     "name": "stdout",
     "output_type": "stream",
     "text": [
      "Get the length of the first base.\n"
     ]
    }
   ],
   "source": [
    "print(Trapezoid.base1.__doc__)"
   ]
  },
  {
   "cell_type": "code",
   "execution_count": 172,
   "id": "3d2a0504-1384-4cec-9073-8e5f401c0ecc",
   "metadata": {},
   "outputs": [
    {
     "name": "stdout",
     "output_type": "stream",
     "text": [
      "Get the length of the second base.\n"
     ]
    }
   ],
   "source": [
    "print(Trapezoid.base2.__doc__)"
   ]
  },
  {
   "cell_type": "code",
   "execution_count": 173,
   "id": "92ff92eb-11e4-4fe8-aa0d-5c84011d23ea",
   "metadata": {},
   "outputs": [
    {
     "name": "stdout",
     "output_type": "stream",
     "text": [
      "Get the height of the trapezoid.\n"
     ]
    }
   ],
   "source": [
    "print(Trapezoid.height.__doc__)"
   ]
  },
  {
   "cell_type": "code",
   "execution_count": 174,
   "id": "108cf6cc-5b77-4a34-81e1-341474e0cfab",
   "metadata": {},
   "outputs": [
    {
     "name": "stdout",
     "output_type": "stream",
     "text": [
      "Calculate the area of the trapezoid.\n",
      "        \n"
     ]
    }
   ],
   "source": [
    "print(Trapezoid.area.__doc__)"
   ]
  },
  {
   "cell_type": "code",
   "execution_count": 175,
   "id": "9b9650ad-14a4-4a19-a50f-6c590d721968",
   "metadata": {},
   "outputs": [
    {
     "name": "stdout",
     "output_type": "stream",
     "text": [
      "Calculate the perimeter of the trapezoid.\n",
      "        \n"
     ]
    }
   ],
   "source": [
    "print(Trapezoid.perimeter.__doc__)"
   ]
  },
  {
   "cell_type": "code",
   "execution_count": 176,
   "id": "dcfd1aff-55e5-40b8-b24a-f8998e492810",
   "metadata": {},
   "outputs": [
    {
     "name": "stdout",
     "output_type": "stream",
     "text": [
      "Provide a description of the trapezoid's properties.\n",
      "        \n"
     ]
    }
   ],
   "source": [
    "print(Trapezoid.locate.__doc__)"
   ]
  },
  {
   "cell_type": "code",
   "execution_count": 177,
   "id": "fd83af22-3f8f-4d24-aa7e-6482e3a60cf0",
   "metadata": {},
   "outputs": [
    {
     "name": "stdout",
     "output_type": "stream",
     "text": [
      "Repr is for programmer\n"
     ]
    }
   ],
   "source": [
    "print(Trapezoid.__repr__.__doc__)"
   ]
  },
  {
   "cell_type": "code",
   "execution_count": 178,
   "id": "e79d3fab-f1eb-418f-be6c-e83e60d49a91",
   "metadata": {},
   "outputs": [
    {
     "name": "stdout",
     "output_type": "stream",
     "text": [
      "Return a user-friendly string representation of the trapezoid.\n"
     ]
    }
   ],
   "source": [
    "print(Trapezoid.__str__.__doc__)"
   ]
  },
  {
   "cell_type": "code",
   "execution_count": 179,
   "id": "c85bac55-7473-4bd9-912d-ee4f98c5f760",
   "metadata": {},
   "outputs": [],
   "source": [
    "class Trapezoid:\n",
    "    \"\"\"A class to represent a trapezoid (or trapezium) in 2D space.\"\"\"\n",
    "\n",
    "    def __init__(self, base1: float=9, base2: float=8, height: float=15):\n",
    "        \"\"\"Initialize the trapezoid with two bases and a height.\n",
    "        \"\"\"\n",
    "        self._base1 = base1\n",
    "        self._base2 = base2\n",
    "        self._height = height"
   ]
  },
  {
   "cell_type": "code",
   "execution_count": 180,
   "id": "08ceb0a4-424b-4078-8c21-a43ffcb4b850",
   "metadata": {},
   "outputs": [],
   "source": [
    "tr= Trapezoid()"
   ]
  },
  {
   "cell_type": "code",
   "execution_count": 181,
   "id": "560513cb-237e-4403-bf44-a87077e522af",
   "metadata": {},
   "outputs": [],
   "source": [
    "from classes import Parallelogram"
   ]
  },
  {
   "cell_type": "code",
   "execution_count": 182,
   "id": "391fdc3c-a178-4b86-a993-37bd6e19dc50",
   "metadata": {},
   "outputs": [],
   "source": [
    "inst_1=Parallelogram(4,8)"
   ]
  },
  {
   "cell_type": "code",
   "execution_count": 183,
   "id": "65bcf63e-d24b-4f76-8ff2-9863db51484b",
   "metadata": {},
   "outputs": [
    {
     "name": "stdout",
     "output_type": "stream",
     "text": [
      "Parallelogram with base 4 & height 8\n"
     ]
    }
   ],
   "source": [
    "print(inst_1)"
   ]
  },
  {
   "cell_type": "code",
   "execution_count": 184,
   "id": "41f4c8be-a595-4574-b812-32df88d61abd",
   "metadata": {},
   "outputs": [
    {
     "data": {
      "text/plain": [
       "mappingproxy({'__module__': 'classes',\n",
       "              '__doc__': 'A class to represent a parallelogram in 2D space.',\n",
       "              '__init__': <function classes.Parallelogram.__init__(self, base: float, height: float)>,\n",
       "              'base': <property at 0x1b8da4c5080>,\n",
       "              'height': <property at 0x1b8da4c50d0>,\n",
       "              'area': <function classes.Parallelogram.area(self) -> float>,\n",
       "              'perimeter': <function classes.Parallelogram.perimeter(self, side_length: float) -> float>,\n",
       "              'locate': <function classes.Parallelogram.locate(self) -> str>,\n",
       "              '__repr__': <function classes.Parallelogram.__repr__(self) -> str>,\n",
       "              '__str__': <function classes.Parallelogram.__str__(self) -> str>,\n",
       "              '__dict__': <attribute '__dict__' of 'Parallelogram' objects>,\n",
       "              '__weakref__': <attribute '__weakref__' of 'Parallelogram' objects>})"
      ]
     },
     "execution_count": 184,
     "metadata": {},
     "output_type": "execute_result"
    }
   ],
   "source": [
    "Parallelogram.__dict__"
   ]
  },
  {
   "cell_type": "code",
   "execution_count": 185,
   "id": "ff8417dc-a3da-4eba-84c4-137cc8d2842d",
   "metadata": {},
   "outputs": [
    {
     "data": {
      "text/plain": [
       "{'_base': 4, '_height': 8}"
      ]
     },
     "execution_count": 185,
     "metadata": {},
     "output_type": "execute_result"
    }
   ],
   "source": [
    "inst_1.__dict__"
   ]
  },
  {
   "cell_type": "code",
   "execution_count": 186,
   "id": "55c779f2-4edb-46bb-a8a7-630b73ece4e8",
   "metadata": {},
   "outputs": [
    {
     "data": {
      "text/plain": [
       "mappingproxy({'__module__': 'classes',\n",
       "              '__doc__': 'A class to represent a parallelogram in 2D space.',\n",
       "              '__init__': <function classes.Parallelogram.__init__(self, base: float, height: float)>,\n",
       "              'base': <property at 0x1b8da4c5080>,\n",
       "              'height': <property at 0x1b8da4c50d0>,\n",
       "              'area': <function classes.Parallelogram.area(self) -> float>,\n",
       "              'perimeter': <function classes.Parallelogram.perimeter(self, side_length: float) -> float>,\n",
       "              'locate': <function classes.Parallelogram.locate(self) -> str>,\n",
       "              '__repr__': <function classes.Parallelogram.__repr__(self) -> str>,\n",
       "              '__str__': <function classes.Parallelogram.__str__(self) -> str>,\n",
       "              '__dict__': <attribute '__dict__' of 'Parallelogram' objects>,\n",
       "              '__weakref__': <attribute '__weakref__' of 'Parallelogram' objects>})"
      ]
     },
     "execution_count": 186,
     "metadata": {},
     "output_type": "execute_result"
    }
   ],
   "source": [
    "vars(Parallelogram)"
   ]
  },
  {
   "cell_type": "code",
   "execution_count": 187,
   "id": "b7b717db-874f-4a6b-8f9a-5cbb0d89a25f",
   "metadata": {},
   "outputs": [
    {
     "name": "stdout",
     "output_type": "stream",
     "text": [
      "Help on class Parallelogram in module classes:\n",
      "\n",
      "class Parallelogram(builtins.object)\n",
      " |  Parallelogram(base: float, height: float)\n",
      " |\n",
      " |  A class to represent a parallelogram in 2D space.\n",
      " |\n",
      " |  Methods defined here:\n",
      " |\n",
      " |  __init__(self, base: float, height: float)\n",
      " |      Initialize the parallelogram with base and height.\n",
      " |\n",
      " |  __repr__(self) -> str\n",
      " |      Repr is for programmers.\n",
      " |\n",
      " |  __str__(self) -> str\n",
      " |      Return a user-friendly string representation of the parallelogram.\n",
      " |\n",
      " |  area(self) -> float\n",
      " |      Calculate the area of the parallelogram.\n",
      " |\n",
      " |  locate(self) -> str\n",
      " |      Provide a description of the parallelogram's properties.\n",
      " |\n",
      " |  perimeter(self, side_length: float) -> float\n",
      " |      Calculate the perimeter of the parallelogram.\n",
      " |\n",
      " |  ----------------------------------------------------------------------\n",
      " |  Data descriptors defined here:\n",
      " |\n",
      " |  __dict__\n",
      " |      dictionary for instance variables\n",
      " |\n",
      " |  __weakref__\n",
      " |      list of weak references to the object\n",
      " |\n",
      " |  base\n",
      " |      Get the length of the base.\n",
      " |\n",
      " |  height\n",
      " |      Get the height of the parallelogram.\n",
      "\n"
     ]
    }
   ],
   "source": [
    "help(Parallelogram)"
   ]
  },
  {
   "cell_type": "code",
   "execution_count": 188,
   "id": "1a54d58b-3560-4ba0-8876-9efe640c211d",
   "metadata": {},
   "outputs": [
    {
     "name": "stdout",
     "output_type": "stream",
     "text": [
      "A class to represent a parallelogram in 2D space.\n"
     ]
    }
   ],
   "source": [
    "print(Parallelogram.__doc__)"
   ]
  },
  {
   "cell_type": "code",
   "execution_count": 189,
   "id": "d854491d-2340-48ef-9069-38ecebc54f57",
   "metadata": {},
   "outputs": [
    {
     "name": "stdout",
     "output_type": "stream",
     "text": [
      "Initialize the parallelogram with base and height.\n",
      "        \n"
     ]
    }
   ],
   "source": [
    "print(Parallelogram.__init__.__doc__)"
   ]
  },
  {
   "cell_type": "code",
   "execution_count": 190,
   "id": "2272ee27-c1c8-48ac-8455-7223ed552251",
   "metadata": {},
   "outputs": [
    {
     "name": "stdout",
     "output_type": "stream",
     "text": [
      "Get the length of the base.\n"
     ]
    }
   ],
   "source": [
    "print(Parallelogram.base.__doc__)"
   ]
  },
  {
   "cell_type": "code",
   "execution_count": 191,
   "id": "317256eb-c342-4c14-9d26-38208bbbc7a9",
   "metadata": {},
   "outputs": [
    {
     "name": "stdout",
     "output_type": "stream",
     "text": [
      "Get the height of the parallelogram.\n"
     ]
    }
   ],
   "source": [
    "print(Parallelogram.height.__doc__)"
   ]
  },
  {
   "cell_type": "code",
   "execution_count": 217,
   "id": "29385aa7-afe8-483f-b260-87b32afa7294",
   "metadata": {},
   "outputs": [
    {
     "name": "stdout",
     "output_type": "stream",
     "text": [
      "Calculate the area of the parallelogram.\n",
      "        \n"
     ]
    }
   ],
   "source": [
    "print(Parallelogram.area.__doc__)"
   ]
  },
  {
   "cell_type": "code",
   "execution_count": 218,
   "id": "8aa19c7a-b0b0-403a-a721-e8708e1b02fe",
   "metadata": {},
   "outputs": [
    {
     "name": "stdout",
     "output_type": "stream",
     "text": [
      "Calculate the perimeter of the parallelogram.\n",
      "        \n"
     ]
    }
   ],
   "source": [
    "print(Parallelogram.perimeter.__doc__)"
   ]
  },
  {
   "cell_type": "code",
   "execution_count": 219,
   "id": "54e47f63-a3a4-4942-91d3-dfc27ada9942",
   "metadata": {},
   "outputs": [
    {
     "name": "stdout",
     "output_type": "stream",
     "text": [
      "Provide a description of the parallelogram's properties.\n",
      "        \n"
     ]
    }
   ],
   "source": [
    "print(Parallelogram.locate.__doc__)"
   ]
  },
  {
   "cell_type": "code",
   "execution_count": 220,
   "id": "a69bcdc4-a6fe-4c70-a758-30fbe456c02d",
   "metadata": {},
   "outputs": [
    {
     "name": "stdout",
     "output_type": "stream",
     "text": [
      "Repr is for programmers.\n"
     ]
    }
   ],
   "source": [
    "print(Parallelogram.__repr__.__doc__)"
   ]
  },
  {
   "cell_type": "code",
   "execution_count": 221,
   "id": "d6354750-ea2d-4fd2-82e4-0aa4d78222fd",
   "metadata": {},
   "outputs": [
    {
     "name": "stdout",
     "output_type": "stream",
     "text": [
      "Return a user-friendly string representation of the parallelogram.\n"
     ]
    }
   ],
   "source": [
    "print(Parallelogram.__str__.__doc__)"
   ]
  },
  {
   "cell_type": "code",
   "execution_count": 222,
   "id": "389b3015-223a-4691-b134-9a6a418a5dac",
   "metadata": {},
   "outputs": [],
   "source": [
    "class Parallelogram:\n",
    "    \"\"\"A class to represent a parallelogram in 2D space.\"\"\"\n",
    "\n",
    "    def __init__(self, base: float=3, height: float=8):\n",
    "        \"\"\"Initialize the parallelogram with base and height.\n",
    "        \"\"\"\n",
    "        self._base = base\n",
    "        self._height = height"
   ]
  },
  {
   "cell_type": "code",
   "execution_count": 223,
   "id": "18634f34-4378-4a8c-a1eb-f1a40bd39be2",
   "metadata": {},
   "outputs": [],
   "source": [
    "para=Parallelogram()"
   ]
  },
  {
   "cell_type": "code",
   "execution_count": 224,
   "id": "8b9e197a-493e-4a0d-9563-0d5ec379acc1",
   "metadata": {},
   "outputs": [],
   "source": [
    "from classes import Rhombus"
   ]
  },
  {
   "cell_type": "code",
   "execution_count": 225,
   "id": "3c3fa564-1ff8-47da-b6ba-69382e659382",
   "metadata": {},
   "outputs": [],
   "source": [
    "inst_1=Rhombus(8,9)"
   ]
  },
  {
   "cell_type": "code",
   "execution_count": 226,
   "id": "fe65b314-5333-4d68-98f5-28f6fdd8014c",
   "metadata": {},
   "outputs": [
    {
     "data": {
      "text/plain": [
       "mappingproxy({'__module__': 'classes',\n",
       "              '__doc__': 'A class to represent a rhombus in 2D space.',\n",
       "              '__init__': <function classes.Rhombus.__init__(self, side_length: float, height: float)>,\n",
       "              'side_length': <property at 0x1b8da4c52b0>,\n",
       "              'height': <property at 0x1b8da4c5300>,\n",
       "              'area': <property at 0x1b8da4c5120>,\n",
       "              'perimeter': <property at 0x1b8da4c5210>,\n",
       "              'locate': <function classes.Rhombus.locate(self) -> str>,\n",
       "              '__repr__': <function classes.Rhombus.__repr__(self) -> str>,\n",
       "              '__str__': <function classes.Rhombus.__str__(self) -> str>,\n",
       "              '__dict__': <attribute '__dict__' of 'Rhombus' objects>,\n",
       "              '__weakref__': <attribute '__weakref__' of 'Rhombus' objects>})"
      ]
     },
     "execution_count": 226,
     "metadata": {},
     "output_type": "execute_result"
    }
   ],
   "source": [
    "Rhombus.__dict__"
   ]
  },
  {
   "cell_type": "code",
   "execution_count": 227,
   "id": "2dca9579-d10f-4297-943c-b877ac2c81b6",
   "metadata": {},
   "outputs": [
    {
     "data": {
      "text/plain": [
       "{'_side_length': 8, '_height': 9}"
      ]
     },
     "execution_count": 227,
     "metadata": {},
     "output_type": "execute_result"
    }
   ],
   "source": [
    "inst_1.__dict__"
   ]
  },
  {
   "cell_type": "code",
   "execution_count": 228,
   "id": "3e16da0c-6a1d-4e4b-9fcb-d0aa53d3297f",
   "metadata": {},
   "outputs": [
    {
     "data": {
      "text/plain": [
       "mappingproxy({'__module__': 'classes',\n",
       "              '__doc__': 'A class to represent a rhombus in 2D space.',\n",
       "              '__init__': <function classes.Rhombus.__init__(self, side_length: float, height: float)>,\n",
       "              'side_length': <property at 0x1b8da4c52b0>,\n",
       "              'height': <property at 0x1b8da4c5300>,\n",
       "              'area': <property at 0x1b8da4c5120>,\n",
       "              'perimeter': <property at 0x1b8da4c5210>,\n",
       "              'locate': <function classes.Rhombus.locate(self) -> str>,\n",
       "              '__repr__': <function classes.Rhombus.__repr__(self) -> str>,\n",
       "              '__str__': <function classes.Rhombus.__str__(self) -> str>,\n",
       "              '__dict__': <attribute '__dict__' of 'Rhombus' objects>,\n",
       "              '__weakref__': <attribute '__weakref__' of 'Rhombus' objects>})"
      ]
     },
     "execution_count": 228,
     "metadata": {},
     "output_type": "execute_result"
    }
   ],
   "source": [
    "vars(Rhombus)"
   ]
  },
  {
   "cell_type": "code",
   "execution_count": 229,
   "id": "3325ef87-ee75-4be2-b733-ffd9a2b759bb",
   "metadata": {},
   "outputs": [
    {
     "name": "stdout",
     "output_type": "stream",
     "text": [
      "Help on class Rhombus in module classes:\n",
      "\n",
      "class Rhombus(builtins.object)\n",
      " |  Rhombus(side_length: float, height: float)\n",
      " |\n",
      " |  A class to represent a rhombus in 2D space.\n",
      " |\n",
      " |  Methods defined here:\n",
      " |\n",
      " |  __init__(self, side_length: float, height: float)\n",
      " |      Initialize the rhombus with side length and height.\n",
      " |\n",
      " |  __repr__(self) -> str\n",
      " |      Repr is for programmer.\n",
      " |\n",
      " |  __str__(self) -> str\n",
      " |      Return a user-friendly string representation of the rhombus.\n",
      " |\n",
      " |  locate(self) -> str\n",
      " |      Provide a description of the rhombus's properties.\n",
      " |\n",
      " |  ----------------------------------------------------------------------\n",
      " |  Readonly properties defined here:\n",
      " |\n",
      " |  area\n",
      " |      Calculate the area of the rhombus.\n",
      " |\n",
      " |  perimeter\n",
      " |      Calculate the perimeter of the rhombus.\n",
      " |\n",
      " |  ----------------------------------------------------------------------\n",
      " |  Data descriptors defined here:\n",
      " |\n",
      " |  __dict__\n",
      " |      dictionary for instance variables\n",
      " |\n",
      " |  __weakref__\n",
      " |      list of weak references to the object\n",
      " |\n",
      " |  height\n",
      " |      Get the height of the rhombus.\n",
      " |\n",
      " |  side_length\n",
      " |      Get the length of each side.\n",
      "\n"
     ]
    }
   ],
   "source": [
    "help(Rhombus)"
   ]
  },
  {
   "cell_type": "code",
   "execution_count": 230,
   "id": "46c2071e-b38c-4e52-b63a-a48f098984ed",
   "metadata": {},
   "outputs": [
    {
     "name": "stdout",
     "output_type": "stream",
     "text": [
      "A class to represent a rhombus in 2D space.\n"
     ]
    }
   ],
   "source": [
    "print(Rhombus.__doc__)"
   ]
  },
  {
   "cell_type": "code",
   "execution_count": 245,
   "id": "ed45fcd2-55bb-439c-8e6a-99db17325cb7",
   "metadata": {},
   "outputs": [
    {
     "name": "stdout",
     "output_type": "stream",
     "text": [
      "Initialize the rhombus with side length and height.\n",
      "        \n"
     ]
    }
   ],
   "source": [
    "print(Rhombus.__init__.__doc__)"
   ]
  },
  {
   "cell_type": "code",
   "execution_count": 246,
   "id": "0748c50a-a101-4931-8184-337f73c95d8c",
   "metadata": {},
   "outputs": [
    {
     "name": "stdout",
     "output_type": "stream",
     "text": [
      "Get the length of each side.\n"
     ]
    }
   ],
   "source": [
    "print(Rhombus.side_length.__doc__)"
   ]
  },
  {
   "cell_type": "code",
   "execution_count": 247,
   "id": "4e7cf728-3226-47f5-907b-d96992ac0fc9",
   "metadata": {},
   "outputs": [
    {
     "name": "stdout",
     "output_type": "stream",
     "text": [
      "Get the height of the rhombus.\n"
     ]
    }
   ],
   "source": [
    "print(Rhombus.height.__doc__)"
   ]
  },
  {
   "cell_type": "code",
   "execution_count": 248,
   "id": "fef42ae6-21e0-4814-b2e5-cb497028b453",
   "metadata": {},
   "outputs": [
    {
     "name": "stdout",
     "output_type": "stream",
     "text": [
      "Calculate the area of the rhombus.\n",
      "        \n"
     ]
    }
   ],
   "source": [
    "print(Rhombus.area.__doc__)"
   ]
  },
  {
   "cell_type": "code",
   "execution_count": 249,
   "id": "265624f8-f44f-4bf4-8bbb-034d370bd9f1",
   "metadata": {},
   "outputs": [
    {
     "name": "stdout",
     "output_type": "stream",
     "text": [
      "Calculate the perimeter of the rhombus.\n",
      "        \n"
     ]
    }
   ],
   "source": [
    "print(Rhombus.perimeter.__doc__)"
   ]
  },
  {
   "cell_type": "code",
   "execution_count": 250,
   "id": "cdbea64b-b9d2-4595-978c-775d86f4bab5",
   "metadata": {},
   "outputs": [
    {
     "name": "stdout",
     "output_type": "stream",
     "text": [
      "Provide a description of the rhombus's properties.\n",
      "        \n"
     ]
    }
   ],
   "source": [
    "print(Rhombus.locate.__doc__)"
   ]
  },
  {
   "cell_type": "code",
   "execution_count": 251,
   "id": "b7dfc8a6-08fc-415f-8626-89daabc32bb1",
   "metadata": {},
   "outputs": [
    {
     "name": "stdout",
     "output_type": "stream",
     "text": [
      "Repr is for programmer.\n"
     ]
    }
   ],
   "source": [
    "print(Rhombus.__repr__.__doc__)"
   ]
  },
  {
   "cell_type": "code",
   "execution_count": 252,
   "id": "cdef1ae1-91bc-4007-abdb-64c0d9d98f0c",
   "metadata": {},
   "outputs": [
    {
     "name": "stdout",
     "output_type": "stream",
     "text": [
      "Return a user-friendly string representation of the rhombus.\n"
     ]
    }
   ],
   "source": [
    "print(Rhombus.__str__.__doc__)"
   ]
  },
  {
   "cell_type": "code",
   "execution_count": 253,
   "id": "4dbf49ce-747b-4ce1-a2ad-1c9241e5afd2",
   "metadata": {},
   "outputs": [],
   "source": [
    "class Rhombus:\n",
    "    \"\"\"A class to represent a rhombus in 2D space.\"\"\"\n",
    "\n",
    "    def __init__(self, side_length: float=2, height: float=8):\n",
    "        \"\"\"Initialize the rhombus with side length and height.\n",
    "        \"\"\"\n",
    "        self._side_length = side_length\n",
    "        self._height = height"
   ]
  },
  {
   "cell_type": "code",
   "execution_count": 254,
   "id": "3f6e610b-fa43-42bf-a5c2-7ec1b5077750",
   "metadata": {},
   "outputs": [],
   "source": [
    "Rh=Rhombus()"
   ]
  },
  {
   "cell_type": "code",
   "execution_count": 255,
   "id": "d97a4ac0-38b8-4005-bf34-c28426730d16",
   "metadata": {},
   "outputs": [],
   "source": [
    "from classes import Shape"
   ]
  },
  {
   "cell_type": "code",
   "execution_count": 256,
   "id": "f9fba537-93bd-4fb6-afc8-b115f54d899f",
   "metadata": {},
   "outputs": [],
   "source": [
    "inst_1=Shape(\"square\")"
   ]
  },
  {
   "cell_type": "code",
   "execution_count": 257,
   "id": "e83d6a60-c5b7-4fa9-9d43-1a73c8321c0f",
   "metadata": {},
   "outputs": [
    {
     "name": "stdout",
     "output_type": "stream",
     "text": [
      "Shape is square\n"
     ]
    }
   ],
   "source": [
    "print(inst_1)"
   ]
  },
  {
   "cell_type": "code",
   "execution_count": 258,
   "id": "14715e2b-9807-48fe-86ff-838b2db29196",
   "metadata": {},
   "outputs": [
    {
     "data": {
      "text/plain": [
       "mappingproxy({'__module__': 'classes',\n",
       "              '__doc__': 'A class to represent a generic geometric shape.',\n",
       "              '__init__': <function classes.Shape.__init__(self, name: str)>,\n",
       "              'name': <property at 0x1b8da4c5a80>,\n",
       "              'area': <function classes.Shape.area(self) -> float>,\n",
       "              'perimeter': <function classes.Shape.perimeter(self) -> float>,\n",
       "              'locate': <function classes.Shape.locate(self) -> str>,\n",
       "              '__repr__': <function classes.Shape.__repr__(self) -> str>,\n",
       "              '__str__': <function classes.Shape.__str__(self) -> str>,\n",
       "              '__dict__': <attribute '__dict__' of 'Shape' objects>,\n",
       "              '__weakref__': <attribute '__weakref__' of 'Shape' objects>})"
      ]
     },
     "execution_count": 258,
     "metadata": {},
     "output_type": "execute_result"
    }
   ],
   "source": [
    "Shape.__dict__"
   ]
  },
  {
   "cell_type": "code",
   "execution_count": 259,
   "id": "c3d6ccdd-8481-48f5-adcb-f5b233b26aef",
   "metadata": {},
   "outputs": [
    {
     "data": {
      "text/plain": [
       "{'_name': 'square'}"
      ]
     },
     "execution_count": 259,
     "metadata": {},
     "output_type": "execute_result"
    }
   ],
   "source": [
    "inst_1.__dict__"
   ]
  },
  {
   "cell_type": "code",
   "execution_count": 275,
   "id": "02e7b2c6-89cf-4391-afd3-25137af752cd",
   "metadata": {},
   "outputs": [
    {
     "data": {
      "text/plain": [
       "mappingproxy({'__module__': 'classes',\n",
       "              '__doc__': 'A class to represent a generic geometric shape.',\n",
       "              '__init__': <function classes.Shape.__init__(self, name: str)>,\n",
       "              'name': <property at 0x1b8da4c5a80>,\n",
       "              'area': <function classes.Shape.area(self) -> float>,\n",
       "              'perimeter': <function classes.Shape.perimeter(self) -> float>,\n",
       "              'locate': <function classes.Shape.locate(self) -> str>,\n",
       "              '__repr__': <function classes.Shape.__repr__(self) -> str>,\n",
       "              '__str__': <function classes.Shape.__str__(self) -> str>,\n",
       "              '__dict__': <attribute '__dict__' of 'Shape' objects>,\n",
       "              '__weakref__': <attribute '__weakref__' of 'Shape' objects>})"
      ]
     },
     "execution_count": 275,
     "metadata": {},
     "output_type": "execute_result"
    }
   ],
   "source": [
    "vars(Shape)"
   ]
  },
  {
   "cell_type": "code",
   "execution_count": 276,
   "id": "de35ea00-41b5-46e7-b1ec-78420f8cddd8",
   "metadata": {},
   "outputs": [
    {
     "name": "stdout",
     "output_type": "stream",
     "text": [
      "Help on class Shape in module classes:\n",
      "\n",
      "class Shape(builtins.object)\n",
      " |  Shape(name: str)\n",
      " |\n",
      " |  A class to represent a generic geometric shape.\n",
      " |\n",
      " |  Methods defined here:\n",
      " |\n",
      " |  __init__(self, name: str)\n",
      " |      Initialize the shape with a name.\n",
      " |\n",
      " |  __repr__(self) -> str\n",
      " |      Repr is for programmer.\n",
      " |\n",
      " |  __str__(self) -> str\n",
      " |      Return a user-friendly string representation of the shape.\n",
      " |\n",
      " |  area(self) -> float\n",
      " |      Calculate the area of the shape.\n",
      " |\n",
      " |  locate(self) -> str\n",
      " |      Provide a description of the shape's properties.\n",
      " |\n",
      " |  perimeter(self) -> float\n",
      " |      Calculate the perimeter of the shape.\n",
      " |\n",
      " |  ----------------------------------------------------------------------\n",
      " |  Data descriptors defined here:\n",
      " |\n",
      " |  __dict__\n",
      " |      dictionary for instance variables\n",
      " |\n",
      " |  __weakref__\n",
      " |      list of weak references to the object\n",
      " |\n",
      " |  name\n",
      " |      Get the name of the shape.\n",
      "\n"
     ]
    }
   ],
   "source": [
    "help(Shape)"
   ]
  },
  {
   "cell_type": "code",
   "execution_count": 277,
   "id": "9df5e965-3931-44b4-ac01-c41dfd0f1792",
   "metadata": {},
   "outputs": [
    {
     "name": "stdout",
     "output_type": "stream",
     "text": [
      "A class to represent a generic geometric shape.\n"
     ]
    }
   ],
   "source": [
    "print(Shape.__doc__)"
   ]
  },
  {
   "cell_type": "code",
   "execution_count": 278,
   "id": "c917f7a5-db84-45f9-b0e9-4e6892bb4d19",
   "metadata": {},
   "outputs": [
    {
     "name": "stdout",
     "output_type": "stream",
     "text": [
      "Initialize the shape with a name.\n",
      "        \n"
     ]
    }
   ],
   "source": [
    "print(Shape.__init__.__doc__)"
   ]
  },
  {
   "cell_type": "code",
   "execution_count": 279,
   "id": "6ba42d84-1333-4c0f-8de8-71df21a5779c",
   "metadata": {},
   "outputs": [
    {
     "name": "stdout",
     "output_type": "stream",
     "text": [
      "Get the name of the shape.\n"
     ]
    }
   ],
   "source": [
    "print(Shape.name.__doc__)"
   ]
  },
  {
   "cell_type": "code",
   "execution_count": 280,
   "id": "f37fa251-2749-4d85-8fb6-6593b77a2347",
   "metadata": {},
   "outputs": [
    {
     "name": "stdout",
     "output_type": "stream",
     "text": [
      "Calculate the area of the shape.\n",
      "        \n"
     ]
    }
   ],
   "source": [
    "print(Shape.area.__doc__)"
   ]
  },
  {
   "cell_type": "code",
   "execution_count": 287,
   "id": "5687e367-1d07-4fb6-b94b-5efe1cbe9f89",
   "metadata": {},
   "outputs": [
    {
     "name": "stdout",
     "output_type": "stream",
     "text": [
      "Calculate the perimeter of the shape.\n",
      "        \n"
     ]
    }
   ],
   "source": [
    "print(Shape.perimeter.__doc__)"
   ]
  },
  {
   "cell_type": "code",
   "execution_count": 288,
   "id": "b49f399c-4987-438a-b414-4aeb6b7cf8e4",
   "metadata": {},
   "outputs": [
    {
     "name": "stdout",
     "output_type": "stream",
     "text": [
      "Provide a description of the shape's properties.\n",
      "        \n"
     ]
    }
   ],
   "source": [
    "print(Shape.locate.__doc__)"
   ]
  },
  {
   "cell_type": "code",
   "execution_count": 289,
   "id": "daff8d60-3303-427a-805b-585e902f4ab7",
   "metadata": {},
   "outputs": [
    {
     "name": "stdout",
     "output_type": "stream",
     "text": [
      "Repr is for programmer.\n"
     ]
    }
   ],
   "source": [
    "print(Shape.__repr__.__doc__)"
   ]
  },
  {
   "cell_type": "code",
   "execution_count": 290,
   "id": "ba514ac1-7495-48d5-92eb-e76fe2609a36",
   "metadata": {},
   "outputs": [
    {
     "name": "stdout",
     "output_type": "stream",
     "text": [
      "Return a user-friendly string representation of the shape.\n"
     ]
    }
   ],
   "source": [
    "print(Shape.__str__.__doc__)"
   ]
  },
  {
   "cell_type": "code",
   "execution_count": 291,
   "id": "380f7944-efda-4775-8b4d-4c2885dfd7b6",
   "metadata": {},
   "outputs": [],
   "source": [
    "class Shape:\n",
    "    \"\"\"A class to represent a generic geometric shape.\"\"\"\n",
    "\n",
    "    def __init__(self, name: str=\"square\"):\n",
    "        \"\"\"Initialize the shape with a name.\n",
    "        \"\"\"\n",
    "        self._name = name"
   ]
  },
  {
   "cell_type": "code",
   "execution_count": 292,
   "id": "1ca24a80-90f0-4541-ac4a-249c99b3bff2",
   "metadata": {},
   "outputs": [],
   "source": [
    "sh=Shape()"
   ]
  },
  {
   "cell_type": "markdown",
   "id": "4911d744-7b65-4999-b36e-67551aeb4363",
   "metadata": {},
   "source": [
    "question 6"
   ]
  },
  {
   "cell_type": "markdown",
   "id": "6ceb43d0-9ffb-4aa4-b53e-d3e58fdb4df3",
   "metadata": {},
   "source": [
    "Convert the circuit tasks in lab 6 to module/s, create a package with the circuit's \n",
    "name, and revise the tasks."
   ]
  },
  {
   "cell_type": "code",
   "execution_count": 295,
   "id": "0057c321-75c6-4841-ab2d-6c2874e4bd13",
   "metadata": {},
   "outputs": [],
   "source": [
    "import os\n",
    "os.chdir(r'C:\\Users\\DELL\\Desktop\\UET\\3 semester\\OOPS lab\\circuits')"
   ]
  },
  {
   "cell_type": "code",
   "execution_count": 296,
   "id": "85b03aef-ddd1-4896-b7b2-c674f4e1f43d",
   "metadata": {},
   "outputs": [],
   "source": [
    "import circuits"
   ]
  },
  {
   "cell_type": "code",
   "execution_count": 297,
   "id": "d038099d-cc18-4f29-aa42-29a3ea225a7a",
   "metadata": {},
   "outputs": [],
   "source": [
    "from circuits import Circuit"
   ]
  },
  {
   "cell_type": "code",
   "execution_count": 298,
   "id": "7d46b500-1fc2-4509-b0d2-4310db268c5c",
   "metadata": {},
   "outputs": [],
   "source": [
    "inst_1=Circuit(3,20)"
   ]
  },
  {
   "cell_type": "code",
   "execution_count": 299,
   "id": "acc40711-4b8f-41f8-b9bb-61ec2b64f6f3",
   "metadata": {},
   "outputs": [
    {
     "name": "stdout",
     "output_type": "stream",
     "text": [
      "Circuit with resistance 3 Ω and voltage 20 V\n"
     ]
    }
   ],
   "source": [
    "print(inst_1)"
   ]
  },
  {
   "cell_type": "code",
   "execution_count": 300,
   "id": "fec9ca1a-b017-432c-8bfa-c57c6e7ed0e7",
   "metadata": {},
   "outputs": [
    {
     "data": {
      "text/plain": [
       "6.666666666666667"
      ]
     },
     "execution_count": 300,
     "metadata": {},
     "output_type": "execute_result"
    }
   ],
   "source": [
    "inst_1.current()"
   ]
  },
  {
   "cell_type": "code",
   "execution_count": 301,
   "id": "47e00337-7d37-45d5-83ef-6a6f639322d0",
   "metadata": {},
   "outputs": [
    {
     "data": {
      "text/plain": [
       "mappingproxy({'__module__': 'circuits',\n",
       "              '__doc__': '\\n    A class representing a circuit with one resistor.\\n    ',\n",
       "              '__init__': <function circuits.Circuit.__init__(self, R: float, E: float)>,\n",
       "              'R': <property at 0x1b8da53a340>,\n",
       "              'E': <property at 0x1b8da53a3e0>,\n",
       "              'current': <function circuits.Circuit.current(self) -> float>,\n",
       "              '__repr__': <function circuits.Circuit.__repr__(self) -> str>,\n",
       "              '__str__': <function circuits.Circuit.__str__(self) -> str>,\n",
       "              'power': <staticmethod(<function Circuit.power at 0x000001B8D8751EE0>)>,\n",
       "              'create_circuit': <classmethod(<function Circuit.create_circuit at 0x000001B8D8750360>)>,\n",
       "              '__dict__': <attribute '__dict__' of 'Circuit' objects>,\n",
       "              '__weakref__': <attribute '__weakref__' of 'Circuit' objects>})"
      ]
     },
     "execution_count": 301,
     "metadata": {},
     "output_type": "execute_result"
    }
   ],
   "source": [
    "Circuit.__dict__"
   ]
  },
  {
   "cell_type": "code",
   "execution_count": 302,
   "id": "0858fc3f-0d56-4074-9d9c-fcdff24d6ba2",
   "metadata": {},
   "outputs": [
    {
     "data": {
      "text/plain": [
       "{'_R': 3, '_E': 20}"
      ]
     },
     "execution_count": 302,
     "metadata": {},
     "output_type": "execute_result"
    }
   ],
   "source": [
    "inst_1.__dict__"
   ]
  },
  {
   "cell_type": "code",
   "execution_count": 303,
   "id": "4facf967-076a-4035-8dbd-5327c4fe9284",
   "metadata": {},
   "outputs": [
    {
     "data": {
      "text/plain": [
       "mappingproxy({'__module__': 'circuits',\n",
       "              '__doc__': '\\n    A class representing a circuit with one resistor.\\n    ',\n",
       "              '__init__': <function circuits.Circuit.__init__(self, R: float, E: float)>,\n",
       "              'R': <property at 0x1b8da53a340>,\n",
       "              'E': <property at 0x1b8da53a3e0>,\n",
       "              'current': <function circuits.Circuit.current(self) -> float>,\n",
       "              '__repr__': <function circuits.Circuit.__repr__(self) -> str>,\n",
       "              '__str__': <function circuits.Circuit.__str__(self) -> str>,\n",
       "              'power': <staticmethod(<function Circuit.power at 0x000001B8D8751EE0>)>,\n",
       "              'create_circuit': <classmethod(<function Circuit.create_circuit at 0x000001B8D8750360>)>,\n",
       "              '__dict__': <attribute '__dict__' of 'Circuit' objects>,\n",
       "              '__weakref__': <attribute '__weakref__' of 'Circuit' objects>})"
      ]
     },
     "execution_count": 303,
     "metadata": {},
     "output_type": "execute_result"
    }
   ],
   "source": [
    "vars(Circuit)"
   ]
  },
  {
   "cell_type": "code",
   "execution_count": 304,
   "id": "b7885101-d8dd-440c-9bf1-405c476cb74a",
   "metadata": {},
   "outputs": [
    {
     "name": "stdout",
     "output_type": "stream",
     "text": [
      "Help on class Circuit in module circuits:\n",
      "\n",
      "class Circuit(builtins.object)\n",
      " |  Circuit(R: float, E: float)\n",
      " |\n",
      " |  A class representing a circuit with one resistor.\n",
      " |\n",
      " |  Methods defined here:\n",
      " |\n",
      " |  __init__(self, R: float, E: float)\n",
      " |      Initialize the circuit with resistance and voltage.\n",
      " |\n",
      " |  __repr__(self) -> str\n",
      " |      Repr is for programmer.\n",
      " |\n",
      " |  __str__(self) -> str\n",
      " |      Return a human-readable string representation of the circuit.\n",
      " |\n",
      " |  current(self) -> float\n",
      " |      Calculate the current in the circuit using Ohm's Law.\n",
      " |\n",
      " |  ----------------------------------------------------------------------\n",
      " |  Class methods defined here:\n",
      " |\n",
      " |  create_circuit(R: float, E: float)\n",
      " |      Create a new circuit with the given resistance and voltage.\n",
      " |\n",
      " |  ----------------------------------------------------------------------\n",
      " |  Static methods defined here:\n",
      " |\n",
      " |  power(E: float, I: float) -> float\n",
      " |      Calculate the power in the circuit using the formula P = V x I.\n",
      " |\n",
      " |  ----------------------------------------------------------------------\n",
      " |  Data descriptors defined here:\n",
      " |\n",
      " |  E\n",
      " |      Get the voltage of the circuit.\n",
      " |\n",
      " |  R\n",
      " |      Get the resistance of the circuit.\n",
      " |\n",
      " |  __dict__\n",
      " |      dictionary for instance variables\n",
      " |\n",
      " |  __weakref__\n",
      " |      list of weak references to the object\n",
      "\n"
     ]
    }
   ],
   "source": [
    "help(Circuit)"
   ]
  },
  {
   "cell_type": "code",
   "execution_count": 305,
   "id": "5ec5244f-eb5b-4c29-bfa2-ec9884717430",
   "metadata": {},
   "outputs": [
    {
     "name": "stdout",
     "output_type": "stream",
     "text": [
      "\n",
      "    A class representing a circuit with one resistor.\n",
      "    \n"
     ]
    }
   ],
   "source": [
    "print(Circuit.__doc__)"
   ]
  },
  {
   "cell_type": "code",
   "execution_count": 306,
   "id": "d8970a2c-3b7a-460f-b80e-855c602aa33a",
   "metadata": {},
   "outputs": [
    {
     "name": "stdout",
     "output_type": "stream",
     "text": [
      "\n",
      "        Initialize the circuit with resistance and voltage.\n",
      "        \n"
     ]
    }
   ],
   "source": [
    "print(Circuit.__init__.__doc__)"
   ]
  },
  {
   "cell_type": "code",
   "execution_count": 307,
   "id": "4a265041-f19f-4c18-9846-2053dacce857",
   "metadata": {},
   "outputs": [
    {
     "name": "stdout",
     "output_type": "stream",
     "text": [
      "\n",
      "        Get the resistance of the circuit.\n",
      "        \n"
     ]
    }
   ],
   "source": [
    "print(Circuit.R.__doc__)"
   ]
  },
  {
   "cell_type": "code",
   "execution_count": 308,
   "id": "9cd6da72-3433-4657-bda9-9221ffbcb949",
   "metadata": {},
   "outputs": [
    {
     "name": "stdout",
     "output_type": "stream",
     "text": [
      "\n",
      "        Calculate the current in the circuit using Ohm's Law.\n",
      "        \n"
     ]
    }
   ],
   "source": [
    "print(Circuit.current.__doc__)"
   ]
  },
  {
   "cell_type": "code",
   "execution_count": 309,
   "id": "a29e5d4b-70b1-4113-b8d7-7e3ee93c970d",
   "metadata": {},
   "outputs": [
    {
     "name": "stdout",
     "output_type": "stream",
     "text": [
      "\n",
      "        Repr is for programmer.\n",
      "        \n"
     ]
    }
   ],
   "source": [
    "print(Circuit.__repr__.__doc__)"
   ]
  },
  {
   "cell_type": "code",
   "execution_count": 310,
   "id": "e9cca067-d9a8-430b-85b9-dc3294933f5c",
   "metadata": {},
   "outputs": [
    {
     "name": "stdout",
     "output_type": "stream",
     "text": [
      "\n",
      "        Return a human-readable string representation of the circuit.\n",
      "        \n"
     ]
    }
   ],
   "source": [
    "print(Circuit.__str__.__doc__)"
   ]
  },
  {
   "cell_type": "code",
   "execution_count": 311,
   "id": "21ddcaff-c5cf-44b3-9977-0f8a6728f0fd",
   "metadata": {},
   "outputs": [],
   "source": [
    "from circuits import RL_parallel_Circuit"
   ]
  },
  {
   "cell_type": "code",
   "execution_count": 312,
   "id": "5b07599a-f340-493d-b255-6a29715f3813",
   "metadata": {},
   "outputs": [],
   "source": [
    "inst_1= RL_parallel_Circuit(3,7,8)"
   ]
  },
  {
   "cell_type": "code",
   "execution_count": 313,
   "id": "5fa9e799-e451-4ddc-b2a5-3c50d53b149e",
   "metadata": {},
   "outputs": [
    {
     "name": "stdout",
     "output_type": "stream",
     "text": [
      " RL_parallel_Circuit has Resistance 3 ohms, reactance 7 henrys & voltage = 8volt\n"
     ]
    }
   ],
   "source": [
    "print(inst_1)"
   ]
  },
  {
   "cell_type": "code",
   "execution_count": 314,
   "id": "8f14310a-20fe-4bc0-8928-90d72cc70a1b",
   "metadata": {},
   "outputs": [
    {
     "data": {
      "text/plain": [
       "3.142857142857143"
      ]
     },
     "execution_count": 314,
     "metadata": {},
     "output_type": "execute_result"
    }
   ],
   "source": [
    "inst_1.zt()"
   ]
  },
  {
   "cell_type": "code",
   "execution_count": 315,
   "id": "26f32bb6-710b-4367-b98e-f1ce665f277c",
   "metadata": {},
   "outputs": [
    {
     "data": {
      "text/plain": [
       "2.6666666666666665"
      ]
     },
     "execution_count": 315,
     "metadata": {},
     "output_type": "execute_result"
    }
   ],
   "source": [
    "inst_1.I()"
   ]
  },
  {
   "cell_type": "code",
   "execution_count": 316,
   "id": "30ba59e3-2d2c-415f-b52e-e6b8bbc7370b",
   "metadata": {},
   "outputs": [
    {
     "data": {
      "text/plain": [
       "{'_R': 3, '_X_L': 7, '_E': 8}"
      ]
     },
     "execution_count": 316,
     "metadata": {},
     "output_type": "execute_result"
    }
   ],
   "source": [
    "inst_1.__dict__"
   ]
  },
  {
   "cell_type": "code",
   "execution_count": 317,
   "id": "0b8c462e-407b-44ef-a9f4-30fe7cf2cc12",
   "metadata": {},
   "outputs": [
    {
     "data": {
      "text/plain": [
       "mappingproxy({'__module__': 'circuits',\n",
       "              '__doc__': 'A class to represent a simple RL circuit with a resistor and an inductor.',\n",
       "              '__init__': <function circuits.RL_parallel_Circuit.__init__(self, R: float, X_L: float, E)>,\n",
       "              'R': <property at 0x1b8da53a480>,\n",
       "              'X_L': <property at 0x1b8da53a660>,\n",
       "              'E': <property at 0x1b8da53aca0>,\n",
       "              'zt': <function circuits.RL_parallel_Circuit.zt(self) -> str>,\n",
       "              'I': <function circuits.RL_parallel_Circuit.I(self)>,\n",
       "              'I_R': <function circuits.RL_parallel_Circuit.I_R(self)>,\n",
       "              'I_XL': <function circuits.RL_parallel_Circuit.I_XL(self)>,\n",
       "              'Pt': <function circuits.RL_parallel_Circuit.Pt(self, current)>,\n",
       "              'P_f': <classmethod(<function RL_parallel_Circuit.P_f at 0x000001B8DA1E9260>)>,\n",
       "              'angle': <staticmethod(<function RL_parallel_Circuit.angle at 0x000001B8DA1EBC40>)>,\n",
       "              '__repr__': <function circuits.RL_parallel_Circuit.__repr__(self) -> str>,\n",
       "              '__str__': <function circuits.RL_parallel_Circuit.__str__(self) -> str>,\n",
       "              '__dict__': <attribute '__dict__' of 'RL_parallel_Circuit' objects>,\n",
       "              '__weakref__': <attribute '__weakref__' of 'RL_parallel_Circuit' objects>})"
      ]
     },
     "execution_count": 317,
     "metadata": {},
     "output_type": "execute_result"
    }
   ],
   "source": [
    "RL_parallel_Circuit.__dict__"
   ]
  },
  {
   "cell_type": "code",
   "execution_count": 318,
   "id": "718713cc-17cd-4bbd-870a-c24cad02ebee",
   "metadata": {},
   "outputs": [
    {
     "data": {
      "text/plain": [
       "mappingproxy({'__module__': 'circuits',\n",
       "              '__doc__': 'A class to represent a simple RL circuit with a resistor and an inductor.',\n",
       "              '__init__': <function circuits.RL_parallel_Circuit.__init__(self, R: float, X_L: float, E)>,\n",
       "              'R': <property at 0x1b8da53a480>,\n",
       "              'X_L': <property at 0x1b8da53a660>,\n",
       "              'E': <property at 0x1b8da53aca0>,\n",
       "              'zt': <function circuits.RL_parallel_Circuit.zt(self) -> str>,\n",
       "              'I': <function circuits.RL_parallel_Circuit.I(self)>,\n",
       "              'I_R': <function circuits.RL_parallel_Circuit.I_R(self)>,\n",
       "              'I_XL': <function circuits.RL_parallel_Circuit.I_XL(self)>,\n",
       "              'Pt': <function circuits.RL_parallel_Circuit.Pt(self, current)>,\n",
       "              'P_f': <classmethod(<function RL_parallel_Circuit.P_f at 0x000001B8DA1E9260>)>,\n",
       "              'angle': <staticmethod(<function RL_parallel_Circuit.angle at 0x000001B8DA1EBC40>)>,\n",
       "              '__repr__': <function circuits.RL_parallel_Circuit.__repr__(self) -> str>,\n",
       "              '__str__': <function circuits.RL_parallel_Circuit.__str__(self) -> str>,\n",
       "              '__dict__': <attribute '__dict__' of 'RL_parallel_Circuit' objects>,\n",
       "              '__weakref__': <attribute '__weakref__' of 'RL_parallel_Circuit' objects>})"
      ]
     },
     "execution_count": 318,
     "metadata": {},
     "output_type": "execute_result"
    }
   ],
   "source": [
    "vars( RL_parallel_Circuit)"
   ]
  },
  {
   "cell_type": "code",
   "execution_count": 349,
   "id": "c106304e-3c84-43be-ac94-0a169427eef9",
   "metadata": {},
   "outputs": [
    {
     "name": "stdout",
     "output_type": "stream",
     "text": [
      "Help on class RL_parallel_Circuit in module circuits:\n",
      "\n",
      "class RL_parallel_Circuit(builtins.object)\n",
      " |  RL_parallel_Circuit(R: float, X_L: float, E)\n",
      " |\n",
      " |  A class to represent a simple RL circuit with a resistor and an inductor.\n",
      " |\n",
      " |  Methods defined here:\n",
      " |\n",
      " |  I(self)\n",
      " |\n",
      " |  I_R(self)\n",
      " |\n",
      " |  I_XL(self)\n",
      " |\n",
      " |  Pt(self, current)\n",
      " |\n",
      " |  __init__(self, R: float, X_L: float, E)\n",
      " |      Initialize the RL circuit with a resistor and an inductor.\n",
      " |\n",
      " |  __repr__(self) -> str\n",
      " |      repr is for programmer\n",
      " |\n",
      " |  __str__(self) -> str\n",
      " |      str is for common people\n",
      " |\n",
      " |  zt(self) -> str\n",
      " |      Provide a description of the RL circuit's properties.\n",
      " |\n",
      " |  ----------------------------------------------------------------------\n",
      " |  Class methods defined here:\n",
      " |\n",
      " |  P_f()\n",
      " |\n",
      " |  ----------------------------------------------------------------------\n",
      " |  Static methods defined here:\n",
      " |\n",
      " |  angle()\n",
      " |\n",
      " |  ----------------------------------------------------------------------\n",
      " |  Data descriptors defined here:\n",
      " |\n",
      " |  E\n",
      " |      Get the voltage.\n",
      " |\n",
      " |  R\n",
      " |      Get the resistance of the resistor.\n",
      " |\n",
      " |  X_L\n",
      " |      Get the reactance of the inductor.\n",
      " |\n",
      " |  __dict__\n",
      " |      dictionary for instance variables\n",
      " |\n",
      " |  __weakref__\n",
      " |      list of weak references to the object\n",
      "\n"
     ]
    }
   ],
   "source": [
    "help( RL_parallel_Circuit)"
   ]
  },
  {
   "cell_type": "code",
   "execution_count": 350,
   "id": "32e49ba5-e2f7-4f8b-9b69-76795ad6d35a",
   "metadata": {},
   "outputs": [],
   "source": [
    "from circuits import RL_series_circuit"
   ]
  },
  {
   "cell_type": "code",
   "execution_count": 351,
   "id": "37fe369a-8da6-43a9-803c-c908df49f338",
   "metadata": {},
   "outputs": [],
   "source": [
    "inst_1=RL_series_circuit(2,0.002,50)"
   ]
  },
  {
   "cell_type": "code",
   "execution_count": 352,
   "id": "a73c89a4-5ddb-4e3a-8347-f8bb29c4e941",
   "metadata": {},
   "outputs": [
    {
     "name": "stdout",
     "output_type": "stream",
     "text": [
      "RL_Series_Circuit with resistance 2 ohm, inductance 0.002 ohm & voltage: 50V\n"
     ]
    }
   ],
   "source": [
    "print(inst_1)"
   ]
  },
  {
   "cell_type": "code",
   "execution_count": 353,
   "id": "c94f5f0e-f679-47ab-a048-ad4ace68d4df",
   "metadata": {},
   "outputs": [
    {
     "data": {
      "text/plain": [
       "2.002"
      ]
     },
     "execution_count": 353,
     "metadata": {},
     "output_type": "execute_result"
    }
   ],
   "source": [
    "inst_1.zt"
   ]
  },
  {
   "cell_type": "code",
   "execution_count": 354,
   "id": "eeddca4d-27b5-4009-92c8-380c6320dd34",
   "metadata": {},
   "outputs": [
    {
     "data": {
      "text/plain": [
       "0.04995004995004996"
      ]
     },
     "execution_count": 354,
     "metadata": {},
     "output_type": "execute_result"
    }
   ],
   "source": [
    "inst_1.V_L"
   ]
  },
  {
   "cell_type": "code",
   "execution_count": 355,
   "id": "ef181955-1811-4e5a-8159-f70e5efc3b62",
   "metadata": {},
   "outputs": [
    {
     "data": {
      "text/plain": [
       "49.95004995004996"
      ]
     },
     "execution_count": 355,
     "metadata": {},
     "output_type": "execute_result"
    }
   ],
   "source": [
    "inst_1.V_R"
   ]
  },
  {
   "cell_type": "code",
   "execution_count": 356,
   "id": "c3892512-f8ff-4f52-9ed7-93153d9f6e14",
   "metadata": {},
   "outputs": [
    {
     "data": {
      "text/plain": [
       "24.97502497502498"
      ]
     },
     "execution_count": 356,
     "metadata": {},
     "output_type": "execute_result"
    }
   ],
   "source": [
    "inst_1.I_t"
   ]
  },
  {
   "cell_type": "code",
   "execution_count": 357,
   "id": "71a05311-04b5-4f67-8aef-59a3323f5314",
   "metadata": {},
   "outputs": [
    {
     "data": {
      "text/plain": [
       "mappingproxy({'__module__': 'circuits',\n",
       "              '__doc__': 'A class to represent a RL_series_circuit with one resistor, & an inductor',\n",
       "              '__init__': <function circuits.RL_series_circuit.__init__(self, R: float, X_L: float, E: float)>,\n",
       "              'R': <property at 0x1b8da53b5b0>,\n",
       "              'X_L': <property at 0x1b8da53b880>,\n",
       "              'E': <property at 0x1b8da53b8d0>,\n",
       "              'zt': <property at 0x1b8da53b010>,\n",
       "              'I_t': <property at 0x1b8da53b4c0>,\n",
       "              'V_R': <property at 0x1b8da53b920>,\n",
       "              'V_L': <property at 0x1b8da53b970>,\n",
       "              'P_t': <property at 0x1b8da53b9c0>,\n",
       "              'P_f': <classmethod(<function RL_series_circuit.P_f at 0x000001B8DA1EB6A0>)>,\n",
       "              'angle': <staticmethod(<function RL_series_circuit.angle at 0x000001B8DA1EA200>)>,\n",
       "              '__repr__': <function circuits.RL_series_circuit.__repr__(self) -> str>,\n",
       "              '__str__': <function circuits.RL_series_circuit.__str__(self) -> str>,\n",
       "              '__dict__': <attribute '__dict__' of 'RL_series_circuit' objects>,\n",
       "              '__weakref__': <attribute '__weakref__' of 'RL_series_circuit' objects>})"
      ]
     },
     "execution_count": 357,
     "metadata": {},
     "output_type": "execute_result"
    }
   ],
   "source": [
    "RL_series_circuit.__dict__"
   ]
  },
  {
   "cell_type": "code",
   "execution_count": 358,
   "id": "4dd1aac9-0969-4536-8b18-d0b39670756d",
   "metadata": {},
   "outputs": [
    {
     "data": {
      "text/plain": [
       "{'_R': 2, '_X_L': 0.002, '_E': 50}"
      ]
     },
     "execution_count": 358,
     "metadata": {},
     "output_type": "execute_result"
    }
   ],
   "source": [
    "inst_1.__dict__"
   ]
  },
  {
   "cell_type": "code",
   "execution_count": 359,
   "id": "b6ddb358-fcda-4132-9603-8f0dc76095b3",
   "metadata": {},
   "outputs": [
    {
     "data": {
      "text/plain": [
       "mappingproxy({'__module__': 'circuits',\n",
       "              '__doc__': 'A class to represent a RL_series_circuit with one resistor, & an inductor',\n",
       "              '__init__': <function circuits.RL_series_circuit.__init__(self, R: float, X_L: float, E: float)>,\n",
       "              'R': <property at 0x1b8da53b5b0>,\n",
       "              'X_L': <property at 0x1b8da53b880>,\n",
       "              'E': <property at 0x1b8da53b8d0>,\n",
       "              'zt': <property at 0x1b8da53b010>,\n",
       "              'I_t': <property at 0x1b8da53b4c0>,\n",
       "              'V_R': <property at 0x1b8da53b920>,\n",
       "              'V_L': <property at 0x1b8da53b970>,\n",
       "              'P_t': <property at 0x1b8da53b9c0>,\n",
       "              'P_f': <classmethod(<function RL_series_circuit.P_f at 0x000001B8DA1EB6A0>)>,\n",
       "              'angle': <staticmethod(<function RL_series_circuit.angle at 0x000001B8DA1EA200>)>,\n",
       "              '__repr__': <function circuits.RL_series_circuit.__repr__(self) -> str>,\n",
       "              '__str__': <function circuits.RL_series_circuit.__str__(self) -> str>,\n",
       "              '__dict__': <attribute '__dict__' of 'RL_series_circuit' objects>,\n",
       "              '__weakref__': <attribute '__weakref__' of 'RL_series_circuit' objects>})"
      ]
     },
     "execution_count": 359,
     "metadata": {},
     "output_type": "execute_result"
    }
   ],
   "source": [
    "vars(RL_series_circuit)"
   ]
  },
  {
   "cell_type": "code",
   "execution_count": 360,
   "id": "f1e78b8e-3719-4ff9-9585-394f9ea82d10",
   "metadata": {},
   "outputs": [
    {
     "name": "stdout",
     "output_type": "stream",
     "text": [
      "Help on class RL_series_circuit in module circuits:\n",
      "\n",
      "class RL_series_circuit(builtins.object)\n",
      " |  RL_series_circuit(R: float, X_L: float, E: float)\n",
      " |\n",
      " |  A class to represent a RL_series_circuit with one resistor, & an inductor\n",
      " |\n",
      " |  Methods defined here:\n",
      " |\n",
      " |  __init__(self, R: float, X_L: float, E: float)\n",
      " |      Initialize the circuit with a resistor, inductor.\n",
      " |\n",
      " |  __repr__(self) -> str\n",
      " |      repr is for programmer\n",
      " |\n",
      " |  __str__(self) -> str\n",
      " |      str is for common person or for the coder that use programmer code\n",
      " |\n",
      " |  ----------------------------------------------------------------------\n",
      " |  Class methods defined here:\n",
      " |\n",
      " |  P_f()\n",
      " |      give the power_factor of circuit\n",
      " |\n",
      " |  ----------------------------------------------------------------------\n",
      " |  Static methods defined here:\n",
      " |\n",
      " |  angle(self, R, X_L)\n",
      " |      give the angle of circuit\n",
      " |\n",
      " |  ----------------------------------------------------------------------\n",
      " |  Readonly properties defined here:\n",
      " |\n",
      " |  I_t\n",
      " |      give the total_current of circuit\n",
      " |\n",
      " |  P_t\n",
      " |      give the total_power of circuit\n",
      " |\n",
      " |  V_L\n",
      " |      give the inductor_voltage of circuit\n",
      " |\n",
      " |  V_R\n",
      " |      give the resistor_voltage of circuit\n",
      " |\n",
      " |  zt\n",
      " |      give the impedence of circuit\n",
      " |\n",
      " |  ----------------------------------------------------------------------\n",
      " |  Data descriptors defined here:\n",
      " |\n",
      " |  E\n",
      " |      Get the voltage\n",
      " |\n",
      " |  R\n",
      " |      Get the resistance of resistor.\n",
      " |\n",
      " |  X_L\n",
      " |      Get the inductance\n",
      " |\n",
      " |  __dict__\n",
      " |      dictionary for instance variables\n",
      " |\n",
      " |  __weakref__\n",
      " |      list of weak references to the object\n",
      "\n"
     ]
    }
   ],
   "source": [
    "help(RL_series_circuit)"
   ]
  },
  {
   "cell_type": "code",
   "execution_count": 361,
   "id": "f1ca5545-7588-40c4-bfcf-cd01276d2dd2",
   "metadata": {},
   "outputs": [
    {
     "name": "stdout",
     "output_type": "stream",
     "text": [
      "A class to represent a RL_series_circuit with one resistor, & an inductor\n"
     ]
    }
   ],
   "source": [
    "print(RL_series_circuit.__doc__)"
   ]
  },
  {
   "cell_type": "code",
   "execution_count": 362,
   "id": "d35caacf-aa66-4566-ba34-becf60b8600e",
   "metadata": {},
   "outputs": [
    {
     "name": "stdout",
     "output_type": "stream",
     "text": [
      "Initialize the circuit with a resistor, inductor.\n",
      "        \n"
     ]
    }
   ],
   "source": [
    "print(RL_series_circuit.__init__.__doc__)"
   ]
  },
  {
   "cell_type": "code",
   "execution_count": 363,
   "id": "e7b36421-8f4b-4826-acc2-e652b440c78d",
   "metadata": {},
   "outputs": [
    {
     "name": "stdout",
     "output_type": "stream",
     "text": [
      "Get the resistance of resistor.\n"
     ]
    }
   ],
   "source": [
    "print(RL_series_circuit.R.__doc__)"
   ]
  },
  {
   "cell_type": "code",
   "execution_count": 364,
   "id": "6d4e5630-2d51-466b-9e21-8cee83d8cbf2",
   "metadata": {},
   "outputs": [
    {
     "name": "stdout",
     "output_type": "stream",
     "text": [
      "Get the inductance\n"
     ]
    }
   ],
   "source": [
    "print(RL_series_circuit.X_L.__doc__)"
   ]
  },
  {
   "cell_type": "code",
   "execution_count": 365,
   "id": "19904b4c-f8eb-4ec6-b57f-7a2626f21f85",
   "metadata": {},
   "outputs": [
    {
     "name": "stdout",
     "output_type": "stream",
     "text": [
      "give the impedence of circuit\n"
     ]
    }
   ],
   "source": [
    "print(RL_series_circuit.zt.__doc__)"
   ]
  },
  {
   "cell_type": "code",
   "execution_count": 366,
   "id": "9fcf7c13-eef5-46d6-82c1-0146c7169084",
   "metadata": {},
   "outputs": [
    {
     "name": "stdout",
     "output_type": "stream",
     "text": [
      "give the total_current of circuit\n"
     ]
    }
   ],
   "source": [
    "print(RL_series_circuit.I_t.__doc__)"
   ]
  },
  {
   "cell_type": "code",
   "execution_count": 367,
   "id": "752f95e3-b3cb-4075-b7e5-d3254997aad5",
   "metadata": {},
   "outputs": [
    {
     "name": "stdout",
     "output_type": "stream",
     "text": [
      "give the resistor_voltage of circuit\n"
     ]
    }
   ],
   "source": [
    "print(RL_series_circuit.V_R.__doc__)"
   ]
  },
  {
   "cell_type": "code",
   "execution_count": 387,
   "id": "53f110c6-a502-4b8b-9948-9328acf4a694",
   "metadata": {},
   "outputs": [
    {
     "name": "stdout",
     "output_type": "stream",
     "text": [
      "give the inductor_voltage of circuit\n"
     ]
    }
   ],
   "source": [
    "print(RL_series_circuit.V_L.__doc__)"
   ]
  },
  {
   "cell_type": "code",
   "execution_count": 388,
   "id": "db266597-9fb3-4486-a89e-e25b92a5b930",
   "metadata": {},
   "outputs": [
    {
     "name": "stdout",
     "output_type": "stream",
     "text": [
      "give the power_factor of circuit\n"
     ]
    }
   ],
   "source": [
    "print(RL_series_circuit.P_f.__doc__)"
   ]
  },
  {
   "cell_type": "code",
   "execution_count": 389,
   "id": "bbfcb526-f4e6-4c85-b46e-63b65efed94a",
   "metadata": {},
   "outputs": [
    {
     "name": "stdout",
     "output_type": "stream",
     "text": [
      "give the angle of circuit\n"
     ]
    }
   ],
   "source": [
    "print(RL_series_circuit.angle.__doc__)"
   ]
  },
  {
   "cell_type": "code",
   "execution_count": 390,
   "id": "e5336f77-44ec-4697-8372-18f9079d2e63",
   "metadata": {},
   "outputs": [
    {
     "name": "stdout",
     "output_type": "stream",
     "text": [
      "repr is for programmer\n"
     ]
    }
   ],
   "source": [
    "print(RL_series_circuit.__repr__.__doc__)"
   ]
  },
  {
   "cell_type": "code",
   "execution_count": 391,
   "id": "4a9b585b-8d12-487f-a7ef-b73ca5611786",
   "metadata": {},
   "outputs": [
    {
     "name": "stdout",
     "output_type": "stream",
     "text": [
      "str is for common person or for the coder that use programmer code\n"
     ]
    }
   ],
   "source": [
    "print(RL_series_circuit.__str__.__doc__)"
   ]
  },
  {
   "cell_type": "code",
   "execution_count": 392,
   "id": "b81eeb58-6dcd-4696-9bd7-6b11b4fddd97",
   "metadata": {},
   "outputs": [],
   "source": [
    "from circuits import RC_parallel_Circuit"
   ]
  },
  {
   "cell_type": "code",
   "execution_count": 393,
   "id": "a921be6e-7da2-4fe3-af24-cffb0e060cd8",
   "metadata": {},
   "outputs": [],
   "source": [
    "inst_2=RC_parallel_Circuit(2,6,9)"
   ]
  },
  {
   "cell_type": "code",
   "execution_count": 394,
   "id": "be09db63-8a46-4078-a3f8-d621201ba93f",
   "metadata": {},
   "outputs": [
    {
     "data": {
      "text/plain": [
       "2.1666666666666665"
      ]
     },
     "execution_count": 394,
     "metadata": {},
     "output_type": "execute_result"
    }
   ],
   "source": [
    "inst_2.zt()"
   ]
  },
  {
   "cell_type": "code",
   "execution_count": 395,
   "id": "ed9be231-36df-4b36-9828-b3c7bf8d27f2",
   "metadata": {},
   "outputs": [
    {
     "data": {
      "text/plain": [
       "18"
      ]
     },
     "execution_count": 395,
     "metadata": {},
     "output_type": "execute_result"
    }
   ],
   "source": [
    "inst_2.E()"
   ]
  },
  {
   "cell_type": "code",
   "execution_count": 396,
   "id": "6bd6e566-5fdd-4766-a66d-c3d57a064b09",
   "metadata": {},
   "outputs": [
    {
     "data": {
      "text/plain": [
       "9.0"
      ]
     },
     "execution_count": 396,
     "metadata": {},
     "output_type": "execute_result"
    }
   ],
   "source": [
    "inst_2.I_R()"
   ]
  },
  {
   "cell_type": "code",
   "execution_count": 397,
   "id": "ad259467-91a9-48d4-bdde-83c96b3e6591",
   "metadata": {},
   "outputs": [
    {
     "data": {
      "text/plain": [
       "3.0"
      ]
     },
     "execution_count": 397,
     "metadata": {},
     "output_type": "execute_result"
    }
   ],
   "source": [
    "inst_2.I_C()"
   ]
  },
  {
   "cell_type": "code",
   "execution_count": 398,
   "id": "522b9b87-21f1-41ff-8d3c-9a73ea9779d6",
   "metadata": {},
   "outputs": [
    {
     "data": {
      "text/plain": [
       "0.982793723247329"
      ]
     },
     "execution_count": 398,
     "metadata": {},
     "output_type": "execute_result"
    }
   ],
   "source": [
    "inst_2.angle(2,3)"
   ]
  },
  {
   "cell_type": "code",
   "execution_count": 399,
   "id": "b9331dc0-4ee3-4643-9074-9523569755f0",
   "metadata": {},
   "outputs": [
    {
     "name": "stdout",
     "output_type": "stream",
     "text": [
      "RL_Series_Circuit with resistance 2 ohm, inductance 0.002 ohm & voltage: 50V\n"
     ]
    }
   ],
   "source": [
    "print(inst_1)"
   ]
  },
  {
   "cell_type": "code",
   "execution_count": 400,
   "id": "6d72cc87-6927-449f-b71f-7f98d2eb14b0",
   "metadata": {},
   "outputs": [
    {
     "name": "stdout",
     "output_type": "stream",
     "text": [
      "RC_parallel_Circuit has Resistance 2 ohms & Capacitance 6 farads\n"
     ]
    }
   ],
   "source": [
    "print(inst_2)"
   ]
  },
  {
   "cell_type": "code",
   "execution_count": 401,
   "id": "684c66b6-ee2c-42d1-8440-d68d5e490f5c",
   "metadata": {},
   "outputs": [
    {
     "data": {
      "text/plain": [
       "mappingproxy({'__module__': 'circuits',\n",
       "              '__doc__': 'A class to represent a simple RC circuit with a resistor and a capacitor.',\n",
       "              '__init__': <function circuits.RC_parallel_Circuit.__init__(self, R: float, X_C: float, I: float)>,\n",
       "              'R': <property at 0x1b8da53bba0>,\n",
       "              'X_C': <property at 0x1b8da53bbf0>,\n",
       "              'I': <property at 0x1b8da53bc40>,\n",
       "              'zt': <function circuits.RC_parallel_Circuit.zt(self) -> str>,\n",
       "              'E': <function circuits.RC_parallel_Circuit.E(self)>,\n",
       "              'I_R': <function circuits.RC_parallel_Circuit.I_R(self)>,\n",
       "              'I_C': <function circuits.RC_parallel_Circuit.I_C(self)>,\n",
       "              'P_t': <classmethod(<function RC_parallel_Circuit.P_t at 0x000001B8DA1EA160>)>,\n",
       "              'angle': <staticmethod(<function RC_parallel_Circuit.angle at 0x000001B8DA1EA3E0>)>,\n",
       "              '__repr__': <function circuits.RC_parallel_Circuit.__repr__(self) -> str>,\n",
       "              '__str__': <function circuits.RC_parallel_Circuit.__str__(self) -> str>,\n",
       "              '__dict__': <attribute '__dict__' of 'RC_parallel_Circuit' objects>,\n",
       "              '__weakref__': <attribute '__weakref__' of 'RC_parallel_Circuit' objects>})"
      ]
     },
     "execution_count": 401,
     "metadata": {},
     "output_type": "execute_result"
    }
   ],
   "source": [
    "RC_parallel_Circuit.__dict__"
   ]
  },
  {
   "cell_type": "code",
   "execution_count": 402,
   "id": "18e427e6-cd43-4349-8044-39b9c901691b",
   "metadata": {},
   "outputs": [
    {
     "data": {
      "text/plain": [
       "{'_R': 2, '_X_C': 6, '_I': 9}"
      ]
     },
     "execution_count": 402,
     "metadata": {},
     "output_type": "execute_result"
    }
   ],
   "source": [
    "inst_2.__dict__"
   ]
  },
  {
   "cell_type": "code",
   "execution_count": 403,
   "id": "6f8ff460-e8f6-409a-947a-a4a27f9f7d3c",
   "metadata": {},
   "outputs": [
    {
     "data": {
      "text/plain": [
       "mappingproxy({'__module__': 'circuits',\n",
       "              '__doc__': 'A class to represent a simple RC circuit with a resistor and a capacitor.',\n",
       "              '__init__': <function circuits.RC_parallel_Circuit.__init__(self, R: float, X_C: float, I: float)>,\n",
       "              'R': <property at 0x1b8da53bba0>,\n",
       "              'X_C': <property at 0x1b8da53bbf0>,\n",
       "              'I': <property at 0x1b8da53bc40>,\n",
       "              'zt': <function circuits.RC_parallel_Circuit.zt(self) -> str>,\n",
       "              'E': <function circuits.RC_parallel_Circuit.E(self)>,\n",
       "              'I_R': <function circuits.RC_parallel_Circuit.I_R(self)>,\n",
       "              'I_C': <function circuits.RC_parallel_Circuit.I_C(self)>,\n",
       "              'P_t': <classmethod(<function RC_parallel_Circuit.P_t at 0x000001B8DA1EA160>)>,\n",
       "              'angle': <staticmethod(<function RC_parallel_Circuit.angle at 0x000001B8DA1EA3E0>)>,\n",
       "              '__repr__': <function circuits.RC_parallel_Circuit.__repr__(self) -> str>,\n",
       "              '__str__': <function circuits.RC_parallel_Circuit.__str__(self) -> str>,\n",
       "              '__dict__': <attribute '__dict__' of 'RC_parallel_Circuit' objects>,\n",
       "              '__weakref__': <attribute '__weakref__' of 'RC_parallel_Circuit' objects>})"
      ]
     },
     "execution_count": 403,
     "metadata": {},
     "output_type": "execute_result"
    }
   ],
   "source": [
    "vars(RC_parallel_Circuit)"
   ]
  },
  {
   "cell_type": "code",
   "execution_count": 421,
   "id": "c7cad3f3-0267-496b-bf90-97fea2932184",
   "metadata": {},
   "outputs": [
    {
     "name": "stdout",
     "output_type": "stream",
     "text": [
      "Help on class RC_parallel_Circuit in module circuits:\n",
      "\n",
      "class RC_parallel_Circuit(builtins.object)\n",
      " |  RC_parallel_Circuit(R: float, X_C: float, I: float)\n",
      " |\n",
      " |  A class to represent a simple RC circuit with a resistor and a capacitor.\n",
      " |\n",
      " |  Methods defined here:\n",
      " |\n",
      " |  E(self)\n",
      " |      give the voltage of the circuit\n",
      " |\n",
      " |  I_C(self)\n",
      " |      give the capacitor_current of the circuit\n",
      " |\n",
      " |  I_R(self)\n",
      " |      give the resistor_current of the circuit\n",
      " |\n",
      " |  __init__(self, R: float, X_C: float, I: float)\n",
      " |      Initialize the RC circuit with a resistor and a capacitor.\n",
      " |\n",
      " |  __repr__(self) -> str\n",
      " |      repr is for programmer\n",
      " |\n",
      " |  __str__(self) -> str\n",
      " |      str is for common people\n",
      " |\n",
      " |  zt(self) -> str\n",
      " |      give the total_impedence of the circuit\n",
      " |\n",
      " |  ----------------------------------------------------------------------\n",
      " |  Class methods defined here:\n",
      " |\n",
      " |  P_t(voltage)\n",
      " |      give the total_power of the circuit\n",
      " |\n",
      " |  ----------------------------------------------------------------------\n",
      " |  Static methods defined here:\n",
      " |\n",
      " |  angle(R, X_C)\n",
      " |      give the angle of circuit\n",
      " |\n",
      " |  ----------------------------------------------------------------------\n",
      " |  Data descriptors defined here:\n",
      " |\n",
      " |  I\n",
      " |      Get current.\n",
      " |\n",
      " |  R\n",
      " |      Get the resistance of the resistor.\n",
      " |\n",
      " |  X_C\n",
      " |      Get the capacitance of the capacitor.\n",
      " |\n",
      " |  __dict__\n",
      " |      dictionary for instance variables\n",
      " |\n",
      " |  __weakref__\n",
      " |      list of weak references to the object\n",
      "\n"
     ]
    }
   ],
   "source": [
    "help(RC_parallel_Circuit)"
   ]
  },
  {
   "cell_type": "code",
   "execution_count": 422,
   "id": "958134df-b63c-435a-8689-40840fd1c379",
   "metadata": {},
   "outputs": [
    {
     "name": "stdout",
     "output_type": "stream",
     "text": [
      "A class to represent a simple RC circuit with a resistor and a capacitor.\n"
     ]
    }
   ],
   "source": [
    "print(RC_parallel_Circuit.__doc__)"
   ]
  },
  {
   "cell_type": "code",
   "execution_count": 423,
   "id": "ecb0bdd1-912c-47d4-beea-b090309d77c2",
   "metadata": {},
   "outputs": [
    {
     "name": "stdout",
     "output_type": "stream",
     "text": [
      "Initialize the RC circuit with a resistor and a capacitor.\n",
      "        \n"
     ]
    }
   ],
   "source": [
    "print(RC_parallel_Circuit.__init__.__doc__)"
   ]
  },
  {
   "cell_type": "code",
   "execution_count": 424,
   "id": "c68bf5bb-7ff6-43f2-8969-18c10080c6d0",
   "metadata": {},
   "outputs": [
    {
     "name": "stdout",
     "output_type": "stream",
     "text": [
      "Get the resistance of the resistor.\n"
     ]
    }
   ],
   "source": [
    "print(RC_parallel_Circuit.R.__doc__)"
   ]
  },
  {
   "cell_type": "code",
   "execution_count": 425,
   "id": "3dc63f4e-679c-492c-8169-8e68b4d31485",
   "metadata": {},
   "outputs": [
    {
     "name": "stdout",
     "output_type": "stream",
     "text": [
      "Get the capacitance of the capacitor.\n"
     ]
    }
   ],
   "source": [
    "print(RC_parallel_Circuit.X_C.__doc__)"
   ]
  },
  {
   "cell_type": "code",
   "execution_count": 426,
   "id": "c8bd47d0-aa17-4f80-8615-8e7ea4475f3f",
   "metadata": {},
   "outputs": [
    {
     "name": "stdout",
     "output_type": "stream",
     "text": [
      "repr is for programmer\n"
     ]
    }
   ],
   "source": [
    "print(RC_parallel_Circuit.__repr__.__doc__)"
   ]
  },
  {
   "cell_type": "code",
   "execution_count": 427,
   "id": "f58015b4-7226-4356-9ecd-81011b4f2da1",
   "metadata": {},
   "outputs": [
    {
     "name": "stdout",
     "output_type": "stream",
     "text": [
      "str is for common people\n"
     ]
    }
   ],
   "source": [
    "print(RC_parallel_Circuit.__str__.__doc__)"
   ]
  },
  {
   "cell_type": "code",
   "execution_count": 428,
   "id": "2c73975c-5797-4717-ad03-2a1d96053545",
   "metadata": {},
   "outputs": [],
   "source": [
    "from circuits import RC_series_Circuit"
   ]
  },
  {
   "cell_type": "code",
   "execution_count": 429,
   "id": "0265144a-8f96-4530-bc3b-98bf5378edc5",
   "metadata": {},
   "outputs": [],
   "source": [
    "inst_1=RC_series_Circuit(2,5,9)"
   ]
  },
  {
   "cell_type": "code",
   "execution_count": 430,
   "id": "ad553ac2-58e0-493f-b5d2-226620b48a37",
   "metadata": {},
   "outputs": [
    {
     "name": "stdout",
     "output_type": "stream",
     "text": [
      "RC_series_Circuit has Resistance 2 ohms, Capacitance 5 farads & 9 ampere\n"
     ]
    }
   ],
   "source": [
    "print(inst_1)"
   ]
  },
  {
   "cell_type": "code",
   "execution_count": 431,
   "id": "ad1bfd03-ad97-4554-bf0e-3cf125938601",
   "metadata": {},
   "outputs": [
    {
     "data": {
      "text/plain": [
       "mappingproxy({'__module__': 'circuits',\n",
       "              '__doc__': 'A class to represent a simple RC circuit with a resistor and a capacitor.',\n",
       "              '__init__': <function circuits.RC_series_Circuit.__init__(self, R: float, X_C: float, I)>,\n",
       "              'R': <property at 0x1b8da53bd80>,\n",
       "              'X_C': <property at 0x1b8da53bdd0>,\n",
       "              'I': <property at 0x1b8da53be20>,\n",
       "              'zt': <function circuits.RC_series_Circuit.zt(self) -> str>,\n",
       "              'E': <function circuits.RC_series_Circuit.E(self, voltage)>,\n",
       "              'V_R': <function circuits.RC_series_Circuit.V_R(self)>,\n",
       "              'V_C': <function circuits.RC_series_Circuit.V_C(self)>,\n",
       "              'P_t': <classmethod(<function RC_series_Circuit.P_t at 0x000001B8DA1EB380>)>,\n",
       "              'P_f': <staticmethod(<function RC_series_Circuit.P_f at 0x000001B8DA1EA8E0>)>,\n",
       "              '__repr__': <function circuits.RC_series_Circuit.__repr__(self) -> str>,\n",
       "              '__str__': <function circuits.RC_series_Circuit.__str__(self) -> str>,\n",
       "              '__dict__': <attribute '__dict__' of 'RC_series_Circuit' objects>,\n",
       "              '__weakref__': <attribute '__weakref__' of 'RC_series_Circuit' objects>})"
      ]
     },
     "execution_count": 431,
     "metadata": {},
     "output_type": "execute_result"
    }
   ],
   "source": [
    "RC_series_Circuit.__dict__"
   ]
  },
  {
   "cell_type": "code",
   "execution_count": 432,
   "id": "56339981-130c-4a0e-bc37-d74781d4a012",
   "metadata": {},
   "outputs": [
    {
     "data": {
      "text/plain": [
       "{'_R': 2, '_X_C': 5, '_I': 9}"
      ]
     },
     "execution_count": 432,
     "metadata": {},
     "output_type": "execute_result"
    }
   ],
   "source": [
    "inst_1.__dict__"
   ]
  },
  {
   "cell_type": "code",
   "execution_count": 433,
   "id": "0e2baebd-a33b-477b-a070-dd292718676d",
   "metadata": {},
   "outputs": [
    {
     "data": {
      "text/plain": [
       "mappingproxy({'__module__': 'circuits',\n",
       "              '__doc__': 'A class to represent a simple RC circuit with a resistor and a capacitor.',\n",
       "              '__init__': <function circuits.RC_series_Circuit.__init__(self, R: float, X_C: float, I)>,\n",
       "              'R': <property at 0x1b8da53bd80>,\n",
       "              'X_C': <property at 0x1b8da53bdd0>,\n",
       "              'I': <property at 0x1b8da53be20>,\n",
       "              'zt': <function circuits.RC_series_Circuit.zt(self) -> str>,\n",
       "              'E': <function circuits.RC_series_Circuit.E(self, voltage)>,\n",
       "              'V_R': <function circuits.RC_series_Circuit.V_R(self)>,\n",
       "              'V_C': <function circuits.RC_series_Circuit.V_C(self)>,\n",
       "              'P_t': <classmethod(<function RC_series_Circuit.P_t at 0x000001B8DA1EB380>)>,\n",
       "              'P_f': <staticmethod(<function RC_series_Circuit.P_f at 0x000001B8DA1EA8E0>)>,\n",
       "              '__repr__': <function circuits.RC_series_Circuit.__repr__(self) -> str>,\n",
       "              '__str__': <function circuits.RC_series_Circuit.__str__(self) -> str>,\n",
       "              '__dict__': <attribute '__dict__' of 'RC_series_Circuit' objects>,\n",
       "              '__weakref__': <attribute '__weakref__' of 'RC_series_Circuit' objects>})"
      ]
     },
     "execution_count": 433,
     "metadata": {},
     "output_type": "execute_result"
    }
   ],
   "source": [
    "vars(RC_series_Circuit)"
   ]
  },
  {
   "cell_type": "code",
   "execution_count": 434,
   "id": "8df8bba4-6c20-4bf8-a52b-2b1e16e31b70",
   "metadata": {},
   "outputs": [
    {
     "name": "stdout",
     "output_type": "stream",
     "text": [
      "Help on class RC_series_Circuit in module circuits:\n",
      "\n",
      "class RC_series_Circuit(builtins.object)\n",
      " |  RC_series_Circuit(R: float, X_C: float, I)\n",
      " |\n",
      " |  A class to represent a simple RC circuit with a resistor and a capacitor.\n",
      " |\n",
      " |  Methods defined here:\n",
      " |\n",
      " |  E(self, voltage)\n",
      " |      give voltage\n",
      " |\n",
      " |  V_C(self)\n",
      " |\n",
      " |  V_R(self)\n",
      " |\n",
      " |  __init__(self, R: float, X_C: float, I)\n",
      " |      Initialize the RC circuit with a resistor and a capacitor.\n",
      " |\n",
      " |  __repr__(self) -> str\n",
      " |      repr is for programmer\n",
      " |\n",
      " |  __str__(self) -> str\n",
      " |      str is for common people\n",
      " |\n",
      " |  zt(self) -> str\n",
      " |      give the total_impedence of the circuit\n",
      " |\n",
      " |  ----------------------------------------------------------------------\n",
      " |  Class methods defined here:\n",
      " |\n",
      " |  P_t()\n",
      " |\n",
      " |  ----------------------------------------------------------------------\n",
      " |  Static methods defined here:\n",
      " |\n",
      " |  P_f(R, zt)\n",
      " |\n",
      " |  ----------------------------------------------------------------------\n",
      " |  Data descriptors defined here:\n",
      " |\n",
      " |  I\n",
      " |      Get current.\n",
      " |\n",
      " |  R\n",
      " |      Get the resistance of the resistor.\n",
      " |\n",
      " |  X_C\n",
      " |      Get the capacitance of the capacitor.\n",
      " |\n",
      " |  __dict__\n",
      " |      dictionary for instance variables\n",
      " |\n",
      " |  __weakref__\n",
      " |      list of weak references to the object\n",
      "\n"
     ]
    }
   ],
   "source": [
    "help(RC_series_Circuit)"
   ]
  },
  {
   "cell_type": "code",
   "execution_count": 435,
   "id": "f3537c76-3cc3-4242-a0d4-8a9d7d1c970b",
   "metadata": {},
   "outputs": [],
   "source": [
    "from circuits import RLC_parallel_circuit"
   ]
  },
  {
   "cell_type": "code",
   "execution_count": 436,
   "id": "2af2f2b2-f20e-46eb-bd52-be6bc4cc74fb",
   "metadata": {},
   "outputs": [],
   "source": [
    "inst_1=RLC_parallel_circuit(4,8,9)"
   ]
  },
  {
   "cell_type": "code",
   "execution_count": 437,
   "id": "9a7a413b-0541-4150-8a6c-bb81113bd0f2",
   "metadata": {},
   "outputs": [
    {
     "name": "stdout",
     "output_type": "stream",
     "text": [
      "RLC_parallel_circuit has 4 ohms resistance,8 henry inductance,9 farad capacitor\n"
     ]
    }
   ],
   "source": [
    "print(inst_1)"
   ]
  },
  {
   "cell_type": "code",
   "execution_count": 438,
   "id": "0446aa32-0575-4151-b1bc-032ce121c69a",
   "metadata": {},
   "outputs": [
    {
     "data": {
      "text/plain": [
       "mappingproxy({'__module__': 'circuits',\n",
       "              '__doc__': '\\n    Represents a series RLC circuit.\\n    ',\n",
       "              '__init__': <function circuits.RLC_parallel_circuit.__init__(self, R: float, X_L: float, X_C: float) -> None>,\n",
       "              'R': <property at 0x1b8da53bf60>,\n",
       "              'X_L': <property at 0x1b8da53bfb0>,\n",
       "              'X_C': <property at 0x1b8da55c040>,\n",
       "              'impedance': <property at 0x1b8da53bec0>,\n",
       "              'phase': <property at 0x1b8da53bf10>,\n",
       "              'power_factor': <property at 0x1b8da55c090>,\n",
       "              '__repr__': <function circuits.RLC_parallel_circuit.__repr__(self) -> str>,\n",
       "              '__str__': <function circuits.RLC_parallel_circuit.__str__(self)>,\n",
       "              '__dict__': <attribute '__dict__' of 'RLC_parallel_circuit' objects>,\n",
       "              '__weakref__': <attribute '__weakref__' of 'RLC_parallel_circuit' objects>})"
      ]
     },
     "execution_count": 438,
     "metadata": {},
     "output_type": "execute_result"
    }
   ],
   "source": [
    "RLC_parallel_circuit.__dict__"
   ]
  },
  {
   "cell_type": "code",
   "execution_count": 439,
   "id": "a8f0f45f-64a1-4f22-9bb9-fe428f4729d6",
   "metadata": {},
   "outputs": [
    {
     "data": {
      "text/plain": [
       "{'_R': 4, '_X_L': 8, '_X_C': 9}"
      ]
     },
     "execution_count": 439,
     "metadata": {},
     "output_type": "execute_result"
    }
   ],
   "source": [
    "inst_1.__dict__"
   ]
  },
  {
   "cell_type": "code",
   "execution_count": 440,
   "id": "1b60a6e8-ddd8-425d-a6e4-dd04c54b63b3",
   "metadata": {},
   "outputs": [
    {
     "data": {
      "text/plain": [
       "mappingproxy({'__module__': 'circuits',\n",
       "              '__doc__': '\\n    Represents a series RLC circuit.\\n    ',\n",
       "              '__init__': <function circuits.RLC_parallel_circuit.__init__(self, R: float, X_L: float, X_C: float) -> None>,\n",
       "              'R': <property at 0x1b8da53bf60>,\n",
       "              'X_L': <property at 0x1b8da53bfb0>,\n",
       "              'X_C': <property at 0x1b8da55c040>,\n",
       "              'impedance': <property at 0x1b8da53bec0>,\n",
       "              'phase': <property at 0x1b8da53bf10>,\n",
       "              'power_factor': <property at 0x1b8da55c090>,\n",
       "              '__repr__': <function circuits.RLC_parallel_circuit.__repr__(self) -> str>,\n",
       "              '__str__': <function circuits.RLC_parallel_circuit.__str__(self)>,\n",
       "              '__dict__': <attribute '__dict__' of 'RLC_parallel_circuit' objects>,\n",
       "              '__weakref__': <attribute '__weakref__' of 'RLC_parallel_circuit' objects>})"
      ]
     },
     "execution_count": 440,
     "metadata": {},
     "output_type": "execute_result"
    }
   ],
   "source": [
    "vars(RLC_parallel_circuit)"
   ]
  },
  {
   "cell_type": "code",
   "execution_count": 461,
   "id": "df9716ae-b512-49c2-83f0-f0239852d822",
   "metadata": {},
   "outputs": [
    {
     "name": "stdout",
     "output_type": "stream",
     "text": [
      "Help on class RLC_parallel_circuit in module circuits:\n",
      "\n",
      "class RLC_parallel_circuit(builtins.object)\n",
      " |  RLC_parallel_circuit(R: float, X_L: float, X_C: float) -> None\n",
      " |\n",
      " |  Represents a series RLC circuit.\n",
      " |\n",
      " |  Methods defined here:\n",
      " |\n",
      " |  __init__(self, R: float, X_L: float, X_C: float) -> None\n",
      " |      Initializes an RLC circuit object.\n",
      " |\n",
      " |  __repr__(self) -> str\n",
      " |      Returns a string representation of the RLC circuit object.\n",
      " |\n",
      " |  __str__(self)\n",
      " |      Return str(self).\n",
      " |\n",
      " |  ----------------------------------------------------------------------\n",
      " |  Readonly properties defined here:\n",
      " |\n",
      " |  impedance\n",
      " |      Calculates the impedance.\n",
      " |\n",
      " |  phase\n",
      " |      Calculates the phase angle.\n",
      " |\n",
      " |  power_factor\n",
      " |      Calculates the power factor.\n",
      " |\n",
      " |  ----------------------------------------------------------------------\n",
      " |  Data descriptors defined here:\n",
      " |\n",
      " |  R\n",
      " |      Gets the resistance.\n",
      " |\n",
      " |  X_C\n",
      " |      Gets the capacitance.\n",
      " |\n",
      " |  X_L\n",
      " |      Gets the inductance.\n",
      " |\n",
      " |  __dict__\n",
      " |      dictionary for instance variables\n",
      " |\n",
      " |  __weakref__\n",
      " |      list of weak references to the object\n",
      "\n"
     ]
    }
   ],
   "source": [
    "help(RLC_parallel_circuit)"
   ]
  },
  {
   "cell_type": "code",
   "execution_count": 462,
   "id": "aebeacb3-2d39-477d-8a65-791588e94b7e",
   "metadata": {},
   "outputs": [
    {
     "name": "stdout",
     "output_type": "stream",
     "text": [
      "\n",
      "    Represents a series RLC circuit.\n",
      "    \n"
     ]
    }
   ],
   "source": [
    "print(RLC_parallel_circuit.__doc__)"
   ]
  },
  {
   "cell_type": "code",
   "execution_count": 463,
   "id": "096743dc-3452-4a73-8bfc-cae8f08d9866",
   "metadata": {},
   "outputs": [
    {
     "name": "stdout",
     "output_type": "stream",
     "text": [
      "\n",
      "        Initializes an RLC circuit object.\n",
      "        \n"
     ]
    }
   ],
   "source": [
    "print(RLC_parallel_circuit.__init__.__doc__)"
   ]
  },
  {
   "cell_type": "code",
   "execution_count": 464,
   "id": "63d3f285-3b8c-4a99-b351-9dd5c8fa12e4",
   "metadata": {},
   "outputs": [
    {
     "name": "stdout",
     "output_type": "stream",
     "text": [
      "\n",
      "        Gets the resistance.\n",
      "        \n"
     ]
    }
   ],
   "source": [
    "print(RLC_parallel_circuit.R.__doc__)"
   ]
  },
  {
   "cell_type": "code",
   "execution_count": 465,
   "id": "256ec3a1-8950-4cbf-add6-eb4bf3f78fc2",
   "metadata": {},
   "outputs": [
    {
     "name": "stdout",
     "output_type": "stream",
     "text": [
      "\n",
      "        Gets the inductance.\n",
      "        \n"
     ]
    }
   ],
   "source": [
    "print(RLC_parallel_circuit.X_L.__doc__)"
   ]
  },
  {
   "cell_type": "code",
   "execution_count": 466,
   "id": "cc6152bf-9524-40d6-836e-d87e57017870",
   "metadata": {},
   "outputs": [
    {
     "name": "stdout",
     "output_type": "stream",
     "text": [
      "\n",
      "        Gets the capacitance.\n",
      "        \n"
     ]
    }
   ],
   "source": [
    "print(RLC_parallel_circuit.X_C.__doc__)"
   ]
  },
  {
   "cell_type": "code",
   "execution_count": 467,
   "id": "214a2b75-8685-4656-ad48-70f59a492d29",
   "metadata": {},
   "outputs": [
    {
     "name": "stdout",
     "output_type": "stream",
     "text": [
      "\n",
      "        Calculates the impedance.\n",
      "        \n"
     ]
    }
   ],
   "source": [
    "print(RLC_parallel_circuit.impedance.__doc__)"
   ]
  },
  {
   "cell_type": "code",
   "execution_count": 468,
   "id": "4f72e9e0-f5fa-476e-9ef8-ad26c0c8f45b",
   "metadata": {},
   "outputs": [
    {
     "name": "stdout",
     "output_type": "stream",
     "text": [
      "\n",
      "        Returns a string representation of the RLC circuit object.\n",
      "        \n"
     ]
    }
   ],
   "source": [
    "print(RLC_parallel_circuit.__repr__.__doc__)"
   ]
  },
  {
   "cell_type": "code",
   "execution_count": 469,
   "id": "1403ba48-2997-45c4-b873-c3b74ee36005",
   "metadata": {},
   "outputs": [
    {
     "name": "stdout",
     "output_type": "stream",
     "text": [
      "None\n"
     ]
    }
   ],
   "source": [
    "print(RLC_parallel_circuit.__str__.__doc__)"
   ]
  },
  {
   "cell_type": "code",
   "execution_count": 470,
   "id": "288ef786-299a-49d5-80aa-fb9fe701162c",
   "metadata": {},
   "outputs": [],
   "source": [
    "from circuits import series_RLC_circuit"
   ]
  },
  {
   "cell_type": "code",
   "execution_count": 471,
   "id": "5614a0ec-5c9a-4962-956d-7482a99a25a6",
   "metadata": {},
   "outputs": [],
   "source": [
    "inst_1=series_RLC_circuit(5,9,12)"
   ]
  },
  {
   "cell_type": "code",
   "execution_count": 472,
   "id": "482f1ee3-b058-43b0-9699-4ef76f45d412",
   "metadata": {},
   "outputs": [
    {
     "name": "stdout",
     "output_type": "stream",
     "text": [
      "series_RLC_circuit has 5 ohms resistance,9 henry inductance,12 farad capacitor\n"
     ]
    }
   ],
   "source": [
    "print(inst_1)"
   ]
  },
  {
   "cell_type": "code",
   "execution_count": 473,
   "id": "18099c5c-5aaf-4c11-90f4-3d5f5ef4ae09",
   "metadata": {},
   "outputs": [
    {
     "data": {
      "text/plain": [
       "mappingproxy({'__module__': 'circuits',\n",
       "              '__doc__': '\\n    Represents a series RLC circuit.\\n    ',\n",
       "              '__init__': <function circuits.series_RLC_circuit.__init__(self, R: float, X_L: float, X_C: float) -> None>,\n",
       "              'R': <property at 0x1b8da55c220>,\n",
       "              'X_L': <property at 0x1b8da55c270>,\n",
       "              'X_C': <property at 0x1b8da55c2c0>,\n",
       "              'impedance': <property at 0x1b8da55c180>,\n",
       "              'phase': <property at 0x1b8da55c1d0>,\n",
       "              'power_factor': <property at 0x1b8da55c310>,\n",
       "              'current': <function circuits.series_RLC_circuit.current(self, voltage: float) -> float>,\n",
       "              '__repr__': <function circuits.series_RLC_circuit.__repr__(self) -> str>,\n",
       "              '__str__': <function circuits.series_RLC_circuit.__str__(self)>,\n",
       "              '__dict__': <attribute '__dict__' of 'series_RLC_circuit' objects>,\n",
       "              '__weakref__': <attribute '__weakref__' of 'series_RLC_circuit' objects>})"
      ]
     },
     "execution_count": 473,
     "metadata": {},
     "output_type": "execute_result"
    }
   ],
   "source": [
    "series_RLC_circuit.__dict__"
   ]
  },
  {
   "cell_type": "code",
   "execution_count": 474,
   "id": "cda0fac9-3e25-441f-9dee-47e61b9153a1",
   "metadata": {},
   "outputs": [
    {
     "data": {
      "text/plain": [
       "{'_R': 5, '_X_L': 9, '_X_C': 12}"
      ]
     },
     "execution_count": 474,
     "metadata": {},
     "output_type": "execute_result"
    }
   ],
   "source": [
    "inst_1.__dict__"
   ]
  },
  {
   "cell_type": "code",
   "execution_count": 475,
   "id": "5d95d2dd-149d-4300-bb0d-4db53bb512da",
   "metadata": {},
   "outputs": [
    {
     "data": {
      "text/plain": [
       "mappingproxy({'__module__': 'circuits',\n",
       "              '__doc__': '\\n    Represents a series RLC circuit.\\n    ',\n",
       "              '__init__': <function circuits.series_RLC_circuit.__init__(self, R: float, X_L: float, X_C: float) -> None>,\n",
       "              'R': <property at 0x1b8da55c220>,\n",
       "              'X_L': <property at 0x1b8da55c270>,\n",
       "              'X_C': <property at 0x1b8da55c2c0>,\n",
       "              'impedance': <property at 0x1b8da55c180>,\n",
       "              'phase': <property at 0x1b8da55c1d0>,\n",
       "              'power_factor': <property at 0x1b8da55c310>,\n",
       "              'current': <function circuits.series_RLC_circuit.current(self, voltage: float) -> float>,\n",
       "              '__repr__': <function circuits.series_RLC_circuit.__repr__(self) -> str>,\n",
       "              '__str__': <function circuits.series_RLC_circuit.__str__(self)>,\n",
       "              '__dict__': <attribute '__dict__' of 'series_RLC_circuit' objects>,\n",
       "              '__weakref__': <attribute '__weakref__' of 'series_RLC_circuit' objects>})"
      ]
     },
     "execution_count": 475,
     "metadata": {},
     "output_type": "execute_result"
    }
   ],
   "source": [
    "vars(series_RLC_circuit)"
   ]
  },
  {
   "cell_type": "code",
   "execution_count": 476,
   "id": "18d1aeb2-37f8-4b34-a51c-7f3183299d28",
   "metadata": {},
   "outputs": [
    {
     "name": "stdout",
     "output_type": "stream",
     "text": [
      "Help on class series_RLC_circuit in module circuits:\n",
      "\n",
      "class series_RLC_circuit(builtins.object)\n",
      " |  series_RLC_circuit(R: float, X_L: float, X_C: float) -> None\n",
      " |\n",
      " |  Represents a series RLC circuit.\n",
      " |\n",
      " |  Methods defined here:\n",
      " |\n",
      " |  __init__(self, R: float, X_L: float, X_C: float) -> None\n",
      " |      Initializes an RLC circuit object.\n",
      " |\n",
      " |  __repr__(self) -> str\n",
      " |      Repr is for programmer.\n",
      " |\n",
      " |  __str__(self)\n",
      " |      str is for common person\n",
      " |\n",
      " |  current(self, voltage: float) -> float\n",
      " |      Calculates the current.\n",
      " |\n",
      " |  ----------------------------------------------------------------------\n",
      " |  Readonly properties defined here:\n",
      " |\n",
      " |  impedance\n",
      " |      Calculates the impedance.\n",
      " |\n",
      " |  phase\n",
      " |      Calculates the phase angle.\n",
      " |\n",
      " |  power_factor\n",
      " |      Calculates the power factor.\n",
      " |\n",
      " |  ----------------------------------------------------------------------\n",
      " |  Data descriptors defined here:\n",
      " |\n",
      " |  R\n",
      " |      Gets the resistance.\n",
      " |\n",
      " |  X_C\n",
      " |      Gets the capacitance.\n",
      " |\n",
      " |  X_L\n",
      " |      Gets the inductance.\n",
      " |\n",
      " |  __dict__\n",
      " |      dictionary for instance variables\n",
      " |\n",
      " |  __weakref__\n",
      " |      list of weak references to the object\n",
      "\n"
     ]
    }
   ],
   "source": [
    "help(series_RLC_circuit)"
   ]
  },
  {
   "cell_type": "code",
   "execution_count": 477,
   "id": "324c471c-f165-4e26-bbf8-d2032abba702",
   "metadata": {},
   "outputs": [
    {
     "name": "stdout",
     "output_type": "stream",
     "text": [
      "\n",
      "    Represents a series RLC circuit.\n",
      "    \n"
     ]
    }
   ],
   "source": [
    "print(series_RLC_circuit.__doc__)"
   ]
  },
  {
   "cell_type": "code",
   "execution_count": 478,
   "id": "e6877874-21e1-45b8-b6cd-1a7c4586844e",
   "metadata": {},
   "outputs": [
    {
     "name": "stdout",
     "output_type": "stream",
     "text": [
      "\n",
      "        Initializes an RLC circuit object.\n",
      "        \n"
     ]
    }
   ],
   "source": [
    "print(series_RLC_circuit.__init__.__doc__)"
   ]
  },
  {
   "cell_type": "code",
   "execution_count": 479,
   "id": "cafa7824-6714-4c22-8630-00aedcc7653c",
   "metadata": {},
   "outputs": [
    {
     "name": "stdout",
     "output_type": "stream",
     "text": [
      "\n",
      "        Gets the resistance.\n",
      "        \n"
     ]
    }
   ],
   "source": [
    "print(series_RLC_circuit.R.__doc__)"
   ]
  },
  {
   "cell_type": "code",
   "execution_count": 480,
   "id": "cfd39a91-b4af-4611-8328-90f381f44eb4",
   "metadata": {},
   "outputs": [
    {
     "name": "stdout",
     "output_type": "stream",
     "text": [
      "\n",
      "        Gets the inductance.\n",
      "        \n"
     ]
    }
   ],
   "source": [
    "print(series_RLC_circuit.X_L.__doc__)"
   ]
  },
  {
   "cell_type": "code",
   "execution_count": 481,
   "id": "67742930-2fab-42ec-85d8-2e00867df26c",
   "metadata": {},
   "outputs": [
    {
     "name": "stdout",
     "output_type": "stream",
     "text": [
      "\n",
      "        Gets the capacitance.\n",
      "        \n"
     ]
    }
   ],
   "source": [
    "print(series_RLC_circuit.X_C.__doc__)"
   ]
  },
  {
   "cell_type": "code",
   "execution_count": 482,
   "id": "d5c8e6d2-662a-4614-a98a-43ae900dbe9e",
   "metadata": {},
   "outputs": [
    {
     "name": "stdout",
     "output_type": "stream",
     "text": [
      "\n",
      "        Calculates the impedance.\n",
      "        \n"
     ]
    }
   ],
   "source": [
    "print(series_RLC_circuit.impedance.__doc__)"
   ]
  },
  {
   "cell_type": "code",
   "execution_count": 483,
   "id": "1fe7703d-156a-41ce-82a8-42ac17b4a8ae",
   "metadata": {},
   "outputs": [
    {
     "name": "stdout",
     "output_type": "stream",
     "text": [
      "\n",
      "        Repr is for programmer.\n",
      "        \n"
     ]
    }
   ],
   "source": [
    "print(series_RLC_circuit.__repr__.__doc__)"
   ]
  },
  {
   "cell_type": "code",
   "execution_count": 484,
   "id": "a0c4c869-1315-4a50-b9cd-243fb8483758",
   "metadata": {},
   "outputs": [
    {
     "name": "stdout",
     "output_type": "stream",
     "text": [
      "\n",
      "        str is for common person\n"
     ]
    }
   ],
   "source": [
    "print(series_RLC_circuit.__str__.__doc__)"
   ]
  },
  {
   "cell_type": "code",
   "execution_count": 485,
   "id": "17f4c4f6-c02f-4d33-90e1-f3e7548bacd5",
   "metadata": {},
   "outputs": [],
   "source": [
    "from circuits import RLCParallelCircuit"
   ]
  },
  {
   "cell_type": "code",
   "execution_count": 511,
   "id": "805b1b32-03ee-4252-9bf4-bc8ee0d49e9f",
   "metadata": {},
   "outputs": [],
   "source": [
    "inst_1=RLCParallelCircuit(5,9,7)"
   ]
  },
  {
   "cell_type": "code",
   "execution_count": 512,
   "id": "bf222dfc-3b3c-4af0-becb-3c462ea3a499",
   "metadata": {},
   "outputs": [
    {
     "name": "stdout",
     "output_type": "stream",
     "text": [
      "RLC Parallel Circuit has Resistance 5 ohms,9 henrys, C= 7 farads\n"
     ]
    }
   ],
   "source": [
    "print(inst_1)"
   ]
  },
  {
   "cell_type": "code",
   "execution_count": 513,
   "id": "9230461d-97d9-42c5-a855-85e1315c0163",
   "metadata": {},
   "outputs": [
    {
     "data": {
      "text/plain": [
       "mappingproxy({'__module__': 'circuits',\n",
       "              '__doc__': 'A class to represent a simple RLC parallel circuit with a resistor, inductor, and capacitor.',\n",
       "              '__init__': <function circuits.RLCParallelCircuit.__init__(self, R: float, X_L: float, X_C: float)>,\n",
       "              'R': <property at 0x1b8da55c4a0>,\n",
       "              'X_L': <property at 0x1b8da55c4f0>,\n",
       "              'X_C': <property at 0x1b8da55c540>,\n",
       "              'resonance_frequency': <property at 0x1b8da55c400>,\n",
       "              'total_impedance': <function circuits.RLCParallelCircuit.total_impedance(self, frequency: float) -> complex>,\n",
       "              'Quality_factor': <function circuits.RLCParallelCircuit.Quality_factor(self)>,\n",
       "              'Bandwidth': <function circuits.RLCParallelCircuit.Bandwidth(self)>,\n",
       "              '__repr__': <function circuits.RLCParallelCircuit.__repr__(self) -> str>,\n",
       "              '__str__': <function circuits.RLCParallelCircuit.__str__(self) -> str>,\n",
       "              '__dict__': <attribute '__dict__' of 'RLCParallelCircuit' objects>,\n",
       "              '__weakref__': <attribute '__weakref__' of 'RLCParallelCircuit' objects>})"
      ]
     },
     "execution_count": 513,
     "metadata": {},
     "output_type": "execute_result"
    }
   ],
   "source": [
    "RLCParallelCircuit.__dict__"
   ]
  },
  {
   "cell_type": "code",
   "execution_count": 514,
   "id": "e0a0af00-b0f9-44a3-8549-5e81c5cee810",
   "metadata": {},
   "outputs": [
    {
     "data": {
      "text/plain": [
       "{'_R': 5, '_X_L': 9, '_X_C': 7}"
      ]
     },
     "execution_count": 514,
     "metadata": {},
     "output_type": "execute_result"
    }
   ],
   "source": [
    "inst_1.__dict__"
   ]
  },
  {
   "cell_type": "code",
   "execution_count": 515,
   "id": "b3644009-2870-4403-b0ea-fc80ecff9cd6",
   "metadata": {},
   "outputs": [
    {
     "data": {
      "text/plain": [
       "mappingproxy({'__module__': 'circuits',\n",
       "              '__doc__': 'A class to represent a simple RLC parallel circuit with a resistor, inductor, and capacitor.',\n",
       "              '__init__': <function circuits.RLCParallelCircuit.__init__(self, R: float, X_L: float, X_C: float)>,\n",
       "              'R': <property at 0x1b8da55c4a0>,\n",
       "              'X_L': <property at 0x1b8da55c4f0>,\n",
       "              'X_C': <property at 0x1b8da55c540>,\n",
       "              'resonance_frequency': <property at 0x1b8da55c400>,\n",
       "              'total_impedance': <function circuits.RLCParallelCircuit.total_impedance(self, frequency: float) -> complex>,\n",
       "              'Quality_factor': <function circuits.RLCParallelCircuit.Quality_factor(self)>,\n",
       "              'Bandwidth': <function circuits.RLCParallelCircuit.Bandwidth(self)>,\n",
       "              '__repr__': <function circuits.RLCParallelCircuit.__repr__(self) -> str>,\n",
       "              '__str__': <function circuits.RLCParallelCircuit.__str__(self) -> str>,\n",
       "              '__dict__': <attribute '__dict__' of 'RLCParallelCircuit' objects>,\n",
       "              '__weakref__': <attribute '__weakref__' of 'RLCParallelCircuit' objects>})"
      ]
     },
     "execution_count": 515,
     "metadata": {},
     "output_type": "execute_result"
    }
   ],
   "source": [
    "vars(RLCParallelCircuit)"
   ]
  },
  {
   "cell_type": "code",
   "execution_count": 516,
   "id": "ed225b8e-51d7-45ea-9791-aadf1620586e",
   "metadata": {},
   "outputs": [
    {
     "name": "stdout",
     "output_type": "stream",
     "text": [
      "Help on class RLCParallelCircuit in module circuits:\n",
      "\n",
      "class RLCParallelCircuit(builtins.object)\n",
      " |  RLCParallelCircuit(R: float, X_L: float, X_C: float)\n",
      " |\n",
      " |  A class to represent a simple RLC parallel circuit with a resistor, inductor, and capacitor.\n",
      " |\n",
      " |  Methods defined here:\n",
      " |\n",
      " |  Bandwidth(self)\n",
      " |      give the bandwidth of the circuit\n",
      " |\n",
      " |  Quality_factor(self)\n",
      " |      give the Quality_factor of the circuit\n",
      " |\n",
      " |  __init__(self, R: float, X_L: float, X_C: float)\n",
      " |      Initialize the RLC parallel circuit with a resistor, inductor, and capacitor.\n",
      " |\n",
      " |  __repr__(self) -> str\n",
      " |      repr is for programmer\n",
      " |\n",
      " |  __str__(self) -> str\n",
      " |      str is for common people\n",
      " |\n",
      " |  total_impedance(self, frequency: float) -> complex\n",
      " |      Calculate the total impedance of the RLC parallel circuit.\n",
      " |\n",
      " |  ----------------------------------------------------------------------\n",
      " |  Readonly properties defined here:\n",
      " |\n",
      " |  resonance_frequency\n",
      " |      Calculate the resonance frequency of the RLC parallel circuit.\n",
      " |\n",
      " |  ----------------------------------------------------------------------\n",
      " |  Data descriptors defined here:\n",
      " |\n",
      " |  R\n",
      " |      Get the resistance of the resistor.\n",
      " |\n",
      " |  X_C\n",
      " |      Get the capacitance of the capacitor.\n",
      " |\n",
      " |  X_L\n",
      " |      Get the inductance of the inductor.\n",
      " |\n",
      " |  __dict__\n",
      " |      dictionary for instance variables\n",
      " |\n",
      " |  __weakref__\n",
      " |      list of weak references to the object\n",
      "\n"
     ]
    }
   ],
   "source": [
    "help(RLCParallelCircuit)"
   ]
  },
  {
   "cell_type": "code",
   "execution_count": 517,
   "id": "b4f5fea3-7e62-4218-9a11-b42211f319b3",
   "metadata": {},
   "outputs": [
    {
     "name": "stdout",
     "output_type": "stream",
     "text": [
      "A class to represent a simple RLC parallel circuit with a resistor, inductor, and capacitor.\n"
     ]
    }
   ],
   "source": [
    "print(RLCParallelCircuit.__doc__)"
   ]
  },
  {
   "cell_type": "code",
   "execution_count": 518,
   "id": "60dc14ac-05b9-407d-91de-6d32eb12f14f",
   "metadata": {},
   "outputs": [
    {
     "name": "stdout",
     "output_type": "stream",
     "text": [
      "{}\n"
     ]
    }
   ],
   "source": [
    "print(RLCParallelCircuit.__annotations__)"
   ]
  },
  {
   "cell_type": "code",
   "execution_count": 519,
   "id": "2ed4496b-e54a-4044-8b65-1398f226155f",
   "metadata": {},
   "outputs": [
    {
     "name": "stdout",
     "output_type": "stream",
     "text": [
      "Initialize the RLC parallel circuit with a resistor, inductor, and capacitor.\n",
      "        \n"
     ]
    }
   ],
   "source": [
    "print(RLCParallelCircuit.__init__.__doc__)"
   ]
  },
  {
   "cell_type": "code",
   "execution_count": 520,
   "id": "5e28744b-661c-4b24-95ef-5e62175d90c7",
   "metadata": {},
   "outputs": [
    {
     "name": "stdout",
     "output_type": "stream",
     "text": [
      "{'R': <class 'float'>, 'X_L': <class 'float'>, 'X_C': <class 'float'>}\n"
     ]
    }
   ],
   "source": [
    "print(RLCParallelCircuit.__init__.__annotations__)"
   ]
  },
  {
   "cell_type": "code",
   "execution_count": 521,
   "id": "8d222115-2cfc-4e6e-9538-679aa6b35307",
   "metadata": {},
   "outputs": [
    {
     "name": "stdout",
     "output_type": "stream",
     "text": [
      "Get the resistance of the resistor.\n"
     ]
    }
   ],
   "source": [
    "print(RLCParallelCircuit.R.__doc__)"
   ]
  },
  {
   "cell_type": "code",
   "execution_count": 522,
   "id": "cb28fb64-6e5d-44d0-af61-a76ffd82ac83",
   "metadata": {},
   "outputs": [
    {
     "name": "stdout",
     "output_type": "stream",
     "text": [
      "Get the inductance of the inductor.\n"
     ]
    }
   ],
   "source": [
    "print(RLCParallelCircuit.X_L.__doc__)"
   ]
  },
  {
   "cell_type": "code",
   "execution_count": 523,
   "id": "0e32626b-1569-435b-ae5d-ec0985ccee53",
   "metadata": {},
   "outputs": [
    {
     "name": "stdout",
     "output_type": "stream",
     "text": [
      "Get the capacitance of the capacitor.\n"
     ]
    }
   ],
   "source": [
    "print(RLCParallelCircuit.X_C.__doc__)"
   ]
  },
  {
   "cell_type": "code",
   "execution_count": 524,
   "id": "52911ab9-420a-40f0-b573-a848c8b50acb",
   "metadata": {},
   "outputs": [
    {
     "name": "stdout",
     "output_type": "stream",
     "text": [
      "Calculate the resonance frequency of the RLC parallel circuit.\n",
      "        \n"
     ]
    }
   ],
   "source": [
    "print(RLCParallelCircuit.resonance_frequency.__doc__)"
   ]
  },
  {
   "cell_type": "code",
   "execution_count": 525,
   "id": "f30ee59d-565e-46e9-af7d-a56bdc5e6ba1",
   "metadata": {},
   "outputs": [
    {
     "name": "stdout",
     "output_type": "stream",
     "text": [
      "Calculate the total impedance of the RLC parallel circuit.\n",
      "        \n"
     ]
    }
   ],
   "source": [
    "print(RLCParallelCircuit.total_impedance.__doc__)"
   ]
  },
  {
   "cell_type": "code",
   "execution_count": 526,
   "id": "22b0d129-d30d-46dc-9ece-ad80122fee2a",
   "metadata": {},
   "outputs": [
    {
     "name": "stdout",
     "output_type": "stream",
     "text": [
      "repr is for programmer\n"
     ]
    }
   ],
   "source": [
    "print(RLCParallelCircuit.__repr__.__doc__)"
   ]
  },
  {
   "cell_type": "code",
   "execution_count": 527,
   "id": "1595e994-f57f-4e7b-954f-b67934b172e3",
   "metadata": {},
   "outputs": [
    {
     "name": "stdout",
     "output_type": "stream",
     "text": [
      "str is for common people\n"
     ]
    }
   ],
   "source": [
    "print(RLCParallelCircuit.__str__.__doc__)"
   ]
  },
  {
   "cell_type": "code",
   "execution_count": 528,
   "id": "cff52cf7-1e8b-4fe2-b304-b0247bf93701",
   "metadata": {},
   "outputs": [],
   "source": [
    "from circuits import RLCseriescircuit"
   ]
  },
  {
   "cell_type": "code",
   "execution_count": 529,
   "id": "de522a5c-72f4-4771-a2cd-da8af0ff67c2",
   "metadata": {},
   "outputs": [],
   "source": [
    "inst_1=RLCseriescircuit(3,5,7)"
   ]
  },
  {
   "cell_type": "code",
   "execution_count": 530,
   "id": "ab78a450-566c-4625-b393-4dc71e02b8e8",
   "metadata": {},
   "outputs": [
    {
     "name": "stdout",
     "output_type": "stream",
     "text": [
      "RLCseriescircuit has Resistance 3 ohms,5 henrys, C 7 farads\n"
     ]
    }
   ],
   "source": [
    "print(inst_1)"
   ]
  },
  {
   "cell_type": "code",
   "execution_count": 531,
   "id": "a092843b-0c2a-4d37-bfe5-7712f87a228a",
   "metadata": {},
   "outputs": [
    {
     "data": {
      "text/plain": [
       "{'_R': 3, '_X_L': 5, '_X_C': 7}"
      ]
     },
     "execution_count": 531,
     "metadata": {},
     "output_type": "execute_result"
    }
   ],
   "source": [
    "inst_1.__dict__"
   ]
  },
  {
   "cell_type": "code",
   "execution_count": 532,
   "id": "f92b4089-8726-4750-9b79-fd40b47c3e5d",
   "metadata": {},
   "outputs": [
    {
     "data": {
      "text/plain": [
       "mappingproxy({'__module__': 'circuits',\n",
       "              '__doc__': 'A class to represent a simple RLC parallel circuit with a resistor, inductor, and capacitor.',\n",
       "              '__init__': <function circuits.RLCseriescircuit.__init__(self, R: float, X_L: float, X_C: float)>,\n",
       "              'R': <property at 0x1b8da55c680>,\n",
       "              'X_L': <property at 0x1b8da55c6d0>,\n",
       "              'X_C': <property at 0x1b8da55c720>,\n",
       "              'resonance_frequency': <property at 0x1b8da55c5e0>,\n",
       "              'total_impedance': <function circuits.RLCseriescircuit.total_impedance(self, frequency: float) -> complex>,\n",
       "              'Quality_factor': <function circuits.RLCseriescircuit.Quality_factor(self)>,\n",
       "              'Bandwidth': <function circuits.RLCseriescircuit.Bandwidth(self)>,\n",
       "              '__repr__': <function circuits.RLCseriescircuit.__repr__(self) -> str>,\n",
       "              '__str__': <function circuits.RLCseriescircuit.__str__(self) -> str>,\n",
       "              '__dict__': <attribute '__dict__' of 'RLCseriescircuit' objects>,\n",
       "              '__weakref__': <attribute '__weakref__' of 'RLCseriescircuit' objects>})"
      ]
     },
     "execution_count": 532,
     "metadata": {},
     "output_type": "execute_result"
    }
   ],
   "source": [
    "RLCseriescircuit.__dict__"
   ]
  },
  {
   "cell_type": "code",
   "execution_count": 533,
   "id": "e6e5ae83-a978-4ae0-a5fb-0e6d875f5401",
   "metadata": {},
   "outputs": [
    {
     "data": {
      "text/plain": [
       "mappingproxy({'__module__': 'circuits',\n",
       "              '__doc__': 'A class to represent a simple RLC parallel circuit with a resistor, inductor, and capacitor.',\n",
       "              '__init__': <function circuits.RLCseriescircuit.__init__(self, R: float, X_L: float, X_C: float)>,\n",
       "              'R': <property at 0x1b8da55c680>,\n",
       "              'X_L': <property at 0x1b8da55c6d0>,\n",
       "              'X_C': <property at 0x1b8da55c720>,\n",
       "              'resonance_frequency': <property at 0x1b8da55c5e0>,\n",
       "              'total_impedance': <function circuits.RLCseriescircuit.total_impedance(self, frequency: float) -> complex>,\n",
       "              'Quality_factor': <function circuits.RLCseriescircuit.Quality_factor(self)>,\n",
       "              'Bandwidth': <function circuits.RLCseriescircuit.Bandwidth(self)>,\n",
       "              '__repr__': <function circuits.RLCseriescircuit.__repr__(self) -> str>,\n",
       "              '__str__': <function circuits.RLCseriescircuit.__str__(self) -> str>,\n",
       "              '__dict__': <attribute '__dict__' of 'RLCseriescircuit' objects>,\n",
       "              '__weakref__': <attribute '__weakref__' of 'RLCseriescircuit' objects>})"
      ]
     },
     "execution_count": 533,
     "metadata": {},
     "output_type": "execute_result"
    }
   ],
   "source": [
    "vars(RLCseriescircuit)"
   ]
  },
  {
   "cell_type": "code",
   "execution_count": 534,
   "id": "0e6f57cf-b03f-444a-b869-b5e35ada0e14",
   "metadata": {},
   "outputs": [
    {
     "name": "stdout",
     "output_type": "stream",
     "text": [
      "Help on class RLCseriescircuit in module circuits:\n",
      "\n",
      "class RLCseriescircuit(builtins.object)\n",
      " |  RLCseriescircuit(R: float, X_L: float, X_C: float)\n",
      " |\n",
      " |  A class to represent a simple RLC parallel circuit with a resistor, inductor, and capacitor.\n",
      " |\n",
      " |  Methods defined here:\n",
      " |\n",
      " |  Bandwidth(self)\n",
      " |      give the bandwidth of the circuit\n",
      " |\n",
      " |  Quality_factor(self)\n",
      " |      give the Quality_factor of the circuit\n",
      " |\n",
      " |  __init__(self, R: float, X_L: float, X_C: float)\n",
      " |      Initialize the RLC parallel circuit with a resistor, inductor, and capacitor.\n",
      " |\n",
      " |  __repr__(self) -> str\n",
      " |      repr is for programmer\n",
      " |\n",
      " |  __str__(self) -> str\n",
      " |      str is for common people\n",
      " |\n",
      " |  total_impedance(self, frequency: float) -> complex\n",
      " |      Calculate the total impedance of the RLC parallel circuit.\n",
      " |\n",
      " |  ----------------------------------------------------------------------\n",
      " |  Readonly properties defined here:\n",
      " |\n",
      " |  resonance_frequency\n",
      " |      Calculate the resonance frequency of the RLC parallel circuit.\n",
      " |\n",
      " |  ----------------------------------------------------------------------\n",
      " |  Data descriptors defined here:\n",
      " |\n",
      " |  R\n",
      " |      Get the resistance of the resistor.\n",
      " |\n",
      " |  X_C\n",
      " |      Get the capacitance of the capacitor.\n",
      " |\n",
      " |  X_L\n",
      " |      Get the inductance of the inductor.\n",
      " |\n",
      " |  __dict__\n",
      " |      dictionary for instance variables\n",
      " |\n",
      " |  __weakref__\n",
      " |      list of weak references to the object\n",
      "\n"
     ]
    }
   ],
   "source": [
    "help(RLCseriescircuit)"
   ]
  },
  {
   "cell_type": "markdown",
   "id": "17ab4c81-c549-4e3b-af3d-9c3b0a44ad6e",
   "metadata": {},
   "source": [
    "question 7"
   ]
  },
  {
   "cell_type": "markdown",
   "id": "323736ba-187c-4139-9a0e-1cb7a9f7be60",
   "metadata": {},
   "source": [
    " Make a package with the name oop and make the module of all the labs that are on \n",
    "classes and use it for some tasks. "
   ]
  },
  {
   "cell_type": "code",
   "execution_count": 537,
   "id": "47437558-fd46-400b-a5bb-a78e52d803cb",
   "metadata": {},
   "outputs": [],
   "source": [
    "import os\n",
    "os .chdir(r'C:\\Users\\DELL\\Desktop\\UET\\3 semester\\OOPS lab\\oop')"
   ]
  },
  {
   "cell_type": "code",
   "execution_count": 563,
   "id": "4381f372-ecc9-47cc-b8a8-3f79869d3bf7",
   "metadata": {},
   "outputs": [],
   "source": [
    "import classes"
   ]
  },
  {
   "cell_type": "code",
   "execution_count": 564,
   "id": "568d95e7-327c-446c-97d8-da91b5cb392b",
   "metadata": {},
   "outputs": [],
   "source": [
    "from classes import Square"
   ]
  },
  {
   "cell_type": "code",
   "execution_count": 565,
   "id": "58bc28e2-2881-4118-9383-4649e85837c1",
   "metadata": {},
   "outputs": [],
   "source": [
    "inst_1=Square(3)"
   ]
  },
  {
   "cell_type": "code",
   "execution_count": 566,
   "id": "6766632f-2525-4804-b93a-fd3ade20bb00",
   "metadata": {},
   "outputs": [
    {
     "name": "stdout",
     "output_type": "stream",
     "text": [
      "Square with side length: 3,Area: 9, Perimeter: 12\n"
     ]
    }
   ],
   "source": [
    "print(inst_1)"
   ]
  },
  {
   "cell_type": "code",
   "execution_count": 567,
   "id": "d8cb81cb-fa3b-4c7d-ac17-21358e233926",
   "metadata": {},
   "outputs": [
    {
     "data": {
      "text/plain": [
       "mappingproxy({'__module__': 'classes',\n",
       "              '__doc__': 'A class to represent a square in 2D space.',\n",
       "              '__init__': <function classes.Square.__init__(self, side_length: float)>,\n",
       "              'side_length': <property at 0x1b8da4b73d0>,\n",
       "              'area': <function classes.Square.area(self) -> float>,\n",
       "              'perimeter': <function classes.Square.perimeter(self) -> float>,\n",
       "              'locate': <function classes.Square.locate(self) -> str>,\n",
       "              '__repr__': <function classes.Square.__repr__(self) -> str>,\n",
       "              '__str__': <function classes.Square.__str__(self) -> str>,\n",
       "              '__dict__': <attribute '__dict__' of 'Square' objects>,\n",
       "              '__weakref__': <attribute '__weakref__' of 'Square' objects>})"
      ]
     },
     "execution_count": 567,
     "metadata": {},
     "output_type": "execute_result"
    }
   ],
   "source": [
    "Square.__dict__"
   ]
  },
  {
   "cell_type": "code",
   "execution_count": 568,
   "id": "fd54d03e-a252-4c8d-9a45-6963b594a50b",
   "metadata": {},
   "outputs": [
    {
     "data": {
      "text/plain": [
       "{'_side_length': 3}"
      ]
     },
     "execution_count": 568,
     "metadata": {},
     "output_type": "execute_result"
    }
   ],
   "source": [
    "inst_1.__dict__"
   ]
  },
  {
   "cell_type": "code",
   "execution_count": 569,
   "id": "eef6de21-4188-46ba-a93b-e6db0c465f7d",
   "metadata": {},
   "outputs": [
    {
     "data": {
      "text/plain": [
       "mappingproxy({'__module__': 'classes',\n",
       "              '__doc__': 'A class to represent a square in 2D space.',\n",
       "              '__init__': <function classes.Square.__init__(self, side_length: float)>,\n",
       "              'side_length': <property at 0x1b8da4b73d0>,\n",
       "              'area': <function classes.Square.area(self) -> float>,\n",
       "              'perimeter': <function classes.Square.perimeter(self) -> float>,\n",
       "              'locate': <function classes.Square.locate(self) -> str>,\n",
       "              '__repr__': <function classes.Square.__repr__(self) -> str>,\n",
       "              '__str__': <function classes.Square.__str__(self) -> str>,\n",
       "              '__dict__': <attribute '__dict__' of 'Square' objects>,\n",
       "              '__weakref__': <attribute '__weakref__' of 'Square' objects>})"
      ]
     },
     "execution_count": 569,
     "metadata": {},
     "output_type": "execute_result"
    }
   ],
   "source": [
    "vars(Square)"
   ]
  },
  {
   "cell_type": "code",
   "execution_count": 570,
   "id": "4e1d5366-04b9-438e-88f8-790a19f6da2f",
   "metadata": {},
   "outputs": [
    {
     "name": "stdout",
     "output_type": "stream",
     "text": [
      "Help on class Square in module classes:\n",
      "\n",
      "class Square(builtins.object)\n",
      " |  Square(side_length: float)\n",
      " |\n",
      " |  A class to represent a square in 2D space.\n",
      " |\n",
      " |  Methods defined here:\n",
      " |\n",
      " |  __init__(self, side_length: float)\n",
      " |      Initialize the square with a side length.\n",
      " |\n",
      " |  __repr__(self) -> str\n",
      " |      repr is for programmer.\n",
      " |\n",
      " |  __str__(self) -> str\n",
      " |      str is for common person or human readable\n",
      " |\n",
      " |  area(self) -> float\n",
      " |      Calculate the area of the square.\n",
      " |\n",
      " |  locate(self) -> str\n",
      " |      Provide a description of the square's properties.\n",
      " |\n",
      " |  perimeter(self) -> float\n",
      " |      Calculate the perimeter of the square.\n",
      " |\n",
      " |  ----------------------------------------------------------------------\n",
      " |  Data descriptors defined here:\n",
      " |\n",
      " |  __dict__\n",
      " |      dictionary for instance variables\n",
      " |\n",
      " |  __weakref__\n",
      " |      list of weak references to the object\n",
      " |\n",
      " |  side_length\n",
      " |      Get the length of a side of the square.\n",
      "\n"
     ]
    }
   ],
   "source": [
    "help(Square)"
   ]
  },
  {
   "cell_type": "code",
   "execution_count": 571,
   "id": "fe8d6fc7-fa01-4a0c-9607-f082058674cd",
   "metadata": {},
   "outputs": [
    {
     "name": "stdout",
     "output_type": "stream",
     "text": [
      "A class to represent a square in 2D space.\n"
     ]
    }
   ],
   "source": [
    "print(Square.__doc__)"
   ]
  },
  {
   "cell_type": "code",
   "execution_count": 572,
   "id": "5dd9a37a-c9c2-4f40-909a-bee28b563189",
   "metadata": {},
   "outputs": [
    {
     "name": "stdout",
     "output_type": "stream",
     "text": [
      "Initialize the square with a side length.\n",
      "        \n"
     ]
    }
   ],
   "source": [
    "print(Square.__init__.__doc__)"
   ]
  },
  {
   "cell_type": "code",
   "execution_count": 573,
   "id": "fcd36b27-62cb-4d3d-a592-98c2c245a7ee",
   "metadata": {},
   "outputs": [
    {
     "name": "stdout",
     "output_type": "stream",
     "text": [
      "Calculate the area of the square.\n",
      "        \n"
     ]
    }
   ],
   "source": [
    "print(Square.area.__doc__)"
   ]
  },
  {
   "cell_type": "code",
   "execution_count": 574,
   "id": "f9dad6a9-3a1c-4182-a01c-05c53fbf5644",
   "metadata": {},
   "outputs": [
    {
     "name": "stdout",
     "output_type": "stream",
     "text": [
      "Calculate the perimeter of the square.\n",
      "        \n"
     ]
    }
   ],
   "source": [
    "print(Square.perimeter.__doc__)"
   ]
  },
  {
   "cell_type": "code",
   "execution_count": 575,
   "id": "72c0f06c-bd1a-46a8-a0f7-2986dcd5035e",
   "metadata": {},
   "outputs": [
    {
     "name": "stdout",
     "output_type": "stream",
     "text": [
      "Provide a description of the square's properties.\n",
      "        \n"
     ]
    }
   ],
   "source": [
    "print(Square.locate.__doc__)"
   ]
  },
  {
   "cell_type": "code",
   "execution_count": 576,
   "id": "e5f03bfe-54b4-45ba-b12e-1a3841a2a2cf",
   "metadata": {},
   "outputs": [
    {
     "name": "stdout",
     "output_type": "stream",
     "text": [
      "repr is for programmer.\n"
     ]
    }
   ],
   "source": [
    "print(Square.__repr__.__doc__)"
   ]
  },
  {
   "cell_type": "code",
   "execution_count": 577,
   "id": "09e404a1-23ae-4348-a8c1-ac4d7392a440",
   "metadata": {},
   "outputs": [
    {
     "name": "stdout",
     "output_type": "stream",
     "text": [
      "str is for common person or human readable\n"
     ]
    }
   ],
   "source": [
    "print(Square.__str__.__doc__)"
   ]
  },
  {
   "cell_type": "code",
   "execution_count": 578,
   "id": "1ba8ca23-506e-4aaa-8124-957f4e1850b0",
   "metadata": {},
   "outputs": [],
   "source": [
    "from classes import Rectangle"
   ]
  },
  {
   "cell_type": "code",
   "execution_count": 579,
   "id": "fb518080-06d7-4e0d-86c9-82367cfc6a74",
   "metadata": {},
   "outputs": [],
   "source": [
    "inst_1=Rectangle(5,9)"
   ]
  },
  {
   "cell_type": "code",
   "execution_count": 580,
   "id": "0ba4a5f2-a5ec-46b6-95bc-8b4543d0f588",
   "metadata": {},
   "outputs": [
    {
     "name": "stdout",
     "output_type": "stream",
     "text": [
      "Rectangle with width 5 & height 9 \n"
     ]
    }
   ],
   "source": [
    "print(inst_1)"
   ]
  },
  {
   "cell_type": "code",
   "execution_count": 581,
   "id": "15bbb9e8-c7ba-4fc4-b665-a850be6ff94a",
   "metadata": {},
   "outputs": [
    {
     "data": {
      "text/plain": [
       "mappingproxy({'__module__': 'classes',\n",
       "              '__doc__': 'A class to represent a rectangle in 2D space.',\n",
       "              '__init__': <function classes.Rectangle.__init__(self, width: float, height: float)>,\n",
       "              'width': <property at 0x1b8da4b7bf0>,\n",
       "              'height': <property at 0x1b8da4b7dd0>,\n",
       "              'area': <function classes.Rectangle.area(self) -> float>,\n",
       "              'perimeter': <function classes.Rectangle.perimeter(self) -> float>,\n",
       "              'locate': <function classes.Rectangle.locate(self) -> str>,\n",
       "              '__repr__': <function classes.Rectangle.__repr__(self) -> str>,\n",
       "              '__str__': <function classes.Rectangle.__str__(self) -> str>,\n",
       "              '__dict__': <attribute '__dict__' of 'Rectangle' objects>,\n",
       "              '__weakref__': <attribute '__weakref__' of 'Rectangle' objects>})"
      ]
     },
     "execution_count": 581,
     "metadata": {},
     "output_type": "execute_result"
    }
   ],
   "source": [
    "Rectangle.__dict__"
   ]
  },
  {
   "cell_type": "code",
   "execution_count": 582,
   "id": "8725bb9d-f850-480e-b973-a7dbde1a6140",
   "metadata": {},
   "outputs": [
    {
     "data": {
      "text/plain": [
       "{'_width': 5, '_height': 9}"
      ]
     },
     "execution_count": 582,
     "metadata": {},
     "output_type": "execute_result"
    }
   ],
   "source": [
    "inst_1.__dict__"
   ]
  },
  {
   "cell_type": "code",
   "execution_count": 583,
   "id": "13bf4b18-e0bd-4dac-9e9b-e66ab99e82dc",
   "metadata": {},
   "outputs": [
    {
     "data": {
      "text/plain": [
       "mappingproxy({'__module__': 'classes',\n",
       "              '__doc__': 'A class to represent a rectangle in 2D space.',\n",
       "              '__init__': <function classes.Rectangle.__init__(self, width: float, height: float)>,\n",
       "              'width': <property at 0x1b8da4b7bf0>,\n",
       "              'height': <property at 0x1b8da4b7dd0>,\n",
       "              'area': <function classes.Rectangle.area(self) -> float>,\n",
       "              'perimeter': <function classes.Rectangle.perimeter(self) -> float>,\n",
       "              'locate': <function classes.Rectangle.locate(self) -> str>,\n",
       "              '__repr__': <function classes.Rectangle.__repr__(self) -> str>,\n",
       "              '__str__': <function classes.Rectangle.__str__(self) -> str>,\n",
       "              '__dict__': <attribute '__dict__' of 'Rectangle' objects>,\n",
       "              '__weakref__': <attribute '__weakref__' of 'Rectangle' objects>})"
      ]
     },
     "execution_count": 583,
     "metadata": {},
     "output_type": "execute_result"
    }
   ],
   "source": [
    "vars(Rectangle)"
   ]
  },
  {
   "cell_type": "code",
   "execution_count": 584,
   "id": "508d5bb2-0808-4f30-a38d-570f445683c0",
   "metadata": {},
   "outputs": [
    {
     "name": "stdout",
     "output_type": "stream",
     "text": [
      "Help on class Rectangle in module classes:\n",
      "\n",
      "class Rectangle(builtins.object)\n",
      " |  Rectangle(width: float, height: float)\n",
      " |\n",
      " |  A class to represent a rectangle in 2D space.\n",
      " |\n",
      " |  Methods defined here:\n",
      " |\n",
      " |  __init__(self, width: float, height: float)\n",
      " |      Initialize the rectangle with width and height.\n",
      " |\n",
      " |  __repr__(self) -> str\n",
      " |      repr is for programmer\n",
      " |\n",
      " |  __str__(self) -> str\n",
      " |      str is for common person\n",
      " |\n",
      " |  area(self) -> float\n",
      " |      Calculate the area of the rectangle.\n",
      " |\n",
      " |  locate(self) -> str\n",
      " |      Provide a description of the rectangle's properties.\n",
      " |\n",
      " |  perimeter(self) -> float\n",
      " |      Calculate the perimeter of the rectangle.\n",
      " |\n",
      " |  ----------------------------------------------------------------------\n",
      " |  Data descriptors defined here:\n",
      " |\n",
      " |  __dict__\n",
      " |      dictionary for instance variables\n",
      " |\n",
      " |  __weakref__\n",
      " |      list of weak references to the object\n",
      " |\n",
      " |  height\n",
      " |      Get the height of the rectangle.\n",
      " |\n",
      " |  width\n",
      " |      Get the width of the rectangle.\n",
      "\n"
     ]
    }
   ],
   "source": [
    "help(Rectangle)"
   ]
  },
  {
   "cell_type": "code",
   "execution_count": 585,
   "id": "6bcf8208-0a24-45ba-8113-d2f6e597cd18",
   "metadata": {},
   "outputs": [
    {
     "name": "stdout",
     "output_type": "stream",
     "text": [
      "A class to represent a rectangle in 2D space.\n"
     ]
    }
   ],
   "source": [
    "print(Rectangle.__doc__)"
   ]
  },
  {
   "cell_type": "code",
   "execution_count": 586,
   "id": "309b3870-18fe-4696-816f-02ca4fc8fd1b",
   "metadata": {},
   "outputs": [
    {
     "name": "stdout",
     "output_type": "stream",
     "text": [
      "Initialize the rectangle with width and height.\n",
      "        \n"
     ]
    }
   ],
   "source": [
    "print(Rectangle.__init__.__doc__)"
   ]
  },
  {
   "cell_type": "code",
   "execution_count": 587,
   "id": "db0bce5d-5354-404e-a846-16523287e6da",
   "metadata": {},
   "outputs": [
    {
     "name": "stdout",
     "output_type": "stream",
     "text": [
      "Get the width of the rectangle.\n"
     ]
    }
   ],
   "source": [
    "print(Rectangle. width.__doc__)"
   ]
  },
  {
   "cell_type": "code",
   "execution_count": 588,
   "id": "ff9ad2ee-09f0-43ee-a406-0e7b3b59ad30",
   "metadata": {},
   "outputs": [
    {
     "name": "stdout",
     "output_type": "stream",
     "text": [
      "Get the height of the rectangle.\n"
     ]
    }
   ],
   "source": [
    "print(Rectangle.height.__doc__)"
   ]
  },
  {
   "cell_type": "code",
   "execution_count": 589,
   "id": "634f80c2-9e8c-4405-b72d-1072b836f313",
   "metadata": {},
   "outputs": [
    {
     "name": "stdout",
     "output_type": "stream",
     "text": [
      "Calculate the area of the rectangle.\n",
      "        \n"
     ]
    }
   ],
   "source": [
    "print(Rectangle.area.__doc__)"
   ]
  },
  {
   "cell_type": "code",
   "execution_count": 590,
   "id": "85919800-ac52-439b-a06e-a7e9dea9e5a0",
   "metadata": {},
   "outputs": [],
   "source": [
    "from classes import Triangle"
   ]
  },
  {
   "cell_type": "code",
   "execution_count": 591,
   "id": "eb98b1da-489a-4fd0-96cf-9ec1aae0fc72",
   "metadata": {},
   "outputs": [],
   "source": [
    "inst_1=Triangle(2,3,4)"
   ]
  },
  {
   "cell_type": "code",
   "execution_count": 592,
   "id": "c362eefe-1f0f-4ba3-bfcd-021bd2b23a91",
   "metadata": {},
   "outputs": [],
   "source": [
    "inst_1=Triangle(2,3,4)"
   ]
  },
  {
   "cell_type": "code",
   "execution_count": 593,
   "id": "7cfeb919-15be-4def-bffc-d50109685f8d",
   "metadata": {},
   "outputs": [
    {
     "name": "stdout",
     "output_type": "stream",
     "text": [
      "Triangle with sides 2, 3, 4\n"
     ]
    }
   ],
   "source": [
    "print(inst_1)"
   ]
  },
  {
   "cell_type": "code",
   "execution_count": 594,
   "id": "399f24c2-c313-4b66-ba98-580516b279ca",
   "metadata": {},
   "outputs": [
    {
     "data": {
      "text/plain": [
       "mappingproxy({'__module__': 'classes',\n",
       "              '__doc__': 'A class to represent a triangle in 2D space.',\n",
       "              '__init__': <function classes.Triangle.__init__(self, side_a: float, side_b: float, side_c: float)>,\n",
       "              'side_a': <property at 0x1b8da4b7290>,\n",
       "              'side_b': <property at 0x1b8da4b72e0>,\n",
       "              'side_c': <property at 0x1b8da4b7330>,\n",
       "              'area': <function classes.Triangle.area(self) -> float>,\n",
       "              'perimeter': <function classes.Triangle.perimeter(self) -> float>,\n",
       "              'locate': <function classes.Triangle.locate(self) -> str>,\n",
       "              '__repr__': <function classes.Triangle.__repr__(self) -> str>,\n",
       "              '__str__': <function classes.Triangle.__str__(self) -> str>,\n",
       "              '__dict__': <attribute '__dict__' of 'Triangle' objects>,\n",
       "              '__weakref__': <attribute '__weakref__' of 'Triangle' objects>})"
      ]
     },
     "execution_count": 594,
     "metadata": {},
     "output_type": "execute_result"
    }
   ],
   "source": [
    "Triangle.__dict__"
   ]
  },
  {
   "cell_type": "code",
   "execution_count": 595,
   "id": "4e75efa6-a00d-498b-9927-de2b3e1345da",
   "metadata": {},
   "outputs": [
    {
     "data": {
      "text/plain": [
       "{'_side_a': 2, '_side_b': 3, '_side_c': 4}"
      ]
     },
     "execution_count": 595,
     "metadata": {},
     "output_type": "execute_result"
    }
   ],
   "source": [
    "inst_1.__dict__"
   ]
  },
  {
   "cell_type": "code",
   "execution_count": 596,
   "id": "4bc848df-1132-454b-a93e-4d73f00db41e",
   "metadata": {},
   "outputs": [
    {
     "data": {
      "text/plain": [
       "mappingproxy({'__module__': 'classes',\n",
       "              '__doc__': 'A class to represent a triangle in 2D space.',\n",
       "              '__init__': <function classes.Triangle.__init__(self, side_a: float, side_b: float, side_c: float)>,\n",
       "              'side_a': <property at 0x1b8da4b7290>,\n",
       "              'side_b': <property at 0x1b8da4b72e0>,\n",
       "              'side_c': <property at 0x1b8da4b7330>,\n",
       "              'area': <function classes.Triangle.area(self) -> float>,\n",
       "              'perimeter': <function classes.Triangle.perimeter(self) -> float>,\n",
       "              'locate': <function classes.Triangle.locate(self) -> str>,\n",
       "              '__repr__': <function classes.Triangle.__repr__(self) -> str>,\n",
       "              '__str__': <function classes.Triangle.__str__(self) -> str>,\n",
       "              '__dict__': <attribute '__dict__' of 'Triangle' objects>,\n",
       "              '__weakref__': <attribute '__weakref__' of 'Triangle' objects>})"
      ]
     },
     "execution_count": 596,
     "metadata": {},
     "output_type": "execute_result"
    }
   ],
   "source": [
    "vars(Triangle)"
   ]
  },
  {
   "cell_type": "code",
   "execution_count": 597,
   "id": "3d9cd742-ab66-418b-9dac-672a142a1625",
   "metadata": {},
   "outputs": [
    {
     "name": "stdout",
     "output_type": "stream",
     "text": [
      "Help on class Triangle in module classes:\n",
      "\n",
      "class Triangle(builtins.object)\n",
      " |  Triangle(side_a: float, side_b: float, side_c: float)\n",
      " |\n",
      " |  A class to represent a triangle in 2D space.\n",
      " |\n",
      " |  Methods defined here:\n",
      " |\n",
      " |  __init__(self, side_a: float, side_b: float, side_c: float)\n",
      " |      Initialize the triangle with three sides.\n",
      " |\n",
      " |  __repr__(self) -> str\n",
      " |      Repr is for programmer\n",
      " |\n",
      " |  __str__(self) -> str\n",
      " |      Return a user-friendly string representation of the triangle.\n",
      " |\n",
      " |  area(self) -> float\n",
      " |      Calculate the area of the triangle using Heron's formula.\n",
      " |\n",
      " |  locate(self) -> str\n",
      " |      Provide a description of the triangle's properties.\n",
      " |\n",
      " |  perimeter(self) -> float\n",
      " |      Calculate the perimeter of the triangle.\n",
      " |\n",
      " |  ----------------------------------------------------------------------\n",
      " |  Data descriptors defined here:\n",
      " |\n",
      " |  __dict__\n",
      " |      dictionary for instance variables\n",
      " |\n",
      " |  __weakref__\n",
      " |      list of weak references to the object\n",
      " |\n",
      " |  side_a\n",
      " |      Get the length of the first side.\n",
      " |\n",
      " |  side_b\n",
      " |      Get the length of the second side.\n",
      " |\n",
      " |  side_c\n",
      " |      Get the length of the third side.\n",
      "\n"
     ]
    }
   ],
   "source": [
    "help(Triangle)"
   ]
  },
  {
   "cell_type": "code",
   "execution_count": 598,
   "id": "ab7a60bb-e61f-4c92-96d4-2c8089d0d0b8",
   "metadata": {},
   "outputs": [
    {
     "name": "stdout",
     "output_type": "stream",
     "text": [
      "A class to represent a triangle in 2D space.\n"
     ]
    }
   ],
   "source": [
    " print(Triangle.__doc__)"
   ]
  },
  {
   "cell_type": "code",
   "execution_count": 599,
   "id": "40d2f24f-7f76-43db-ac2d-29ac823478be",
   "metadata": {},
   "outputs": [
    {
     "name": "stdout",
     "output_type": "stream",
     "text": [
      "Initialize the triangle with three sides.\n",
      "        \n"
     ]
    }
   ],
   "source": [
    " print(Triangle.__init__.__doc__)"
   ]
  },
  {
   "cell_type": "code",
   "execution_count": 600,
   "id": "33acf387-41da-4238-a1d4-b6e3f735f59b",
   "metadata": {},
   "outputs": [
    {
     "name": "stdout",
     "output_type": "stream",
     "text": [
      "Get the length of the first side.\n"
     ]
    }
   ],
   "source": [
    " print(Triangle.side_a.__doc__)"
   ]
  },
  {
   "cell_type": "code",
   "execution_count": 601,
   "id": "0bcc703d-2325-488d-a9c2-e9b53589c531",
   "metadata": {},
   "outputs": [
    {
     "name": "stdout",
     "output_type": "stream",
     "text": [
      "Get the length of the second side.\n"
     ]
    }
   ],
   "source": [
    " print(Triangle.side_b.__doc__)"
   ]
  },
  {
   "cell_type": "code",
   "execution_count": 602,
   "id": "21614e74-517d-4ccf-b753-fb537b512d7e",
   "metadata": {},
   "outputs": [
    {
     "name": "stdout",
     "output_type": "stream",
     "text": [
      "Get the length of the third side.\n"
     ]
    }
   ],
   "source": [
    " print(Triangle.side_c.__doc__)"
   ]
  },
  {
   "cell_type": "code",
   "execution_count": 603,
   "id": "ba19eb9c-3f7b-402b-90f0-cd8a831c67bd",
   "metadata": {},
   "outputs": [
    {
     "name": "stdout",
     "output_type": "stream",
     "text": [
      "Calculate the area of the triangle using Heron's formula.\n",
      "        \n"
     ]
    }
   ],
   "source": [
    " print(Triangle.area.__doc__)"
   ]
  },
  {
   "cell_type": "code",
   "execution_count": 604,
   "id": "c8de69ff-8cb4-406f-b517-0807e539a5cd",
   "metadata": {},
   "outputs": [
    {
     "name": "stdout",
     "output_type": "stream",
     "text": [
      "Calculate the perimeter of the triangle.\n",
      "        \n"
     ]
    }
   ],
   "source": [
    " print(Triangle.perimeter.__doc__)"
   ]
  },
  {
   "cell_type": "code",
   "execution_count": 605,
   "id": "c82c5820-0adb-42f5-bd89-26acdef7a900",
   "metadata": {},
   "outputs": [
    {
     "name": "stdout",
     "output_type": "stream",
     "text": [
      "Provide a description of the triangle's properties.\n",
      "        \n"
     ]
    }
   ],
   "source": [
    " print(Triangle.locate.__doc__)"
   ]
  },
  {
   "cell_type": "code",
   "execution_count": 606,
   "id": "152fc4b7-a87d-428f-8170-5703863d3609",
   "metadata": {},
   "outputs": [
    {
     "name": "stdout",
     "output_type": "stream",
     "text": [
      "Repr is for programmer\n"
     ]
    }
   ],
   "source": [
    " print(Triangle.__repr__.__doc__)"
   ]
  },
  {
   "cell_type": "code",
   "execution_count": 607,
   "id": "258f939d-36fb-4428-9092-ec51abd984d2",
   "metadata": {},
   "outputs": [
    {
     "name": "stdout",
     "output_type": "stream",
     "text": [
      "Return a user-friendly string representation of the triangle.\n"
     ]
    }
   ],
   "source": [
    " print(Triangle.__str__.__doc__)"
   ]
  },
  {
   "cell_type": "code",
   "execution_count": 653,
   "id": "18bd8044-3f92-4df5-84c1-a0a94e8970a3",
   "metadata": {},
   "outputs": [],
   "source": [
    "from classes import Trapezoid"
   ]
  },
  {
   "cell_type": "code",
   "execution_count": 655,
   "id": "5a81b10d-48e3-4f1c-a566-1155ba48fdbb",
   "metadata": {},
   "outputs": [],
   "source": [
    "inst_1=Trapezoid(2,3,9)"
   ]
  },
  {
   "cell_type": "code",
   "execution_count": 657,
   "id": "cd6ceacd-c184-4a9d-8dfb-2566bc4f7967",
   "metadata": {},
   "outputs": [
    {
     "name": "stdout",
     "output_type": "stream",
     "text": [
      "Trapezoid with bases 2 and 3\n"
     ]
    }
   ],
   "source": [
    "print(inst_1)"
   ]
  },
  {
   "cell_type": "code",
   "execution_count": 658,
   "id": "d1bcccd5-37c0-4ef2-8021-94e794764ece",
   "metadata": {},
   "outputs": [
    {
     "data": {
      "text/plain": [
       "mappingproxy({'__module__': 'classes',\n",
       "              '__doc__': 'A class to represent a trapezoid (or trapezium) in 2D space.',\n",
       "              '__init__': <function classes.Trapezoid.__init__(self, base1: float, base2: float, height: float)>,\n",
       "              'base1': <property at 0x1b8da4b7740>,\n",
       "              'base2': <property at 0x1b8da4b7790>,\n",
       "              'height': <property at 0x1b8da4b77e0>,\n",
       "              'area': <function classes.Trapezoid.area(self) -> float>,\n",
       "              'perimeter': <function classes.Trapezoid.perimeter(self, side_a: float, side_b: float) -> float>,\n",
       "              'locate': <function classes.Trapezoid.locate(self) -> str>,\n",
       "              '__repr__': <function classes.Trapezoid.__repr__(self) -> str>,\n",
       "              '__str__': <function classes.Trapezoid.__str__(self) -> str>,\n",
       "              '__dict__': <attribute '__dict__' of 'Trapezoid' objects>,\n",
       "              '__weakref__': <attribute '__weakref__' of 'Trapezoid' objects>})"
      ]
     },
     "execution_count": 658,
     "metadata": {},
     "output_type": "execute_result"
    }
   ],
   "source": [
    "Trapezoid.__dict__"
   ]
  },
  {
   "cell_type": "code",
   "execution_count": 659,
   "id": "1787ee08-36f9-496f-991f-8308e95b8ed1",
   "metadata": {},
   "outputs": [
    {
     "data": {
      "text/plain": [
       "{'_base1': 2, '_base2': 3, '_height': 9}"
      ]
     },
     "execution_count": 659,
     "metadata": {},
     "output_type": "execute_result"
    }
   ],
   "source": [
    "inst_1.__dict__"
   ]
  },
  {
   "cell_type": "code",
   "execution_count": 660,
   "id": "0821bf43-27f0-406a-800b-be18f3292e3d",
   "metadata": {},
   "outputs": [
    {
     "data": {
      "text/plain": [
       "mappingproxy({'__module__': 'classes',\n",
       "              '__doc__': 'A class to represent a trapezoid (or trapezium) in 2D space.',\n",
       "              '__init__': <function classes.Trapezoid.__init__(self, base1: float, base2: float, height: float)>,\n",
       "              'base1': <property at 0x1b8da4b7740>,\n",
       "              'base2': <property at 0x1b8da4b7790>,\n",
       "              'height': <property at 0x1b8da4b77e0>,\n",
       "              'area': <function classes.Trapezoid.area(self) -> float>,\n",
       "              'perimeter': <function classes.Trapezoid.perimeter(self, side_a: float, side_b: float) -> float>,\n",
       "              'locate': <function classes.Trapezoid.locate(self) -> str>,\n",
       "              '__repr__': <function classes.Trapezoid.__repr__(self) -> str>,\n",
       "              '__str__': <function classes.Trapezoid.__str__(self) -> str>,\n",
       "              '__dict__': <attribute '__dict__' of 'Trapezoid' objects>,\n",
       "              '__weakref__': <attribute '__weakref__' of 'Trapezoid' objects>})"
      ]
     },
     "execution_count": 660,
     "metadata": {},
     "output_type": "execute_result"
    }
   ],
   "source": [
    "vars(Trapezoid)"
   ]
  },
  {
   "cell_type": "code",
   "execution_count": 661,
   "id": "472a484c-f066-41ed-8e35-a45d3816ea18",
   "metadata": {},
   "outputs": [
    {
     "name": "stdout",
     "output_type": "stream",
     "text": [
      "Help on class Trapezoid in module classes:\n",
      "\n",
      "class Trapezoid(builtins.object)\n",
      " |  Trapezoid(base1: float, base2: float, height: float)\n",
      " |\n",
      " |  A class to represent a trapezoid (or trapezium) in 2D space.\n",
      " |\n",
      " |  Methods defined here:\n",
      " |\n",
      " |  __init__(self, base1: float, base2: float, height: float)\n",
      " |      Initialize the trapezoid with two bases and a height.\n",
      " |\n",
      " |  __repr__(self) -> str\n",
      " |      Repr is for programmer\n",
      " |\n",
      " |  __str__(self) -> str\n",
      " |      Return a user-friendly string representation of the trapezoid.\n",
      " |\n",
      " |  area(self) -> float\n",
      " |      Calculate the area of the trapezoid.\n",
      " |\n",
      " |  locate(self) -> str\n",
      " |      Provide a description of the trapezoid's properties.\n",
      " |\n",
      " |  perimeter(self, side_a: float, side_b: float) -> float\n",
      " |      Calculate the perimeter of the trapezoid.\n",
      " |\n",
      " |  ----------------------------------------------------------------------\n",
      " |  Data descriptors defined here:\n",
      " |\n",
      " |  __dict__\n",
      " |      dictionary for instance variables\n",
      " |\n",
      " |  __weakref__\n",
      " |      list of weak references to the object\n",
      " |\n",
      " |  base1\n",
      " |      Get the length of the first base.\n",
      " |\n",
      " |  base2\n",
      " |      Get the length of the second base.\n",
      " |\n",
      " |  height\n",
      " |      Get the height of the trapezoid.\n",
      "\n"
     ]
    }
   ],
   "source": [
    "help(Trapezoid)"
   ]
  },
  {
   "cell_type": "code",
   "execution_count": 662,
   "id": "1f8302c0-d0d1-4935-93ad-72ba00f5d7ce",
   "metadata": {},
   "outputs": [
    {
     "name": "stdout",
     "output_type": "stream",
     "text": [
      "A class to represent a trapezoid (or trapezium) in 2D space.\n"
     ]
    }
   ],
   "source": [
    "print(Trapezoid.__doc__)"
   ]
  },
  {
   "cell_type": "code",
   "execution_count": 663,
   "id": "531453ea-41c0-466b-97bc-6c60e40dd5b1",
   "metadata": {},
   "outputs": [
    {
     "name": "stdout",
     "output_type": "stream",
     "text": [
      "Initialize the trapezoid with two bases and a height.\n",
      "        \n"
     ]
    }
   ],
   "source": [
    "print(Trapezoid.__init__.__doc__)"
   ]
  },
  {
   "cell_type": "code",
   "execution_count": 671,
   "id": "25d5c026-f65e-4174-a2db-8616e815c661",
   "metadata": {},
   "outputs": [
    {
     "name": "stdout",
     "output_type": "stream",
     "text": [
      "Get the length of the first base.\n"
     ]
    }
   ],
   "source": [
    "print(Trapezoid.base1.__doc__)"
   ]
  },
  {
   "cell_type": "code",
   "execution_count": 672,
   "id": "5507595e-89fc-481b-a931-8ba83825e976",
   "metadata": {},
   "outputs": [
    {
     "name": "stdout",
     "output_type": "stream",
     "text": [
      "Get the length of the second base.\n"
     ]
    }
   ],
   "source": [
    "print(Trapezoid.base2.__doc__)"
   ]
  },
  {
   "cell_type": "code",
   "execution_count": 673,
   "id": "07f9eceb-8a1f-4154-ae28-23c082b51de4",
   "metadata": {},
   "outputs": [
    {
     "name": "stdout",
     "output_type": "stream",
     "text": [
      "Get the height of the trapezoid.\n"
     ]
    }
   ],
   "source": [
    "print(Trapezoid.height.__doc__)"
   ]
  },
  {
   "cell_type": "code",
   "execution_count": 674,
   "id": "abb607b9-5a0b-4f60-adab-25f72fe0dff8",
   "metadata": {},
   "outputs": [
    {
     "name": "stdout",
     "output_type": "stream",
     "text": [
      "Calculate the perimeter of the trapezoid.\n",
      "        \n"
     ]
    }
   ],
   "source": [
    "print(Trapezoid.perimeter.__doc__)"
   ]
  },
  {
   "cell_type": "code",
   "execution_count": 675,
   "id": "0cb97ffc-0a8b-4a26-9c6b-cf7f2447162a",
   "metadata": {},
   "outputs": [
    {
     "name": "stdout",
     "output_type": "stream",
     "text": [
      "Provide a description of the trapezoid's properties.\n",
      "        \n"
     ]
    }
   ],
   "source": [
    "print(Trapezoid.locate.__doc__)"
   ]
  },
  {
   "cell_type": "code",
   "execution_count": 676,
   "id": "f3e5753d-5dc8-4773-a4ec-042161864b02",
   "metadata": {},
   "outputs": [
    {
     "name": "stdout",
     "output_type": "stream",
     "text": [
      "Repr is for programmer\n"
     ]
    }
   ],
   "source": [
    "print(Trapezoid.__repr__.__doc__)"
   ]
  },
  {
   "cell_type": "code",
   "execution_count": 677,
   "id": "a7e40b50-269c-4404-8881-bd32280a9be5",
   "metadata": {},
   "outputs": [
    {
     "name": "stdout",
     "output_type": "stream",
     "text": [
      "Return a user-friendly string representation of the trapezoid.\n"
     ]
    }
   ],
   "source": [
    "print(Trapezoid.__str__.__doc__)"
   ]
  },
  {
   "cell_type": "code",
   "execution_count": 678,
   "id": "6c67a62e-e396-49bb-b764-1a446d799bde",
   "metadata": {},
   "outputs": [],
   "source": [
    "from classes import Parallelogram"
   ]
  },
  {
   "cell_type": "code",
   "execution_count": 679,
   "id": "083d1502-c1b8-4870-b8f5-8515c3df98eb",
   "metadata": {},
   "outputs": [],
   "source": [
    "inst_1=Parallelogram(4,8)"
   ]
  },
  {
   "cell_type": "code",
   "execution_count": 680,
   "id": "caf66870-475e-439e-93c5-1d86e385fa91",
   "metadata": {},
   "outputs": [
    {
     "name": "stdout",
     "output_type": "stream",
     "text": [
      "Parallelogram with base 4 & height 8\n"
     ]
    }
   ],
   "source": [
    "print(inst_1)"
   ]
  },
  {
   "cell_type": "code",
   "execution_count": 681,
   "id": "a15f3bf3-590c-4f58-8ca3-6aeb8b54ef6d",
   "metadata": {},
   "outputs": [
    {
     "data": {
      "text/plain": [
       "mappingproxy({'__module__': 'classes',\n",
       "              '__doc__': 'A class to represent a parallelogram in 2D space.',\n",
       "              '__init__': <function classes.Parallelogram.__init__(self, base: float, height: float)>,\n",
       "              'base': <property at 0x1b8da4c5080>,\n",
       "              'height': <property at 0x1b8da4c50d0>,\n",
       "              'area': <function classes.Parallelogram.area(self) -> float>,\n",
       "              'perimeter': <function classes.Parallelogram.perimeter(self, side_length: float) -> float>,\n",
       "              'locate': <function classes.Parallelogram.locate(self) -> str>,\n",
       "              '__repr__': <function classes.Parallelogram.__repr__(self) -> str>,\n",
       "              '__str__': <function classes.Parallelogram.__str__(self) -> str>,\n",
       "              '__dict__': <attribute '__dict__' of 'Parallelogram' objects>,\n",
       "              '__weakref__': <attribute '__weakref__' of 'Parallelogram' objects>})"
      ]
     },
     "execution_count": 681,
     "metadata": {},
     "output_type": "execute_result"
    }
   ],
   "source": [
    "Parallelogram.__dict__"
   ]
  },
  {
   "cell_type": "code",
   "execution_count": 682,
   "id": "9216a772-0b0a-483e-9df2-ae0a598b9f3b",
   "metadata": {},
   "outputs": [
    {
     "data": {
      "text/plain": [
       "{'_base': 4, '_height': 8}"
      ]
     },
     "execution_count": 682,
     "metadata": {},
     "output_type": "execute_result"
    }
   ],
   "source": [
    "inst_1.__dict__"
   ]
  },
  {
   "cell_type": "code",
   "execution_count": 683,
   "id": "7b797f61-ae1f-421f-b6c1-e4a2eb71d6fa",
   "metadata": {},
   "outputs": [
    {
     "data": {
      "text/plain": [
       "mappingproxy({'__module__': 'classes',\n",
       "              '__doc__': 'A class to represent a parallelogram in 2D space.',\n",
       "              '__init__': <function classes.Parallelogram.__init__(self, base: float, height: float)>,\n",
       "              'base': <property at 0x1b8da4c5080>,\n",
       "              'height': <property at 0x1b8da4c50d0>,\n",
       "              'area': <function classes.Parallelogram.area(self) -> float>,\n",
       "              'perimeter': <function classes.Parallelogram.perimeter(self, side_length: float) -> float>,\n",
       "              'locate': <function classes.Parallelogram.locate(self) -> str>,\n",
       "              '__repr__': <function classes.Parallelogram.__repr__(self) -> str>,\n",
       "              '__str__': <function classes.Parallelogram.__str__(self) -> str>,\n",
       "              '__dict__': <attribute '__dict__' of 'Parallelogram' objects>,\n",
       "              '__weakref__': <attribute '__weakref__' of 'Parallelogram' objects>})"
      ]
     },
     "execution_count": 683,
     "metadata": {},
     "output_type": "execute_result"
    }
   ],
   "source": [
    "vars(Parallelogram)"
   ]
  },
  {
   "cell_type": "code",
   "execution_count": 684,
   "id": "f2e8ccc0-95f8-40fe-8bea-ee4a937490a2",
   "metadata": {},
   "outputs": [
    {
     "name": "stdout",
     "output_type": "stream",
     "text": [
      "Help on class Parallelogram in module classes:\n",
      "\n",
      "class Parallelogram(builtins.object)\n",
      " |  Parallelogram(base: float, height: float)\n",
      " |\n",
      " |  A class to represent a parallelogram in 2D space.\n",
      " |\n",
      " |  Methods defined here:\n",
      " |\n",
      " |  __init__(self, base: float, height: float)\n",
      " |      Initialize the parallelogram with base and height.\n",
      " |\n",
      " |  __repr__(self) -> str\n",
      " |      Repr is for programmers.\n",
      " |\n",
      " |  __str__(self) -> str\n",
      " |      Return a user-friendly string representation of the parallelogram.\n",
      " |\n",
      " |  area(self) -> float\n",
      " |      Calculate the area of the parallelogram.\n",
      " |\n",
      " |  locate(self) -> str\n",
      " |      Provide a description of the parallelogram's properties.\n",
      " |\n",
      " |  perimeter(self, side_length: float) -> float\n",
      " |      Calculate the perimeter of the parallelogram.\n",
      " |\n",
      " |  ----------------------------------------------------------------------\n",
      " |  Data descriptors defined here:\n",
      " |\n",
      " |  __dict__\n",
      " |      dictionary for instance variables\n",
      " |\n",
      " |  __weakref__\n",
      " |      list of weak references to the object\n",
      " |\n",
      " |  base\n",
      " |      Get the length of the base.\n",
      " |\n",
      " |  height\n",
      " |      Get the height of the parallelogram.\n",
      "\n"
     ]
    }
   ],
   "source": [
    "help(Parallelogram)"
   ]
  },
  {
   "cell_type": "code",
   "execution_count": 685,
   "id": "d683cfb3-84a9-4b1b-9edc-48c142bcc188",
   "metadata": {},
   "outputs": [
    {
     "name": "stdout",
     "output_type": "stream",
     "text": [
      "A class to represent a parallelogram in 2D space.\n"
     ]
    }
   ],
   "source": [
    "print(Parallelogram.__doc__)"
   ]
  },
  {
   "cell_type": "code",
   "execution_count": 686,
   "id": "c1deabb4-12a1-4116-b039-9564a1e88cca",
   "metadata": {},
   "outputs": [
    {
     "name": "stdout",
     "output_type": "stream",
     "text": [
      "Initialize the parallelogram with base and height.\n",
      "        \n"
     ]
    }
   ],
   "source": [
    "print(Parallelogram.__init__.__doc__)"
   ]
  },
  {
   "cell_type": "code",
   "execution_count": 687,
   "id": "13ef8146-c8dd-42b8-b295-75764705ab47",
   "metadata": {},
   "outputs": [
    {
     "name": "stdout",
     "output_type": "stream",
     "text": [
      "Get the length of the base.\n"
     ]
    }
   ],
   "source": [
    "print(Parallelogram.base.__doc__)"
   ]
  },
  {
   "cell_type": "code",
   "execution_count": 688,
   "id": "a888b106-b81b-4172-ae04-e69d4f971281",
   "metadata": {},
   "outputs": [],
   "source": [
    "from classes import Rhombus"
   ]
  },
  {
   "cell_type": "code",
   "execution_count": 689,
   "id": "0f33b57f-882b-4feb-a908-1c78e4c0eead",
   "metadata": {},
   "outputs": [],
   "source": [
    "inst_1=Rhombus(8,9)"
   ]
  },
  {
   "cell_type": "code",
   "execution_count": 690,
   "id": "190ce509-fedc-4db7-bf62-42bbf616cdd3",
   "metadata": {},
   "outputs": [
    {
     "data": {
      "text/plain": [
       "mappingproxy({'__module__': 'classes',\n",
       "              '__doc__': 'A class to represent a rhombus in 2D space.',\n",
       "              '__init__': <function classes.Rhombus.__init__(self, side_length: float, height: float)>,\n",
       "              'side_length': <property at 0x1b8da4c52b0>,\n",
       "              'height': <property at 0x1b8da4c5300>,\n",
       "              'area': <property at 0x1b8da4c5120>,\n",
       "              'perimeter': <property at 0x1b8da4c5210>,\n",
       "              'locate': <function classes.Rhombus.locate(self) -> str>,\n",
       "              '__repr__': <function classes.Rhombus.__repr__(self) -> str>,\n",
       "              '__str__': <function classes.Rhombus.__str__(self) -> str>,\n",
       "              '__dict__': <attribute '__dict__' of 'Rhombus' objects>,\n",
       "              '__weakref__': <attribute '__weakref__' of 'Rhombus' objects>})"
      ]
     },
     "execution_count": 690,
     "metadata": {},
     "output_type": "execute_result"
    }
   ],
   "source": [
    "Rhombus.__dict__"
   ]
  },
  {
   "cell_type": "code",
   "execution_count": 691,
   "id": "cedc2825-7f49-441f-a717-717fdb776440",
   "metadata": {},
   "outputs": [
    {
     "data": {
      "text/plain": [
       "{'_side_length': 8, '_height': 9}"
      ]
     },
     "execution_count": 691,
     "metadata": {},
     "output_type": "execute_result"
    }
   ],
   "source": [
    "inst_1.__dict__"
   ]
  },
  {
   "cell_type": "code",
   "execution_count": 692,
   "id": "b4f24aa4-67e1-44fd-8b1a-ff67e582d6e7",
   "metadata": {},
   "outputs": [
    {
     "data": {
      "text/plain": [
       "mappingproxy({'__module__': 'classes',\n",
       "              '__doc__': 'A class to represent a rhombus in 2D space.',\n",
       "              '__init__': <function classes.Rhombus.__init__(self, side_length: float, height: float)>,\n",
       "              'side_length': <property at 0x1b8da4c52b0>,\n",
       "              'height': <property at 0x1b8da4c5300>,\n",
       "              'area': <property at 0x1b8da4c5120>,\n",
       "              'perimeter': <property at 0x1b8da4c5210>,\n",
       "              'locate': <function classes.Rhombus.locate(self) -> str>,\n",
       "              '__repr__': <function classes.Rhombus.__repr__(self) -> str>,\n",
       "              '__str__': <function classes.Rhombus.__str__(self) -> str>,\n",
       "              '__dict__': <attribute '__dict__' of 'Rhombus' objects>,\n",
       "              '__weakref__': <attribute '__weakref__' of 'Rhombus' objects>})"
      ]
     },
     "execution_count": 692,
     "metadata": {},
     "output_type": "execute_result"
    }
   ],
   "source": [
    "vars(Rhombus)"
   ]
  },
  {
   "cell_type": "code",
   "execution_count": 693,
   "id": "a73b0bc1-742a-4a02-9f41-b6dacd761df5",
   "metadata": {},
   "outputs": [
    {
     "name": "stdout",
     "output_type": "stream",
     "text": [
      "Help on class Rhombus in module classes:\n",
      "\n",
      "class Rhombus(builtins.object)\n",
      " |  Rhombus(side_length: float, height: float)\n",
      " |\n",
      " |  A class to represent a rhombus in 2D space.\n",
      " |\n",
      " |  Methods defined here:\n",
      " |\n",
      " |  __init__(self, side_length: float, height: float)\n",
      " |      Initialize the rhombus with side length and height.\n",
      " |\n",
      " |  __repr__(self) -> str\n",
      " |      Repr is for programmer.\n",
      " |\n",
      " |  __str__(self) -> str\n",
      " |      Return a user-friendly string representation of the rhombus.\n",
      " |\n",
      " |  locate(self) -> str\n",
      " |      Provide a description of the rhombus's properties.\n",
      " |\n",
      " |  ----------------------------------------------------------------------\n",
      " |  Readonly properties defined here:\n",
      " |\n",
      " |  area\n",
      " |      Calculate the area of the rhombus.\n",
      " |\n",
      " |  perimeter\n",
      " |      Calculate the perimeter of the rhombus.\n",
      " |\n",
      " |  ----------------------------------------------------------------------\n",
      " |  Data descriptors defined here:\n",
      " |\n",
      " |  __dict__\n",
      " |      dictionary for instance variables\n",
      " |\n",
      " |  __weakref__\n",
      " |      list of weak references to the object\n",
      " |\n",
      " |  height\n",
      " |      Get the height of the rhombus.\n",
      " |\n",
      " |  side_length\n",
      " |      Get the length of each side.\n",
      "\n"
     ]
    }
   ],
   "source": [
    "help(Rhombus)"
   ]
  },
  {
   "cell_type": "code",
   "execution_count": 694,
   "id": "a4077cb3-2887-4f6d-932b-f58e86f0c412",
   "metadata": {},
   "outputs": [
    {
     "name": "stdout",
     "output_type": "stream",
     "text": [
      "A class to represent a rhombus in 2D space.\n"
     ]
    }
   ],
   "source": [
    "print(Rhombus.__doc__)"
   ]
  },
  {
   "cell_type": "code",
   "execution_count": 695,
   "id": "37d27be2-d062-4dae-a3a1-a70d0c61391d",
   "metadata": {},
   "outputs": [
    {
     "name": "stdout",
     "output_type": "stream",
     "text": [
      "Initialize the rhombus with side length and height.\n",
      "        \n"
     ]
    }
   ],
   "source": [
    "print(Rhombus.__init__.__doc__)"
   ]
  },
  {
   "cell_type": "code",
   "execution_count": 696,
   "id": "0c2918ac-cb12-48cd-a2b4-36314247e98d",
   "metadata": {},
   "outputs": [
    {
     "name": "stdout",
     "output_type": "stream",
     "text": [
      "Get the length of each side.\n"
     ]
    }
   ],
   "source": [
    "print(Rhombus.side_length.__doc__)"
   ]
  },
  {
   "cell_type": "code",
   "execution_count": 697,
   "id": "6a0816c2-74cf-4d8e-8c55-0a54fcb07b9a",
   "metadata": {},
   "outputs": [
    {
     "name": "stdout",
     "output_type": "stream",
     "text": [
      "Get the height of the rhombus.\n"
     ]
    }
   ],
   "source": [
    "print(Rhombus.height.__doc__)"
   ]
  },
  {
   "cell_type": "code",
   "execution_count": 698,
   "id": "28a7a960-3aa7-42f4-b1a5-6edb8053aadc",
   "metadata": {},
   "outputs": [
    {
     "name": "stdout",
     "output_type": "stream",
     "text": [
      "Calculate the area of the rhombus.\n",
      "        \n"
     ]
    }
   ],
   "source": [
    "print(Rhombus.area.__doc__)"
   ]
  },
  {
   "cell_type": "code",
   "execution_count": 699,
   "id": "da0d7aa6-bc0e-452a-85fb-afb82551ef38",
   "metadata": {},
   "outputs": [
    {
     "name": "stdout",
     "output_type": "stream",
     "text": [
      "Calculate the perimeter of the rhombus.\n",
      "        \n"
     ]
    }
   ],
   "source": [
    "print(Rhombus.perimeter.__doc__)"
   ]
  },
  {
   "cell_type": "code",
   "execution_count": 700,
   "id": "312bbea0-9c83-4feb-8190-5ff7abe2373b",
   "metadata": {},
   "outputs": [
    {
     "name": "stdout",
     "output_type": "stream",
     "text": [
      "Provide a description of the rhombus's properties.\n",
      "        \n"
     ]
    }
   ],
   "source": [
    "print(Rhombus.locate.__doc__)"
   ]
  },
  {
   "cell_type": "code",
   "execution_count": 701,
   "id": "e69f0a36-600e-4b14-b184-5f8a28626d77",
   "metadata": {},
   "outputs": [
    {
     "name": "stdout",
     "output_type": "stream",
     "text": [
      "Repr is for programmer.\n"
     ]
    }
   ],
   "source": [
    "print(Rhombus.__repr__.__doc__)"
   ]
  },
  {
   "cell_type": "code",
   "execution_count": 702,
   "id": "3f3344f3-2988-47a0-a960-2f34990b31a6",
   "metadata": {},
   "outputs": [
    {
     "name": "stdout",
     "output_type": "stream",
     "text": [
      "Return a user-friendly string representation of the rhombus.\n"
     ]
    }
   ],
   "source": [
    "print(Rhombus.__str__.__doc__)"
   ]
  },
  {
   "cell_type": "code",
   "execution_count": 703,
   "id": "fc1b1ee2-da47-4cff-a7fb-7f474d02f9cc",
   "metadata": {},
   "outputs": [],
   "source": [
    "from classes import Shape"
   ]
  },
  {
   "cell_type": "code",
   "execution_count": 704,
   "id": "25b0cdda-bf94-4bda-91dc-a9ca28b1327b",
   "metadata": {},
   "outputs": [],
   "source": [
    "inst_1=Shape(\"square\")"
   ]
  },
  {
   "cell_type": "code",
   "execution_count": 705,
   "id": "069967d6-bf17-4d85-b0e7-542afcd44079",
   "metadata": {},
   "outputs": [
    {
     "name": "stdout",
     "output_type": "stream",
     "text": [
      "Shape is square\n"
     ]
    }
   ],
   "source": [
    "print(inst_1)"
   ]
  },
  {
   "cell_type": "code",
   "execution_count": 706,
   "id": "f8394081-b143-4f84-babb-6d8d70dba6a5",
   "metadata": {},
   "outputs": [
    {
     "data": {
      "text/plain": [
       "mappingproxy({'__module__': 'classes',\n",
       "              '__doc__': 'A class to represent a generic geometric shape.',\n",
       "              '__init__': <function classes.Shape.__init__(self, name: str)>,\n",
       "              'name': <property at 0x1b8da4c5a80>,\n",
       "              'area': <function classes.Shape.area(self) -> float>,\n",
       "              'perimeter': <function classes.Shape.perimeter(self) -> float>,\n",
       "              'locate': <function classes.Shape.locate(self) -> str>,\n",
       "              '__repr__': <function classes.Shape.__repr__(self) -> str>,\n",
       "              '__str__': <function classes.Shape.__str__(self) -> str>,\n",
       "              '__dict__': <attribute '__dict__' of 'Shape' objects>,\n",
       "              '__weakref__': <attribute '__weakref__' of 'Shape' objects>})"
      ]
     },
     "execution_count": 706,
     "metadata": {},
     "output_type": "execute_result"
    }
   ],
   "source": [
    "Shape.__dict__"
   ]
  },
  {
   "cell_type": "code",
   "execution_count": 707,
   "id": "d3e5193c-172f-4863-949b-2ecc2c4822d2",
   "metadata": {},
   "outputs": [
    {
     "data": {
      "text/plain": [
       "{'_name': 'square'}"
      ]
     },
     "execution_count": 707,
     "metadata": {},
     "output_type": "execute_result"
    }
   ],
   "source": [
    "inst_1.__dict__"
   ]
  },
  {
   "cell_type": "code",
   "execution_count": 708,
   "id": "f65f5eaa-b16a-42a3-8165-5d41fd7be46b",
   "metadata": {},
   "outputs": [
    {
     "data": {
      "text/plain": [
       "mappingproxy({'__module__': 'classes',\n",
       "              '__doc__': 'A class to represent a generic geometric shape.',\n",
       "              '__init__': <function classes.Shape.__init__(self, name: str)>,\n",
       "              'name': <property at 0x1b8da4c5a80>,\n",
       "              'area': <function classes.Shape.area(self) -> float>,\n",
       "              'perimeter': <function classes.Shape.perimeter(self) -> float>,\n",
       "              'locate': <function classes.Shape.locate(self) -> str>,\n",
       "              '__repr__': <function classes.Shape.__repr__(self) -> str>,\n",
       "              '__str__': <function classes.Shape.__str__(self) -> str>,\n",
       "              '__dict__': <attribute '__dict__' of 'Shape' objects>,\n",
       "              '__weakref__': <attribute '__weakref__' of 'Shape' objects>})"
      ]
     },
     "execution_count": 708,
     "metadata": {},
     "output_type": "execute_result"
    }
   ],
   "source": [
    "vars(Shape)"
   ]
  },
  {
   "cell_type": "code",
   "execution_count": 709,
   "id": "71492319-2012-44f6-8de0-d6665c362267",
   "metadata": {},
   "outputs": [
    {
     "name": "stdout",
     "output_type": "stream",
     "text": [
      "Help on class Shape in module classes:\n",
      "\n",
      "class Shape(builtins.object)\n",
      " |  Shape(name: str)\n",
      " |\n",
      " |  A class to represent a generic geometric shape.\n",
      " |\n",
      " |  Methods defined here:\n",
      " |\n",
      " |  __init__(self, name: str)\n",
      " |      Initialize the shape with a name.\n",
      " |\n",
      " |  __repr__(self) -> str\n",
      " |      Repr is for programmer.\n",
      " |\n",
      " |  __str__(self) -> str\n",
      " |      Return a user-friendly string representation of the shape.\n",
      " |\n",
      " |  area(self) -> float\n",
      " |      Calculate the area of the shape.\n",
      " |\n",
      " |  locate(self) -> str\n",
      " |      Provide a description of the shape's properties.\n",
      " |\n",
      " |  perimeter(self) -> float\n",
      " |      Calculate the perimeter of the shape.\n",
      " |\n",
      " |  ----------------------------------------------------------------------\n",
      " |  Data descriptors defined here:\n",
      " |\n",
      " |  __dict__\n",
      " |      dictionary for instance variables\n",
      " |\n",
      " |  __weakref__\n",
      " |      list of weak references to the object\n",
      " |\n",
      " |  name\n",
      " |      Get the name of the shape.\n",
      "\n"
     ]
    }
   ],
   "source": [
    "help(Shape)"
   ]
  },
  {
   "cell_type": "code",
   "execution_count": 710,
   "id": "b872d57e-7419-428e-93ea-f7fac098b6f0",
   "metadata": {},
   "outputs": [
    {
     "name": "stdout",
     "output_type": "stream",
     "text": [
      "A class to represent a generic geometric shape.\n"
     ]
    }
   ],
   "source": [
    "print(Shape.__doc__)"
   ]
  },
  {
   "cell_type": "code",
   "execution_count": 711,
   "id": "3c1577e2-20c5-40bb-94d3-ce85b4f82bd2",
   "metadata": {},
   "outputs": [
    {
     "name": "stdout",
     "output_type": "stream",
     "text": [
      "Initialize the shape with a name.\n",
      "        \n"
     ]
    }
   ],
   "source": [
    "print(Shape.__init__.__doc__)"
   ]
  },
  {
   "cell_type": "code",
   "execution_count": 712,
   "id": "dedfd94c-a04d-4b8f-83ca-938f10c92238",
   "metadata": {},
   "outputs": [
    {
     "name": "stdout",
     "output_type": "stream",
     "text": [
      "Get the name of the shape.\n"
     ]
    }
   ],
   "source": [
    "print(Shape.name.__doc__)"
   ]
  },
  {
   "cell_type": "code",
   "execution_count": 713,
   "id": "82fb3634-fef2-4bb3-9d70-eeaf14edcc14",
   "metadata": {},
   "outputs": [
    {
     "name": "stdout",
     "output_type": "stream",
     "text": [
      "Calculate the area of the shape.\n",
      "        \n"
     ]
    }
   ],
   "source": [
    "print(Shape.area.__doc__)"
   ]
  },
  {
   "cell_type": "code",
   "execution_count": 714,
   "id": "f205816c-761b-426e-a54b-6a2230603453",
   "metadata": {},
   "outputs": [
    {
     "name": "stdout",
     "output_type": "stream",
     "text": [
      "Calculate the perimeter of the shape.\n",
      "        \n"
     ]
    }
   ],
   "source": [
    "print(Shape.perimeter.__doc__)"
   ]
  },
  {
   "cell_type": "code",
   "execution_count": 715,
   "id": "e5e2468a-490b-48f6-9e63-04f1c76cf478",
   "metadata": {},
   "outputs": [
    {
     "name": "stdout",
     "output_type": "stream",
     "text": [
      "Provide a description of the shape's properties.\n",
      "        \n"
     ]
    }
   ],
   "source": [
    "print(Shape.locate.__doc__)"
   ]
  },
  {
   "cell_type": "code",
   "execution_count": 716,
   "id": "bcde05d1-4f79-4acf-a508-d03db2002b68",
   "metadata": {},
   "outputs": [
    {
     "name": "stdout",
     "output_type": "stream",
     "text": [
      "Repr is for programmer.\n"
     ]
    }
   ],
   "source": [
    "print(Shape.__repr__.__doc__)"
   ]
  },
  {
   "cell_type": "code",
   "execution_count": 717,
   "id": "6ef36c0a-17c0-496c-9bad-271e94f2b5a8",
   "metadata": {},
   "outputs": [
    {
     "name": "stdout",
     "output_type": "stream",
     "text": [
      "Return a user-friendly string representation of the shape.\n"
     ]
    }
   ],
   "source": [
    "print(Shape.__str__.__doc__)"
   ]
  },
  {
   "cell_type": "code",
   "execution_count": 718,
   "id": "65114a0c-0161-4d57-ae5f-2d76ee676664",
   "metadata": {},
   "outputs": [],
   "source": [
    "import os\n",
    "os.chdir(r'C:\\Users\\DELL\\Desktop\\UET\\3 semester\\OOPS lab\\oop')"
   ]
  },
  {
   "cell_type": "code",
   "execution_count": 719,
   "id": "63a06d86-402b-45ad-a55b-e9f736206b65",
   "metadata": {},
   "outputs": [],
   "source": [
    "import circuits"
   ]
  },
  {
   "cell_type": "code",
   "execution_count": 720,
   "id": "6b952b9d-a7b7-47a6-83f4-16c2e2409792",
   "metadata": {},
   "outputs": [],
   "source": [
    "from circuits import Circuit"
   ]
  },
  {
   "cell_type": "code",
   "execution_count": 721,
   "id": "b00f555c-9d1d-4e0b-9f3e-bf463849ed6e",
   "metadata": {},
   "outputs": [],
   "source": [
    "inst_1=Circuit(3,20)"
   ]
  },
  {
   "cell_type": "code",
   "execution_count": 722,
   "id": "76491dac-1cc1-40e5-ab7c-1660f2293b64",
   "metadata": {},
   "outputs": [
    {
     "name": "stdout",
     "output_type": "stream",
     "text": [
      "Circuit with resistance 3 Ω and voltage 20 V\n"
     ]
    }
   ],
   "source": [
    "print(inst_1)"
   ]
  },
  {
   "cell_type": "code",
   "execution_count": 723,
   "id": "e72b52f1-6d2a-4b7a-b334-23c5ed7b9765",
   "metadata": {},
   "outputs": [
    {
     "data": {
      "text/plain": [
       "6.666666666666667"
      ]
     },
     "execution_count": 723,
     "metadata": {},
     "output_type": "execute_result"
    }
   ],
   "source": [
    "inst_1.current()"
   ]
  },
  {
   "cell_type": "code",
   "execution_count": 724,
   "id": "0365fc5b-e47c-4539-bfd4-1afdb1e41a59",
   "metadata": {},
   "outputs": [
    {
     "data": {
      "text/plain": [
       "mappingproxy({'__module__': 'circuits',\n",
       "              '__doc__': '\\n    A class representing a circuit with one resistor.\\n    ',\n",
       "              '__init__': <function circuits.Circuit.__init__(self, R: float, E: float)>,\n",
       "              'R': <property at 0x1b8da53a340>,\n",
       "              'E': <property at 0x1b8da53a3e0>,\n",
       "              'current': <function circuits.Circuit.current(self) -> float>,\n",
       "              '__repr__': <function circuits.Circuit.__repr__(self) -> str>,\n",
       "              '__str__': <function circuits.Circuit.__str__(self) -> str>,\n",
       "              'power': <staticmethod(<function Circuit.power at 0x000001B8D8751EE0>)>,\n",
       "              'create_circuit': <classmethod(<function Circuit.create_circuit at 0x000001B8D8750360>)>,\n",
       "              '__dict__': <attribute '__dict__' of 'Circuit' objects>,\n",
       "              '__weakref__': <attribute '__weakref__' of 'Circuit' objects>})"
      ]
     },
     "execution_count": 724,
     "metadata": {},
     "output_type": "execute_result"
    }
   ],
   "source": [
    "Circuit.__dict__"
   ]
  },
  {
   "cell_type": "code",
   "execution_count": 725,
   "id": "fbaaa700-2a2a-4f49-bc52-73be5aa6b14b",
   "metadata": {},
   "outputs": [
    {
     "data": {
      "text/plain": [
       "{'_R': 3, '_E': 20}"
      ]
     },
     "execution_count": 725,
     "metadata": {},
     "output_type": "execute_result"
    }
   ],
   "source": [
    "inst_1.__dict__"
   ]
  },
  {
   "cell_type": "code",
   "execution_count": 726,
   "id": "f47390c9-6a5c-4579-8957-dfd4dba66ead",
   "metadata": {},
   "outputs": [
    {
     "data": {
      "text/plain": [
       "mappingproxy({'__module__': 'circuits',\n",
       "              '__doc__': '\\n    A class representing a circuit with one resistor.\\n    ',\n",
       "              '__init__': <function circuits.Circuit.__init__(self, R: float, E: float)>,\n",
       "              'R': <property at 0x1b8da53a340>,\n",
       "              'E': <property at 0x1b8da53a3e0>,\n",
       "              'current': <function circuits.Circuit.current(self) -> float>,\n",
       "              '__repr__': <function circuits.Circuit.__repr__(self) -> str>,\n",
       "              '__str__': <function circuits.Circuit.__str__(self) -> str>,\n",
       "              'power': <staticmethod(<function Circuit.power at 0x000001B8D8751EE0>)>,\n",
       "              'create_circuit': <classmethod(<function Circuit.create_circuit at 0x000001B8D8750360>)>,\n",
       "              '__dict__': <attribute '__dict__' of 'Circuit' objects>,\n",
       "              '__weakref__': <attribute '__weakref__' of 'Circuit' objects>})"
      ]
     },
     "execution_count": 726,
     "metadata": {},
     "output_type": "execute_result"
    }
   ],
   "source": [
    "vars(Circuit)"
   ]
  },
  {
   "cell_type": "code",
   "execution_count": 727,
   "id": "6da22428-dc19-44cf-85a5-38dbf6913e91",
   "metadata": {},
   "outputs": [
    {
     "name": "stdout",
     "output_type": "stream",
     "text": [
      "Help on class Circuit in module circuits:\n",
      "\n",
      "class Circuit(builtins.object)\n",
      " |  Circuit(R: float, E: float)\n",
      " |\n",
      " |  A class representing a circuit with one resistor.\n",
      " |\n",
      " |  Methods defined here:\n",
      " |\n",
      " |  __init__(self, R: float, E: float)\n",
      " |      Initialize the circuit with resistance and voltage.\n",
      " |\n",
      " |  __repr__(self) -> str\n",
      " |      Repr is for programmer.\n",
      " |\n",
      " |  __str__(self) -> str\n",
      " |      Return a human-readable string representation of the circuit.\n",
      " |\n",
      " |  current(self) -> float\n",
      " |      Calculate the current in the circuit using Ohm's Law.\n",
      " |\n",
      " |  ----------------------------------------------------------------------\n",
      " |  Class methods defined here:\n",
      " |\n",
      " |  create_circuit(R: float, E: float)\n",
      " |      Create a new circuit with the given resistance and voltage.\n",
      " |\n",
      " |  ----------------------------------------------------------------------\n",
      " |  Static methods defined here:\n",
      " |\n",
      " |  power(E: float, I: float) -> float\n",
      " |      Calculate the power in the circuit using the formula P = V x I.\n",
      " |\n",
      " |  ----------------------------------------------------------------------\n",
      " |  Data descriptors defined here:\n",
      " |\n",
      " |  E\n",
      " |      Get the voltage of the circuit.\n",
      " |\n",
      " |  R\n",
      " |      Get the resistance of the circuit.\n",
      " |\n",
      " |  __dict__\n",
      " |      dictionary for instance variables\n",
      " |\n",
      " |  __weakref__\n",
      " |      list of weak references to the object\n",
      "\n"
     ]
    }
   ],
   "source": [
    "help(Circuit)"
   ]
  },
  {
   "cell_type": "code",
   "execution_count": 728,
   "id": "2486f950-b791-4ba7-bb41-3050aacf3eb5",
   "metadata": {},
   "outputs": [
    {
     "name": "stdout",
     "output_type": "stream",
     "text": [
      "\n",
      "    A class representing a circuit with one resistor.\n",
      "    \n"
     ]
    }
   ],
   "source": [
    "print(Circuit.__doc__)"
   ]
  },
  {
   "cell_type": "code",
   "execution_count": 729,
   "id": "c50f518c-a755-4afc-8e93-57b21f2adf73",
   "metadata": {},
   "outputs": [
    {
     "name": "stdout",
     "output_type": "stream",
     "text": [
      "\n",
      "        Initialize the circuit with resistance and voltage.\n",
      "        \n"
     ]
    }
   ],
   "source": [
    "print(Circuit.__init__.__doc__)"
   ]
  },
  {
   "cell_type": "code",
   "execution_count": 730,
   "id": "451fee2a-213e-441a-83f2-ca195bb92c29",
   "metadata": {},
   "outputs": [
    {
     "name": "stdout",
     "output_type": "stream",
     "text": [
      "\n",
      "        Get the resistance of the circuit.\n",
      "        \n"
     ]
    }
   ],
   "source": [
    "print(Circuit.R.__doc__)"
   ]
  },
  {
   "cell_type": "code",
   "execution_count": 731,
   "id": "77a4ef51-98e1-446c-b644-28ac00ce361e",
   "metadata": {},
   "outputs": [
    {
     "name": "stdout",
     "output_type": "stream",
     "text": [
      "\n",
      "        Calculate the current in the circuit using Ohm's Law.\n",
      "        \n"
     ]
    }
   ],
   "source": [
    "print(Circuit.current.__doc__)"
   ]
  },
  {
   "cell_type": "code",
   "execution_count": 732,
   "id": "ce56b0bc-65b0-405b-af87-197709c565a1",
   "metadata": {},
   "outputs": [
    {
     "name": "stdout",
     "output_type": "stream",
     "text": [
      "\n",
      "        Repr is for programmer.\n",
      "        \n"
     ]
    }
   ],
   "source": [
    "print(Circuit.__repr__.__doc__)"
   ]
  },
  {
   "cell_type": "code",
   "execution_count": 733,
   "id": "18c81def-d12c-44d4-8508-88ee19ef24bf",
   "metadata": {},
   "outputs": [
    {
     "name": "stdout",
     "output_type": "stream",
     "text": [
      "\n",
      "        Return a human-readable string representation of the circuit.\n",
      "        \n"
     ]
    }
   ],
   "source": [
    "print(Circuit.__str__.__doc__)"
   ]
  },
  {
   "cell_type": "code",
   "execution_count": 734,
   "id": "33df4efa-fef7-40fd-82db-0cd86f84beaf",
   "metadata": {},
   "outputs": [],
   "source": [
    "from circuits import RL_parallel_Circuit"
   ]
  },
  {
   "cell_type": "code",
   "execution_count": 735,
   "id": "4d21aa63-1bb4-46d5-af9f-5c87af1457a0",
   "metadata": {},
   "outputs": [],
   "source": [
    "inst_1= RL_parallel_Circuit(3,7,8)"
   ]
  },
  {
   "cell_type": "code",
   "execution_count": 736,
   "id": "daeeea8c-6eab-4168-8224-9bd18692ad32",
   "metadata": {},
   "outputs": [
    {
     "name": "stdout",
     "output_type": "stream",
     "text": [
      " RL_parallel_Circuit has Resistance 3 ohms, reactance 7 henrys & voltage = 8volt\n"
     ]
    }
   ],
   "source": [
    "print(inst_1)"
   ]
  },
  {
   "cell_type": "code",
   "execution_count": 737,
   "id": "996f601c-5c33-4948-9772-a44047a1745f",
   "metadata": {},
   "outputs": [
    {
     "data": {
      "text/plain": [
       "3.142857142857143"
      ]
     },
     "execution_count": 737,
     "metadata": {},
     "output_type": "execute_result"
    }
   ],
   "source": [
    "inst_1.zt()"
   ]
  },
  {
   "cell_type": "code",
   "execution_count": 738,
   "id": "fd6700f4-330e-45cf-93bc-ed597dbd2215",
   "metadata": {},
   "outputs": [
    {
     "data": {
      "text/plain": [
       "2.6666666666666665"
      ]
     },
     "execution_count": 738,
     "metadata": {},
     "output_type": "execute_result"
    }
   ],
   "source": [
    "inst_1.I()"
   ]
  },
  {
   "cell_type": "code",
   "execution_count": 739,
   "id": "c6aa7f3c-00b3-4c6c-beaf-812fb0fa8064",
   "metadata": {},
   "outputs": [
    {
     "data": {
      "text/plain": [
       "{'_R': 3, '_X_L': 7, '_E': 8}"
      ]
     },
     "execution_count": 739,
     "metadata": {},
     "output_type": "execute_result"
    }
   ],
   "source": [
    "inst_1.__dict__"
   ]
  },
  {
   "cell_type": "code",
   "execution_count": 740,
   "id": "b5067c9f-fffd-419f-adfe-a0ee7a40c6ff",
   "metadata": {},
   "outputs": [
    {
     "data": {
      "text/plain": [
       "mappingproxy({'__module__': 'circuits',\n",
       "              '__doc__': 'A class to represent a simple RL circuit with a resistor and an inductor.',\n",
       "              '__init__': <function circuits.RL_parallel_Circuit.__init__(self, R: float, X_L: float, E)>,\n",
       "              'R': <property at 0x1b8da53a480>,\n",
       "              'X_L': <property at 0x1b8da53a660>,\n",
       "              'E': <property at 0x1b8da53aca0>,\n",
       "              'zt': <function circuits.RL_parallel_Circuit.zt(self) -> str>,\n",
       "              'I': <function circuits.RL_parallel_Circuit.I(self)>,\n",
       "              'I_R': <function circuits.RL_parallel_Circuit.I_R(self)>,\n",
       "              'I_XL': <function circuits.RL_parallel_Circuit.I_XL(self)>,\n",
       "              'Pt': <function circuits.RL_parallel_Circuit.Pt(self, current)>,\n",
       "              'P_f': <classmethod(<function RL_parallel_Circuit.P_f at 0x000001B8DA1E9260>)>,\n",
       "              'angle': <staticmethod(<function RL_parallel_Circuit.angle at 0x000001B8DA1EBC40>)>,\n",
       "              '__repr__': <function circuits.RL_parallel_Circuit.__repr__(self) -> str>,\n",
       "              '__str__': <function circuits.RL_parallel_Circuit.__str__(self) -> str>,\n",
       "              '__dict__': <attribute '__dict__' of 'RL_parallel_Circuit' objects>,\n",
       "              '__weakref__': <attribute '__weakref__' of 'RL_parallel_Circuit' objects>})"
      ]
     },
     "execution_count": 740,
     "metadata": {},
     "output_type": "execute_result"
    }
   ],
   "source": [
    "RL_parallel_Circuit.__dict__"
   ]
  },
  {
   "cell_type": "code",
   "execution_count": 741,
   "id": "2a0e53c5-2245-4c7d-a367-e698c7af3eae",
   "metadata": {},
   "outputs": [
    {
     "data": {
      "text/plain": [
       "mappingproxy({'__module__': 'circuits',\n",
       "              '__doc__': 'A class to represent a simple RL circuit with a resistor and an inductor.',\n",
       "              '__init__': <function circuits.RL_parallel_Circuit.__init__(self, R: float, X_L: float, E)>,\n",
       "              'R': <property at 0x1b8da53a480>,\n",
       "              'X_L': <property at 0x1b8da53a660>,\n",
       "              'E': <property at 0x1b8da53aca0>,\n",
       "              'zt': <function circuits.RL_parallel_Circuit.zt(self) -> str>,\n",
       "              'I': <function circuits.RL_parallel_Circuit.I(self)>,\n",
       "              'I_R': <function circuits.RL_parallel_Circuit.I_R(self)>,\n",
       "              'I_XL': <function circuits.RL_parallel_Circuit.I_XL(self)>,\n",
       "              'Pt': <function circuits.RL_parallel_Circuit.Pt(self, current)>,\n",
       "              'P_f': <classmethod(<function RL_parallel_Circuit.P_f at 0x000001B8DA1E9260>)>,\n",
       "              'angle': <staticmethod(<function RL_parallel_Circuit.angle at 0x000001B8DA1EBC40>)>,\n",
       "              '__repr__': <function circuits.RL_parallel_Circuit.__repr__(self) -> str>,\n",
       "              '__str__': <function circuits.RL_parallel_Circuit.__str__(self) -> str>,\n",
       "              '__dict__': <attribute '__dict__' of 'RL_parallel_Circuit' objects>,\n",
       "              '__weakref__': <attribute '__weakref__' of 'RL_parallel_Circuit' objects>})"
      ]
     },
     "execution_count": 741,
     "metadata": {},
     "output_type": "execute_result"
    }
   ],
   "source": [
    "vars( RL_parallel_Circuit)"
   ]
  },
  {
   "cell_type": "code",
   "execution_count": 742,
   "id": "7ef80b92-5ca5-4fc7-a29a-4478470241ec",
   "metadata": {},
   "outputs": [
    {
     "name": "stdout",
     "output_type": "stream",
     "text": [
      "Help on class RL_parallel_Circuit in module circuits:\n",
      "\n",
      "class RL_parallel_Circuit(builtins.object)\n",
      " |  RL_parallel_Circuit(R: float, X_L: float, E)\n",
      " |\n",
      " |  A class to represent a simple RL circuit with a resistor and an inductor.\n",
      " |\n",
      " |  Methods defined here:\n",
      " |\n",
      " |  I(self)\n",
      " |\n",
      " |  I_R(self)\n",
      " |\n",
      " |  I_XL(self)\n",
      " |\n",
      " |  Pt(self, current)\n",
      " |\n",
      " |  __init__(self, R: float, X_L: float, E)\n",
      " |      Initialize the RL circuit with a resistor and an inductor.\n",
      " |\n",
      " |  __repr__(self) -> str\n",
      " |      repr is for programmer\n",
      " |\n",
      " |  __str__(self) -> str\n",
      " |      str is for common people\n",
      " |\n",
      " |  zt(self) -> str\n",
      " |      Provide a description of the RL circuit's properties.\n",
      " |\n",
      " |  ----------------------------------------------------------------------\n",
      " |  Class methods defined here:\n",
      " |\n",
      " |  P_f()\n",
      " |\n",
      " |  ----------------------------------------------------------------------\n",
      " |  Static methods defined here:\n",
      " |\n",
      " |  angle()\n",
      " |\n",
      " |  ----------------------------------------------------------------------\n",
      " |  Data descriptors defined here:\n",
      " |\n",
      " |  E\n",
      " |      Get the voltage.\n",
      " |\n",
      " |  R\n",
      " |      Get the resistance of the resistor.\n",
      " |\n",
      " |  X_L\n",
      " |      Get the reactance of the inductor.\n",
      " |\n",
      " |  __dict__\n",
      " |      dictionary for instance variables\n",
      " |\n",
      " |  __weakref__\n",
      " |      list of weak references to the object\n",
      "\n"
     ]
    }
   ],
   "source": [
    "help( RL_parallel_Circuit)"
   ]
  },
  {
   "cell_type": "code",
   "execution_count": 743,
   "id": "841cd302-31be-4ddf-9151-c1b9d9059fed",
   "metadata": {},
   "outputs": [],
   "source": [
    "from circuits import RL_series_circuit"
   ]
  },
  {
   "cell_type": "code",
   "execution_count": 744,
   "id": "1a5d8469-e7f2-432b-8bfe-d1d0d0009b6a",
   "metadata": {},
   "outputs": [],
   "source": [
    "inst_1=RL_series_circuit(2,0.002,50)"
   ]
  },
  {
   "cell_type": "code",
   "execution_count": 745,
   "id": "602e2e27-bc11-479d-a04d-654cc429bd05",
   "metadata": {},
   "outputs": [
    {
     "name": "stdout",
     "output_type": "stream",
     "text": [
      "RL_Series_Circuit with resistance 2 ohm, inductance 0.002 ohm & voltage: 50V\n"
     ]
    }
   ],
   "source": [
    "print(inst_1)"
   ]
  },
  {
   "cell_type": "code",
   "execution_count": 746,
   "id": "93ec61b9-8da5-455d-a8aa-a619ce422e1b",
   "metadata": {},
   "outputs": [
    {
     "data": {
      "text/plain": [
       "2.002"
      ]
     },
     "execution_count": 746,
     "metadata": {},
     "output_type": "execute_result"
    }
   ],
   "source": [
    "inst_1.zt"
   ]
  },
  {
   "cell_type": "code",
   "execution_count": 747,
   "id": "4fa5c786-2110-4a80-b9d5-63ad6ee6b867",
   "metadata": {},
   "outputs": [
    {
     "data": {
      "text/plain": [
       "0.04995004995004996"
      ]
     },
     "execution_count": 747,
     "metadata": {},
     "output_type": "execute_result"
    }
   ],
   "source": [
    "inst_1.V_L"
   ]
  },
  {
   "cell_type": "code",
   "execution_count": 748,
   "id": "cafa2e8a-aede-45d2-a9d4-6fd3eb4a951a",
   "metadata": {},
   "outputs": [
    {
     "data": {
      "text/plain": [
       "49.95004995004996"
      ]
     },
     "execution_count": 748,
     "metadata": {},
     "output_type": "execute_result"
    }
   ],
   "source": [
    "inst_1.V_R"
   ]
  },
  {
   "cell_type": "code",
   "execution_count": 749,
   "id": "ce6d6c03-d3e0-47ee-8dd2-609f2a2e82ea",
   "metadata": {},
   "outputs": [
    {
     "data": {
      "text/plain": [
       "24.97502497502498"
      ]
     },
     "execution_count": 749,
     "metadata": {},
     "output_type": "execute_result"
    }
   ],
   "source": [
    "inst_1.I_t"
   ]
  },
  {
   "cell_type": "code",
   "execution_count": 750,
   "id": "2472a320-3db6-4c9d-83fd-e4e2e28d16d1",
   "metadata": {},
   "outputs": [
    {
     "data": {
      "text/plain": [
       "mappingproxy({'__module__': 'circuits',\n",
       "              '__doc__': 'A class to represent a RL_series_circuit with one resistor, & an inductor',\n",
       "              '__init__': <function circuits.RL_series_circuit.__init__(self, R: float, X_L: float, E: float)>,\n",
       "              'R': <property at 0x1b8da53b5b0>,\n",
       "              'X_L': <property at 0x1b8da53b880>,\n",
       "              'E': <property at 0x1b8da53b8d0>,\n",
       "              'zt': <property at 0x1b8da53b010>,\n",
       "              'I_t': <property at 0x1b8da53b4c0>,\n",
       "              'V_R': <property at 0x1b8da53b920>,\n",
       "              'V_L': <property at 0x1b8da53b970>,\n",
       "              'P_t': <property at 0x1b8da53b9c0>,\n",
       "              'P_f': <classmethod(<function RL_series_circuit.P_f at 0x000001B8DA1EB6A0>)>,\n",
       "              'angle': <staticmethod(<function RL_series_circuit.angle at 0x000001B8DA1EA200>)>,\n",
       "              '__repr__': <function circuits.RL_series_circuit.__repr__(self) -> str>,\n",
       "              '__str__': <function circuits.RL_series_circuit.__str__(self) -> str>,\n",
       "              '__dict__': <attribute '__dict__' of 'RL_series_circuit' objects>,\n",
       "              '__weakref__': <attribute '__weakref__' of 'RL_series_circuit' objects>})"
      ]
     },
     "execution_count": 750,
     "metadata": {},
     "output_type": "execute_result"
    }
   ],
   "source": [
    "RL_series_circuit.__dict__"
   ]
  },
  {
   "cell_type": "code",
   "execution_count": 751,
   "id": "2a7ec03a-41bf-41c6-87d4-e9e041ea4ce7",
   "metadata": {},
   "outputs": [
    {
     "data": {
      "text/plain": [
       "{'_R': 2, '_X_L': 0.002, '_E': 50}"
      ]
     },
     "execution_count": 751,
     "metadata": {},
     "output_type": "execute_result"
    }
   ],
   "source": [
    "inst_1.__dict__"
   ]
  },
  {
   "cell_type": "code",
   "execution_count": 752,
   "id": "ad8d71e4-b361-470e-b12e-eae73b68ed57",
   "metadata": {},
   "outputs": [
    {
     "data": {
      "text/plain": [
       "mappingproxy({'__module__': 'circuits',\n",
       "              '__doc__': 'A class to represent a RL_series_circuit with one resistor, & an inductor',\n",
       "              '__init__': <function circuits.RL_series_circuit.__init__(self, R: float, X_L: float, E: float)>,\n",
       "              'R': <property at 0x1b8da53b5b0>,\n",
       "              'X_L': <property at 0x1b8da53b880>,\n",
       "              'E': <property at 0x1b8da53b8d0>,\n",
       "              'zt': <property at 0x1b8da53b010>,\n",
       "              'I_t': <property at 0x1b8da53b4c0>,\n",
       "              'V_R': <property at 0x1b8da53b920>,\n",
       "              'V_L': <property at 0x1b8da53b970>,\n",
       "              'P_t': <property at 0x1b8da53b9c0>,\n",
       "              'P_f': <classmethod(<function RL_series_circuit.P_f at 0x000001B8DA1EB6A0>)>,\n",
       "              'angle': <staticmethod(<function RL_series_circuit.angle at 0x000001B8DA1EA200>)>,\n",
       "              '__repr__': <function circuits.RL_series_circuit.__repr__(self) -> str>,\n",
       "              '__str__': <function circuits.RL_series_circuit.__str__(self) -> str>,\n",
       "              '__dict__': <attribute '__dict__' of 'RL_series_circuit' objects>,\n",
       "              '__weakref__': <attribute '__weakref__' of 'RL_series_circuit' objects>})"
      ]
     },
     "execution_count": 752,
     "metadata": {},
     "output_type": "execute_result"
    }
   ],
   "source": [
    "vars(RL_series_circuit)"
   ]
  },
  {
   "cell_type": "code",
   "execution_count": 753,
   "id": "ea4298e7-0a3a-41ab-987c-80c1af9c280d",
   "metadata": {},
   "outputs": [
    {
     "name": "stdout",
     "output_type": "stream",
     "text": [
      "Help on class RL_series_circuit in module circuits:\n",
      "\n",
      "class RL_series_circuit(builtins.object)\n",
      " |  RL_series_circuit(R: float, X_L: float, E: float)\n",
      " |\n",
      " |  A class to represent a RL_series_circuit with one resistor, & an inductor\n",
      " |\n",
      " |  Methods defined here:\n",
      " |\n",
      " |  __init__(self, R: float, X_L: float, E: float)\n",
      " |      Initialize the circuit with a resistor, inductor.\n",
      " |\n",
      " |  __repr__(self) -> str\n",
      " |      repr is for programmer\n",
      " |\n",
      " |  __str__(self) -> str\n",
      " |      str is for common person or for the coder that use programmer code\n",
      " |\n",
      " |  ----------------------------------------------------------------------\n",
      " |  Class methods defined here:\n",
      " |\n",
      " |  P_f()\n",
      " |      give the power_factor of circuit\n",
      " |\n",
      " |  ----------------------------------------------------------------------\n",
      " |  Static methods defined here:\n",
      " |\n",
      " |  angle(self, R, X_L)\n",
      " |      give the angle of circuit\n",
      " |\n",
      " |  ----------------------------------------------------------------------\n",
      " |  Readonly properties defined here:\n",
      " |\n",
      " |  I_t\n",
      " |      give the total_current of circuit\n",
      " |\n",
      " |  P_t\n",
      " |      give the total_power of circuit\n",
      " |\n",
      " |  V_L\n",
      " |      give the inductor_voltage of circuit\n",
      " |\n",
      " |  V_R\n",
      " |      give the resistor_voltage of circuit\n",
      " |\n",
      " |  zt\n",
      " |      give the impedence of circuit\n",
      " |\n",
      " |  ----------------------------------------------------------------------\n",
      " |  Data descriptors defined here:\n",
      " |\n",
      " |  E\n",
      " |      Get the voltage\n",
      " |\n",
      " |  R\n",
      " |      Get the resistance of resistor.\n",
      " |\n",
      " |  X_L\n",
      " |      Get the inductance\n",
      " |\n",
      " |  __dict__\n",
      " |      dictionary for instance variables\n",
      " |\n",
      " |  __weakref__\n",
      " |      list of weak references to the object\n",
      "\n"
     ]
    }
   ],
   "source": [
    "help(RL_series_circuit)"
   ]
  },
  {
   "cell_type": "code",
   "execution_count": 754,
   "id": "4f2d259a-b5f4-45ca-b616-3c48744cbe48",
   "metadata": {},
   "outputs": [
    {
     "name": "stdout",
     "output_type": "stream",
     "text": [
      "A class to represent a RL_series_circuit with one resistor, & an inductor\n"
     ]
    }
   ],
   "source": [
    "print(RL_series_circuit.__doc__)"
   ]
  },
  {
   "cell_type": "code",
   "execution_count": 755,
   "id": "1e8bea15-68eb-483b-90bd-d0f93b6819a4",
   "metadata": {},
   "outputs": [
    {
     "name": "stdout",
     "output_type": "stream",
     "text": [
      "Initialize the circuit with a resistor, inductor.\n",
      "        \n"
     ]
    }
   ],
   "source": [
    "print(RL_series_circuit.__init__.__doc__)"
   ]
  },
  {
   "cell_type": "code",
   "execution_count": 756,
   "id": "b58d3629-ae28-40e2-ae09-240f7dfa81e3",
   "metadata": {},
   "outputs": [
    {
     "name": "stdout",
     "output_type": "stream",
     "text": [
      "Get the resistance of resistor.\n"
     ]
    }
   ],
   "source": [
    "print(RL_series_circuit.R.__doc__)"
   ]
  },
  {
   "cell_type": "code",
   "execution_count": 757,
   "id": "629c3792-7830-4ba3-9d08-519ac19347c3",
   "metadata": {},
   "outputs": [
    {
     "name": "stdout",
     "output_type": "stream",
     "text": [
      "Get the inductance\n"
     ]
    }
   ],
   "source": [
    "print(RL_series_circuit.X_L.__doc__)"
   ]
  },
  {
   "cell_type": "code",
   "execution_count": 758,
   "id": "0bddedb8-dbdb-459d-b43b-65f01b99fe33",
   "metadata": {},
   "outputs": [
    {
     "name": "stdout",
     "output_type": "stream",
     "text": [
      "give the impedence of circuit\n"
     ]
    }
   ],
   "source": [
    "print(RL_series_circuit.zt.__doc__)"
   ]
  },
  {
   "cell_type": "code",
   "execution_count": 759,
   "id": "6ff6eb16-b28a-464a-bf26-40bef9a65ede",
   "metadata": {},
   "outputs": [
    {
     "name": "stdout",
     "output_type": "stream",
     "text": [
      "give the total_current of circuit\n"
     ]
    }
   ],
   "source": [
    "print(RL_series_circuit.I_t.__doc__)"
   ]
  },
  {
   "cell_type": "code",
   "execution_count": 760,
   "id": "48b00589-8c57-4f54-8b7c-f2a211117ac5",
   "metadata": {},
   "outputs": [
    {
     "name": "stdout",
     "output_type": "stream",
     "text": [
      "give the resistor_voltage of circuit\n"
     ]
    }
   ],
   "source": [
    "print(RL_series_circuit.V_R.__doc__)"
   ]
  },
  {
   "cell_type": "code",
   "execution_count": 761,
   "id": "17709d44-cdc7-4ccf-b954-c3d8d81d01ba",
   "metadata": {},
   "outputs": [
    {
     "name": "stdout",
     "output_type": "stream",
     "text": [
      "give the inductor_voltage of circuit\n"
     ]
    }
   ],
   "source": [
    "print(RL_series_circuit.V_L.__doc__)"
   ]
  },
  {
   "cell_type": "code",
   "execution_count": 762,
   "id": "49bcffe2-b5db-44c4-8a96-9905902c1ca5",
   "metadata": {},
   "outputs": [
    {
     "name": "stdout",
     "output_type": "stream",
     "text": [
      "give the power_factor of circuit\n"
     ]
    }
   ],
   "source": [
    "print(RL_series_circuit.P_f.__doc__)"
   ]
  },
  {
   "cell_type": "code",
   "execution_count": 763,
   "id": "ace155b1-059d-442c-824a-4fdeb4fe6bbb",
   "metadata": {},
   "outputs": [
    {
     "name": "stdout",
     "output_type": "stream",
     "text": [
      "give the angle of circuit\n"
     ]
    }
   ],
   "source": [
    "print(RL_series_circuit.angle.__doc__)"
   ]
  },
  {
   "cell_type": "code",
   "execution_count": 764,
   "id": "fa4b88f2-4346-4fc7-9622-e17733ef1518",
   "metadata": {},
   "outputs": [
    {
     "name": "stdout",
     "output_type": "stream",
     "text": [
      "repr is for programmer\n"
     ]
    }
   ],
   "source": [
    "print(RL_series_circuit.__repr__.__doc__)"
   ]
  },
  {
   "cell_type": "code",
   "execution_count": 765,
   "id": "bec747af-bfa5-4d53-84bd-218bfab98463",
   "metadata": {},
   "outputs": [
    {
     "name": "stdout",
     "output_type": "stream",
     "text": [
      "str is for common person or for the coder that use programmer code\n"
     ]
    }
   ],
   "source": [
    "print(RL_series_circuit.__str__.__doc__)"
   ]
  },
  {
   "cell_type": "code",
   "execution_count": 766,
   "id": "9b136bc6-5de9-490b-8e25-0bde329e9a3f",
   "metadata": {},
   "outputs": [],
   "source": [
    "from circuits import RC_parallel_Circuit"
   ]
  },
  {
   "cell_type": "code",
   "execution_count": 767,
   "id": "0a587850-8972-44ff-9745-48605a91fba0",
   "metadata": {},
   "outputs": [],
   "source": [
    "inst_2=RC_parallel_Circuit(2,6,9)"
   ]
  },
  {
   "cell_type": "code",
   "execution_count": 768,
   "id": "8ae5f072-9ac6-4e17-b0c1-31c934b59588",
   "metadata": {},
   "outputs": [
    {
     "data": {
      "text/plain": [
       "2.1666666666666665"
      ]
     },
     "execution_count": 768,
     "metadata": {},
     "output_type": "execute_result"
    }
   ],
   "source": [
    "inst_2.zt()"
   ]
  },
  {
   "cell_type": "code",
   "execution_count": 867,
   "id": "4c179fb8-275c-462d-930e-f6dbc1559e52",
   "metadata": {},
   "outputs": [
    {
     "data": {
      "text/plain": [
       "18"
      ]
     },
     "execution_count": 867,
     "metadata": {},
     "output_type": "execute_result"
    }
   ],
   "source": [
    "inst_2.E()"
   ]
  },
  {
   "cell_type": "code",
   "execution_count": 869,
   "id": "2cff6fb2-b50f-4f35-8eb3-de87dd10965d",
   "metadata": {},
   "outputs": [
    {
     "data": {
      "text/plain": [
       "9.0"
      ]
     },
     "execution_count": 869,
     "metadata": {},
     "output_type": "execute_result"
    }
   ],
   "source": [
    "inst_2.I_R()"
   ]
  },
  {
   "cell_type": "code",
   "execution_count": 870,
   "id": "22a06b6f-ccff-480e-bd28-af5d84736475",
   "metadata": {},
   "outputs": [
    {
     "data": {
      "text/plain": [
       "3.0"
      ]
     },
     "execution_count": 870,
     "metadata": {},
     "output_type": "execute_result"
    }
   ],
   "source": [
    "inst_2.I_C()"
   ]
  },
  {
   "cell_type": "code",
   "execution_count": 871,
   "id": "4ebd0d82-9274-4ba8-9ec9-349ecbce0dd8",
   "metadata": {},
   "outputs": [
    {
     "data": {
      "text/plain": [
       "0.982793723247329"
      ]
     },
     "execution_count": 871,
     "metadata": {},
     "output_type": "execute_result"
    }
   ],
   "source": [
    "inst_2.angle(2,3)"
   ]
  },
  {
   "cell_type": "code",
   "execution_count": 872,
   "id": "d030e265-aab9-4a71-8b8f-98e2f4af3694",
   "metadata": {},
   "outputs": [
    {
     "name": "stdout",
     "output_type": "stream",
     "text": [
      "RL_Series_Circuit with resistance 2 ohm, inductance 0.002 ohm & voltage: 50V\n"
     ]
    }
   ],
   "source": [
    "print(inst_1)"
   ]
  },
  {
   "cell_type": "code",
   "execution_count": 873,
   "id": "b9825930-7df9-41fb-9df8-756f4dc41b6b",
   "metadata": {},
   "outputs": [
    {
     "name": "stdout",
     "output_type": "stream",
     "text": [
      "RC_parallel_Circuit has Resistance 2 ohms & Capacitance 6 farads\n"
     ]
    }
   ],
   "source": [
    "print(inst_2)"
   ]
  },
  {
   "cell_type": "code",
   "execution_count": 874,
   "id": "7f6cba18-393a-49d7-8af9-454951714690",
   "metadata": {},
   "outputs": [
    {
     "data": {
      "text/plain": [
       "mappingproxy({'__module__': 'circuits',\n",
       "              '__doc__': 'A class to represent a simple RC circuit with a resistor and a capacitor.',\n",
       "              '__init__': <function circuits.RC_parallel_Circuit.__init__(self, R: float, X_C: float, I: float)>,\n",
       "              'R': <property at 0x1b8da53bba0>,\n",
       "              'X_C': <property at 0x1b8da53bbf0>,\n",
       "              'I': <property at 0x1b8da53bc40>,\n",
       "              'zt': <function circuits.RC_parallel_Circuit.zt(self) -> str>,\n",
       "              'E': <function circuits.RC_parallel_Circuit.E(self)>,\n",
       "              'I_R': <function circuits.RC_parallel_Circuit.I_R(self)>,\n",
       "              'I_C': <function circuits.RC_parallel_Circuit.I_C(self)>,\n",
       "              'P_t': <classmethod(<function RC_parallel_Circuit.P_t at 0x000001B8DA1EA160>)>,\n",
       "              'angle': <staticmethod(<function RC_parallel_Circuit.angle at 0x000001B8DA1EA3E0>)>,\n",
       "              '__repr__': <function circuits.RC_parallel_Circuit.__repr__(self) -> str>,\n",
       "              '__str__': <function circuits.RC_parallel_Circuit.__str__(self) -> str>,\n",
       "              '__dict__': <attribute '__dict__' of 'RC_parallel_Circuit' objects>,\n",
       "              '__weakref__': <attribute '__weakref__' of 'RC_parallel_Circuit' objects>})"
      ]
     },
     "execution_count": 874,
     "metadata": {},
     "output_type": "execute_result"
    }
   ],
   "source": [
    "RC_parallel_Circuit.__dict__"
   ]
  },
  {
   "cell_type": "code",
   "execution_count": 875,
   "id": "db29ff11-fb56-4381-a565-4e0e148e8f14",
   "metadata": {},
   "outputs": [
    {
     "data": {
      "text/plain": [
       "{'_R': 2, '_X_C': 6, '_I': 9}"
      ]
     },
     "execution_count": 875,
     "metadata": {},
     "output_type": "execute_result"
    }
   ],
   "source": [
    "inst_2.__dict__"
   ]
  },
  {
   "cell_type": "code",
   "execution_count": 876,
   "id": "7870b8a1-600c-4807-b9dc-d4d11873df2b",
   "metadata": {},
   "outputs": [
    {
     "data": {
      "text/plain": [
       "mappingproxy({'__module__': 'circuits',\n",
       "              '__doc__': 'A class to represent a simple RC circuit with a resistor and a capacitor.',\n",
       "              '__init__': <function circuits.RC_parallel_Circuit.__init__(self, R: float, X_C: float, I: float)>,\n",
       "              'R': <property at 0x1b8da53bba0>,\n",
       "              'X_C': <property at 0x1b8da53bbf0>,\n",
       "              'I': <property at 0x1b8da53bc40>,\n",
       "              'zt': <function circuits.RC_parallel_Circuit.zt(self) -> str>,\n",
       "              'E': <function circuits.RC_parallel_Circuit.E(self)>,\n",
       "              'I_R': <function circuits.RC_parallel_Circuit.I_R(self)>,\n",
       "              'I_C': <function circuits.RC_parallel_Circuit.I_C(self)>,\n",
       "              'P_t': <classmethod(<function RC_parallel_Circuit.P_t at 0x000001B8DA1EA160>)>,\n",
       "              'angle': <staticmethod(<function RC_parallel_Circuit.angle at 0x000001B8DA1EA3E0>)>,\n",
       "              '__repr__': <function circuits.RC_parallel_Circuit.__repr__(self) -> str>,\n",
       "              '__str__': <function circuits.RC_parallel_Circuit.__str__(self) -> str>,\n",
       "              '__dict__': <attribute '__dict__' of 'RC_parallel_Circuit' objects>,\n",
       "              '__weakref__': <attribute '__weakref__' of 'RC_parallel_Circuit' objects>})"
      ]
     },
     "execution_count": 876,
     "metadata": {},
     "output_type": "execute_result"
    }
   ],
   "source": [
    "vars(RC_parallel_Circuit)"
   ]
  },
  {
   "cell_type": "code",
   "execution_count": 877,
   "id": "946dd493-9631-47c8-9084-ff3cc24e493f",
   "metadata": {},
   "outputs": [
    {
     "name": "stdout",
     "output_type": "stream",
     "text": [
      "Help on class RC_parallel_Circuit in module circuits:\n",
      "\n",
      "class RC_parallel_Circuit(builtins.object)\n",
      " |  RC_parallel_Circuit(R: float, X_C: float, I: float)\n",
      " |\n",
      " |  A class to represent a simple RC circuit with a resistor and a capacitor.\n",
      " |\n",
      " |  Methods defined here:\n",
      " |\n",
      " |  E(self)\n",
      " |      give the voltage of the circuit\n",
      " |\n",
      " |  I_C(self)\n",
      " |      give the capacitor_current of the circuit\n",
      " |\n",
      " |  I_R(self)\n",
      " |      give the resistor_current of the circuit\n",
      " |\n",
      " |  __init__(self, R: float, X_C: float, I: float)\n",
      " |      Initialize the RC circuit with a resistor and a capacitor.\n",
      " |\n",
      " |  __repr__(self) -> str\n",
      " |      repr is for programmer\n",
      " |\n",
      " |  __str__(self) -> str\n",
      " |      str is for common people\n",
      " |\n",
      " |  zt(self) -> str\n",
      " |      give the total_impedence of the circuit\n",
      " |\n",
      " |  ----------------------------------------------------------------------\n",
      " |  Class methods defined here:\n",
      " |\n",
      " |  P_t(voltage)\n",
      " |      give the total_power of the circuit\n",
      " |\n",
      " |  ----------------------------------------------------------------------\n",
      " |  Static methods defined here:\n",
      " |\n",
      " |  angle(R, X_C)\n",
      " |      give the angle of circuit\n",
      " |\n",
      " |  ----------------------------------------------------------------------\n",
      " |  Data descriptors defined here:\n",
      " |\n",
      " |  I\n",
      " |      Get current.\n",
      " |\n",
      " |  R\n",
      " |      Get the resistance of the resistor.\n",
      " |\n",
      " |  X_C\n",
      " |      Get the capacitance of the capacitor.\n",
      " |\n",
      " |  __dict__\n",
      " |      dictionary for instance variables\n",
      " |\n",
      " |  __weakref__\n",
      " |      list of weak references to the object\n",
      "\n"
     ]
    }
   ],
   "source": [
    "help(RC_parallel_Circuit)"
   ]
  },
  {
   "cell_type": "code",
   "execution_count": 878,
   "id": "77e5a1a7-835e-4a9f-be4a-33766dfa6fe8",
   "metadata": {},
   "outputs": [
    {
     "name": "stdout",
     "output_type": "stream",
     "text": [
      "A class to represent a simple RC circuit with a resistor and a capacitor.\n"
     ]
    }
   ],
   "source": [
    "print(RC_parallel_Circuit.__doc__)"
   ]
  },
  {
   "cell_type": "code",
   "execution_count": 889,
   "id": "85233a05-7fb4-4591-864e-019c6203bf5a",
   "metadata": {},
   "outputs": [
    {
     "name": "stdout",
     "output_type": "stream",
     "text": [
      "Initialize the RC circuit with a resistor and a capacitor.\n",
      "        \n"
     ]
    }
   ],
   "source": [
    "print(RC_parallel_Circuit.__init__.__doc__)"
   ]
  },
  {
   "cell_type": "code",
   "execution_count": 891,
   "id": "f17feb4d-f2f9-4d5a-b204-209170fd79cf",
   "metadata": {},
   "outputs": [
    {
     "name": "stdout",
     "output_type": "stream",
     "text": [
      "Get the resistance of the resistor.\n"
     ]
    }
   ],
   "source": [
    "print(RC_parallel_Circuit.R.__doc__)"
   ]
  },
  {
   "cell_type": "code",
   "execution_count": 893,
   "id": "eacf7924-5ed0-4c5e-a8b3-0b3452cf50d6",
   "metadata": {},
   "outputs": [
    {
     "name": "stdout",
     "output_type": "stream",
     "text": [
      "Get the capacitance of the capacitor.\n"
     ]
    }
   ],
   "source": [
    "print(RC_parallel_Circuit.X_C.__doc__)"
   ]
  },
  {
   "cell_type": "code",
   "execution_count": 895,
   "id": "5aabf382-e9b4-47fb-bbc4-6b31c09be08d",
   "metadata": {},
   "outputs": [
    {
     "name": "stdout",
     "output_type": "stream",
     "text": [
      "repr is for programmer\n"
     ]
    }
   ],
   "source": [
    "print(RC_parallel_Circuit.__repr__.__doc__)"
   ]
  },
  {
   "cell_type": "code",
   "execution_count": 897,
   "id": "141ad011-ad9d-4398-aea9-394f071502a8",
   "metadata": {},
   "outputs": [
    {
     "name": "stdout",
     "output_type": "stream",
     "text": [
      "str is for common people\n"
     ]
    }
   ],
   "source": [
    "print(RC_parallel_Circuit.__str__.__doc__)"
   ]
  },
  {
   "cell_type": "code",
   "execution_count": 898,
   "id": "ee4893d2-43d1-4fb5-90fc-ca4dbfefb920",
   "metadata": {},
   "outputs": [],
   "source": [
    "from circuits import RC_series_Circuit"
   ]
  },
  {
   "cell_type": "code",
   "execution_count": 899,
   "id": "62c93709-de07-4a4c-866f-157e95b3f81b",
   "metadata": {},
   "outputs": [],
   "source": [
    "inst_1=RC_series_Circuit(2,5,9)"
   ]
  },
  {
   "cell_type": "code",
   "execution_count": 900,
   "id": "dd944483-f8f1-4a91-9085-6308e42e9348",
   "metadata": {},
   "outputs": [
    {
     "name": "stdout",
     "output_type": "stream",
     "text": [
      "RC_series_Circuit has Resistance 2 ohms, Capacitance 5 farads & 9 ampere\n"
     ]
    }
   ],
   "source": [
    "print(inst_1)"
   ]
  },
  {
   "cell_type": "code",
   "execution_count": 901,
   "id": "26f76025-73bb-4f34-9204-afcfd729b278",
   "metadata": {},
   "outputs": [
    {
     "data": {
      "text/plain": [
       "mappingproxy({'__module__': 'circuits',\n",
       "              '__doc__': 'A class to represent a simple RC circuit with a resistor and a capacitor.',\n",
       "              '__init__': <function circuits.RC_series_Circuit.__init__(self, R: float, X_C: float, I)>,\n",
       "              'R': <property at 0x1b8da53bd80>,\n",
       "              'X_C': <property at 0x1b8da53bdd0>,\n",
       "              'I': <property at 0x1b8da53be20>,\n",
       "              'zt': <function circuits.RC_series_Circuit.zt(self) -> str>,\n",
       "              'E': <function circuits.RC_series_Circuit.E(self, voltage)>,\n",
       "              'V_R': <function circuits.RC_series_Circuit.V_R(self)>,\n",
       "              'V_C': <function circuits.RC_series_Circuit.V_C(self)>,\n",
       "              'P_t': <classmethod(<function RC_series_Circuit.P_t at 0x000001B8DA1EB380>)>,\n",
       "              'P_f': <staticmethod(<function RC_series_Circuit.P_f at 0x000001B8DA1EA8E0>)>,\n",
       "              '__repr__': <function circuits.RC_series_Circuit.__repr__(self) -> str>,\n",
       "              '__str__': <function circuits.RC_series_Circuit.__str__(self) -> str>,\n",
       "              '__dict__': <attribute '__dict__' of 'RC_series_Circuit' objects>,\n",
       "              '__weakref__': <attribute '__weakref__' of 'RC_series_Circuit' objects>})"
      ]
     },
     "execution_count": 901,
     "metadata": {},
     "output_type": "execute_result"
    }
   ],
   "source": [
    "RC_series_Circuit.__dict__"
   ]
  },
  {
   "cell_type": "code",
   "execution_count": 902,
   "id": "2410b30f-e587-4af3-a50f-f2a7c129c504",
   "metadata": {},
   "outputs": [
    {
     "data": {
      "text/plain": [
       "{'_R': 2, '_X_C': 5, '_I': 9}"
      ]
     },
     "execution_count": 902,
     "metadata": {},
     "output_type": "execute_result"
    }
   ],
   "source": [
    "inst_1.__dict__"
   ]
  },
  {
   "cell_type": "code",
   "execution_count": 903,
   "id": "67df80d1-c8d2-47fa-8496-3a4d3db8c995",
   "metadata": {},
   "outputs": [
    {
     "data": {
      "text/plain": [
       "mappingproxy({'__module__': 'circuits',\n",
       "              '__doc__': 'A class to represent a simple RC circuit with a resistor and a capacitor.',\n",
       "              '__init__': <function circuits.RC_series_Circuit.__init__(self, R: float, X_C: float, I)>,\n",
       "              'R': <property at 0x1b8da53bd80>,\n",
       "              'X_C': <property at 0x1b8da53bdd0>,\n",
       "              'I': <property at 0x1b8da53be20>,\n",
       "              'zt': <function circuits.RC_series_Circuit.zt(self) -> str>,\n",
       "              'E': <function circuits.RC_series_Circuit.E(self, voltage)>,\n",
       "              'V_R': <function circuits.RC_series_Circuit.V_R(self)>,\n",
       "              'V_C': <function circuits.RC_series_Circuit.V_C(self)>,\n",
       "              'P_t': <classmethod(<function RC_series_Circuit.P_t at 0x000001B8DA1EB380>)>,\n",
       "              'P_f': <staticmethod(<function RC_series_Circuit.P_f at 0x000001B8DA1EA8E0>)>,\n",
       "              '__repr__': <function circuits.RC_series_Circuit.__repr__(self) -> str>,\n",
       "              '__str__': <function circuits.RC_series_Circuit.__str__(self) -> str>,\n",
       "              '__dict__': <attribute '__dict__' of 'RC_series_Circuit' objects>,\n",
       "              '__weakref__': <attribute '__weakref__' of 'RC_series_Circuit' objects>})"
      ]
     },
     "execution_count": 903,
     "metadata": {},
     "output_type": "execute_result"
    }
   ],
   "source": [
    "vars(RC_series_Circuit)"
   ]
  },
  {
   "cell_type": "code",
   "execution_count": 904,
   "id": "48a7469d-930b-4ca7-b8c4-7bfb510bd9d1",
   "metadata": {},
   "outputs": [
    {
     "name": "stdout",
     "output_type": "stream",
     "text": [
      "Help on class RC_series_Circuit in module circuits:\n",
      "\n",
      "class RC_series_Circuit(builtins.object)\n",
      " |  RC_series_Circuit(R: float, X_C: float, I)\n",
      " |\n",
      " |  A class to represent a simple RC circuit with a resistor and a capacitor.\n",
      " |\n",
      " |  Methods defined here:\n",
      " |\n",
      " |  E(self, voltage)\n",
      " |      give voltage\n",
      " |\n",
      " |  V_C(self)\n",
      " |\n",
      " |  V_R(self)\n",
      " |\n",
      " |  __init__(self, R: float, X_C: float, I)\n",
      " |      Initialize the RC circuit with a resistor and a capacitor.\n",
      " |\n",
      " |  __repr__(self) -> str\n",
      " |      repr is for programmer\n",
      " |\n",
      " |  __str__(self) -> str\n",
      " |      str is for common people\n",
      " |\n",
      " |  zt(self) -> str\n",
      " |      give the total_impedence of the circuit\n",
      " |\n",
      " |  ----------------------------------------------------------------------\n",
      " |  Class methods defined here:\n",
      " |\n",
      " |  P_t()\n",
      " |\n",
      " |  ----------------------------------------------------------------------\n",
      " |  Static methods defined here:\n",
      " |\n",
      " |  P_f(R, zt)\n",
      " |\n",
      " |  ----------------------------------------------------------------------\n",
      " |  Data descriptors defined here:\n",
      " |\n",
      " |  I\n",
      " |      Get current.\n",
      " |\n",
      " |  R\n",
      " |      Get the resistance of the resistor.\n",
      " |\n",
      " |  X_C\n",
      " |      Get the capacitance of the capacitor.\n",
      " |\n",
      " |  __dict__\n",
      " |      dictionary for instance variables\n",
      " |\n",
      " |  __weakref__\n",
      " |      list of weak references to the object\n",
      "\n"
     ]
    }
   ],
   "source": [
    "help(RC_series_Circuit)"
   ]
  },
  {
   "cell_type": "code",
   "execution_count": 905,
   "id": "c9c4603a-a2a8-4c1c-b4f4-bff06cd3d13b",
   "metadata": {},
   "outputs": [],
   "source": [
    "from circuits import RLC_parallel_circuit"
   ]
  },
  {
   "cell_type": "code",
   "execution_count": 906,
   "id": "731518d5-9a8f-47c1-aac8-e64098f1fabb",
   "metadata": {},
   "outputs": [],
   "source": [
    "inst_1=RLC_parallel_circuit(4,8,9)"
   ]
  },
  {
   "cell_type": "code",
   "execution_count": 907,
   "id": "303cf450-c155-4305-b8df-57077c90e4ae",
   "metadata": {},
   "outputs": [
    {
     "name": "stdout",
     "output_type": "stream",
     "text": [
      "RLC_parallel_circuit has 4 ohms resistance,8 henry inductance,9 farad capacitor\n"
     ]
    }
   ],
   "source": [
    "print(inst_1)"
   ]
  },
  {
   "cell_type": "code",
   "execution_count": 908,
   "id": "4f5392e9-4675-4a6a-b055-e48933032c9b",
   "metadata": {},
   "outputs": [
    {
     "data": {
      "text/plain": [
       "mappingproxy({'__module__': 'circuits',\n",
       "              '__doc__': '\\n    Represents a series RLC circuit.\\n    ',\n",
       "              '__init__': <function circuits.RLC_parallel_circuit.__init__(self, R: float, X_L: float, X_C: float) -> None>,\n",
       "              'R': <property at 0x1b8da53bf60>,\n",
       "              'X_L': <property at 0x1b8da53bfb0>,\n",
       "              'X_C': <property at 0x1b8da55c040>,\n",
       "              'impedance': <property at 0x1b8da53bec0>,\n",
       "              'phase': <property at 0x1b8da53bf10>,\n",
       "              'power_factor': <property at 0x1b8da55c090>,\n",
       "              '__repr__': <function circuits.RLC_parallel_circuit.__repr__(self) -> str>,\n",
       "              '__str__': <function circuits.RLC_parallel_circuit.__str__(self)>,\n",
       "              '__dict__': <attribute '__dict__' of 'RLC_parallel_circuit' objects>,\n",
       "              '__weakref__': <attribute '__weakref__' of 'RLC_parallel_circuit' objects>})"
      ]
     },
     "execution_count": 908,
     "metadata": {},
     "output_type": "execute_result"
    }
   ],
   "source": [
    "RLC_parallel_circuit.__dict__"
   ]
  },
  {
   "cell_type": "code",
   "execution_count": 909,
   "id": "af649d3f-ffb9-49c6-b068-fef3d83fb241",
   "metadata": {},
   "outputs": [
    {
     "data": {
      "text/plain": [
       "{'_R': 4, '_X_L': 8, '_X_C': 9}"
      ]
     },
     "execution_count": 909,
     "metadata": {},
     "output_type": "execute_result"
    }
   ],
   "source": [
    "inst_1.__dict__"
   ]
  },
  {
   "cell_type": "code",
   "execution_count": 910,
   "id": "dfd67296-2fd1-469e-9fcd-f6d2b4ca3a2c",
   "metadata": {},
   "outputs": [
    {
     "data": {
      "text/plain": [
       "mappingproxy({'__module__': 'circuits',\n",
       "              '__doc__': '\\n    Represents a series RLC circuit.\\n    ',\n",
       "              '__init__': <function circuits.RLC_parallel_circuit.__init__(self, R: float, X_L: float, X_C: float) -> None>,\n",
       "              'R': <property at 0x1b8da53bf60>,\n",
       "              'X_L': <property at 0x1b8da53bfb0>,\n",
       "              'X_C': <property at 0x1b8da55c040>,\n",
       "              'impedance': <property at 0x1b8da53bec0>,\n",
       "              'phase': <property at 0x1b8da53bf10>,\n",
       "              'power_factor': <property at 0x1b8da55c090>,\n",
       "              '__repr__': <function circuits.RLC_parallel_circuit.__repr__(self) -> str>,\n",
       "              '__str__': <function circuits.RLC_parallel_circuit.__str__(self)>,\n",
       "              '__dict__': <attribute '__dict__' of 'RLC_parallel_circuit' objects>,\n",
       "              '__weakref__': <attribute '__weakref__' of 'RLC_parallel_circuit' objects>})"
      ]
     },
     "execution_count": 910,
     "metadata": {},
     "output_type": "execute_result"
    }
   ],
   "source": [
    "vars(RLC_parallel_circuit)"
   ]
  },
  {
   "cell_type": "code",
   "execution_count": 911,
   "id": "5af35ef0-0b5f-40b8-a50a-e9301e7ce80d",
   "metadata": {},
   "outputs": [
    {
     "name": "stdout",
     "output_type": "stream",
     "text": [
      "Help on class RLC_parallel_circuit in module circuits:\n",
      "\n",
      "class RLC_parallel_circuit(builtins.object)\n",
      " |  RLC_parallel_circuit(R: float, X_L: float, X_C: float) -> None\n",
      " |\n",
      " |  Represents a series RLC circuit.\n",
      " |\n",
      " |  Methods defined here:\n",
      " |\n",
      " |  __init__(self, R: float, X_L: float, X_C: float) -> None\n",
      " |      Initializes an RLC circuit object.\n",
      " |\n",
      " |  __repr__(self) -> str\n",
      " |      Returns a string representation of the RLC circuit object.\n",
      " |\n",
      " |  __str__(self)\n",
      " |      Return str(self).\n",
      " |\n",
      " |  ----------------------------------------------------------------------\n",
      " |  Readonly properties defined here:\n",
      " |\n",
      " |  impedance\n",
      " |      Calculates the impedance.\n",
      " |\n",
      " |  phase\n",
      " |      Calculates the phase angle.\n",
      " |\n",
      " |  power_factor\n",
      " |      Calculates the power factor.\n",
      " |\n",
      " |  ----------------------------------------------------------------------\n",
      " |  Data descriptors defined here:\n",
      " |\n",
      " |  R\n",
      " |      Gets the resistance.\n",
      " |\n",
      " |  X_C\n",
      " |      Gets the capacitance.\n",
      " |\n",
      " |  X_L\n",
      " |      Gets the inductance.\n",
      " |\n",
      " |  __dict__\n",
      " |      dictionary for instance variables\n",
      " |\n",
      " |  __weakref__\n",
      " |      list of weak references to the object\n",
      "\n"
     ]
    }
   ],
   "source": [
    "help(RLC_parallel_circuit)"
   ]
  },
  {
   "cell_type": "code",
   "execution_count": 912,
   "id": "b5ac0377-b2be-4db8-8ec2-949c4fc6f19d",
   "metadata": {},
   "outputs": [
    {
     "name": "stdout",
     "output_type": "stream",
     "text": [
      "\n",
      "    Represents a series RLC circuit.\n",
      "    \n"
     ]
    }
   ],
   "source": [
    "print(RLC_parallel_circuit.__doc__)"
   ]
  },
  {
   "cell_type": "code",
   "execution_count": 913,
   "id": "09da0c71-1904-4386-a6b8-74067b5a4da6",
   "metadata": {},
   "outputs": [
    {
     "name": "stdout",
     "output_type": "stream",
     "text": [
      "\n",
      "        Initializes an RLC circuit object.\n",
      "        \n"
     ]
    }
   ],
   "source": [
    "print(RLC_parallel_circuit.__init__.__doc__)"
   ]
  },
  {
   "cell_type": "code",
   "execution_count": 914,
   "id": "0ab2fc37-bf8c-4400-b03d-f16802ebab16",
   "metadata": {},
   "outputs": [
    {
     "name": "stdout",
     "output_type": "stream",
     "text": [
      "\n",
      "        Gets the resistance.\n",
      "        \n"
     ]
    }
   ],
   "source": [
    "print(RLC_parallel_circuit.R.__doc__)"
   ]
  },
  {
   "cell_type": "code",
   "execution_count": 915,
   "id": "e1be83aa-9104-4c06-9de7-dd3882c8d08e",
   "metadata": {},
   "outputs": [
    {
     "name": "stdout",
     "output_type": "stream",
     "text": [
      "\n",
      "        Gets the inductance.\n",
      "        \n"
     ]
    }
   ],
   "source": [
    "print(RLC_parallel_circuit.X_L.__doc__)"
   ]
  },
  {
   "cell_type": "code",
   "execution_count": 916,
   "id": "69f0a84d-3e16-45fa-b1eb-d387912f42b1",
   "metadata": {},
   "outputs": [
    {
     "name": "stdout",
     "output_type": "stream",
     "text": [
      "\n",
      "        Gets the capacitance.\n",
      "        \n"
     ]
    }
   ],
   "source": [
    "print(RLC_parallel_circuit.X_C.__doc__)"
   ]
  },
  {
   "cell_type": "code",
   "execution_count": 917,
   "id": "fe77bde1-36eb-41aa-aacf-ecf4c38e9ab7",
   "metadata": {},
   "outputs": [
    {
     "name": "stdout",
     "output_type": "stream",
     "text": [
      "\n",
      "        Calculates the impedance.\n",
      "        \n"
     ]
    }
   ],
   "source": [
    "print(RLC_parallel_circuit.impedance.__doc__)"
   ]
  },
  {
   "cell_type": "code",
   "execution_count": 918,
   "id": "27f176eb-c58c-4b5a-8b0f-1f022797580a",
   "metadata": {},
   "outputs": [
    {
     "name": "stdout",
     "output_type": "stream",
     "text": [
      "\n",
      "        Returns a string representation of the RLC circuit object.\n",
      "        \n"
     ]
    }
   ],
   "source": [
    "print(RLC_parallel_circuit.__repr__.__doc__)"
   ]
  },
  {
   "cell_type": "code",
   "execution_count": 919,
   "id": "4bd4dfb3-047c-499b-a95d-5ef03f012131",
   "metadata": {},
   "outputs": [
    {
     "name": "stdout",
     "output_type": "stream",
     "text": [
      "None\n"
     ]
    }
   ],
   "source": [
    "print(RLC_parallel_circuit.__str__.__doc__)"
   ]
  },
  {
   "cell_type": "code",
   "execution_count": 920,
   "id": "51197e83-79c2-442b-86cb-66145770a2c2",
   "metadata": {},
   "outputs": [],
   "source": [
    "from circuits import series_RLC_circuit"
   ]
  },
  {
   "cell_type": "code",
   "execution_count": 921,
   "id": "d68995ea-6ebc-4e72-ac60-fb8eedc95e1a",
   "metadata": {},
   "outputs": [],
   "source": [
    "inst_1=series_RLC_circuit(5,9,12)"
   ]
  },
  {
   "cell_type": "code",
   "execution_count": 922,
   "id": "00f090fa-63ba-4d18-9af0-5dafeafaf02e",
   "metadata": {},
   "outputs": [
    {
     "name": "stdout",
     "output_type": "stream",
     "text": [
      "series_RLC_circuit has 5 ohms resistance,9 henry inductance,12 farad capacitor\n"
     ]
    }
   ],
   "source": [
    "print(inst_1)"
   ]
  },
  {
   "cell_type": "code",
   "execution_count": 923,
   "id": "67767aab-adba-4d2b-b446-1c606bdcab32",
   "metadata": {},
   "outputs": [
    {
     "data": {
      "text/plain": [
       "mappingproxy({'__module__': 'circuits',\n",
       "              '__doc__': '\\n    Represents a series RLC circuit.\\n    ',\n",
       "              '__init__': <function circuits.series_RLC_circuit.__init__(self, R: float, X_L: float, X_C: float) -> None>,\n",
       "              'R': <property at 0x1b8da55c220>,\n",
       "              'X_L': <property at 0x1b8da55c270>,\n",
       "              'X_C': <property at 0x1b8da55c2c0>,\n",
       "              'impedance': <property at 0x1b8da55c180>,\n",
       "              'phase': <property at 0x1b8da55c1d0>,\n",
       "              'power_factor': <property at 0x1b8da55c310>,\n",
       "              'current': <function circuits.series_RLC_circuit.current(self, voltage: float) -> float>,\n",
       "              '__repr__': <function circuits.series_RLC_circuit.__repr__(self) -> str>,\n",
       "              '__str__': <function circuits.series_RLC_circuit.__str__(self)>,\n",
       "              '__dict__': <attribute '__dict__' of 'series_RLC_circuit' objects>,\n",
       "              '__weakref__': <attribute '__weakref__' of 'series_RLC_circuit' objects>})"
      ]
     },
     "execution_count": 923,
     "metadata": {},
     "output_type": "execute_result"
    }
   ],
   "source": [
    "series_RLC_circuit.__dict__"
   ]
  },
  {
   "cell_type": "code",
   "execution_count": 924,
   "id": "5fcbb168-2bbf-44aa-9550-926b0d3e750b",
   "metadata": {},
   "outputs": [
    {
     "data": {
      "text/plain": [
       "{'_R': 5, '_X_L': 9, '_X_C': 12}"
      ]
     },
     "execution_count": 924,
     "metadata": {},
     "output_type": "execute_result"
    }
   ],
   "source": [
    "inst_1.__dict__"
   ]
  },
  {
   "cell_type": "code",
   "execution_count": 925,
   "id": "4974f67d-5fbe-4ab8-88ea-8408d1933269",
   "metadata": {},
   "outputs": [
    {
     "data": {
      "text/plain": [
       "mappingproxy({'__module__': 'circuits',\n",
       "              '__doc__': '\\n    Represents a series RLC circuit.\\n    ',\n",
       "              '__init__': <function circuits.series_RLC_circuit.__init__(self, R: float, X_L: float, X_C: float) -> None>,\n",
       "              'R': <property at 0x1b8da55c220>,\n",
       "              'X_L': <property at 0x1b8da55c270>,\n",
       "              'X_C': <property at 0x1b8da55c2c0>,\n",
       "              'impedance': <property at 0x1b8da55c180>,\n",
       "              'phase': <property at 0x1b8da55c1d0>,\n",
       "              'power_factor': <property at 0x1b8da55c310>,\n",
       "              'current': <function circuits.series_RLC_circuit.current(self, voltage: float) -> float>,\n",
       "              '__repr__': <function circuits.series_RLC_circuit.__repr__(self) -> str>,\n",
       "              '__str__': <function circuits.series_RLC_circuit.__str__(self)>,\n",
       "              '__dict__': <attribute '__dict__' of 'series_RLC_circuit' objects>,\n",
       "              '__weakref__': <attribute '__weakref__' of 'series_RLC_circuit' objects>})"
      ]
     },
     "execution_count": 925,
     "metadata": {},
     "output_type": "execute_result"
    }
   ],
   "source": [
    "vars(series_RLC_circuit)"
   ]
  },
  {
   "cell_type": "code",
   "execution_count": 926,
   "id": "07d81b19-7f16-43d6-905b-8cc786b961c4",
   "metadata": {},
   "outputs": [
    {
     "name": "stdout",
     "output_type": "stream",
     "text": [
      "Help on class series_RLC_circuit in module circuits:\n",
      "\n",
      "class series_RLC_circuit(builtins.object)\n",
      " |  series_RLC_circuit(R: float, X_L: float, X_C: float) -> None\n",
      " |\n",
      " |  Represents a series RLC circuit.\n",
      " |\n",
      " |  Methods defined here:\n",
      " |\n",
      " |  __init__(self, R: float, X_L: float, X_C: float) -> None\n",
      " |      Initializes an RLC circuit object.\n",
      " |\n",
      " |  __repr__(self) -> str\n",
      " |      Repr is for programmer.\n",
      " |\n",
      " |  __str__(self)\n",
      " |      str is for common person\n",
      " |\n",
      " |  current(self, voltage: float) -> float\n",
      " |      Calculates the current.\n",
      " |\n",
      " |  ----------------------------------------------------------------------\n",
      " |  Readonly properties defined here:\n",
      " |\n",
      " |  impedance\n",
      " |      Calculates the impedance.\n",
      " |\n",
      " |  phase\n",
      " |      Calculates the phase angle.\n",
      " |\n",
      " |  power_factor\n",
      " |      Calculates the power factor.\n",
      " |\n",
      " |  ----------------------------------------------------------------------\n",
      " |  Data descriptors defined here:\n",
      " |\n",
      " |  R\n",
      " |      Gets the resistance.\n",
      " |\n",
      " |  X_C\n",
      " |      Gets the capacitance.\n",
      " |\n",
      " |  X_L\n",
      " |      Gets the inductance.\n",
      " |\n",
      " |  __dict__\n",
      " |      dictionary for instance variables\n",
      " |\n",
      " |  __weakref__\n",
      " |      list of weak references to the object\n",
      "\n"
     ]
    }
   ],
   "source": [
    "help(series_RLC_circuit)"
   ]
  },
  {
   "cell_type": "code",
   "execution_count": 927,
   "id": "ad830f46-f9a3-4671-938c-2c955b4a1da3",
   "metadata": {},
   "outputs": [
    {
     "name": "stdout",
     "output_type": "stream",
     "text": [
      "\n",
      "    Represents a series RLC circuit.\n",
      "    \n"
     ]
    }
   ],
   "source": [
    "print(series_RLC_circuit.__doc__)"
   ]
  },
  {
   "cell_type": "code",
   "execution_count": 928,
   "id": "8e002a76-4cb4-4bb7-95bd-05c2dfadcf57",
   "metadata": {},
   "outputs": [
    {
     "name": "stdout",
     "output_type": "stream",
     "text": [
      "\n",
      "        Initializes an RLC circuit object.\n",
      "        \n"
     ]
    }
   ],
   "source": [
    "print(series_RLC_circuit.__init__.__doc__)"
   ]
  },
  {
   "cell_type": "code",
   "execution_count": 929,
   "id": "b74d1f3f-8bed-47a9-bc7c-0120b5774fd7",
   "metadata": {},
   "outputs": [],
   "source": [
    "import hr"
   ]
  },
  {
   "cell_type": "code",
   "execution_count": 930,
   "id": "7e3bc32d-a2c4-4b14-9a6f-2e6cad99e383",
   "metadata": {},
   "outputs": [],
   "source": [
    "from hr import PayrollSystem"
   ]
  },
  {
   "cell_type": "code",
   "execution_count": 931,
   "id": "5e828513-07bf-4e7a-b7a7-462e34a12d73",
   "metadata": {},
   "outputs": [],
   "source": [
    "import productivity"
   ]
  },
  {
   "cell_type": "code",
   "execution_count": 932,
   "id": "e0ae5b66-1080-4e49-bfe8-a5e63e5311b6",
   "metadata": {},
   "outputs": [],
   "source": [
    "from productivity import ProductivitySystem"
   ]
  },
  {
   "cell_type": "code",
   "execution_count": 933,
   "id": "3fd6fc8b-2d4c-45ac-8b2c-e0c0578a3c36",
   "metadata": {},
   "outputs": [],
   "source": [
    "import employees"
   ]
  },
  {
   "cell_type": "code",
   "execution_count": 934,
   "id": "497b2f79-5ff3-4305-a1df-25875d91d1e3",
   "metadata": {},
   "outputs": [],
   "source": [
    "from employees import SalaryEmployee"
   ]
  },
  {
   "cell_type": "code",
   "execution_count": 935,
   "id": "0234bf3e-b732-4f91-ad61-b3e9d57712fb",
   "metadata": {},
   "outputs": [],
   "source": [
    "s=SalaryEmployee(3,\"ali\",40)"
   ]
  },
  {
   "cell_type": "code",
   "execution_count": 936,
   "id": "1da91ec8-ae17-451c-8932-f7bd88936b77",
   "metadata": {},
   "outputs": [
    {
     "data": {
      "text/plain": [
       "40"
      ]
     },
     "execution_count": 936,
     "metadata": {},
     "output_type": "execute_result"
    }
   ],
   "source": [
    "s.calculate_payroll()"
   ]
  },
  {
   "cell_type": "code",
   "execution_count": 1210,
   "id": "d671a901-0307-40cb-a74c-d3c7f355b6c3",
   "metadata": {},
   "outputs": [
    {
     "data": {
      "text/plain": [
       "40"
      ]
     },
     "execution_count": 1210,
     "metadata": {},
     "output_type": "execute_result"
    }
   ],
   "source": [
    "s.weekly_salary"
   ]
  },
  {
   "cell_type": "code",
   "execution_count": 1212,
   "id": "b9c0e918-146b-4552-a397-60eea74495bb",
   "metadata": {},
   "outputs": [],
   "source": [
    "from employees import HourlyEmployee"
   ]
  },
  {
   "cell_type": "code",
   "execution_count": 1214,
   "id": "22036a51-4159-4719-be45-df6b4ac6e0d9",
   "metadata": {},
   "outputs": [],
   "source": [
    "h=HourlyEmployee(3,\"ali\",4,60)"
   ]
  },
  {
   "cell_type": "code",
   "execution_count": 1216,
   "id": "4751d0fc-0f70-4784-92ec-94125abe896a",
   "metadata": {},
   "outputs": [
    {
     "data": {
      "text/plain": [
       "4"
      ]
     },
     "execution_count": 1216,
     "metadata": {},
     "output_type": "execute_result"
    }
   ],
   "source": [
    "h.hours_worked"
   ]
  },
  {
   "cell_type": "code",
   "execution_count": 1218,
   "id": "73b747b0-c955-4a40-9ace-eaf649210ffb",
   "metadata": {},
   "outputs": [
    {
     "data": {
      "text/plain": [
       "60"
      ]
     },
     "execution_count": 1218,
     "metadata": {},
     "output_type": "execute_result"
    }
   ],
   "source": [
    "h.hourly_rate"
   ]
  },
  {
   "cell_type": "code",
   "execution_count": 1220,
   "id": "5aa5b2a4-5c17-4322-92f8-35ad97182cfe",
   "metadata": {},
   "outputs": [
    {
     "data": {
      "text/plain": [
       "240"
      ]
     },
     "execution_count": 1220,
     "metadata": {},
     "output_type": "execute_result"
    }
   ],
   "source": [
    "h.calculate_payroll()"
   ]
  },
  {
   "cell_type": "code",
   "execution_count": 1222,
   "id": "a8ed1241-fe73-4397-9f7d-2a88b96e1bdc",
   "metadata": {},
   "outputs": [],
   "source": [
    "from employees import CommissionEmployee"
   ]
  },
  {
   "cell_type": "code",
   "execution_count": 1224,
   "id": "8410f552-e1d8-45d1-98ee-5568f9bb6015",
   "metadata": {},
   "outputs": [],
   "source": [
    "\n",
    "c=CommissionEmployee(4,\"ali\",60,5)"
   ]
  },
  {
   "cell_type": "code",
   "execution_count": 1226,
   "id": "eac708f3-87cb-437b-9b91-82f675f4b5bb",
   "metadata": {},
   "outputs": [
    {
     "data": {
      "text/plain": [
       "5"
      ]
     },
     "execution_count": 1226,
     "metadata": {},
     "output_type": "execute_result"
    }
   ],
   "source": [
    "c.commission"
   ]
  },
  {
   "cell_type": "code",
   "execution_count": 1228,
   "id": "4429d172-44f2-486e-bdf8-a5391d78bd37",
   "metadata": {},
   "outputs": [
    {
     "data": {
      "text/plain": [
       "65"
      ]
     },
     "execution_count": 1228,
     "metadata": {},
     "output_type": "execute_result"
    }
   ],
   "source": [
    "\n",
    "c.calculate_payroll()"
   ]
  },
  {
   "cell_type": "code",
   "execution_count": 1230,
   "id": "2e408015-7abe-4e6a-b472-212b368b852b",
   "metadata": {},
   "outputs": [],
   "source": [
    "from employees import Manager"
   ]
  },
  {
   "cell_type": "code",
   "execution_count": 1232,
   "id": "4c44bc5d-ca8d-4c88-ba78-dcfe51d4c04c",
   "metadata": {},
   "outputs": [],
   "source": [
    "m=Manager(3,\"ali\",40)"
   ]
  },
  {
   "cell_type": "code",
   "execution_count": 1234,
   "id": "b69e3935-91de-4962-9c44-5f9f29efed99",
   "metadata": {},
   "outputs": [
    {
     "name": "stdout",
     "output_type": "stream",
     "text": [
      "ali screams and yells for 8 hours.\n"
     ]
    }
   ],
   "source": [
    "m.work(8)"
   ]
  },
  {
   "cell_type": "code",
   "execution_count": 1236,
   "id": "8a657f2b-d610-452c-9e0e-2b83e51cf2de",
   "metadata": {},
   "outputs": [],
   "source": [
    "from employees import Secretary"
   ]
  },
  {
   "cell_type": "code",
   "execution_count": 1238,
   "id": "67d0feb2-1f5e-4236-b2ae-d6009cbee2fd",
   "metadata": {},
   "outputs": [],
   "source": [
    "s=Secretary(3,\"ali\",40)"
   ]
  },
  {
   "cell_type": "code",
   "execution_count": 1240,
   "id": "364aa8f8-0a15-44f0-8b03-683721c845d7",
   "metadata": {},
   "outputs": [
    {
     "name": "stdout",
     "output_type": "stream",
     "text": [
      "ali expends 2 hours doing office paperwork.\n"
     ]
    }
   ],
   "source": [
    "s.work(2)"
   ]
  },
  {
   "cell_type": "code",
   "execution_count": 1242,
   "id": "8bc751aa-3f9f-4f12-8a77-190d08d788ea",
   "metadata": {},
   "outputs": [],
   "source": [
    "from employees import SalesPerson"
   ]
  },
  {
   "cell_type": "code",
   "execution_count": 1244,
   "id": "a1c9a6f6-8d86-4cee-b21f-7074d4faeb0e",
   "metadata": {},
   "outputs": [],
   "source": [
    "ss=SalesPerson(3,\"ali\",40,10)"
   ]
  },
  {
   "cell_type": "code",
   "execution_count": 1246,
   "id": "4c5b46db-126a-4e94-b0ff-74e7204ee5d1",
   "metadata": {},
   "outputs": [
    {
     "name": "stdout",
     "output_type": "stream",
     "text": [
      "ali expends 3 hours on the phone.\n"
     ]
    }
   ],
   "source": [
    "ss.work(3)"
   ]
  },
  {
   "cell_type": "code",
   "execution_count": 1248,
   "id": "f168fd66-ab1f-4c18-bf36-2f880c3ee51c",
   "metadata": {},
   "outputs": [],
   "source": [
    "from employees import FactoryWorker"
   ]
  },
  {
   "cell_type": "code",
   "execution_count": 1250,
   "id": "0ad5d6cf-1aeb-44d0-989e-98edf73fc646",
   "metadata": {},
   "outputs": [],
   "source": [
    "f=FactoryWorker(3,\"ali\",40,3)"
   ]
  },
  {
   "cell_type": "code",
   "execution_count": 1252,
   "id": "263cefe1-1356-4be7-a3ab-511a368959a0",
   "metadata": {},
   "outputs": [
    {
     "name": "stdout",
     "output_type": "stream",
     "text": [
      "ali manufactures gadgets for 4 hours.\n"
     ]
    }
   ],
   "source": [
    "f.work(4)"
   ]
  },
  {
   "cell_type": "code",
   "execution_count": 1254,
   "id": "53cccf35-54bd-4e11-9e68-f2c940a8d606",
   "metadata": {},
   "outputs": [],
   "source": [
    "from employees import TemporarySecretary"
   ]
  },
  {
   "cell_type": "code",
   "execution_count": 1256,
   "id": "70414dae-2ec2-4b85-b1a7-515b19938cdf",
   "metadata": {},
   "outputs": [
    {
     "name": "stdout",
     "output_type": "stream",
     "text": [
      "Tracking Employee Productivity\n",
      "==============================\n",
      "Mary Poppins screams and yells for 40 hours.\n",
      "John Smith expends 40 hours doing office paperwork.\n",
      "Kevin Bacon expends 40 hours on the phone.\n",
      "Jane Doe manufactures gadgets for 40 hours.\n",
      "Robin Williams expends 40 hours doing office paperwork.\n",
      "\n",
      "Calculating Payroll\n",
      "===================\n",
      "Payroll for: 1 - Mary Poppins\n",
      "- Check amount: 3000\n",
      "\n",
      "Payroll for: 2 - John Smith\n",
      "- Check amount: 1500\n",
      "\n",
      "Payroll for: 3 - Kevin Bacon\n",
      "- Check amount: 1250\n",
      "\n",
      "Payroll for: 4 - Jane Doe\n",
      "- Check amount: 600\n",
      "\n",
      "Payroll for: 5 - Robin Williams\n",
      "- Check amount: 360\n",
      "\n"
     ]
    }
   ],
   "source": [
    "manager = Manager(1, \"Mary Poppins\", 3000)\n",
    "secretary = Secretary(2, \"John Smith\", 1500)\n",
    "sales_guy = SalesPerson(3, \"Kevin Bacon\", 1000, 250)\n",
    "factory_worker = FactoryWorker(4, \"Jane Doe\", 40, 15)\n",
    "temporary_secretary = TemporarySecretary(5, \"Robin Williams\", 40, 9)\n",
    "company_employees = [\n",
    "    manager,\n",
    "    secretary,\n",
    "    sales_guy,\n",
    "    factory_worker,\n",
    "    temporary_secretary,\n",
    "]\n",
    "\n",
    "productivity_system = ProductivitySystem()\n",
    "productivity_system.track(company_employees, 40)\n",
    "\n",
    "payroll_system = PayrollSystem()\n",
    "payroll_system.calculate_payroll(company_employees)"
   ]
  },
  {
   "cell_type": "markdown",
   "id": "c4e18455-0c31-470f-abbd-2114516264cb",
   "metadata": {},
   "source": [
    "question 8"
   ]
  },
  {
   "cell_type": "markdown",
   "id": "ca00bf09-fcdd-4aad-85c6-47059eb3764e",
   "metadata": {},
   "source": [
    "Master the above different ways of importing. \n",
    "Sometimes, modules contain a single function or class with the same name as the \n",
    "module itself. For example, the DateTime module in the Python standard library \n",
    "contains a class called DateTime."
   ]
  },
  {
   "cell_type": "markdown",
   "id": "6a4ddb74-eb4f-4f4a-af2e-b79837d4fbfc",
   "metadata": {},
   "source": [
    "a. Run the following code and understand how different ways of importing are \n",
    "important. "
   ]
  },
  {
   "cell_type": "code",
   "execution_count": 1263,
   "id": "7b860484-a43a-4b31-afdb-b1edf4f103a8",
   "metadata": {},
   "outputs": [
    {
     "data": {
      "text/plain": [
       "datetime.datetime(2020, 2, 2, 0, 0)"
      ]
     },
     "execution_count": 1263,
     "metadata": {},
     "output_type": "execute_result"
    }
   ],
   "source": [
    "import datetime\n",
    "datetime.datetime(2020, 2, 2)"
   ]
  },
  {
   "cell_type": "markdown",
   "id": "1ed9c45d-3ed3-4b1d-a162-9f20f60476c5",
   "metadata": {},
   "source": [
    "b. Run the following code and understand how different ways of importing are \n",
    "important. "
   ]
  },
  {
   "cell_type": "code",
   "execution_count": 1266,
   "id": "5caa8b43-75ae-4bf2-ac0a-b420e86645f6",
   "metadata": {},
   "outputs": [
    {
     "data": {
      "text/plain": [
       "datetime.datetime(2020, 2, 2, 0, 0)"
      ]
     },
     "execution_count": 1266,
     "metadata": {},
     "output_type": "execute_result"
    }
   ],
   "source": [
    "import datetime as dt\n",
    "dt.datetime(2020, 2, 2)"
   ]
  },
  {
   "cell_type": "markdown",
   "id": "d02798f2-91ec-4c30-afcf-b8ab5e733821",
   "metadata": {},
   "source": [
    "c. Run the following code and understand how different ways of importing are \n",
    "important. "
   ]
  },
  {
   "cell_type": "code",
   "execution_count": 1269,
   "id": "66a6624e-8aff-4400-8bbd-7dd30391ad53",
   "metadata": {},
   "outputs": [
    {
     "data": {
      "text/plain": [
       "datetime.datetime(2020, 2, 2, 0, 0)"
      ]
     },
     "execution_count": 1269,
     "metadata": {},
     "output_type": "execute_result"
    }
   ],
   "source": [
    "from datetime import datetime\n",
    "datetime(2020, 2, 2)"
   ]
  },
  {
   "cell_type": "markdown",
   "id": "9bc9bc21-d215-4078-bc71-f3336a659d3c",
   "metadata": {},
   "source": [
    "# 9. Creating Packages"
   ]
  },
  {
   "cell_type": "markdown",
   "id": "5ae620d3-e515-4b0c-8c6a-830d1528dc14",
   "metadata": {},
   "source": [
    "A package is a folder that contains one or more Python modules. It must also contain a \n",
    "special module called __init__.py. Here is an example of a package so that you can see this \n",
    "structure:"
   ]
  },
  {
   "cell_type": "markdown",
   "id": "e526d03f-7b58-4baa-82cc-38fa1d97b5e9",
   "metadata": {},
   "source": [
    "b.  Run the following code and observe what happens and why"
   ]
  },
  {
   "cell_type": "code",
   "execution_count": 1328,
   "id": "aa3ea52d-5028-41e5-bbdd-6344b7f3c9ea",
   "metadata": {},
   "outputs": [],
   "source": [
    "import os\n",
    "os.chdir(r'C:\\Users\\DELL\\Desktop\\UET\\3 semester\\OOPS lab\\__init__.py')"
   ]
  },
  {
   "cell_type": "code",
   "execution_count": 1330,
   "id": "3205b311-890f-48a3-a7ff-c88b73e8c830",
   "metadata": {},
   "outputs": [
    {
     "name": "stdout",
     "output_type": "stream",
     "text": [
      "Hello, Pythonista!\n",
      "Goodbye, Pythonista!\n"
     ]
    }
   ],
   "source": [
    "import mypackage\n",
    "mypackage.module1.greet(\"Pythonista\")\n",
    "mypackage.module2.depart(\"Pythonista\")"
   ]
  },
  {
   "cell_type": "markdown",
   "id": "8f49d25d-1e64-42bb-8034-95d65b59cdd0",
   "metadata": {},
   "source": [
    "c.  Run the following code and observe what happens and why"
   ]
  },
  {
   "cell_type": "code",
   "execution_count": 1333,
   "id": "6bf6826f-5246-4f2b-be11-d3189f42f33c",
   "metadata": {},
   "outputs": [
    {
     "name": "stdout",
     "output_type": "stream",
     "text": [
      "Hello, Pythonista!\n",
      "Goodbye, Pythonista!\n"
     ]
    }
   ],
   "source": [
    "import mypackage.module1 # <-- Change this line\n",
    "# Leave the below code unchanged\n",
    "mypackage.module1.greet(\"Pythonista\")\n",
    "mypackage.module2.depart(\"Pythonista\")"
   ]
  },
  {
   "cell_type": "markdown",
   "id": "a763a488-148b-4511-ae33-7c0bbdc71875",
   "metadata": {},
   "source": [
    "d.  Run the following code and observe what happens and why"
   ]
  },
  {
   "cell_type": "code",
   "execution_count": 1336,
   "id": "f83a2a56-3bc1-47a7-b66b-25aa5cbf628d",
   "metadata": {},
   "outputs": [
    {
     "name": "stdout",
     "output_type": "stream",
     "text": [
      "Hello, Pythonista!\n",
      "Goodbye, Pythonista!\n"
     ]
    }
   ],
   "source": [
    "import mypackage.module1\n",
    "import mypackage.module2 # <-- Add this line\n",
    "# Leave the below code unchanged\n",
    "mypackage.module1.greet(\"Pythonista\")\n",
    "mypackage.module2.depart(\"Pythonista\")"
   ]
  },
  {
   "cell_type": "markdown",
   "id": "4586f51b-b71b-4ab5-a64b-546328ec9e75",
   "metadata": {},
   "source": [
    "e. Run the following code and observe what happens and why"
   ]
  },
  {
   "cell_type": "code",
   "execution_count": 1339,
   "id": "0aaa8df4-8e2e-4c76-b9d5-fddba44df136",
   "metadata": {},
   "outputs": [],
   "source": [
    "import os\n",
    "os.chdir(r'C:\\Users\\DELL\\Desktop\\UET\\3 semester\\OOPS lab\\mypackage')"
   ]
  },
  {
   "cell_type": "code",
   "execution_count": 1341,
   "id": "8a975153-7754-4981-a08d-844231daf141",
   "metadata": {},
   "outputs": [
    {
     "name": "stdout",
     "output_type": "stream",
     "text": [
      "Hello, Pythonista!\n",
      "Goodbye, Pythonista!\n"
     ]
    }
   ],
   "source": [
    "from mypackage import module1, module2\n",
    "module1.greet(\"Pythonista\")\n",
    "module2.depart(\"Pythonista\")"
   ]
  },
  {
   "cell_type": "markdown",
   "id": "cd11b848-c416-4f6d-9c14-f2be93b28cde",
   "metadata": {},
   "source": [
    "f. Run the following code and observe what happens and why."
   ]
  },
  {
   "cell_type": "code",
   "execution_count": 1344,
   "id": "22ae4367-5b5a-4c3d-b198-5a014511dcd0",
   "metadata": {},
   "outputs": [
    {
     "name": "stdout",
     "output_type": "stream",
     "text": [
      "Hello, Pythonista!\n",
      "Goodbye, Pythonista!\n"
     ]
    }
   ],
   "source": [
    "from mypackage import module1 as m1, module2 as m2\n",
    "m1.greet(\"Pythonista\")\n",
    "m2.depart(\"Pythonista\")\n"
   ]
  },
  {
   "cell_type": "markdown",
   "id": "dfa47582-962a-439e-bf56-3ad0c722f15e",
   "metadata": {},
   "source": [
    "g. Run the following code and observe what happens and why. "
   ]
  },
  {
   "cell_type": "code",
   "execution_count": 1347,
   "id": "d3079d7e-9d73-4ccd-bbc3-fc6524ac7f7d",
   "metadata": {},
   "outputs": [
    {
     "name": "stdout",
     "output_type": "stream",
     "text": [
      "Hello, Pythonista!\n",
      "Goodbye, Pythonista!\n"
     ]
    }
   ],
   "source": [
    "from mypackage.module1 import greet\n",
    "from mypackage.module2 import depart\n",
    "greet(\"Pythonista\")\n",
    "depart(\"Pythonista\")"
   ]
  },
  {
   "cell_type": "code",
   "execution_count": null,
   "id": "c1ed3aff-8d9e-4731-8f35-2c877c86aa96",
   "metadata": {},
   "outputs": [],
   "source": []
  },
  {
   "cell_type": "code",
   "execution_count": null,
   "id": "586f5bba-e418-4382-83f5-f2309e602896",
   "metadata": {},
   "outputs": [],
   "source": []
  },
  {
   "cell_type": "code",
   "execution_count": null,
   "id": "9852ac85-3d1c-469d-92c7-29f5368ccf73",
   "metadata": {},
   "outputs": [],
   "source": []
  }
 ],
 "metadata": {
  "kernelspec": {
   "display_name": "Python 3 (ipykernel)",
   "language": "python",
   "name": "python3"
  },
  "language_info": {
   "codemirror_mode": {
    "name": "ipython",
    "version": 3
   },
   "file_extension": ".py",
   "mimetype": "text/x-python",
   "name": "python",
   "nbconvert_exporter": "python",
   "pygments_lexer": "ipython3",
   "version": "3.12.4"
  }
 },
 "nbformat": 4,
 "nbformat_minor": 5
}
