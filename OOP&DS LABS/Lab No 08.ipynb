{
 "cells": [
  {
   "cell_type": "markdown",
   "id": "0ef74add-2703-4d5d-a37a-48757012ee25",
   "metadata": {},
   "source": [
    "# Assad Ullah Khan"
   ]
  },
  {
   "cell_type": "markdown",
   "id": "e2838d22-138a-414b-bc74-7847f9a1a83c",
   "metadata": {},
   "source": [
    "# Reg no = 0526"
   ]
  },
  {
   "cell_type": "markdown",
   "id": "cff06fdb-d651-49d8-8c73-4a03ceea4cf1",
   "metadata": {},
   "source": [
    "# Lab Works"
   ]
  },
  {
   "cell_type": "code",
   "execution_count": 2,
   "id": "060ac3d4-1160-4c9b-8dc0-807743668578",
   "metadata": {},
   "outputs": [],
   "source": [
    "class Employee:\n",
    "    def __init__(self, name):\n",
    "        self.name = name\n",
    "\n",
    "    def work(self, hours):\n",
    "        raise NotImplementedError(\"Subclasses must implement this method\")\n",
    "\n",
    "class SalaryEmployee(Employee):\n",
    "    def __init__(self, name, salary):\n",
    "        super().__init__(name)\n",
    "        self.salary = salary\n",
    "\n",
    "class HourlyEmployee(Employee):\n",
    "    def __init__(self, name, hourly_rate):\n",
    "        super().__init__(name)\n",
    "        self.hourly_rate = hourly_rate\n",
    "\n",
    "class Manager(SalaryEmployee):\n",
    "    def work(self, hours):\n",
    "        print(f\"{self.name} (Manager): Yells at people for {hours} hours.\")\n",
    "\n",
    "class Secretary(SalaryEmployee):\n",
    "    def work(self, hours):\n",
    "        print(f\"{self.name} (Secretary): Handles paperwork for {hours} hours.\")\n",
    "\n",
    "class SalesPerson(SalaryEmployee):\n",
    "    def __init__(self, name, salary, commission_rate):\n",
    "        super().__init__(name, salary)\n",
    "        self.commission_rate = commission_rate\n",
    "\n",
    "    def work(self, hours):\n",
    "        print(f\"{self.name} (SalesPerson): Makes sales calls for {hours} hours.\")\n",
    "\n",
    "class FactoryWorker(HourlyEmployee):\n",
    "    def work(self, hours):\n",
    "        print(f\"{self.name} (FactoryWorker): Produces goods for {hours} hours.\")\n",
    "\n",
    "class ProductivitySystem:\n",
    "    @staticmethod\n",
    "    def track(employees, hours):\n",
    "        for employee in employees:\n",
    "            employee.work(hours)\n",
    "\n",
    "\n"
   ]
  },
  {
   "cell_type": "code",
   "execution_count": 4,
   "id": "7ce84060-1eb2-40fd-bcd9-4e456603f76a",
   "metadata": {},
   "outputs": [
    {
     "name": "stdout",
     "output_type": "stream",
     "text": [
      "Adil (Manager): Yells at people for 8 hours.\n",
      "Assad (Secretary): Handles paperwork for 8 hours.\n",
      "Aihab (SalesPerson): Makes sales calls for 8 hours.\n",
      "zain (FactoryWorker): Produces goods for 8 hours.\n"
     ]
    }
   ],
   "source": [
    "if __name__ == \"__main__\":\n",
    "    employees = [\n",
    "        Manager(\"Adil\", 120000),\n",
    "        Secretary(\"Assad\", 50000),\n",
    "        SalesPerson(\"Aihab\", 70000, 0.05),\n",
    "        FactoryWorker(\"zain\", 20)\n",
    "    ]\n",
    "\n",
    "    system = ProductivitySystem()\n",
    "    system.track(employees, 8)"
   ]
  },
  {
   "cell_type": "code",
   "execution_count": null,
   "id": "24e6594f-1757-48d0-b817-6014c4273d24",
   "metadata": {},
   "outputs": [],
   "source": []
  }
 ],
 "metadata": {
  "kernelspec": {
   "display_name": "Python 3 (ipykernel)",
   "language": "python",
   "name": "python3"
  },
  "language_info": {
   "codemirror_mode": {
    "name": "ipython",
    "version": 3
   },
   "file_extension": ".py",
   "mimetype": "text/x-python",
   "name": "python",
   "nbconvert_exporter": "python",
   "pygments_lexer": "ipython3",
   "version": "3.12.4"
  }
 },
 "nbformat": 4,
 "nbformat_minor": 5
}
