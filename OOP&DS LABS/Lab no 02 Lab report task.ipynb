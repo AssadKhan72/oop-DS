{
 "cells": [
  {
   "cell_type": "markdown",
   "id": "ccf86f8c-f8d6-4ebb-8696-e474f5aca709",
   "metadata": {},
   "source": [
    "# Assad Ullah"
   ]
  },
  {
   "cell_type": "markdown",
   "id": "58d1a01f-d8c6-4731-95ef-658a140b90eb",
   "metadata": {},
   "source": [
    "# Reg No= 0526"
   ]
  },
  {
   "cell_type": "markdown",
   "id": "aefaf699-3aaf-4ce7-ba4e-bb6d3b025cd1",
   "metadata": {},
   "source": [
    "# Lab Report Task"
   ]
  },
  {
   "cell_type": "code",
   "execution_count": 7,
   "id": "fa237fb8-5c75-4832-92be-ac3cc3a10473",
   "metadata": {},
   "outputs": [],
   "source": [
    "def calculate_voltage(current, resistance):\n",
    "    return current * resistance\n"
   ]
  },
  {
   "cell_type": "code",
   "execution_count": 13,
   "id": "711cd531-abb6-47e5-99ca-45fe579fee65",
   "metadata": {},
   "outputs": [
    {
     "name": "stdout",
     "output_type": "stream",
     "text": [
      "(a) Voltage with positional arguments: 50.0 volts\n"
     ]
    }
   ],
   "source": [
    "# a. Positional arguments\n",
    "voltage1 = calculate_voltage(5.0, 10.0) \n",
    "print(f\"(a) Voltage with positional arguments: {voltage1} volts\")"
   ]
  },
  {
   "cell_type": "code",
   "execution_count": 14,
   "id": "9adab3a6-6a1e-4a94-9c99-90f01046146d",
   "metadata": {},
   "outputs": [
    {
     "name": "stdout",
     "output_type": "stream",
     "text": [
      "(b) Voltage with keyword arguments: 50.0 volts\n"
     ]
    }
   ],
   "source": [
    "# b. Keyword arguments\n",
    "voltage2 = calculate_voltage(current=5.0, resistance=10.0)\n",
    "print(f\"(b) Voltage with keyword arguments: {voltage2} volts\")"
   ]
  },
  {
   "cell_type": "code",
   "execution_count": 15,
   "id": "fb58d054-a0ee-4813-adc6-4b2a4acff0f1",
   "metadata": {},
   "outputs": [],
   "source": [
    "# c. Default arguments\n",
    "def calculate_voltage_with_defaults(current=1.0, resistance=1.0):\n",
    "    return current * resistance"
   ]
  },
  {
   "cell_type": "code",
   "execution_count": 20,
   "id": "e73278d5-7d3c-4741-991c-74a0bcb17352",
   "metadata": {},
   "outputs": [
    {
     "name": "stdout",
     "output_type": "stream",
     "text": [
      "(c) Voltage with default arguments: 1.0 volts\n"
     ]
    }
   ],
   "source": [
    "voltage3 = calculate_voltage_with_defaults() \n",
    "print(f\"(c) Voltage with default arguments: {voltage3} volts\")"
   ]
  },
  {
   "cell_type": "code",
   "execution_count": 17,
   "id": "86b5ed8b-56ad-40b0-8334-cdf3a1e0403f",
   "metadata": {},
   "outputs": [
    {
     "name": "stdout",
     "output_type": "stream",
     "text": [
      "(d) Voltage with mixed arguments: 10.0 volts\n"
     ]
    }
   ],
   "source": [
    "# d. Passing arguments of one style to another\n",
    "voltage4 = calculate_voltage_with_defaults(2.0, resistance=5.0) \n",
    "print(f\"(d) Voltage with mixed arguments: {voltage4} volts\")"
   ]
  },
  {
   "cell_type": "code",
   "execution_count": 19,
   "id": "2f35ad52-909e-40f1-9c20-93d972984fc6",
   "metadata": {},
   "outputs": [
    {
     "name": "stdout",
     "output_type": "stream",
     "text": [
      "(e) Error with fewer arguments: calculate_voltage() missing 1 required positional argument: 'resistance'\n"
     ]
    }
   ],
   "source": [
    "# e. Passing fewer arguments\n",
    "try:\n",
    "    calculate_voltage(5.0)  \n",
    "except TypeError as e:\n",
    "    print(f\"(e) Error with fewer arguments: {e}\")"
   ]
  },
  {
   "cell_type": "code",
   "execution_count": 1,
   "id": "765f0353-d1cc-4461-9781-81d7053eee26",
   "metadata": {},
   "outputs": [
    {
     "ename": "SyntaxError",
     "evalue": "positional argument follows keyword argument (4218106624.py, line 3)",
     "output_type": "error",
     "traceback": [
      "\u001b[1;36m  Cell \u001b[1;32mIn[1], line 3\u001b[1;36m\u001b[0m\n\u001b[1;33m    voltage5 = calculate_voltage(resistance=10.0, 5.0)  # Incorrect order\u001b[0m\n\u001b[1;37m                                                     ^\u001b[0m\n\u001b[1;31mSyntaxError\u001b[0m\u001b[1;31m:\u001b[0m positional argument follows keyword argument\n"
     ]
    }
   ],
   "source": [
    "# f. Positional arguments before keyword arguments\n",
    "try:\n",
    "    voltage5 = calculate_voltage(resistance=10.0, 5.0)  # Incorrect order\n",
    "    print(f\"(f) Voltage: {voltage5} volts\")\n",
    "except SyntaxError as e:\n",
    "    print(f\"(f) Error: Positional arguments cannot follow keyword arguments.\")"
   ]
  },
  {
   "cell_type": "code",
   "execution_count": null,
   "id": "1a6eeb72-2c57-4b45-9aea-b59726bb7035",
   "metadata": {},
   "outputs": [],
   "source": []
  }
 ],
 "metadata": {
  "kernelspec": {
   "display_name": "Python 3 (ipykernel)",
   "language": "python",
   "name": "python3"
  },
  "language_info": {
   "codemirror_mode": {
    "name": "ipython",
    "version": 3
   },
   "file_extension": ".py",
   "mimetype": "text/x-python",
   "name": "python",
   "nbconvert_exporter": "python",
   "pygments_lexer": "ipython3",
   "version": "3.12.4"
  }
 },
 "nbformat": 4,
 "nbformat_minor": 5
}
