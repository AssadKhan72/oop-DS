{
 "cells": [
  {
   "cell_type": "markdown",
   "id": "664a0155-c0de-4a3a-9b8d-4f3e86f00b55",
   "metadata": {},
   "source": [
    "# Assad Ullah Khan"
   ]
  },
  {
   "cell_type": "markdown",
   "id": "10aab387-1bf5-4b25-9b56-c56d5cf63289",
   "metadata": {},
   "source": [
    "# Reg No = 0526"
   ]
  },
  {
   "cell_type": "markdown",
   "id": "5c723d5b-3970-48a7-a7e2-86cb4d59917c",
   "metadata": {},
   "source": [
    "# Lab report task"
   ]
  },
  {
   "cell_type": "code",
   "execution_count": 3,
   "id": "e5205dce-cd79-45a1-9c89-ae6ac3d9380a",
   "metadata": {},
   "outputs": [
    {
     "name": "stdout",
     "output_type": "stream",
     "text": [
      "x-coordinate: 3.0\n",
      "y-coordinate: 4.0\n",
      "Distance between p1 and p2: 5.0\n",
      "Distance between p1 and p3: 5.0\n"
     ]
    }
   ],
   "source": [
    "import math\n",
    "\n",
    "class Point:\n",
    "\n",
    "    def __init__(self, x: float, y: float)->None:\n",
    "        self.x = x\n",
    "        self.y = y\n",
    "\n",
    "    def distance(self, p2)->float:\n",
    "        return math.sqrt((self.x-p2.x)**2 + (self.y-p2.y)**2)\n",
    "\n",
    "# a. Make an object and print its x and y coordinates.\n",
    "p1 = Point(3.0, 4.0)  # Create a Point object with x=3.0 and y=4.0\n",
    "\n",
    "print(f\"x-coordinate: {p1.x}\")\n",
    "print(f\"y-coordinate: {p1.y}\")\n",
    "\n",
    "# Example of using the distance method:\n",
    "p2 = Point(0.0, 0.0)\n",
    "distance_between_points = p1.distance(p2)\n",
    "print(f\"Distance between p1 and p2: {distance_between_points}\")\n",
    "\n",
    "p3 = Point(6.0, 8.0)\n",
    "distance_between_points = p1.distance(p3)\n",
    "print(f\"Distance between p1 and p3: {distance_between_points}\")"
   ]
  },
  {
   "cell_type": "code",
   "execution_count": 4,
   "id": "3598be23-67a7-4d0b-aae6-ebac7427faf0",
   "metadata": {},
   "outputs": [],
   "source": [
    "# a. Define point1 and pass two numbers.\n",
    "point1 = Point(3.0, 4.0)"
   ]
  },
  {
   "cell_type": "code",
   "execution_count": 5,
   "id": "5230f2ac-dd8f-4ab3-a4aa-7db64dac4da7",
   "metadata": {},
   "outputs": [],
   "source": [
    "# b. Make another instance of the point class, say its name is p2.\n",
    "p2 = Point(1.0, 2.0)"
   ]
  },
  {
   "cell_type": "code",
   "execution_count": 6,
   "id": "602329e0-9b6c-42fa-a81b-9897a82f0e34",
   "metadata": {},
   "outputs": [
    {
     "name": "stdout",
     "output_type": "stream",
     "text": [
      "<__main__.Point object at 0x0000022F2F3B1550>\n",
      "<__main__.Point object at 0x0000022F2F3B1940>\n"
     ]
    }
   ],
   "source": [
    "# c. Print p1 and p2 using the print command.\n",
    "print(point1)\n",
    "print(p2)"
   ]
  },
  {
   "cell_type": "code",
   "execution_count": 7,
   "id": "fe7dfdc0-ad11-4711-9897-b2dbb60e885d",
   "metadata": {},
   "outputs": [
    {
     "name": "stdout",
     "output_type": "stream",
     "text": [
      "Coordinates of point1: x=3.0, y=4.0\n",
      "Coordinates of p2: x=1.0, y=2.0\n"
     ]
    }
   ],
   "source": [
    "# d. Print the coordinates using the object and dot operator.\n",
    "print(f\"Coordinates of point1: x={point1.x}, y={point1.y}\")\n",
    "print(f\"Coordinates of p2: x={p2.x}, y={p2.y}\")"
   ]
  },
  {
   "cell_type": "code",
   "execution_count": 8,
   "id": "d53500a4-e482-419f-97ff-166cf03bead2",
   "metadata": {},
   "outputs": [
    {
     "ename": "AttributeError",
     "evalue": "'Point' object has no attribute 'display'",
     "output_type": "error",
     "traceback": [
      "\u001b[1;31m---------------------------------------------------------------------------\u001b[0m",
      "\u001b[1;31mAttributeError\u001b[0m                            Traceback (most recent call last)",
      "Cell \u001b[1;32mIn[8], line 2\u001b[0m\n\u001b[0;32m      1\u001b[0m \u001b[38;5;66;03m# e. Print both points using the new display() method.\u001b[39;00m\n\u001b[1;32m----> 2\u001b[0m point1\u001b[38;5;241m.\u001b[39mdisplay()\n\u001b[0;32m      3\u001b[0m p2\u001b[38;5;241m.\u001b[39mdisplay()\n",
      "\u001b[1;31mAttributeError\u001b[0m: 'Point' object has no attribute 'display'"
     ]
    }
   ],
   "source": [
    "# e. Print both points using the new display() method.\n",
    "point1.display()\n",
    "p2.display()"
   ]
  },
  {
   "cell_type": "code",
   "execution_count": 9,
   "id": "9752aa99-50f7-406c-8c74-0ab1d3b2c260",
   "metadata": {},
   "outputs": [
    {
     "name": "stdout",
     "output_type": "stream",
     "text": [
      "Distance between point1 and p2: 2.8284271247461903\n"
     ]
    }
   ],
   "source": [
    "# f. Calculate the distance between these two points.\n",
    "distance = point1.distance(p2)\n",
    "print(f\"Distance between point1 and p2: {distance}\")"
   ]
  },
  {
   "cell_type": "code",
   "execution_count": null,
   "id": "54d72b35-4df2-45f5-8137-08693438b3ea",
   "metadata": {},
   "outputs": [],
   "source": []
  }
 ],
 "metadata": {
  "kernelspec": {
   "display_name": "Python 3 (ipykernel)",
   "language": "python",
   "name": "python3"
  },
  "language_info": {
   "codemirror_mode": {
    "name": "ipython",
    "version": 3
   },
   "file_extension": ".py",
   "mimetype": "text/x-python",
   "name": "python",
   "nbconvert_exporter": "python",
   "pygments_lexer": "ipython3",
   "version": "3.12.4"
  }
 },
 "nbformat": 4,
 "nbformat_minor": 5
}
