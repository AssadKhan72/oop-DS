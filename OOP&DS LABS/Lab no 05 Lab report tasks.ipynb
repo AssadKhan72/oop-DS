{
 "cells": [
  {
   "cell_type": "markdown",
   "id": "ee2a2980-6c19-477e-990f-71d644cbbc1b",
   "metadata": {},
   "source": [
    "# Assad Ullah Khan"
   ]
  },
  {
   "cell_type": "markdown",
   "id": "bf7d638c-c433-41be-a148-fd920a2d3c28",
   "metadata": {},
   "source": [
    "# Reg No  = 0526"
   ]
  },
  {
   "cell_type": "markdown",
   "id": "00ca97f8-197b-4781-9bd6-9bad8526f5ff",
   "metadata": {},
   "source": [
    "# Lab Report tasks"
   ]
  },
  {
   "cell_type": "code",
   "execution_count": 5,
   "id": "9da54034-c0a7-44bd-8ddf-f7e716a39795",
   "metadata": {},
   "outputs": [
    {
     "name": "stdout",
     "output_type": "stream",
     "text": [
      "Circle with radius: 5.0\n",
      "Circle with radius: 1\n",
      "{'__module__': '__main__', '__init__': <function Circle.__init__ at 0x0000023CA2BCF7E0>, 'radius': <property object at 0x0000023CA37F4130>, 'cylinder_volume': <function Circle.cylinder_volume at 0x0000023CA2BCF600>, 'area': <property object at 0x0000023CA37E3EC0>, 'circumference': <property object at 0x0000023CA37F4180>, 'diameter': <property object at 0x0000023CA37F40E0>, '__repr__': <function Circle.__repr__ at 0x0000023CA2BCE0C0>, '__str__': <function Circle.__str__ at 0x0000023CA2BCDF80>, '__dict__': <attribute '__dict__' of 'Circle' objects>, '__weakref__': <attribute '__weakref__' of 'Circle' objects>, '__doc__': None}\n",
      "{'__module__': '__main__', '__init__': <function Circle.__init__ at 0x0000023CA2BCF7E0>, 'radius': <property object at 0x0000023CA37F4130>, 'cylinder_volume': <function Circle.cylinder_volume at 0x0000023CA2BCF600>, 'area': <property object at 0x0000023CA37E3EC0>, 'circumference': <property object at 0x0000023CA37F4180>, 'diameter': <property object at 0x0000023CA37F40E0>, '__repr__': <function Circle.__repr__ at 0x0000023CA2BCE0C0>, '__str__': <function Circle.__str__ at 0x0000023CA2BCDF80>, '__dict__': <attribute '__dict__' of 'Circle' objects>, '__weakref__': <attribute '__weakref__' of 'Circle' objects>, '__doc__': None}\n",
      "{'_radius': 5.0}\n",
      "Help on class Circle in module __main__:\n",
      "\n",
      "class Circle(builtins.object)\n",
      " |  Circle(radius: float = 1) -> None\n",
      " |\n",
      " |  Methods defined here:\n",
      " |\n",
      " |  __init__(self, radius: float = 1) -> None\n",
      " |      Initialize self.  See help(type(self)) for accurate signature.\n",
      " |\n",
      " |  __repr__(self) -> str\n",
      " |      Return repr(self).\n",
      " |\n",
      " |  __str__(self) -> str\n",
      " |      Return str(self).\n",
      " |\n",
      " |  cylinder_volume(self, height: float) -> float\n",
      " |\n",
      " |  ----------------------------------------------------------------------\n",
      " |  Readonly properties defined here:\n",
      " |\n",
      " |  area\n",
      " |\n",
      " |  circumference\n",
      " |\n",
      " |  diameter\n",
      " |\n",
      " |  ----------------------------------------------------------------------\n",
      " |  Data descriptors defined here:\n",
      " |\n",
      " |  __dict__\n",
      " |      dictionary for instance variables\n",
      " |\n",
      " |  __weakref__\n",
      " |      list of weak references to the object\n",
      " |\n",
      " |  radius\n",
      " |      Gets the radius of the circle.\n",
      "\n",
      "Circle with radius: 1\n",
      "Circle with radius: 7\n",
      "Circle with radius: 10\n"
     ]
    }
   ],
   "source": [
    "import math\n",
    "\n",
    "class Circle:\n",
    "\n",
    "    def __init__(self, radius: float = 1) -> None:\n",
    "        if radius <= 0:\n",
    "            raise ValueError(\"Radius must be positive.\")\n",
    "        self._radius = radius  # Use a protected attribute for radius\n",
    "\n",
    "    @property\n",
    "    def radius(self) -> float:\n",
    "        \"\"\"Gets the radius of the circle.\"\"\"\n",
    "        return self._radius\n",
    "\n",
    "    @radius.setter\n",
    "    def radius(self, value: float) -> None:\n",
    "        if value <= 0:\n",
    "            raise ValueError(\"Radius must be positive.\")\n",
    "        self._radius = value\n",
    "\n",
    "    def cylinder_volume(self, height: float) -> float:\n",
    "        if height <= 0:\n",
    "            raise ValueError(\"Height must be positive.\")\n",
    "        return self.area * height\n",
    "\n",
    "    @property\n",
    "    def area(self) -> float:\n",
    "        return math.pi * self._radius**2\n",
    "\n",
    "    @property\n",
    "    def circumference(self) -> float:\n",
    "        return 2 * math.pi * self._radius\n",
    "\n",
    "    @property\n",
    "    def diameter(self) -> float:\n",
    "        return 2 * self._radius\n",
    "\n",
    "    def __repr__(self) -> str:\n",
    "        return f\"Circle(radius={self._radius})\"\n",
    "\n",
    "    def __str__(self) -> str:\n",
    "        return f\"Circle with radius: {self._radius}\"\n",
    "\n",
    "\n",
    "# a. Define inst_1 and pass two numbers (radius will be the second number).\n",
    "inst_1 = Circle(5.0)\n",
    "\n",
    "# b. Make another instance inst2.\n",
    "inst_2 = Circle()  # Using the default radius (1)\n",
    "\n",
    "# c. Print inst_1 and inst_2.\n",
    "print(inst_1)\n",
    "print(inst_2)\n",
    "\n",
    "# d. Call the __dict__ by the class name.\n",
    "print(Circle.__dict__)\n",
    "\n",
    "# e. Pass the class name to the vars built-in function.\n",
    "print(vars(Circle))\n",
    "\n",
    "# f. Call the __dict__ on the object of the class.\n",
    "print(inst_1.__dict__)\n",
    "\n",
    "# g. Pass the class name to help.\n",
    "help(Circle)\n",
    "\n",
    "\n",
    "\n",
    "# i. Modify the __init__ by making its parameters default and verify by instances.\n",
    "inst_3 = Circle()\n",
    "inst_4 = Circle(7)\n",
    "print(inst_3)\n",
    "print(inst_4)\n",
    "\n",
    "#Demonstrating the properties\n",
    "inst_1.radius = 10\n",
    "print(inst_1)\n",
    "\n"
   ]
  },
  {
   "cell_type": "code",
   "execution_count": 7,
   "id": "4d2eff04-f0d2-4f46-94e8-476a9ac48314",
   "metadata": {},
   "outputs": [
    {
     "name": "stdout",
     "output_type": "stream",
     "text": [
      "Class Docstring: None\n",
      "__init__ Docstring: None\n",
      "__init__ Annotations: {'radius': <class 'float'>, 'return': None}\n",
      "radius Docstring: Gets the radius of the circle.\n"
     ]
    },
    {
     "ename": "AttributeError",
     "evalue": "'property' object has no attribute '__annotations__'",
     "output_type": "error",
     "traceback": [
      "\u001b[1;31m---------------------------------------------------------------------------\u001b[0m",
      "\u001b[1;31mAttributeError\u001b[0m                            Traceback (most recent call last)",
      "Cell \u001b[1;32mIn[7], line 6\u001b[0m\n\u001b[0;32m      4\u001b[0m \u001b[38;5;28mprint\u001b[39m(\u001b[38;5;124m\"\u001b[39m\u001b[38;5;124m__init__ Annotations:\u001b[39m\u001b[38;5;124m\"\u001b[39m, Circle\u001b[38;5;241m.\u001b[39m\u001b[38;5;21m__init__\u001b[39m\u001b[38;5;241m.\u001b[39m\u001b[38;5;18m__annotations__\u001b[39m)\n\u001b[0;32m      5\u001b[0m \u001b[38;5;28mprint\u001b[39m(\u001b[38;5;124m\"\u001b[39m\u001b[38;5;124mradius Docstring:\u001b[39m\u001b[38;5;124m\"\u001b[39m, Circle\u001b[38;5;241m.\u001b[39mradius\u001b[38;5;241m.\u001b[39m\u001b[38;5;18m__doc__\u001b[39m)\n\u001b[1;32m----> 6\u001b[0m \u001b[38;5;28mprint\u001b[39m(\u001b[38;5;124m\"\u001b[39m\u001b[38;5;124mradius Annotations:\u001b[39m\u001b[38;5;124m\"\u001b[39m, Circle\u001b[38;5;241m.\u001b[39mradius\u001b[38;5;241m.\u001b[39m\u001b[38;5;18m__annotations__\u001b[39m)\n\u001b[0;32m      7\u001b[0m \u001b[38;5;28mprint\u001b[39m(\u001b[38;5;124m\"\u001b[39m\u001b[38;5;124mcylinder_volume Docstring:\u001b[39m\u001b[38;5;124m\"\u001b[39m, Circle\u001b[38;5;241m.\u001b[39mcylinder_volume\u001b[38;5;241m.\u001b[39m\u001b[38;5;18m__doc__\u001b[39m)\n\u001b[0;32m      8\u001b[0m \u001b[38;5;28mprint\u001b[39m(\u001b[38;5;124m\"\u001b[39m\u001b[38;5;124mcylinder_volume Annotations:\u001b[39m\u001b[38;5;124m\"\u001b[39m, Circle\u001b[38;5;241m.\u001b[39mcylinder_volume\u001b[38;5;241m.\u001b[39m\u001b[38;5;18m__annotations__\u001b[39m)\n",
      "\u001b[1;31mAttributeError\u001b[0m: 'property' object has no attribute '__annotations__'"
     ]
    }
   ],
   "source": [
    "# h. Print the docstrings and annotations\n",
    "print(\"Class Docstring:\", Circle.__doc__)\n",
    "print(\"__init__ Docstring:\", Circle.__init__.__doc__)\n",
    "print(\"__init__ Annotations:\", Circle.__init__.__annotations__)\n",
    "print(\"radius Docstring:\", Circle.radius.__doc__)\n",
    "print(\"radius Annotations:\", Circle.radius.__annotations__)\n",
    "print(\"cylinder_volume Docstring:\", Circle.cylinder_volume.__doc__)\n",
    "print(\"cylinder_volume Annotations:\", Circle.cylinder_volume.__annotations__)\n",
    "print(\"area Docstring:\", Circle.area.__doc__)\n",
    "print(\"area Annotations:\", Circle.area.__annotations__)\n",
    "print(\"circumference Docstring:\", Circle.circumference.__doc__)\n",
    "print(\"circumference Annotations:\", Circle.circumference.__annotations__)\n",
    "print(\"diameter Docstring:\", Circle.diameter.__doc__)\n",
    "print(\"diameter Annotations:\", Circle.diameter.__annotations__)\n",
    "print(\"__repr__ Docstring:\", Circle.__repr__.__doc__)\n",
    "print(\"__repr__ Annotations:\", Circle.__repr__.__annotations__)\n",
    "print(\"__str__ Docstring:\", Circle.__str__.__doc__)\n",
    "print(\"__str__ Annotations:\", Circle.__str__.__annotations__)"
   ]
  },
  {
   "cell_type": "code",
   "execution_count": null,
   "id": "8eae2757-4385-456e-af5b-49768c6a022a",
   "metadata": {},
   "outputs": [],
   "source": []
  }
 ],
 "metadata": {
  "kernelspec": {
   "display_name": "Python 3 (ipykernel)",
   "language": "python",
   "name": "python3"
  },
  "language_info": {
   "codemirror_mode": {
    "name": "ipython",
    "version": 3
   },
   "file_extension": ".py",
   "mimetype": "text/x-python",
   "name": "python",
   "nbconvert_exporter": "python",
   "pygments_lexer": "ipython3",
   "version": "3.12.4"
  }
 },
 "nbformat": 4,
 "nbformat_minor": 5
}
