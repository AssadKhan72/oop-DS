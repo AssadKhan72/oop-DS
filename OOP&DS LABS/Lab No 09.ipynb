{
 "cells": [
  {
   "cell_type": "markdown",
   "id": "92ce9ca8-e455-4e8b-bfce-427ba6782b0c",
   "metadata": {},
   "source": [
    "# Assad Ullah Khan"
   ]
  },
  {
   "cell_type": "markdown",
   "id": "af37711e-d154-41dc-99a0-92c910eb0d9d",
   "metadata": {},
   "source": [
    "# Reg No = 0526"
   ]
  },
  {
   "cell_type": "markdown",
   "id": "d9df52c6-f948-4c70-b68c-57a2e49b2a53",
   "metadata": {},
   "source": [
    "# Lab Works"
   ]
  },
  {
   "cell_type": "code",
   "execution_count": 13,
   "id": "c4fae62c-fabd-492d-ab8c-1a64c6c13e1c",
   "metadata": {},
   "outputs": [
    {
     "name": "stdout",
     "output_type": "stream",
     "text": [
      "Scenario v: Adding calculate_payroll with full functionality\n",
      "TemporarySecretary initialized: Adil, Hours Worked: 40, Hourly Rate: 9\n",
      "\n",
      "[Productivity System] Tracking employee productivity:\n",
      "Adil (Secretary): Handles paperwork for 40 hours.\n",
      "\n",
      "[Payroll System] Calculating payroll:\n",
      "Payroll for Adil: $360\n",
      "\n",
      "TemporarySecretary MRO:\n",
      "(<class '__main__.TemporarySecretary'>, <class '__main__.Secretary'>, <class '__main__.SalaryEmployee'>, <class '__main__.HourlyEmployee'>, <class '__main__.Employee'>, <class 'object'>)\n"
     ]
    }
   ],
   "source": [
    "class Employee:\n",
    "    def __init__(self, id, name):\n",
    "        self.id = id\n",
    "        self.name = name\n",
    "\n",
    "    def work(self, hours):\n",
    "        raise NotImplementedError(\"Subclasses must implement this method\")\n",
    "\n",
    "\n",
    "class SalaryEmployee(Employee):\n",
    "    def __init__(self, id, name, salary):\n",
    "        super().__init__(id, name)\n",
    "        self.salary = salary\n",
    "\n",
    "\n",
    "class HourlyEmployee(Employee):\n",
    "    def __init__(self, id, name, hours_worked, hourly_rate):\n",
    "        super().__init__(id, name)\n",
    "        self.hours_worked = hours_worked\n",
    "        self.hourly_rate = hourly_rate\n",
    "\n",
    "    def calculate_payroll(self):\n",
    "        return self.hours_worked * self.hourly_rate\n",
    "\n",
    "\n",
    "class Secretary(SalaryEmployee):\n",
    "    def work(self, hours):\n",
    "        print(f\"{self.name} (Secretary): Handles paperwork for {hours} hours.\")\n",
    "\n",
    "\n",
    "# Scenario v: Final Implementation\n",
    "print(\"Scenario v: Adding calculate_payroll with full functionality\")\n",
    "\n",
    "class TemporarySecretary(Secretary, HourlyEmployee):\n",
    "    def __init__(self, id, name, hours_worked, hourly_rate):\n",
    "        # Manually initialize HourlyEmployee\n",
    "        HourlyEmployee.__init__(self, id, name, hours_worked, hourly_rate)\n",
    "\n",
    "    def calculate_payroll(self):\n",
    "        # Explicitly use HourlyEmployee's calculate_payroll\n",
    "        return HourlyEmployee.calculate_payroll(self)\n",
    "\n",
    "# Initialize TemporarySecretary\n",
    "temp_sec = TemporarySecretary(5, \"Adil\", 40, 9)\n",
    "print(f\"TemporarySecretary initialized: {temp_sec.name}, Hours Worked: {temp_sec.hours_worked}, Hourly Rate: {temp_sec.hourly_rate}\")\n",
    "\n",
    "# Test with Productivity and Payroll Systems\n",
    "company_employees = [temp_sec]\n",
    "\n",
    "class ProductivitySystem:\n",
    "    @staticmethod\n",
    "    def track(employees, hours):\n",
    "        print(\"\\n[Productivity System] Tracking employee productivity:\")\n",
    "        for employee in employees:\n",
    "            employee.work(hours)\n",
    "\n",
    "\n",
    "class PayrollSystem:\n",
    "    @staticmethod\n",
    "    def calculate_payroll(employees):\n",
    "        print(\"\\n[Payroll System] Calculating payroll:\")\n",
    "        for employee in employees:\n",
    "            print(f\"Payroll for {employee.name}: ${employee.calculate_payroll()}\")\n",
    "\n",
    "# Track productivity\n",
    "prod_system = ProductivitySystem()\n",
    "prod_system.track(company_employees, 40)\n",
    "\n",
    "# Calculate payroll\n",
    "payroll_system = PayrollSystem()\n",
    "payroll_system.calculate_payroll(company_employees)\n",
    "\n",
    "# Print the MRO\n",
    "print(\"\\nTemporarySecretary MRO:\")\n",
    "print(TemporarySecretary.__mro__)\n"
   ]
  },
  {
   "cell_type": "code",
   "execution_count": null,
   "id": "0dca3c0b-8b2e-457e-8a99-fe849d60e46b",
   "metadata": {},
   "outputs": [],
   "source": []
  }
 ],
 "metadata": {
  "kernelspec": {
   "display_name": "Python 3 (ipykernel)",
   "language": "python",
   "name": "python3"
  },
  "language_info": {
   "codemirror_mode": {
    "name": "ipython",
    "version": 3
   },
   "file_extension": ".py",
   "mimetype": "text/x-python",
   "name": "python",
   "nbconvert_exporter": "python",
   "pygments_lexer": "ipython3",
   "version": "3.12.4"
  }
 },
 "nbformat": 4,
 "nbformat_minor": 5
}
