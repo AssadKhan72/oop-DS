{
 "cells": [
  {
   "cell_type": "markdown",
   "id": "3de894b4-a25f-4b86-b28b-951e43d92a8a",
   "metadata": {},
   "source": [
    "# AssadUllah Khan"
   ]
  },
  {
   "cell_type": "markdown",
   "id": "5c09c202-9792-43e6-a73a-1e22edea014c",
   "metadata": {},
   "source": [
    "# Reg No = 0526"
   ]
  },
  {
   "cell_type": "markdown",
   "id": "9067cea5-e293-4b28-acb1-e4e808f26c73",
   "metadata": {},
   "source": [
    "# Lab report tasks"
   ]
  },
  {
   "cell_type": "markdown",
   "id": "4d10a0ff-3f85-49f9-8525-2ac78fa60abf",
   "metadata": {},
   "source": [
    "# Tuple and Dictionary"
   ]
  },
  {
   "cell_type": "code",
   "execution_count": 1,
   "id": "58e81eea-4e7a-4863-a4d4-3032c5e32bc6",
   "metadata": {},
   "outputs": [],
   "source": [
    "Info=[\"Assad \",526,3.9,[3.8,3.9]]"
   ]
  },
  {
   "cell_type": "code",
   "execution_count": 2,
   "id": "194edb7a-d4de-451d-a601-790192e57d2f",
   "metadata": {},
   "outputs": [
    {
     "name": "stdout",
     "output_type": "stream",
     "text": [
      "['Assad ', 526, 3.9, [3.8, 3.9]]\n",
      "526\n",
      "3.9\n",
      "[3.8, 3.9]\n",
      "3.8\n",
      "3.9\n"
     ]
    }
   ],
   "source": [
    "print(Info)\n",
    "print(Info[1])\n",
    "print(Info[2])\n",
    "print(Info[3])\n",
    "print(Info[3][0])\n",
    "print(Info[3][1])"
   ]
  },
  {
   "cell_type": "code",
   "execution_count": 26,
   "id": "4c765a16-0c8c-4824-956a-1719e367f0ae",
   "metadata": {},
   "outputs": [],
   "source": [
    "x = [\"a\", [\"bb\", [\"ccc\", \"ddd\"], \"ee\", \"ff\"], \"g\", [\"hh\", \"ii\"], \"j\"]"
   ]
  },
  {
   "cell_type": "code",
   "execution_count": 3,
   "id": "6beb7216-ae34-4587-a846-f1f1f242416c",
   "metadata": {},
   "outputs": [
    {
     "ename": "NameError",
     "evalue": "name 'x' is not defined",
     "output_type": "error",
     "traceback": [
      "\u001b[1;31m---------------------------------------------------------------------------\u001b[0m",
      "\u001b[1;31mNameError\u001b[0m                                 Traceback (most recent call last)",
      "Cell \u001b[1;32mIn[3], line 2\u001b[0m\n\u001b[0;32m      1\u001b[0m \u001b[38;5;66;03m# I access different value by its index\u001b[39;00m\n\u001b[1;32m----> 2\u001b[0m \u001b[38;5;28mprint\u001b[39m(x[\u001b[38;5;241m0\u001b[39m])\n\u001b[0;32m      3\u001b[0m \u001b[38;5;28mprint\u001b[39m(x[\u001b[38;5;241m1\u001b[39m])\n\u001b[0;32m      4\u001b[0m \u001b[38;5;28mprint\u001b[39m(x[\u001b[38;5;241m1\u001b[39m][\u001b[38;5;241m0\u001b[39m])\n",
      "\u001b[1;31mNameError\u001b[0m: name 'x' is not defined"
     ]
    }
   ],
   "source": [
    "# I access different value by its index\n",
    "print(x[0])\n",
    "print(x[1])\n",
    "print(x[1][0])\n",
    "print(x[1][1])\n",
    "print(x[1][2])\n",
    "print(x[1][3])\n",
    "print(x[2])\n",
    "print(x[3])\n",
    "print(x[3][0])\n",
    "print(x[3][1])\n",
    "print(x[4])"
   ]
  },
  {
   "cell_type": "code",
   "execution_count": null,
   "id": "af49dbae-24cd-4695-a01a-78605326bb15",
   "metadata": {},
   "outputs": [],
   "source": []
  },
  {
   "cell_type": "code",
   "execution_count": null,
   "id": "45b14c4e-5feb-4869-b599-48df1eddaa5c",
   "metadata": {},
   "outputs": [],
   "source": []
  },
  {
   "cell_type": "code",
   "execution_count": null,
   "id": "e35010b1-dffc-42c3-b043-8b6b3d67db47",
   "metadata": {},
   "outputs": [],
   "source": []
  }
 ],
 "metadata": {
  "kernelspec": {
   "display_name": "Python 3 (ipykernel)",
   "language": "python",
   "name": "python3"
  },
  "language_info": {
   "codemirror_mode": {
    "name": "ipython",
    "version": 3
   },
   "file_extension": ".py",
   "mimetype": "text/x-python",
   "name": "python",
   "nbconvert_exporter": "python",
   "pygments_lexer": "ipython3",
   "version": "3.12.4"
  }
 },
 "nbformat": 4,
 "nbformat_minor": 5
}
